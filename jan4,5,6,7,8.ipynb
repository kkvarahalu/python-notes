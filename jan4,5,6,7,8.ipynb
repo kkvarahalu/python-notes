{
 "cells": [
  {
   "cell_type": "code",
   "execution_count": 1,
   "id": "f3357641-2761-4579-b8e3-1ed4733d030e",
   "metadata": {},
   "outputs": [
    {
     "name": "stdout",
     "output_type": "stream",
     "text": [
      "<re.Match object; span=(0, 5), match='abbby'>\n"
     ]
    }
   ],
   "source": [
    "import re\n",
    "string=\"abbby\" #string given\n",
    "pattern='^a...y$' #we have to write\n",
    "print(re.match(pattern,string))"
   ]
  },
  {
   "cell_type": "code",
   "execution_count": 1,
   "id": "8cc8ae2b-58d8-4f9f-8b08-0dd7399f96bc",
   "metadata": {},
   "outputs": [
    {
     "name": "stdout",
     "output_type": "stream",
     "text": [
      "['abbby']\n"
     ]
    }
   ],
   "source": [
    "import re\n",
    "string=\"abbby\" #string given\n",
    "pattern='^a...y$' #we have to write\n",
    "print(re.findall(pattern,string))"
   ]
  },
  {
   "cell_type": "code",
   "execution_count": 11,
   "id": "599f498b-a97c-410c-9b25-86d419abdbcd",
   "metadata": {},
   "outputs": [
    {
     "name": "stdout",
     "output_type": "stream",
     "text": [
      "<re.Match object; span=(0, 1), match='a'>\n"
     ]
    }
   ],
   "source": [
    "import re\n",
    "string=\"a\" #string given\n",
    "pattern='[ab]' #we have to write\n",
    "print(re.match(pattern,string))"
   ]
  },
  {
   "cell_type": "code",
   "execution_count": 2,
   "id": "c72e9dc6-95db-4e15-91f2-82d140b94d58",
   "metadata": {},
   "outputs": [
    {
     "name": "stdout",
     "output_type": "stream",
     "text": [
      "<re.Match object; span=(0, 1), match='0'>\n"
     ]
    }
   ],
   "source": [
    "import re\n",
    "string=\"0987\" #string given\n",
    "pattern='[0-9]' #we have to write\n",
    "print(re.match(pattern,string))"
   ]
  },
  {
   "cell_type": "code",
   "execution_count": 1,
   "id": "cf8e8b1e-79b3-4044-898d-5bbde2395295",
   "metadata": {},
   "outputs": [
    {
     "name": "stdout",
     "output_type": "stream",
     "text": [
      "['0', '9', '8', '7']\n"
     ]
    }
   ],
   "source": [
    "import re\n",
    "string=\"0987\"\n",
    "pattern='[0-9]'\n",
    "print(re.findall(pattern,string))"
   ]
  },
  {
   "cell_type": "code",
   "execution_count": 4,
   "id": "04e505de-f503-4a61-a66f-71ef2a758b13",
   "metadata": {},
   "outputs": [
    {
     "data": {
      "text/plain": [
       "'0'"
      ]
     },
     "execution_count": 4,
     "metadata": {},
     "output_type": "execute_result"
    }
   ],
   "source": [
    "string[0:1]"
   ]
  },
  {
   "cell_type": "code",
   "execution_count": 5,
   "id": "00d87deb-0130-4150-b4f9-3bf3bac4890d",
   "metadata": {},
   "outputs": [
    {
     "name": "stdout",
     "output_type": "stream",
     "text": [
      "['b', 'c']\n"
     ]
    }
   ],
   "source": [
    "import re\n",
    "string=\"abc\" #string given\n",
    "pattern='[^a]' #we have to write\n",
    "print(re.findall(pattern,string))"
   ]
  },
  {
   "cell_type": "code",
   "execution_count": 6,
   "id": "ebd829a3-82cd-44b7-a43e-99537f2a2d58",
   "metadata": {},
   "outputs": [
    {
     "name": "stdout",
     "output_type": "stream",
     "text": [
      "['fun']\n"
     ]
    }
   ],
   "source": [
    "import re\n",
    "string=\"fun\" #string given\n",
    "pattern='f.n' #we have to write\n",
    "print(re.findall(pattern,string))"
   ]
  },
  {
   "cell_type": "code",
   "execution_count": 3,
   "id": "91ccd651-e28b-4094-bd11-6d7c085f76dc",
   "metadata": {},
   "outputs": [
    {
     "name": "stdout",
     "output_type": "stream",
     "text": [
      "['fun']\n"
     ]
    }
   ],
   "source": [
    "import re\n",
    "string=\"fun\" #string given\n",
    "pattern='f.n' #we have to write\n",
    "print(re.findall(pattern,string))"
   ]
  },
  {
   "cell_type": "code",
   "execution_count": 4,
   "id": "770490ff-8452-42fe-a31e-a53e661c2d98",
   "metadata": {},
   "outputs": [
    {
     "name": "stdout",
     "output_type": "stream",
     "text": [
      "<re.Match object; span=(0, 5), match='fuuun'>\n"
     ]
    }
   ],
   "source": [
    "import re\n",
    "string=\"fuuun\" #string given\n",
    "pattern='f...n' #we have to write\n",
    "print(re.match(pattern,string))"
   ]
  },
  {
   "cell_type": "code",
   "execution_count": 5,
   "id": "b7b45c63-e26b-4ee7-81b1-a9d186a1e3bc",
   "metadata": {},
   "outputs": [
    {
     "name": "stdout",
     "output_type": "stream",
     "text": [
      "['fuuun']\n"
     ]
    }
   ],
   "source": [
    "import re\n",
    "string=\"fuuun\" #string given\n",
    "pattern='f...n' #we have to write\n",
    "print(re.findall(pattern,string))"
   ]
  },
  {
   "cell_type": "code",
   "execution_count": 8,
   "id": "e09ac50a-2e39-4d84-9ac1-13f3d7b2513c",
   "metadata": {},
   "outputs": [
    {
     "name": "stdout",
     "output_type": "stream",
     "text": [
      "None\n"
     ]
    }
   ],
   "source": [
    "import re\n",
    "string=\"aaabbc\" #string given\n",
    "pattern='^ab...c$' #we have to write\n",
    "print(re.match(pattern,string))"
   ]
  },
  {
   "cell_type": "code",
   "execution_count": 12,
   "id": "0acd7eff-77e6-498f-937f-65ec6bd5b716",
   "metadata": {},
   "outputs": [
    {
     "name": "stdout",
     "output_type": "stream",
     "text": [
      "['hc']\n"
     ]
    }
   ],
   "source": [
    "import re\n",
    "#string=\"ababbc\" #string given\n",
    "string=\"abcdernhc\"\n",
    "pattern='[^a]c$' #we have to write\n",
    "print(re.findall(pattern,string))"
   ]
  },
  {
   "cell_type": "code",
   "execution_count": 17,
   "id": "e163a09a-d003-431b-be6b-9dd346143a86",
   "metadata": {},
   "outputs": [
    {
     "name": "stdout",
     "output_type": "stream",
     "text": [
      "['abbbbcc']\n"
     ]
    }
   ],
   "source": [
    "import re\n",
    "string=\"abbbbcc\" #string given\n",
    "pattern='[abc]....cc$' #we have to write\n",
    "print(re.findall(pattern,string))"
   ]
  },
  {
   "cell_type": "code",
   "execution_count": 18,
   "id": "8d6f0241-4249-48d1-9533-4ae65f570e5c",
   "metadata": {},
   "outputs": [
    {
     "name": "stdout",
     "output_type": "stream",
     "text": [
      "['baaa', 'ba', 'b', 'ba']\n"
     ]
    }
   ],
   "source": [
    "import re\n",
    "string=\"baaababba\" #string given\n",
    "pattern='ba*' #we have to write\n",
    "print(re.findall(pattern,string))"
   ]
  },
  {
   "cell_type": "code",
   "execution_count": 7,
   "id": "b7339752-8e37-4e33-969a-7f937ba86d9d",
   "metadata": {},
   "outputs": [
    {
     "name": "stdout",
     "output_type": "stream",
     "text": [
      "<re.Match object; span=(0, 1), match='b'>\n"
     ]
    }
   ],
   "source": [
    "import re\n",
    "string=\"b\" #string given\n",
    "pattern='ba*' #we have to write\n",
    "print(re.match(pattern,string))"
   ]
  },
  {
   "cell_type": "code",
   "execution_count": 19,
   "id": "50ee506a-3490-4a21-910f-de03ad554ebb",
   "metadata": {},
   "outputs": [
    {
     "name": "stdout",
     "output_type": "stream",
     "text": [
      "<re.Match object; span=(0, 11), match='baaaaaaaaaa'>\n"
     ]
    }
   ],
   "source": [
    "import re\n",
    "string=\"baaaaaaaaaa\" #string given\n",
    "pattern='ba*' #we have to write\n",
    "print(re.match(pattern,string))"
   ]
  },
  {
   "cell_type": "code",
   "execution_count": 20,
   "id": "859af723-a7d7-497e-a27f-b42fb7024323",
   "metadata": {},
   "outputs": [
    {
     "name": "stdout",
     "output_type": "stream",
     "text": [
      "['baaa', 'ba', 'ba']\n"
     ]
    }
   ],
   "source": [
    "import re\n",
    "string=\"baaababba\" #string given\n",
    "pattern='ba+' #we have to write\n",
    "print(re.findall(pattern,string))"
   ]
  },
  {
   "cell_type": "code",
   "execution_count": 22,
   "id": "c7db2dca-69c7-411e-84f4-ba47b1616411",
   "metadata": {},
   "outputs": [
    {
     "name": "stdout",
     "output_type": "stream",
     "text": [
      "<re.Match object; span=(0, 6), match='baaaaa'>\n"
     ]
    }
   ],
   "source": [
    "import re\n",
    "string=\"baaaaa\" #string given\n",
    "pattern='ba+' #we have to write\n",
    "print(re.match(pattern,string))"
   ]
  },
  {
   "cell_type": "code",
   "execution_count": 29,
   "id": "04b56c2d-0ae7-4a57-a90d-f5d279f66bd9",
   "metadata": {},
   "outputs": [
    {
     "data": {
      "text/plain": [
       "'C:\\\\Users\\\\ADMIN'"
      ]
     },
     "execution_count": 29,
     "metadata": {},
     "output_type": "execute_result"
    }
   ],
   "source": [
    "pwd"
   ]
  },
  {
   "cell_type": "code",
   "execution_count": 1,
   "id": "fb6603ba-cd20-44d2-ac1a-b08d059afd0a",
   "metadata": {},
   "outputs": [
    {
     "name": "stdout",
     "output_type": "stream",
     "text": [
      "<re.Match object; span=(0, 1), match='b'>\n"
     ]
    }
   ],
   "source": [
    "import re\n",
    "string=\"baaababab\"\n",
    "pattern='[ab]'\n",
    "print(re.search(pattern,string))"
   ]
  },
  {
   "cell_type": "code",
   "execution_count": 21,
   "id": "e2b03b88-f516-4161-ab10-fee36f5cf7ea",
   "metadata": {},
   "outputs": [
    {
     "name": "stdout",
     "output_type": "stream",
     "text": [
      "['b', 'a', 'a', 'a', 'b', 'a', 'b', 'a', 'b']\n"
     ]
    }
   ],
   "source": [
    "import re\n",
    "string=\"baaababab\"\n",
    "pattern='[ab]'\n",
    "print(re.findall(pattern,string))"
   ]
  },
  {
   "cell_type": "code",
   "execution_count": 3,
   "id": "524c275a-2cc0-4f36-8677-78a6d81cfa53",
   "metadata": {},
   "outputs": [
    {
     "name": "stdout",
     "output_type": "stream",
     "text": [
      "<re.Match object; span=(0, 1), match='a'>\n"
     ]
    }
   ],
   "source": [
    "import re\n",
    "string=\"abb\"\n",
    "pattern='a?'\n",
    "print(re.search(pattern,string))"
   ]
  },
  {
   "cell_type": "code",
   "execution_count": 23,
   "id": "6f71c214-ec1b-4e35-bea2-8cbdf299ec23",
   "metadata": {},
   "outputs": [
    {
     "name": "stdout",
     "output_type": "stream",
     "text": [
      "['a', '', '', 'a', '', '']\n"
     ]
    }
   ],
   "source": [
    "import re\n",
    "string=\"abbas\"\n",
    "pattern='a?'\n",
    "print(re.findall(pattern,string))"
   ]
  },
  {
   "cell_type": "code",
   "execution_count": 25,
   "id": "befc1185-bb3d-4fda-9c59-7cb6f29dbdf9",
   "metadata": {},
   "outputs": [
    {
     "name": "stdout",
     "output_type": "stream",
     "text": [
      "<re.Match object; span=(0, 4), match='file'>\n"
     ]
    }
   ],
   "source": [
    "import re\n",
    "string=\"\"\"file\n",
    "          file1\n",
    "          file2\n",
    "          file3\"\"\"\n",
    "pattern='file(1,2,3)?'\n",
    "\n",
    "print(re.search(pattern,string))"
   ]
  },
  {
   "cell_type": "code",
   "execution_count": 24,
   "id": "e5cf7f9b-7b2d-47d5-bf97-9e73d91fb289",
   "metadata": {},
   "outputs": [
    {
     "name": "stdout",
     "output_type": "stream",
     "text": [
      "['python', 'Python']\n"
     ]
    }
   ],
   "source": [
    "import re\n",
    "string=\"python is  a simple language and Python is useful\"\n",
    "pattern='[pP]ython'\n",
    "print(re.findall(pattern,string))"
   ]
  },
  {
   "cell_type": "code",
   "execution_count": 26,
   "id": "60904128-af9d-410a-a362-f8fae840dbf9",
   "metadata": {},
   "outputs": [
    {
     "name": "stdout",
     "output_type": "stream",
     "text": [
      "<re.Match object; span=(0, 2), match='ha'>\n"
     ]
    }
   ],
   "source": [
    "import re\n",
    "string=\"ha\"\n",
    "pattern='ha'\n",
    "print(re.match(pattern,string))"
   ]
  },
  {
   "cell_type": "code",
   "execution_count": 26,
   "id": "a64e1726-bf60-4a18-887e-f6f712598cd4",
   "metadata": {},
   "outputs": [
    {
     "name": "stdout",
     "output_type": "stream",
     "text": [
      "[]\n"
     ]
    }
   ],
   "source": [
    "import re\n",
    "string=\"hahahahaha\"\n",
    "pattern='ha{2,}'\n",
    "print(re.findall(pattern,string))"
   ]
  },
  {
   "cell_type": "code",
   "execution_count": 28,
   "id": "cac8d782-5cb0-4932-a1b5-aeea56302655",
   "metadata": {},
   "outputs": [
    {
     "name": "stdout",
     "output_type": "stream",
     "text": [
      "[]\n"
     ]
    }
   ],
   "source": [
    "import re\n",
    "string=\"the apple cost is $1.5\"\n",
    "pattern='ha{2,}'\n",
    "print(re.findall(pattern,string))"
   ]
  },
  {
   "cell_type": "code",
   "execution_count": 44,
   "id": "9ca676cb-80f1-4161-954d-42c09d92b234",
   "metadata": {},
   "outputs": [
    {
     "name": "stdout",
     "output_type": "stream",
     "text": [
      "['2', '8', '9', '9', '6']\n"
     ]
    }
   ],
   "source": [
    "import re\n",
    "string=\"28\\11\\1996\"\n",
    "pattern=r'\\d'\n",
    "print(re.findall(pattern,string))"
   ]
  },
  {
   "cell_type": "code",
   "execution_count": 9,
   "id": "767883a5-86db-4203-9d60-4efe38617ccb",
   "metadata": {},
   "outputs": [
    {
     "name": "stdout",
     "output_type": "stream",
     "text": [
      "<re.Match object; span=(0, 2), match='28'>\n"
     ]
    }
   ],
   "source": [
    "import re\n",
    "string=\"28\\11\\1996\"\n",
    "pattern=r'\\d+'\n",
    "print(re.match(pattern,string))"
   ]
  },
  {
   "cell_type": "code",
   "execution_count": 11,
   "id": "30e897a0-bc46-4f4b-b29a-31a7f7a84a71",
   "metadata": {},
   "outputs": [
    {
     "name": "stdout",
     "output_type": "stream",
     "text": [
      "['28', '11', '1996']\n"
     ]
    }
   ],
   "source": [
    "import re\n",
    "string=\"my dob is 28-11-1996\"\n",
    "pattern=r'\\d+'\n",
    "print(re.findall(pattern,string))"
   ]
  },
  {
   "cell_type": "code",
   "execution_count": 48,
   "id": "02fe3129-32fd-46b7-9681-97a755cccd95",
   "metadata": {},
   "outputs": [
    {
     "name": "stdout",
     "output_type": "stream",
     "text": [
      "['12345678']\n"
     ]
    }
   ],
   "source": [
    "string=\"12345678\"\n",
    "pattern=r'\\d+'\n",
    "print(re.findall(pattern,string))"
   ]
  },
  {
   "cell_type": "code",
   "execution_count": 56,
   "id": "11ac01d9-102e-472c-a681-124054dd1525",
   "metadata": {},
   "outputs": [
    {
     "name": "stdout",
     "output_type": "stream",
     "text": [
      "<re.Match object; span=(0, 3), match='aaa'>\n"
     ]
    }
   ],
   "source": [
    "string=\"aaabbbbbb\"\n",
    "pattern='a{2,4}'\n",
    "print(re.match(pattern,string))"
   ]
  },
  {
   "cell_type": "code",
   "execution_count": 15,
   "id": "5bd8cc8f-17b3-410a-937c-173521d734d4",
   "metadata": {},
   "outputs": [
    {
     "name": "stdout",
     "output_type": "stream",
     "text": [
      "['28-11-1996']\n"
     ]
    }
   ],
   "source": [
    "import re\n",
    "string=\"my dob is 28-11-1996\"\n",
    "pattern=r'\\d+-\\d+-\\d+'\n",
    "print(re.findall(pattern,string))"
   ]
  },
  {
   "cell_type": "code",
   "execution_count": 16,
   "id": "89d3057f-a0a6-4887-8e1a-883fa2cef954",
   "metadata": {},
   "outputs": [
    {
     "name": "stdout",
     "output_type": "stream",
     "text": [
      "<re.Match object; span=(0, 6), match='aaaaaz'>\n"
     ]
    }
   ],
   "source": [
    "string=\"aaaaazbbbbb\"\n",
    "pattern=r'\\w+z'\n",
    "print(re.match(pattern,string))"
   ]
  },
  {
   "cell_type": "code",
   "execution_count": 64,
   "id": "c96df908-6e7d-4235-874b-b878781f44ad",
   "metadata": {},
   "outputs": [
    {
     "name": "stdout",
     "output_type": "stream",
     "text": [
      "['aaaaazbbbbbkkk']\n"
     ]
    }
   ],
   "source": [
    "string=\"aaaaazbbbbbkkk\"\n",
    "pattern=r'\\w+k'\n",
    "print(re.findall(pattern,string))"
   ]
  },
  {
   "cell_type": "code",
   "execution_count": 59,
   "id": "cfe8480b-2070-4dff-8d09-0d7e4ab822ce",
   "metadata": {},
   "outputs": [
    {
     "name": "stdout",
     "output_type": "stream",
     "text": [
      "<re.Match object; span=(0, 12), match='aaaaazbbbbb9'>\n"
     ]
    }
   ],
   "source": [
    "string=\"aaaaazbbbbb9\"\n",
    "pattern=r'\\w+'\n",
    "print(re.match(pattern,string))"
   ]
  },
  {
   "cell_type": "code",
   "execution_count": 19,
   "id": "1f46d540-7984-4fe7-a26b-712d640419a4",
   "metadata": {},
   "outputs": [
    {
     "name": "stdout",
     "output_type": "stream",
     "text": [
      "<re.Match object; span=(0, 6), match='aaaaaz'>\n"
     ]
    }
   ],
   "source": [
    "string=\"aaaaazbbbbb\"\n",
    "pattern=r'\\w+z'\n",
    "print(re.match(pattern,string))"
   ]
  },
  {
   "cell_type": "code",
   "execution_count": 2,
   "id": "570e1326-e58a-4f0f-86b8-941b02f9b9e8",
   "metadata": {},
   "outputs": [
    {
     "name": "stdout",
     "output_type": "stream",
     "text": [
      "['a', 'a', '', '', '', '']\n"
     ]
    }
   ],
   "source": [
    "import re\n",
    "string=\"aabbb\"\n",
    "pattern='a?'\n",
    "print(re.findall(pattern,string))"
   ]
  },
  {
   "cell_type": "code",
   "execution_count": 55,
   "id": "8d1f08aa-b578-42db-b0eb-d51381a2df8c",
   "metadata": {},
   "outputs": [
    {
     "name": "stdout",
     "output_type": "stream",
     "text": [
      "<re.Match object; span=(0, 2), match='ab'>\n"
     ]
    }
   ],
   "source": [
    "#1.writ a fun where evevry str is followed y 0 b or 1 b?\n",
    "#2.m###############@gamil.com?\n",
    "string=\"ab\"\n",
    "pattern='^a(b)?'\n",
    "print(re.match(pattern,string))"
   ]
  },
  {
   "cell_type": "code",
   "execution_count": 5,
   "id": "eb07cfc9-a896-436e-aba7-4a6d3e082c24",
   "metadata": {},
   "outputs": [
    {
     "name": "stdout",
     "output_type": "stream",
     "text": [
      "<re.Match object; span=(0, 9), match='mayur.com'>\n"
     ]
    }
   ],
   "source": [
    "import re\n",
    "string=\"mayur.com\"\n",
    "pattern=r'\\w+\\.com'\n",
    "print(re.match(pattern,string))"
   ]
  },
  {
   "cell_type": "code",
   "execution_count": 6,
   "id": "aa685288-4935-4441-9897-a16ea4812575",
   "metadata": {},
   "outputs": [
    {
     "name": "stdout",
     "output_type": "stream",
     "text": [
      "<re.Match object; span=(0, 9), match='mayur.com'>\n"
     ]
    }
   ],
   "source": [
    "import re\n",
    "string=\"mayur.com\"\n",
    "pattern=r'\\w+.\\w+'\n",
    "print(re.match(pattern,string))"
   ]
  },
  {
   "cell_type": "code",
   "execution_count": 6,
   "id": "7011c17e-c557-4bea-8b78-131855a12b47",
   "metadata": {},
   "outputs": [
    {
     "name": "stdout",
     "output_type": "stream",
     "text": [
      "['mayurkulkarni636@gmail.com']\n"
     ]
    }
   ],
   "source": [
    "import re\n",
    "string=\"mayurkulkarni636@gmail.com\"\n",
    "pattern=r'\\w+@\\w+\\.\\w+'\n",
    "print(re.findall(pattern,string))"
   ]
  },
  {
   "cell_type": "code",
   "execution_count": 7,
   "id": "8a4e9a28-30c0-4b5a-a9d0-574e45cf3540",
   "metadata": {},
   "outputs": [
    {
     "name": "stdout",
     "output_type": "stream",
     "text": [
      "['myur.kulakarni.iisc.ac.in']\n"
     ]
    }
   ],
   "source": [
    "import re\n",
    "string=\"myur.kulakarni.iisc.ac.in\"\n",
    "pattern=r'\\w+\\.\\w+\\.\\w+\\.\\w+\\.\\w+'\n",
    "print(re.findall(pattern,string))"
   ]
  },
  {
   "cell_type": "code",
   "execution_count": 67,
   "id": "0c091dd9-1e89-4dbb-9311-cbaf3c745d21",
   "metadata": {},
   "outputs": [
    {
     "name": "stdout",
     "output_type": "stream",
     "text": [
      "['the', 'quick', 'brown', 'fox', 'jumps', 'over', 'the', 'lazy', 'dog']\n"
     ]
    }
   ],
   "source": [
    "import re\n",
    "text='the a quick brown fox jumps over the lazy dog.'\n",
    "pattern=r'\\w{3,5}'\n",
    "print(re.findall(pattern,text))"
   ]
  },
  {
   "cell_type": "code",
   "execution_count": 9,
   "id": "d84f4d13-4e03-4374-b678-576040770a84",
   "metadata": {},
   "outputs": [
    {
     "name": "stdout",
     "output_type": "stream",
     "text": [
      "['341!']\n"
     ]
    }
   ],
   "source": [
    "string=\"hello341!\"\n",
    "pattern=r'(\\d+\\W)'\n",
    "print(re.findall(pattern,string))"
   ]
  },
  {
   "cell_type": "code",
   "execution_count": 12,
   "id": "43cc09b3-eff1-4968-8234-13f0106de6b9",
   "metadata": {},
   "outputs": [
    {
     "name": "stdout",
     "output_type": "stream",
     "text": [
      "['hawking', 'born', 'in', '8', 'january', '1942', 'and', 'died', 'in', '14', 'november', '2008']\n"
     ]
    }
   ],
   "source": [
    "string=\"hawking born in 8 january 1942 and died in 14 november 2008\"\n",
    "pattern=r'\\w+'\n",
    "print(re.findall(pattern,string))"
   ]
  },
  {
   "cell_type": "code",
   "execution_count": 14,
   "id": "69329305-1800-4ffc-a554-ab145620e1be",
   "metadata": {},
   "outputs": [
    {
     "name": "stdout",
     "output_type": "stream",
     "text": [
      "['8', '1', '9', '4', '2', '1', '4', '2', '0', '0', '8']\n"
     ]
    }
   ],
   "source": [
    "string=\"hawking born in 8 january 1942 and died in 14 november 2008\"\n",
    "pattern=r'\\d'\n",
    "print(re.findall(pattern,string))"
   ]
  },
  {
   "cell_type": "code",
   "execution_count": 15,
   "id": "1ed5afd1-4865-4fac-a894-ac8e6ffe9bc4",
   "metadata": {},
   "outputs": [
    {
     "name": "stdout",
     "output_type": "stream",
     "text": [
      "['8', '1942', '14', '2008']\n"
     ]
    }
   ],
   "source": [
    "string=\"hawking born in 8 january 1942 and died in 14 november 2008\"\n",
    "pattern=r'\\d+'\n",
    "print(re.findall(pattern,string))"
   ]
  },
  {
   "cell_type": "code",
   "execution_count": 17,
   "id": "3f68fcab-6f2a-4170-9179-efe9b3454d21",
   "metadata": {},
   "outputs": [
    {
     "name": "stdout",
     "output_type": "stream",
     "text": [
      "['67', '89', '63']\n"
     ]
    }
   ],
   "source": [
    "string=\"hi 67 how is 89 howdy 63\"\n",
    "pattern=r'\\d+'\n",
    "print(re.findall(pattern,string))"
   ]
  },
  {
   "cell_type": "code",
   "execution_count": 25,
   "id": "b8c64ff2-b893-49f7-87d0-a41fd52f0506",
   "metadata": {},
   "outputs": [
    {
     "name": "stdout",
     "output_type": "stream",
     "text": [
      "I have # apples # bananas and # oranges\n"
     ]
    }
   ],
   "source": [
    "string=\"I have 2 apples 3 bananas and 6 oranges\"\n",
    "pattern=r'\\d+'\n",
    "result=re.sub(pattern,'#',string)\n",
    "print(result)"
   ]
  },
  {
   "cell_type": "code",
   "execution_count": 9,
   "id": "ea8df111-15e1-4bdd-b530-2f64cca7f79f",
   "metadata": {},
   "outputs": [
    {
     "name": "stdout",
     "output_type": "stream",
     "text": [
      "192.255.86.11\n"
     ]
    }
   ],
   "source": [
    "Ip_address=\"192.0255.086.011\"\n",
    "pattern=re.compile('[0]')\n",
    "result=re.sub(pattern,'',Ip_address)\n",
    "print(result)"
   ]
  },
  {
   "cell_type": "code",
   "execution_count": 3,
   "id": "cf618889-d206-494f-9e43-ecd651f8c39c",
   "metadata": {},
   "outputs": [
    {
     "name": "stdout",
     "output_type": "stream",
     "text": [
      "##7##7##7\n"
     ]
    }
   ],
   "source": [
    "import re\n",
    "string=\"667667667\"\n",
    "pattern=re.compile('6')\n",
    "result=re.sub(pattern,'#',string)\n",
    "print(result)"
   ]
  },
  {
   "cell_type": "code",
   "execution_count": 11,
   "id": "3c58b4e5-11f7-4dd4-a130-67f201a42d51",
   "metadata": {},
   "outputs": [
    {
     "name": "stdout",
     "output_type": "stream",
     "text": [
      "['file1.txt', 'file.txt', 'file_4.txt']\n"
     ]
    }
   ],
   "source": [
    "text=\"\"\"\n",
    "    file1.txt\n",
    "    file.txt\n",
    "    file3.xml\n",
    "    file_4.txt\"\"\"\n",
    "pattern=r'\\w+.txt'\n",
    "print(re.findall(pattern,text))"
   ]
  },
  {
   "cell_type": "code",
   "execution_count": 21,
   "id": "370c12c4-1782-4389-ba08-b04cfc9e7a1a",
   "metadata": {},
   "outputs": [
    {
     "name": "stdout",
     "output_type": "stream",
     "text": [
      "['c.txt']\n"
     ]
    },
    {
     "name": "stderr",
     "output_type": "stream",
     "text": [
      "<>:2: SyntaxWarning: invalid escape sequence '\\m'\n",
      "<>:2: SyntaxWarning: invalid escape sequence '\\m'\n",
      "C:\\Users\\ADMIN\\AppData\\Local\\Temp\\ipykernel_23480\\2324807053.py:2: SyntaxWarning: invalid escape sequence '\\m'\n",
      "  text=\"\"\"\n"
     ]
    }
   ],
   "source": [
    "#this is wrong answer\n",
    "import re\n",
    "text=\"\"\"\n",
    "     c:\\myfolder\\file1\\song.mp3\n",
    "     file1\\file\\abc.txt\"\"\"\n",
    "pattern=r'\\w.txt'\n",
    "print(re.findall(pattern,text))"
   ]
  },
  {
   "cell_type": "code",
   "execution_count": 12,
   "id": "f57b05e3-fd79-4317-b099-b5ae0f75021c",
   "metadata": {},
   "outputs": [
    {
     "name": "stdout",
     "output_type": "stream",
     "text": [
      "['https://w3resource.com', 'http://github.com']\n"
     ]
    }
   ],
   "source": [
    "import re\n",
    "text='<p> contents:</e><a href=\"https://w3resource.com\">Python Examples</a><a hrea=\"http://github.com\">even more example</a>'\n",
    "pattern=r'http[s]?://\\w+.com'\n",
    "print(re.findall(pattern,text))"
   ]
  },
  {
   "cell_type": "code",
   "execution_count": 3,
   "id": "809dafd4-57cb-49f5-83c3-addd8ff5d1b7",
   "metadata": {},
   "outputs": [
    {
     "name": "stdout",
     "output_type": "stream",
     "text": [
      "[('mayurkulkarni636', '', '@', 'gmail.com')]\n"
     ]
    },
    {
     "name": "stderr",
     "output_type": "stream",
     "text": [
      "<>:3: SyntaxWarning: invalid escape sequence '\\.'\n",
      "<>:3: SyntaxWarning: invalid escape sequence '\\.'\n",
      "C:\\Users\\ADMIN\\AppData\\Local\\Temp\\ipykernel_20072\\344910128.py:3: SyntaxWarning: invalid escape sequence '\\.'\n",
      "  pattern ='(^[a-zA-Z0-9]+)([a-zA-Z0-9]*)(@)([a-zA-Z0-9]+\\.[a-zA-Z0-9]{2,})'\n"
     ]
    }
   ],
   "source": [
    "import re\n",
    "email=\"mayurkulkarni636@gmail.com\"\n",
    "pattern ='(^[a-zA-Z0-9]+)([a-zA-Z0-9]*)(@)([a-zA-Z0-9]+\\.[a-zA-Z0-9]{2,})'\n",
    "print(re.findall(pattern,email))"
   ]
  },
  {
   "cell_type": "code",
   "execution_count": 5,
   "id": "f1992013-6e7f-44cb-aa39-857615b75fde",
   "metadata": {},
   "outputs": [
    {
     "name": "stdout",
     "output_type": "stream",
     "text": [
      "[('mayurkulkarni636', '', '@', 'gmail.com')]\n"
     ]
    },
    {
     "name": "stderr",
     "output_type": "stream",
     "text": [
      "<>:3: SyntaxWarning: invalid escape sequence '\\.'\n",
      "<>:3: SyntaxWarning: invalid escape sequence '\\.'\n",
      "C:\\Users\\ADMIN\\AppData\\Local\\Temp\\ipykernel_17284\\344910128.py:3: SyntaxWarning: invalid escape sequence '\\.'\n",
      "  pattern ='(^[a-zA-Z0-9]+)([a-zA-Z0-9]*)(@)([a-zA-Z0-9]+\\.[a-zA-Z0-9]{2,})'\n"
     ]
    }
   ],
   "source": [
    "import re\n",
    "email=\"mayurkulkarni636@gmail.com\"\n",
    "pattern ='(^[a-zA-Z0-9]+)([a-zA-Z0-9]*)(@)([a-zA-Z0-9]+\\.[a-zA-Z0-9]{2,})'\n",
    "print(re.findall(pattern,email))"
   ]
  },
  {
   "cell_type": "code",
   "execution_count": 16,
   "id": "3bdf763b-0fba-4574-9dd8-f64aeb0d342b",
   "metadata": {},
   "outputs": [
    {
     "name": "stdout",
     "output_type": "stream",
     "text": [
      "['mayurkulkarni636@gmail.com']\n"
     ]
    }
   ],
   "source": [
    "email=\"mayurkulkarni636@gmail.com\"\n",
    "pattern=r'\\w+@\\w+\\.\\w+'\n",
    "print(re.findall(pattern,email))"
   ]
  },
  {
   "cell_type": "code",
   "execution_count": 10,
   "id": "25ef76a0-5339-43ae-a1c0-480bc1f144e2",
   "metadata": {},
   "outputs": [
    {
     "name": "stdout",
     "output_type": "stream",
     "text": [
      "False\n"
     ]
    }
   ],
   "source": [
    "def valid_email(email):\n",
    "    pattern=r'[a-zA-Z0-9].!]+\\@[a-zA-Z0-9]+\\.[a-zA-Z0-9]{2,}]'\n",
    "    if re.match(pattern,email):\n",
    "        return True\n",
    "    else:\n",
    "        return False\n",
    "print(valid_email(\"mayur@gmail.com\"))"
   ]
  },
  {
   "cell_type": "code",
   "execution_count": 4,
   "id": "7537fbc3-37cc-4d16-8b02-9123fc41fbd5",
   "metadata": {},
   "outputs": [
    {
     "name": "stdout",
     "output_type": "stream",
     "text": [
      "True\n"
     ]
    }
   ],
   "source": [
    "import re\n",
    "def validemail(email):\n",
    "    pattern=r'\\w+@\\w+\\.\\w+'\n",
    "    if re.match(pattern,email):\n",
    "        return True\n",
    "    else:\n",
    "        return False\n",
    "print(validemail(\"mayur@gmail.com\"))"
   ]
  },
  {
   "cell_type": "code",
   "execution_count": 19,
   "id": "bd8a2c58-2f60-40ea-a6d2-0af38fce4af2",
   "metadata": {},
   "outputs": [
    {
     "name": "stdin",
     "output_type": "stream",
     "text": [
      " 2\n"
     ]
    },
    {
     "name": "stdout",
     "output_type": "stream",
     "text": [
      "[[0, 0, 0], [0, 1, 0]]\n"
     ]
    }
   ],
   "source": [
    "import random\n",
    "n = int(input())\n",
    "mat1=[]\n",
    "for i in range(n):\n",
    "    mat = []\n",
    "    for j in range(3):\n",
    "        mat.append(random.randint(0,1))\n",
    "    mat1.append(mat)\n",
    "print(mat1)"
   ]
  },
  {
   "cell_type": "code",
   "execution_count": 10,
   "id": "8ab77bc0-095a-4acc-92c3-d90be51f3a87",
   "metadata": {},
   "outputs": [
    {
     "data": {
      "text/plain": [
       "1"
      ]
     },
     "execution_count": 10,
     "metadata": {},
     "output_type": "execute_result"
    }
   ],
   "source": [
    "import random\n",
    "random.randint(0,2)"
   ]
  },
  {
   "cell_type": "code",
   "execution_count": 18,
   "id": "94ffce2d-f185-4e88-879d-8f17caed1204",
   "metadata": {},
   "outputs": [
    {
     "data": {
      "text/plain": [
       "array([[0, 1, 1],\n",
       "       [0, 0, 1],\n",
       "       [0, 0, 1]])"
      ]
     },
     "execution_count": 18,
     "metadata": {},
     "output_type": "execute_result"
    }
   ],
   "source": [
    "import numpy as np\n",
    "np.array(mat1)"
   ]
  },
  {
   "cell_type": "code",
   "execution_count": 24,
   "id": "f4cfdcb1-7a4b-4393-8968-4d84a6a29fca",
   "metadata": {},
   "outputs": [
    {
     "name": "stdin",
     "output_type": "stream",
     "text": [
      " 4\n",
      " 0 1 1\n",
      " 0 0 1\n",
      " 1 1 0\n",
      " 1 1 1\n"
     ]
    },
    {
     "name": "stdout",
     "output_type": "stream",
     "text": [
      "3\n"
     ]
    }
   ],
   "source": [
    "# Read the number of problems\n",
    "n = int(input())\n",
    "\n",
    "# Initialize a counter for problems to be implemented\n",
    "implement_count = 0\n",
    "\n",
    "# Process each problem\n",
    "for _ in range(n):\n",
    "    # Read the three integers for the current problem\n",
    "    petya, vasya, tonya = map(int, input().split())\n",
    "    \n",
    "    # Check if at least two friends are sure about the solution\n",
    "    if petya + vasya + tonya >= 2:\n",
    "        implement_count += 1\n",
    "\n",
    "# Print the result\n",
    "print(implement_count)\n"
   ]
  },
  {
   "cell_type": "code",
   "execution_count": null,
   "id": "7fafddf4-158d-4792-8766-4377e2d7dec7",
   "metadata": {},
   "outputs": [],
   "source": []
  }
 ],
 "metadata": {
  "kernelspec": {
   "display_name": "Python 3 (ipykernel)",
   "language": "python",
   "name": "python3"
  },
  "language_info": {
   "codemirror_mode": {
    "name": "ipython",
    "version": 3
   },
   "file_extension": ".py",
   "mimetype": "text/x-python",
   "name": "python",
   "nbconvert_exporter": "python",
   "pygments_lexer": "ipython3",
   "version": "3.12.7"
  }
 },
 "nbformat": 4,
 "nbformat_minor": 5
}
