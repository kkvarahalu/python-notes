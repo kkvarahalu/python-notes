{
 "cells": [
  {
   "cell_type": "code",
   "execution_count": 2,
   "id": "87677d61-fc7a-40e1-a042-69d6ee632986",
   "metadata": {},
   "outputs": [
    {
     "name": "stdout",
     "output_type": "stream",
     "text": [
      "3\n"
     ]
    }
   ],
   "source": [
    "list=[[1,0,1],[1,1,0],[1,0,0]]\n",
    "print(len(list))"
   ]
  },
  {
   "cell_type": "code",
   "execution_count": null,
   "id": "612ab529-4401-477f-93de-f673deea7777",
   "metadata": {},
   "outputs": [],
   "source": [
    "text = 'Hello World'\n",
    "shift = 3\n",
    "alphabet = 'abcdefghijklmnopqrstuvwxyz'\n",
    "\n",
    "for char in text.lower():\n",
    "    index = alphabet.find(char)\n",
    "    print(char, index)\n",
    "    new_index = index + shift\n",
    "    new_char = alphabet[new_index]"
   ]
  },
  {
   "cell_type": "code",
   "execution_count": 6,
   "id": "b063091f-d592-4429-a475-0cd9ef4a8b4f",
   "metadata": {},
   "outputs": [
    {
     "name": "stdout",
     "output_type": "stream",
     "text": [
      "4\n"
     ]
    }
   ],
   "source": [
    "def myfun(list):\n",
    "    a=list\n",
    "    l=len(list)\n",
    "    friends=0\n",
    "    for i in range(l):\n",
    "        x=a[i].count(1)\n",
    "        if x>1:\n",
    "            friends+=1\n",
    "    return friends\n",
    "list=[[1,0,1],[1,1,0],[1,0,0],[0,1,1],[1,1,1]]\n",
    "print(myfun(list))\n",
    "    "
   ]
  },
  {
   "cell_type": "code",
   "execution_count": 23,
   "id": "0b6913ce-b724-4edd-953b-04ec5a02c772",
   "metadata": {},
   "outputs": [
    {
     "name": "stdout",
     "output_type": "stream",
     "text": [
      "2\n"
     ]
    }
   ],
   "source": [
    "def myfun(list):\n",
    "    a=list\n",
    "    l=len(list)\n",
    "    friends=0\n",
    "    for i in range(l):\n",
    "        x=a[i].count(1)\n",
    "        if x>1:\n",
    "            friends+=1\n",
    "    return friends\n",
    "list=[[1,1,0],[1,1,1],[1,0,0]]\n",
    "print(myfun(list))"
   ]
  },
  {
   "cell_type": "code",
   "execution_count": 10,
   "id": "52fc6bac-c9e0-46f1-8aba-23e0b6ba9cdb",
   "metadata": {},
   "outputs": [
    {
     "name": "stdin",
     "output_type": "stream",
     "text": [
      " 10\n"
     ]
    },
    {
     "name": "stdout",
     "output_type": "stream",
     "text": [
      "1 4 9 "
     ]
    }
   ],
   "source": [
    "def printIncreasingPower(x):\n",
    "    i = 1  # Start from 1\n",
    "    while i * i <= x:  # Continue while the square is less than or equal to x\n",
    "        print(i * i, end=\" \")  # Print the square\n",
    "        i += 1  # Move to the next number\n",
    "\n",
    "# Example usage\n",
    "x = int(input())  # Read the input value for x\n",
    "printIncreasingPower(x)"
   ]
  },
  {
   "cell_type": "code",
   "execution_count": 1,
   "id": "c68084c6-e812-4c5e-9536-476c6fdde95b",
   "metadata": {},
   "outputs": [
    {
     "name": "stdout",
     "output_type": "stream",
     "text": [
      "135"
     ]
    }
   ],
   "source": [
    "for i in range(1,6,2):\n",
    "    print(i , end=\"\")"
   ]
  },
  {
   "cell_type": "code",
   "execution_count": 3,
   "id": "03c16aa1-76dc-48d1-a4ca-1c6255ea9f4f",
   "metadata": {},
   "outputs": [
    {
     "name": "stdin",
     "output_type": "stream",
     "text": [
      " 20\n",
      " 1\n"
     ]
    },
    {
     "name": "stdout",
     "output_type": "stream",
     "text": [
      "42\n"
     ]
    }
   ],
   "source": [
    "def aweSum(A, B):\n",
    "    total = A + B\n",
    "    if 20 <= total <= 40:\n",
    "       print(42)\n",
    "    else:\n",
    "       print(total)\n",
    "A=int(input())\n",
    "B=int(input())\n",
    "aweSum(A, B)\n"
   ]
  },
  {
   "cell_type": "code",
   "execution_count": 9,
   "id": "32ec0dc2-da05-4dde-b363-f07ec5b7b687",
   "metadata": {},
   "outputs": [
    {
     "name": "stdout",
     "output_type": "stream",
     "text": [
      "the first occurrence of str2 is at:  8\n"
     ]
    }
   ],
   "source": [
    "str=\"geeksforgeeks is for geeks\"\n",
    "str2=\"geeks\"\n",
    "print(\"the first occurrence of str2 is at: \", end=\" \")\n",
    "print(str.find(str2, 4))"
   ]
  },
  {
   "cell_type": "code",
   "execution_count": 10,
   "id": "7f9f8d75-2b2a-44c7-a073-cc99286249c1",
   "metadata": {},
   "outputs": [
    {
     "name": "stdout",
     "output_type": "stream",
     "text": [
      "the last occurrence of str2 is at:  21\n"
     ]
    }
   ],
   "source": [
    "print(\"the last occurrence of str2 is at: \", end=\" \")\n",
    "print(str.rfind(str2, 4))"
   ]
  },
  {
   "cell_type": "code",
   "execution_count": 11,
   "id": "008f971e-2ca1-44b5-83a0-014f85cff348",
   "metadata": {},
   "outputs": [
    {
     "name": "stdout",
     "output_type": "stream",
     "text": [
      "str1 begins with: geeks\n"
     ]
    }
   ],
   "source": [
    "str=\"geeks\"\n",
    "str1=\"geeksforgeeksportal\"\n",
    "if str1.startswith(str):\n",
    "    print(\"str1 begins with:\", str)\n",
    "else:\n",
    "    print(\"str1 does not begin with:\",str)"
   ]
  },
  {
   "cell_type": "code",
   "execution_count": 12,
   "id": "17ae0ea8-192b-4ed2-990b-f4e6f80aa8e2",
   "metadata": {},
   "outputs": [
    {
     "name": "stdout",
     "output_type": "stream",
     "text": [
      "str1 does not end with: geeks\n"
     ]
    }
   ],
   "source": [
    "if str1.endswith(str):\n",
    "    print(\"str1 ends with:\",str)\n",
    "else:\n",
    "    print(\"str1 does not end with:\",str)"
   ]
  },
  {
   "cell_type": "code",
   "execution_count": 13,
   "id": "e3cc07b1-ab52-4f35-8469-dee0118379af",
   "metadata": {},
   "outputs": [
    {
     "name": "stdout",
     "output_type": "stream",
     "text": [
      "all chr are upper case\n"
     ]
    }
   ],
   "source": [
    "str=\"GEEKSFORGEEKS\"\n",
    "str2=\"geeks\"\n",
    "if str.isupper():\n",
    "    print(\"all chr are upper case\")\n",
    "else:\n",
    "    print(\"all chr are not upper case\")"
   ]
  },
  {
   "cell_type": "code",
   "execution_count": 14,
   "id": "0146b0c9-d09b-4ace-b682-ecfda2e52083",
   "metadata": {},
   "outputs": [
    {
     "name": "stdout",
     "output_type": "stream",
     "text": [
      "all chr are not upper case\n"
     ]
    }
   ],
   "source": [
    "str=\"GEEKSFORGEEKS\"\n",
    "str2=\"geeks\"\n",
    "if str.islower():\n",
    "    print(\"all chr are upper case\")\n",
    "else:\n",
    "    print(\"all chr are not upper case\")"
   ]
  },
  {
   "cell_type": "code",
   "execution_count": 15,
   "id": "0d3a0bd2-be68-4cf4-ad2e-54f8cdfa7c0a",
   "metadata": {},
   "outputs": [
    {
     "name": "stdout",
     "output_type": "stream",
     "text": [
      "the lower case converted string is: geeksforgeeks is for geeks\n"
     ]
    }
   ],
   "source": [
    "str=\"geeksforgeeks is fOr Geeks\"\n",
    "str1=str.lower()\n",
    "print(\"the lower case converted string is:\",str1)\n"
   ]
  },
  {
   "cell_type": "code",
   "execution_count": 16,
   "id": "4c2e60d1-1879-4faa-94b3-251e2f15b36b",
   "metadata": {},
   "outputs": [
    {
     "name": "stdout",
     "output_type": "stream",
     "text": [
      "the lower case converted string is: GEEKSFORGEEKS IS FOR GEEKS\n"
     ]
    }
   ],
   "source": [
    "str=\"geeksforgeeks is fOr Geeks\"\n",
    "str1=str.upper()\n",
    "print(\"the lower case converted string is:\",str1)\n"
   ]
  },
  {
   "cell_type": "code",
   "execution_count": 17,
   "id": "8710d6c5-7127-4c48-a0f7-e2cad4bab059",
   "metadata": {},
   "outputs": [
    {
     "name": "stdout",
     "output_type": "stream",
     "text": [
      "the lower case converted string is: GEEKSFORGEEKS IS FoR gEEKS\n"
     ]
    }
   ],
   "source": [
    "str=\"geeksforgeeks is fOr Geeks\"\n",
    "str1=str.swapcase()\n",
    "print(\"the lower case converted string is:\",str1)\n"
   ]
  },
  {
   "cell_type": "code",
   "execution_count": 18,
   "id": "c1140c64-0956-4b31-9363-9689f406e729",
   "metadata": {},
   "outputs": [
    {
     "name": "stdout",
     "output_type": "stream",
     "text": [
      "the lower case converted string is: Geeksforgeeks Is For Geeks\n"
     ]
    }
   ],
   "source": [
    "str=\"geeksforgeeks is fOr Geeks\"\n",
    "str1=str.title()                 #use method farmula=(substring,start,end)\n",
    "print(\"the lower case converted string is:\",str1)\n"
   ]
  },
  {
   "cell_type": "code",
   "execution_count": 19,
   "id": "60cbff6f-84d5-47c1-91bd-668fce67a312",
   "metadata": {},
   "outputs": [
    {
     "name": "stdout",
     "output_type": "stream",
     "text": [
      "26\n"
     ]
    }
   ],
   "source": [
    "str=\"geeksforgeeks is for geeks\"\n",
    "print(len(str))"
   ]
  },
  {
   "cell_type": "code",
   "execution_count": 21,
   "id": "aa093c46-92d2-47f8-90a2-f6f018e07cfc",
   "metadata": {},
   "outputs": [
    {
     "name": "stdout",
     "output_type": "stream",
     "text": [
      "2\n"
     ]
    }
   ],
   "source": [
    "print(str.count(\"geeks\", 0, 15))"
   ]
  },
  {
   "cell_type": "code",
   "execution_count": 26,
   "id": "7f0dadba-bded-4fa7-ba5f-bda7e83edb52",
   "metadata": {},
   "outputs": [
    {
     "name": "stdout",
     "output_type": "stream",
     "text": [
      "---geeksforgeeks----\n"
     ]
    }
   ],
   "source": [
    "str=\"geeksforgeeks\"\n",
    "\n",
    "print(str.center(20, '-'))\n",
    "      "
   ]
  },
  {
   "cell_type": "code",
   "execution_count": 1,
   "id": "0b704d28-7e93-41af-ad8a-0a63ee535c39",
   "metadata": {},
   "outputs": [
    {
     "name": "stdout",
     "output_type": "stream",
     "text": [
      "geeksforgeeks\n"
     ]
    }
   ],
   "source": [
    "a=\"---geeksforgeeks---\"\n",
    "print(a.strip('-'))\n",
    "\n"
   ]
  },
  {
   "cell_type": "code",
   "execution_count": 2,
   "id": "09021747-ca05-4a0c-8913-20d92fc9156b",
   "metadata": {},
   "outputs": [
    {
     "data": {
      "text/plain": [
       "'geeksforgeeks---'"
      ]
     },
     "execution_count": 2,
     "metadata": {},
     "output_type": "execute_result"
    }
   ],
   "source": [
    "a.lstrip('-')"
   ]
  },
  {
   "cell_type": "code",
   "execution_count": 3,
   "id": "b8f7a526-9602-49b7-95ae-1e5305545941",
   "metadata": {},
   "outputs": [
    {
     "data": {
      "text/plain": [
       "'---geeksforgeeks'"
      ]
     },
     "execution_count": 3,
     "metadata": {},
     "output_type": "execute_result"
    }
   ],
   "source": [
    "a.rstrip('-')"
   ]
  },
  {
   "cell_type": "code",
   "execution_count": 4,
   "id": "8270dea2-5975-430a-94d0-79dda6386de1",
   "metadata": {},
   "outputs": [
    {
     "data": {
      "text/plain": [
       "'-'"
      ]
     },
     "execution_count": 4,
     "metadata": {},
     "output_type": "execute_result"
    }
   ],
   "source": [
    "min(a)"
   ]
  },
  {
   "cell_type": "code",
   "execution_count": 5,
   "id": "c29b41ed-3393-498e-95fe-d181425e73e0",
   "metadata": {},
   "outputs": [
    {
     "data": {
      "text/plain": [
       "'s'"
      ]
     },
     "execution_count": 5,
     "metadata": {},
     "output_type": "execute_result"
    }
   ],
   "source": [
    "max(a)"
   ]
  },
  {
   "cell_type": "code",
   "execution_count": 6,
   "id": "78ffb55a-05fa-42df-bb18-6ed47dbb4bd9",
   "metadata": {},
   "outputs": [],
   "source": [
    "a=[1,2,3,4,5]"
   ]
  },
  {
   "cell_type": "code",
   "execution_count": 7,
   "id": "be5f121c-0388-43f1-a95d-01f70ffe2be5",
   "metadata": {},
   "outputs": [
    {
     "data": {
      "text/plain": [
       "1"
      ]
     },
     "execution_count": 7,
     "metadata": {},
     "output_type": "execute_result"
    }
   ],
   "source": [
    "min(a)"
   ]
  },
  {
   "cell_type": "code",
   "execution_count": 8,
   "id": "c0de10b0-39ee-4277-a2ff-019365c52b70",
   "metadata": {},
   "outputs": [
    {
     "data": {
      "text/plain": [
       "5"
      ]
     },
     "execution_count": 8,
     "metadata": {},
     "output_type": "execute_result"
    }
   ],
   "source": [
    "max(a)"
   ]
  },
  {
   "cell_type": "code",
   "execution_count": 13,
   "id": "4c13f20e-d6c1-4040-b5fc-b8d2ddae8e38",
   "metadata": {},
   "outputs": [
    {
     "name": "stdout",
     "output_type": "stream",
     "text": [
      "1pple,41n1n1,3herry\n"
     ]
    }
   ],
   "source": [
    "#.using maketrans table:\n",
    "tt=str.maketrans(\"abc\",\"143\")\n",
    "o=\"apple,banana,cherry\"\n",
    "ts=o.translate(tt)\n",
    "print(ts)\n",
    "\n"
   ]
  },
  {
   "cell_type": "code",
   "execution_count": null,
   "id": "0bf7838d-36bb-491c-9fe1-863588b19229",
   "metadata": {},
   "outputs": [],
   "source": [
    "def Convert(string):\n",
    "    li=list(string.split(\"\"))\n",
    "    return li\n",
    "str1=\"geeks for geeks\"\n",
    "print"
   ]
  }
 ],
 "metadata": {
  "kernelspec": {
   "display_name": "Python 3 (ipykernel)",
   "language": "python",
   "name": "python3"
  },
  "language_info": {
   "codemirror_mode": {
    "name": "ipython",
    "version": 3
   },
   "file_extension": ".py",
   "mimetype": "text/x-python",
   "name": "python",
   "nbconvert_exporter": "python",
   "pygments_lexer": "ipython3",
   "version": "3.12.7"
  }
 },
 "nbformat": 4,
 "nbformat_minor": 5
}
