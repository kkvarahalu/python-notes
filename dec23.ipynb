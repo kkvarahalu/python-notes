{
 "cells": [
  {
   "cell_type": "code",
   "execution_count": 3,
   "id": "20a3e4dc-3e73-460c-b015-4f63ab8acf84",
   "metadata": {},
   "outputs": [],
   "source": [
    "list=[10,20,30,40,50,60,70]\n",
    "list2=sorted(list,reverse=True)"
   ]
  },
  {
   "cell_type": "code",
   "execution_count": 4,
   "id": "558eec30-12c6-4baa-bbd8-b15cb8d27d90",
   "metadata": {},
   "outputs": [
    {
     "data": {
      "text/plain": [
       "[70, 60, 50, 40, 30, 20, 10]"
      ]
     },
     "execution_count": 4,
     "metadata": {},
     "output_type": "execute_result"
    }
   ],
   "source": [
    "list2"
   ]
  },
  {
   "cell_type": "code",
   "execution_count": 6,
   "id": "e2c18ae2-0e49-47ab-b08a-673d47dd1108",
   "metadata": {},
   "outputs": [
    {
     "name": "stdout",
     "output_type": "stream",
     "text": [
      "[70, 60, 50, 40, 30, 20, 10]\n"
     ]
    }
   ],
   "source": [
    "list=[10,20,30,40,50,60,70]\n",
    "list.reverse()\n",
    "print(list)"
   ]
  },
  {
   "cell_type": "code",
   "execution_count": 4,
   "id": "9a515181-a1a0-4ef2-8318-44f879422f48",
   "metadata": {},
   "outputs": [
    {
     "data": {
      "text/plain": [
       "[70, 60, 50, 40, 30, 20, 10]"
      ]
     },
     "execution_count": 4,
     "metadata": {},
     "output_type": "execute_result"
    }
   ],
   "source": [
    "list[::-1]"
   ]
  },
  {
   "cell_type": "code",
   "execution_count": 8,
   "id": "0732b7ce-f39d-4c8d-ba00-c7d9f6dac728",
   "metadata": {},
   "outputs": [
    {
     "name": "stdout",
     "output_type": "stream",
     "text": [
      "Hello\n",
      "Hello\n",
      "Hello\n",
      "Hello\n",
      "Hello\n",
      "Hello\n",
      "Hello\n",
      "Hello\n",
      "Hello\n",
      "Hello\n"
     ]
    }
   ],
   "source": [
    "i=1\n",
    "while i<=10:            #_______11u\n",
    "    print(\"Hello\")      #_____10u\n",
    "    i+=1\n",
    "                        #T(n)=1+11+10=22u____0(1)"
   ]
  },
  {
   "cell_type": "code",
   "execution_count": 5,
   "id": "d7dc2b84-495c-45bc-b818-a9cc03f115b8",
   "metadata": {},
   "outputs": [
    {
     "name": "stdout",
     "output_type": "stream",
     "text": [
      "i\n",
      "i\n",
      "i\n",
      "i\n"
     ]
    }
   ],
   "source": [
    "i=1\n",
    "while i<=10:            # 1,2,4,8 and another comare 16<=10 is False so compare total 5---0(logn), \n",
    "    print(\"i\")      \n",
    "    i*=2\n",
    "               "
   ]
  },
  {
   "cell_type": "code",
   "execution_count": 2,
   "id": "871cec3e-3b05-4cd8-9694-7868005c79ab",
   "metadata": {},
   "outputs": [
    {
     "name": "stdout",
     "output_type": "stream",
     "text": [
      "2 1\n"
     ]
    }
   ],
   "source": [
    "def swap(a,b):\n",
    "    return b,a #return swapped values\n",
    "a=1\n",
    "b=2\n",
    "a,b=swap(a,b)# update variables with swapped values\n",
    "print(a,b)"
   ]
  },
  {
   "cell_type": "code",
   "execution_count": null,
   "id": "05840624-592f-48ef-b41e-85ad0c0bfe37",
   "metadata": {},
   "outputs": [],
   "source": [
    "i=1\n",
    "while i<=1billion:      # this is print 'hello' 1 billion+1 times so this is take more time \n",
    "   print(\"hello\")\n",
    "    i+=1\n",
    "T(n)=0(1)"
   ]
  },
  {
   "cell_type": "code",
   "execution_count": 12,
   "id": "eaa4954c-1002-4f2d-8df8-98e31612fa0b",
   "metadata": {},
   "outputs": [
    {
     "name": "stdout",
     "output_type": "stream",
     "text": [
      "-2\n"
     ]
    }
   ],
   "source": [
    "def func(n,k):\n",
    "    if n==0:\n",
    "       return 1\n",
    "    elif n%2==0:\n",
    "        return func(n//2,k)+k\n",
    "    else:\n",
    "        return func(n//2,k)-k\n",
    "print(func(5,3))\n",
    "        "
   ]
  },
  {
   "cell_type": "code",
   "execution_count": 13,
   "id": "92dcb1b7-a8b5-4431-991b-3fe0f34093ab",
   "metadata": {},
   "outputs": [
    {
     "name": "stdout",
     "output_type": "stream",
     "text": [
      "1\n"
     ]
    }
   ],
   "source": [
    "def func(n, k):\n",
    "    if n == 0:\n",
    "        return 1\n",
    "    elif n % 2 == 0:\n",
    "        return func(n // 2, k) + k  # Recursive call for even n\n",
    "    else:\n",
    "        return func(n // 2, k) - k  # Recursive call for odd n\n",
    "\n",
    "# Example call\n",
    "n = 10\n",
    "k = 2\n",
    "print(func(n, k))\n"
   ]
  },
  {
   "cell_type": "code",
   "execution_count": 2,
   "id": "1b9b8e27-1589-4d83-9755-632b83066a09",
   "metadata": {},
   "outputs": [
    {
     "name": "stdout",
     "output_type": "stream",
     "text": [
      "[1, 56, 78, 99]\n"
     ]
    }
   ],
   "source": [
    "def function(list1, list2):\n",
    "    common_elements = sorted(set(list1) & set(list2))\n",
    "    return common_elements\n",
    "list1 = [2, 56, 1, 46, 78, 99, 101]\n",
    "list2 = [56, 1, 78, 99, 94, 100, 102]\n",
    "\n",
    "result = function(list1, list2)\n",
    "print(result)"
   ]
  },
  {
   "cell_type": "code",
   "execution_count": 5,
   "id": "1dc4e078-6203-412a-891d-db6b3f3033b8",
   "metadata": {},
   "outputs": [
    {
     "name": "stdout",
     "output_type": "stream",
     "text": [
      "[1, 56, 78, 99]\n"
     ]
    }
   ],
   "source": [
    "def fun(list1,list2):\n",
    "    \n",
    "    return common_eleents\n",
    "list1=[2,56,1,46,78,99,101]\n",
    "list2=[56,1,78,99,94,100,102]\n",
    "common_elements=sorted(set(list1)&set(list2))\n",
    "print(common_elements)"
   ]
  },
  {
   "cell_type": "code",
   "execution_count": 2,
   "id": "bad94a07-3389-4a2b-87a8-7941899ff0c6",
   "metadata": {},
   "outputs": [
    {
     "name": "stdout",
     "output_type": "stream",
     "text": [
      "[1, 56, 78, 99]\n"
     ]
    }
   ],
   "source": [
    "list1 = [2, 56, 1, 46, 78, 99, 101]\n",
    "list2 = [56, 1, 78, 99, 94, 100, 102]\n",
    "common_elements = list(set(list1) & set(list2))\n",
    "common_elements.sort()\n",
    "\n",
    "print(common_elements)\n"
   ]
  },
  {
   "cell_type": "code",
   "execution_count": null,
   "id": "6f60f212-fdbb-499f-a7c5-ff79c04886bc",
   "metadata": {},
   "outputs": [],
   "source": []
  }
 ],
 "metadata": {
  "kernelspec": {
   "display_name": "Python 3 (ipykernel)",
   "language": "python",
   "name": "python3"
  },
  "language_info": {
   "codemirror_mode": {
    "name": "ipython",
    "version": 3
   },
   "file_extension": ".py",
   "mimetype": "text/x-python",
   "name": "python",
   "nbconvert_exporter": "python",
   "pygments_lexer": "ipython3",
   "version": "3.12.7"
  }
 },
 "nbformat": 4,
 "nbformat_minor": 5
}
