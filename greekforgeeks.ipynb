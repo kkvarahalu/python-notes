{
 "cells": [
  {
   "cell_type": "code",
   "execution_count": 5,
   "id": "6cb3b328-5b16-482e-b33f-f2495f833032",
   "metadata": {},
   "outputs": [
    {
     "data": {
      "text/plain": [
       "['greek', 'for', 'geeks']"
      ]
     },
     "execution_count": 5,
     "metadata": {},
     "output_type": "execute_result"
    }
   ],
   "source": [
    "def convert(stirng):\n",
    "    li=list(string.split(\"@\"))\n",
    "    return li\n",
    "string=\"greek@for@geeks\"\n",
    "convert(string)"
   ]
  },
  {
   "cell_type": "code",
   "execution_count": 6,
   "id": "07b94a2b-c141-46e3-b8c8-6c86b1ce572c",
   "metadata": {},
   "outputs": [
    {
     "name": "stdout",
     "output_type": "stream",
     "text": [
      "['greek', 'for', 'geeks']\n"
     ]
    }
   ],
   "source": [
    "def convert(stirng):\n",
    "    li=list(string.split(\"@\"))\n",
    "    return li\n",
    "str1=\"greek@for@geeks\"\n",
    "print(convert(str1))"
   ]
  },
  {
   "cell_type": "code",
   "execution_count": 12,
   "id": "1017ff7b-dfce-4038-a104-61d61fb33cbb",
   "metadata": {},
   "outputs": [
    {
     "data": {
      "text/plain": [
       "['a', 'b', 'c', 'd']"
      ]
     },
     "execution_count": 12,
     "metadata": {},
     "output_type": "execute_result"
    }
   ],
   "source": [
    "def convert(string):\n",
    "    list1=[]\n",
    "    list1[:0]=string\n",
    "    return list1\n",
    "string=\"abcd\"\n",
    "convert(string)\n",
    "    "
   ]
  },
  {
   "cell_type": "code",
   "execution_count": 15,
   "id": "8d7014af-bf0f-4225-98f6-6b5d537253f0",
   "metadata": {},
   "outputs": [
    {
     "data": {
      "text/plain": [
       "['A', 'B', 'C', 'D']"
      ]
     },
     "execution_count": 15,
     "metadata": {},
     "output_type": "execute_result"
    }
   ],
   "source": [
    "import re\n",
    "def convert(string):\n",
    "    return re.findall('[a-zA-Z]',string)\n",
    "string=\"ABCD\"\n",
    "convert(string)"
   ]
  },
  {
   "cell_type": "code",
   "execution_count": 19,
   "id": "c5c06eda-6659-4ff3-8255-cdaa05d2d7cf",
   "metadata": {},
   "outputs": [
    {
     "name": "stdout",
     "output_type": "stream",
     "text": [
      "['g', 'e', 'e', 'k', 's']\n"
     ]
    }
   ],
   "source": [
    "s=\"geeks\"\n",
    "x=[i for i in s]\n",
    "print(x)"
   ]
  },
  {
   "cell_type": "code",
   "execution_count": 20,
   "id": "142d4582-09ac-4950-8e4f-03d9446ba64e",
   "metadata": {},
   "outputs": [
    {
     "name": "stdout",
     "output_type": "stream",
     "text": [
      "the converted list: \n",
      " ['geeks', 2, 'for', 4, 'geeks', 3]\n"
     ]
    }
   ],
   "source": [
    "import json\n",
    "stringA='[\"geeks\",2,\"for\",4,\"geeks\",3]'\n",
    "res=json.loads(stringA)\n",
    "print(\"the converted list: \\n\",res)"
   ]
  },
  {
   "cell_type": "code",
   "execution_count": 21,
   "id": "a88ce9d8-4fd0-46df-bb66-16339d08e5c2",
   "metadata": {},
   "outputs": [],
   "source": [
    "import re\n",
    "phonenumbeRegex=re.compile(r'\\d\\d\\d-\\d\\d\\d-\\d\\d\\d\\d')"
   ]
  },
  {
   "cell_type": "code",
   "execution_count": null,
   "id": "817170b0-4654-4564-a000-87e06c82245e",
   "metadata": {},
   "outputs": [],
   "source": []
  }
 ],
 "metadata": {
  "kernelspec": {
   "display_name": "Python 3 (ipykernel)",
   "language": "python",
   "name": "python3"
  },
  "language_info": {
   "codemirror_mode": {
    "name": "ipython",
    "version": 3
   },
   "file_extension": ".py",
   "mimetype": "text/x-python",
   "name": "python",
   "nbconvert_exporter": "python",
   "pygments_lexer": "ipython3",
   "version": "3.12.7"
  }
 },
 "nbformat": 4,
 "nbformat_minor": 5
}
