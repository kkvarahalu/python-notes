{
 "cells": [
  {
   "cell_type": "code",
   "execution_count": 2,
   "id": "958a7305-3cd8-4bf9-ae62-7151ee26053e",
   "metadata": {},
   "outputs": [
    {
     "name": "stdout",
     "output_type": "stream",
     "text": [
      "1\n",
      "2\n",
      "3\n",
      "4\n",
      "5\n",
      "6\n"
     ]
    }
   ],
   "source": [
    "s={1,2,3,4,5,6}\n",
    "for i in s:\n",
    "    print(i)"
   ]
  },
  {
   "cell_type": "code",
   "execution_count": 3,
   "id": "5a412112-54d8-4d72-ba0d-d7db1db7e794",
   "metadata": {},
   "outputs": [
    {
     "name": "stdout",
     "output_type": "stream",
     "text": [
      "1\n",
      "2\n",
      "3\n",
      "4\n",
      "5\n",
      "6\n"
     ]
    }
   ],
   "source": [
    "s = {1, 2, 3, 4, 5, 6}\n",
    "for element in s:\n",
    "    print(element)"
   ]
  },
  {
   "cell_type": "code",
   "execution_count": 10,
   "id": "702ec4a4-0d4a-404a-b442-afceddaaef17",
   "metadata": {},
   "outputs": [],
   "source": [
    "s1={3,5,6,7,456}\n",
    "s2={8,12,78,23}"
   ]
  },
  {
   "cell_type": "code",
   "execution_count": 11,
   "id": "6aa5a354-2bac-4876-9192-6a8d35d1daaa",
   "metadata": {},
   "outputs": [
    {
     "name": "stdout",
     "output_type": "stream",
     "text": [
      "{3, 5, 6, 7, 456, 8, 12, 78, 23}\n"
     ]
    }
   ],
   "source": [
    "print(s1.union(s2))"
   ]
  },
  {
   "cell_type": "code",
   "execution_count": 5,
   "id": "f21b7ba7-1440-45fe-a29a-e80ebbfeaca6",
   "metadata": {},
   "outputs": [
    {
     "name": "stdout",
     "output_type": "stream",
     "text": [
      "{3, 5, 6, 7, 456, 8, 12, 78, 23}\n"
     ]
    }
   ],
   "source": [
    "print(s1|s2)"
   ]
  },
  {
   "cell_type": "code",
   "execution_count": 7,
   "id": "bf28eebe-38b6-4cef-8096-997d18a84e38",
   "metadata": {},
   "outputs": [],
   "source": [
    "s1={3,5,6,7,12,456}\n",
    "s2={8,12,78,23}"
   ]
  },
  {
   "cell_type": "code",
   "execution_count": 8,
   "id": "fc632c20-d539-4053-97f0-1c327f268b3e",
   "metadata": {},
   "outputs": [
    {
     "name": "stdout",
     "output_type": "stream",
     "text": [
      "{12}\n"
     ]
    }
   ],
   "source": [
    "print(s1.intersection(s2))"
   ]
  },
  {
   "cell_type": "code",
   "execution_count": 9,
   "id": "c86478e0-a2fc-48f8-b417-575207c0ed30",
   "metadata": {},
   "outputs": [
    {
     "name": "stdout",
     "output_type": "stream",
     "text": [
      "{12}\n"
     ]
    }
   ],
   "source": [
    "print(s1&s2)"
   ]
  },
  {
   "cell_type": "code",
   "execution_count": 12,
   "id": "35ef4c4b-9603-4d2a-ae7e-ffb9f8c90324",
   "metadata": {},
   "outputs": [],
   "source": [
    "set1={1,2,3,4,5,6,7,8,9}\n",
    "set2={6,7,8,9,10,11,12}"
   ]
  },
  {
   "cell_type": "code",
   "execution_count": 13,
   "id": "52ae45e0-1213-4df7-803f-b77e84f7b157",
   "metadata": {},
   "outputs": [
    {
     "name": "stdout",
     "output_type": "stream",
     "text": [
      "{1, 2, 3, 4, 5}\n"
     ]
    }
   ],
   "source": [
    "print(set1.difference(set2))"
   ]
  },
  {
   "cell_type": "code",
   "execution_count": 14,
   "id": "ea4029bb-62f5-49cd-969e-d9e0ceaa60ae",
   "metadata": {},
   "outputs": [
    {
     "name": "stdout",
     "output_type": "stream",
     "text": [
      "{10, 11, 12}\n"
     ]
    }
   ],
   "source": [
    "print(set2.difference(set1))"
   ]
  },
  {
   "cell_type": "code",
   "execution_count": 15,
   "id": "393c797f-7511-452f-8d7c-79adea12971d",
   "metadata": {},
   "outputs": [
    {
     "name": "stdout",
     "output_type": "stream",
     "text": [
      "{1, 2, 3, 4, 5}\n"
     ]
    }
   ],
   "source": [
    "print(set1-set2)"
   ]
  },
  {
   "cell_type": "code",
   "execution_count": 16,
   "id": "1d545584-61b7-4e4f-a282-41b4ce6afe98",
   "metadata": {},
   "outputs": [
    {
     "name": "stdout",
     "output_type": "stream",
     "text": [
      "{10, 11, 12}\n"
     ]
    }
   ],
   "source": [
    "print(set2-set1)"
   ]
  },
  {
   "cell_type": "code",
   "execution_count": 1,
   "id": "756f56b1-5fab-4d13-a400-bf488f95b268",
   "metadata": {},
   "outputs": [
    {
     "name": "stdout",
     "output_type": "stream",
     "text": [
      "[6, 7, 8, 9]\n"
     ]
    }
   ],
   "source": [
    "def list_difference(list1, list2):\n",
    "    list3 = []\n",
    "    for i in list1:\n",
    "        if i in list2:\n",
    "            list3.append(i)\n",
    "    return list3  \n",
    "\n",
    "list1 = [1, 2, 3, 4, 5, 6, 7, 8, 9]\n",
    "list2 = [6, 7, 8, 9, 10, 11, 12]\n",
    "print(list_difference(list1, list2))"
   ]
  },
  {
   "cell_type": "code",
   "execution_count": 40,
   "id": "9434be19-21c2-4f4a-8f9e-cd25a6f18748",
   "metadata": {},
   "outputs": [
    {
     "name": "stdout",
     "output_type": "stream",
     "text": [
      "[6, 7, 8, 9]\n"
     ]
    }
   ],
   "source": [
    "def list_difference(list1,list2):\n",
    "    list3=[]\n",
    "    for i in list1:\n",
    "        if i in list2:\n",
    "            list3.append(i)\n",
    "    return list3\n",
    "list1=[6,7,8,9,10,11,12]\n",
    "list2=[1,2,3,4,5,6,7,8,9]\n",
    "print(list_difference(list1,list2))"
   ]
  },
  {
   "cell_type": "code",
   "execution_count": 9,
   "id": "a2962ceb-5240-482c-9569-7b223477df08",
   "metadata": {},
   "outputs": [
    {
     "name": "stdout",
     "output_type": "stream",
     "text": [
      "k\n"
     ]
    }
   ],
   "source": [
    "a=\"kkvarahalu\"\n",
    "print(a[0])"
   ]
  },
  {
   "cell_type": "code",
   "execution_count": 10,
   "id": "d968f25b-d72f-4246-a162-c44f529abf25",
   "metadata": {},
   "outputs": [
    {
     "name": "stdout",
     "output_type": "stream",
     "text": [
      "var\n"
     ]
    }
   ],
   "source": [
    "print(a[2:5])"
   ]
  },
  {
   "cell_type": "code",
   "execution_count": 12,
   "id": "ebb1de2e-041e-41b6-a640-536a975bca21",
   "metadata": {},
   "outputs": [
    {
     "name": "stdout",
     "output_type": "stream",
     "text": [
      "kkvar\n"
     ]
    }
   ],
   "source": [
    "print(a[:5])"
   ]
  },
  {
   "cell_type": "code",
   "execution_count": 14,
   "id": "971eb0b3-cf3e-4556-8e90-20af28e3f703",
   "metadata": {},
   "outputs": [
    {
     "name": "stdout",
     "output_type": "stream",
     "text": [
      "aha\n"
     ]
    }
   ],
   "source": [
    "print(a[-5:-2])"
   ]
  },
  {
   "cell_type": "code",
   "execution_count": 15,
   "id": "f960667b-acc3-4787-ae42-68aaa59d790c",
   "metadata": {},
   "outputs": [
    {
     "name": "stdout",
     "output_type": "stream",
     "text": [
      "KKvarahalu\n"
     ]
    }
   ],
   "source": [
    "print(a.replace(\"k\",\"K\"))"
   ]
  },
  {
   "cell_type": "code",
   "execution_count": 16,
   "id": "8c52aaf2-3f84-47f9-a3e9-fb8023d36aeb",
   "metadata": {},
   "outputs": [
    {
     "name": "stdout",
     "output_type": "stream",
     "text": [
      "my name is john,I am23\n"
     ]
    }
   ],
   "source": [
    "a=23\n",
    "x=f\"my name is john,I am{a}\"\n",
    "print(x)"
   ]
  },
  {
   "cell_type": "code",
   "execution_count": 23,
   "id": "0257f019-6c69-4b30-980f-49c41e73d18e",
   "metadata": {},
   "outputs": [],
   "source": [
    "s1={2,3,4,5,6,7,8}\n",
    "s2={23,3,45,67,100,1}"
   ]
  },
  {
   "cell_type": "code",
   "execution_count": 28,
   "id": "83d8f21b-86e9-4b52-a3d1-11c690a5fdfe",
   "metadata": {},
   "outputs": [
    {
     "data": {
      "text/plain": [
       "{2, 4, 5, 6, 7, 8}"
      ]
     },
     "execution_count": 28,
     "metadata": {},
     "output_type": "execute_result"
    }
   ],
   "source": [
    "s1-s2\n"
   ]
  },
  {
   "cell_type": "code",
   "execution_count": 29,
   "id": "4b51f0b8-bc86-49ec-b5e4-ea803356c0ba",
   "metadata": {},
   "outputs": [
    {
     "data": {
      "text/plain": [
       "{1, 23, 45, 67, 100}"
      ]
     },
     "execution_count": 29,
     "metadata": {},
     "output_type": "execute_result"
    }
   ],
   "source": [
    "s2-s1"
   ]
  },
  {
   "cell_type": "code",
   "execution_count": 32,
   "id": "4e0867a8-0f71-4cd2-99b0-0d33935ab1bf",
   "metadata": {},
   "outputs": [],
   "source": [
    "s1={2,4,5,6,7,8}\n",
    "s2={1,23,45,67,100}"
   ]
  },
  {
   "cell_type": "code",
   "execution_count": 33,
   "id": "fa217d69-f290-4e5b-a38a-eb1a4ac2e40c",
   "metadata": {},
   "outputs": [
    {
     "data": {
      "text/plain": [
       "{1, 2, 4, 5, 6, 7, 8, 23, 45, 67, 100}"
      ]
     },
     "execution_count": 33,
     "metadata": {},
     "output_type": "execute_result"
    }
   ],
   "source": [
    "s1|s2"
   ]
  },
  {
   "cell_type": "code",
   "execution_count": 22,
   "id": "5b2e326d-7cec-4f37-8420-e90b11abd9e3",
   "metadata": {},
   "outputs": [
    {
     "name": "stdout",
     "output_type": "stream",
     "text": [
      "{1, 2, 67, 4, 5, 6, 7, 8, 23, 100, 45}\n"
     ]
    }
   ],
   "source": [
    "print(s1.symmetric_difference(s2))"
   ]
  },
  {
   "cell_type": "code",
   "execution_count": 23,
   "id": "5a0d2d7e-a695-4d0b-bccf-ac70cc6f71a1",
   "metadata": {},
   "outputs": [
    {
     "name": "stdout",
     "output_type": "stream",
     "text": [
      "{1, 2, 67, 4, 5, 6, 7, 8, 23, 100, 45}\n"
     ]
    }
   ],
   "source": [
    "print(s2.symmetric_difference(s1))"
   ]
  },
  {
   "cell_type": "code",
   "execution_count": 26,
   "id": "3010ab7f-5c1d-4809-b606-8c080e93d1e0",
   "metadata": {},
   "outputs": [],
   "source": [
    "s1={2,3,4,5,6,7,8}\n",
    "s2={23,3,45,67,100,1}"
   ]
  },
  {
   "cell_type": "code",
   "execution_count": 27,
   "id": "b51eafbd-66b2-4f09-84c2-2f0b17c036a8",
   "metadata": {},
   "outputs": [
    {
     "data": {
      "text/plain": [
       "{1, 23, 45, 67, 100}"
      ]
     },
     "execution_count": 27,
     "metadata": {},
     "output_type": "execute_result"
    }
   ],
   "source": [
    "s2-s1"
   ]
  },
  {
   "cell_type": "code",
   "execution_count": 25,
   "id": "f717c322-33aa-4833-9da8-908e00865b52",
   "metadata": {},
   "outputs": [
    {
     "data": {
      "text/plain": [
       "{2, 4, 5, 6, 7, 8}"
      ]
     },
     "execution_count": 25,
     "metadata": {},
     "output_type": "execute_result"
    }
   ],
   "source": [
    "s1-s2"
   ]
  },
  {
   "cell_type": "code",
   "execution_count": 20,
   "id": "685b1c73-1738-43a4-9b4f-d34e5866e03e",
   "metadata": {},
   "outputs": [
    {
     "name": "stdout",
     "output_type": "stream",
     "text": [
      "{1, 2, 67, 4, 5, 6, 7, 8, 23, 100, 45}\n"
     ]
    }
   ],
   "source": [
    "print(s1^s2)"
   ]
  },
  {
   "cell_type": "code",
   "execution_count": 30,
   "id": "ffb9a78e-4fcc-42b1-8ad9-592c0a1480d8",
   "metadata": {},
   "outputs": [],
   "source": [
    "s1={1,2,3,4,5,6,7}\n",
    "s2={5,6,7}"
   ]
  },
  {
   "cell_type": "code",
   "execution_count": 31,
   "id": "a0893e8a-9458-48ef-b854-425700e3fe7a",
   "metadata": {},
   "outputs": [
    {
     "name": "stdout",
     "output_type": "stream",
     "text": [
      "False\n"
     ]
    }
   ],
   "source": [
    "print(s1.issubset(s2))"
   ]
  },
  {
   "cell_type": "code",
   "execution_count": 32,
   "id": "20732887-9ae0-4229-9e69-83e9a388e4ae",
   "metadata": {},
   "outputs": [
    {
     "name": "stdout",
     "output_type": "stream",
     "text": [
      "True\n"
     ]
    }
   ],
   "source": [
    "print(s2.issubset(s1))"
   ]
  },
  {
   "cell_type": "code",
   "execution_count": 33,
   "id": "465dbcee-8b4c-43a0-9fe5-34ff5aab0afb",
   "metadata": {},
   "outputs": [
    {
     "name": "stdout",
     "output_type": "stream",
     "text": [
      "True\n"
     ]
    }
   ],
   "source": [
    "print(s1.issuperset(s2))"
   ]
  },
  {
   "cell_type": "code",
   "execution_count": 34,
   "id": "849ef2d5-6e77-4d62-9025-0f9ad2f9d52f",
   "metadata": {},
   "outputs": [
    {
     "name": "stdout",
     "output_type": "stream",
     "text": [
      "False\n"
     ]
    }
   ],
   "source": [
    "print(s1.isdisjoint(s2))"
   ]
  },
  {
   "cell_type": "code",
   "execution_count": 41,
   "id": "e0123511-55b8-4a2b-baaf-60633be74be2",
   "metadata": {},
   "outputs": [],
   "source": [
    "#frozenset\n",
    "s1=frozenset({1,2,3,4,5,6,7})\n",
    "s2=frozenset({5,6,7})"
   ]
  },
  {
   "cell_type": "code",
   "execution_count": 42,
   "id": "c54060d1-0466-4e4c-b211-5bef8bc2e4d0",
   "metadata": {},
   "outputs": [
    {
     "data": {
      "text/plain": [
       "frozenset({1, 2, 3, 4, 5, 6, 7})"
      ]
     },
     "execution_count": 42,
     "metadata": {},
     "output_type": "execute_result"
    }
   ],
   "source": [
    "s1\n"
   ]
  },
  {
   "cell_type": "code",
   "execution_count": 43,
   "id": "ed1f6812-de49-4f72-ac96-f31b9e392d45",
   "metadata": {},
   "outputs": [
    {
     "data": {
      "text/plain": [
       "frozenset({5, 6, 7})"
      ]
     },
     "execution_count": 43,
     "metadata": {},
     "output_type": "execute_result"
    }
   ],
   "source": [
    "s2"
   ]
  },
  {
   "cell_type": "code",
   "execution_count": 41,
   "id": "aca5a3ce-d94e-47e8-bba0-fefe051da3f3",
   "metadata": {},
   "outputs": [],
   "source": [
    "s1={1,2,3,4,5,6}"
   ]
  },
  {
   "cell_type": "code",
   "execution_count": 43,
   "id": "57c175e5-4a69-47b2-a8d0-e15e76589069",
   "metadata": {},
   "outputs": [],
   "source": [
    "#.convert string to list:\n",
    "x=list(s1)"
   ]
  },
  {
   "cell_type": "code",
   "execution_count": 44,
   "id": "7d80e1de-9978-4bd7-a26c-9eb5a75a13d9",
   "metadata": {},
   "outputs": [
    {
     "data": {
      "text/plain": [
       "[1, 2, 3, 4, 5, 6]"
      ]
     },
     "execution_count": 44,
     "metadata": {},
     "output_type": "execute_result"
    }
   ],
   "source": [
    "x"
   ]
  },
  {
   "cell_type": "code",
   "execution_count": 36,
   "id": "c3c78c8b-7fe0-4296-a752-f7e15c6198ac",
   "metadata": {},
   "outputs": [],
   "source": [
    "s1.add(200)"
   ]
  },
  {
   "cell_type": "code",
   "execution_count": 37,
   "id": "6adc0f2e-1775-47fe-b2f0-acaa57983a17",
   "metadata": {},
   "outputs": [
    {
     "data": {
      "text/plain": [
       "{1, 2, 3, 4, 5, 6, 200}"
      ]
     },
     "execution_count": 37,
     "metadata": {},
     "output_type": "execute_result"
    }
   ],
   "source": [
    "s1\n"
   ]
  },
  {
   "cell_type": "code",
   "execution_count": null,
   "id": "e955e4d4-34b5-41d4-8863-1ce44a7a6578",
   "metadata": {},
   "outputs": [],
   "source": []
  },
  {
   "cell_type": "code",
   "execution_count": null,
   "id": "aeb7e39a-dd2f-4194-976f-b41873cfddc6",
   "metadata": {},
   "outputs": [],
   "source": []
  },
  {
   "cell_type": "code",
   "execution_count": null,
   "id": "87d7d0e8-c1fd-4a41-9275-40b6ad95333c",
   "metadata": {},
   "outputs": [],
   "source": []
  },
  {
   "cell_type": "code",
   "execution_count": null,
   "id": "1bc498a7-8582-4975-8af0-c9376d5e5ae6",
   "metadata": {},
   "outputs": [],
   "source": []
  },
  {
   "cell_type": "code",
   "execution_count": null,
   "id": "d0b7d7cd-d316-410b-957d-155a3f785462",
   "metadata": {},
   "outputs": [],
   "source": []
  }
 ],
 "metadata": {
  "kernelspec": {
   "display_name": "Python 3 (ipykernel)",
   "language": "python",
   "name": "python3"
  },
  "language_info": {
   "codemirror_mode": {
    "name": "ipython",
    "version": 3
   },
   "file_extension": ".py",
   "mimetype": "text/x-python",
   "name": "python",
   "nbconvert_exporter": "python",
   "pygments_lexer": "ipython3",
   "version": "3.12.7"
  }
 },
 "nbformat": 4,
 "nbformat_minor": 5
}
