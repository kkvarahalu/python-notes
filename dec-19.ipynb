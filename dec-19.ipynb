{
 "cells": [
  {
   "cell_type": "code",
   "execution_count": 3,
   "id": "3e42ff58-5c7b-491f-93f7-e39aa27ee156",
   "metadata": {},
   "outputs": [
    {
     "name": "stdout",
     "output_type": "stream",
     "text": [
      "10\n"
     ]
    }
   ],
   "source": [
    "#problem statement:this my own method\n",
    "list=[4,5,6]\n",
    "result=list[0]+list[2]\n",
    "print(result)"
   ]
  },
  {
   "cell_type": "code",
   "execution_count": 2,
   "id": "81e507f6-de86-4a7c-826d-3d43c338de2b",
   "metadata": {},
   "outputs": [
    {
     "name": "stdin",
     "output_type": "stream",
     "text": [
      "enter any number 5225\n"
     ]
    },
    {
     "name": "stdout",
     "output_type": "stream",
     "text": [
      "10\n"
     ]
    }
   ],
   "source": [
    "#first and last numbers are addition in eny number:\n",
    "def myfun(n):\n",
    "     last_digit=n%10\n",
    "     if n<10:\n",
    "         return n\n",
    "     else:\n",
    "         while n>=10:\n",
    "            n= n//10\n",
    "     return last_digit+n\n",
    "n=int(input(\"enter any number\"))\n",
    "print(myfun(n))"
   ]
  },
  {
   "cell_type": "code",
   "execution_count": 6,
   "id": "0f250a6a-b9a6-487c-9373-a7f42d7d37af",
   "metadata": {},
   "outputs": [
    {
     "data": {
      "text/plain": [
       "False"
      ]
     },
     "execution_count": 6,
     "metadata": {},
     "output_type": "execute_result"
    }
   ],
   "source": [
    "25<10"
   ]
  },
  {
   "cell_type": "code",
   "execution_count": 23,
   "id": "fb41a8d7-c54d-4353-9978-45a97ec47b12",
   "metadata": {},
   "outputs": [
    {
     "name": "stdin",
     "output_type": "stream",
     "text": [
      "enter eny number 456\n"
     ]
    },
    {
     "name": "stdout",
     "output_type": "stream",
     "text": [
      "10\n"
     ]
    }
   ],
   "source": [
    "def recursive_firstandlast(n):\n",
    "    if n<10:\n",
    "        return n\n",
    "    else:\n",
    "        return recursive_firstandlast(n//10)\n",
    "n=int(input(\"enter eny number\"))\n",
    "last_digit=n%10\n",
    "if n==recursive_firstandlast(n):\n",
    "    print(n)\n",
    "else:\n",
    "    sum=last_digit+recursive_firstandlast(n)\n",
    "    print(sum)"
   ]
  },
  {
   "cell_type": "code",
   "execution_count": 22,
   "id": "665b0fba-3afe-49f7-beaf-50656c72b83a",
   "metadata": {},
   "outputs": [
    {
     "name": "stdin",
     "output_type": "stream",
     "text": [
      " 324\n"
     ]
    },
    {
     "name": "stdout",
     "output_type": "stream",
     "text": [
      "7\n"
     ]
    }
   ],
   "source": [
    "def recursive_firstandlast(n):\n",
    "    if n<10:\n",
    "         return n\n",
    "    else:\n",
    "        return recursive_firstandlast(n//10)\n",
    "n=int(input())\n",
    "last_digit=n%10\n",
    "if n==recursive_firstandlast(n):\n",
    "    print(n)\n",
    "else:\n",
    "    sum=last_digit+recursive_firstandlast(n)\n",
    "    print(sum)"
   ]
  },
  {
   "cell_type": "code",
   "execution_count": 9,
   "id": "51538e38-e1c9-4dfe-bb95-4cc590523892",
   "metadata": {},
   "outputs": [
    {
     "name": "stdout",
     "output_type": "stream",
     "text": [
      "[1, 2, 3, 4, 5, 6, 23, 45, 67, 89, 90, 100]\n",
      "14\n"
     ]
    }
   ],
   "source": [
    "def merging(list1,list2):\n",
    "    list3=[]\n",
    "    i=0\n",
    "    j=0\n",
    "    while i<=len(list1)-1 and j<len(list2)-1:\n",
    "        if list1[i]<list2[j]:\n",
    "           list3.append(list1[i])\n",
    "           i+=1\n",
    "        else:\n",
    "            list3.append(list2[j])\n",
    "            j+=1\n",
    "    if i>len(list1)-1:\n",
    "        while j<=len(list2)-1:\n",
    "            list3.append(list2[j])\n",
    "            j+=1\n",
    "    if j>len(list2)-1:\n",
    "        while i<=len(list1)-1:\n",
    "            list3.append(list1[i])\n",
    "            i+=1\n",
    "    return list3\n",
    "def median(list3):\n",
    "    low=0\n",
    "    high=len(list3)-1\n",
    "    mid=(low+high)//2\n",
    "    if len(list3)%2==0:\n",
    "        return (list3[mid]+list3[(mid+1)])//2\n",
    "    else:\n",
    "        return list3[mid]\n",
    "list1=[1,2,3,4,5,6]\n",
    "list2=[23,45,67,89,90,100]\n",
    "list3=merging(list1,list2)\n",
    "print(merging(list1,list2))\n",
    "print(median(list3))\n"
   ]
  },
  {
   "cell_type": "code",
   "execution_count": 10,
   "id": "1e52e2fd-eac0-48bb-95a1-109684672cb3",
   "metadata": {},
   "outputs": [
    {
     "name": "stdout",
     "output_type": "stream",
     "text": [
      "Merged List: [1, 2, 3, 4, 6, 7, 8, 9, 10]\n",
      "Median: 6\n"
     ]
    }
   ],
   "source": [
    "def merging(list1,list2):\n",
    "    list3=[]  \n",
    "    i = 0\n",
    "    j = 0\n",
    "    while i<len(list1) and j<len(list2):\n",
    "        if list1[i] < list2[j]:\n",
    "            list3.append(list1[i])\n",
    "            i += 1\n",
    "        else:\n",
    "            list3.append(list2[j])\n",
    "            j += 1\n",
    "    while i < len(list1):\n",
    "        list3.append(list1[i])\n",
    "        i += 1\n",
    "    while j < len(list2):\n",
    "        list3.append(list2[j])\n",
    "        j += 1\n",
    "    return list3\n",
    "\n",
    "def median(list3):\n",
    "    n = len(list3)  \n",
    "    mid = n // 2\n",
    "    if n % 2 == 0:\n",
    "        # For even-length lists, average of the two middle elements\n",
    "        return (list3[mid - 1] + list3[mid]) / 2\n",
    "    else:\n",
    "        # For odd-length lists, middle element\n",
    "        return list3[mid]\n",
    "\n",
    "list1 = [1, 2, 3, 4]\n",
    "list2 = [6,7,8,9,10]\n",
    "list3 = merging(list1, list2)\n",
    "print(\"Merged List:\", list3)\n",
    "print(\"Median:\", median(list3))\n"
   ]
  },
  {
   "cell_type": "code",
   "execution_count": null,
   "id": "661b1c5b-3551-4440-844d-cebe59f480c0",
   "metadata": {},
   "outputs": [],
   "source": []
  },
  {
   "cell_type": "code",
   "execution_count": null,
   "id": "d72e344f-8c9c-4827-9e5f-d801cb8a8784",
   "metadata": {},
   "outputs": [],
   "source": []
  },
  {
   "cell_type": "code",
   "execution_count": null,
   "id": "c918dab5-6db1-4019-b2e3-562815abc9fc",
   "metadata": {},
   "outputs": [],
   "source": []
  }
 ],
 "metadata": {
  "kernelspec": {
   "display_name": "Python 3 (ipykernel)",
   "language": "python",
   "name": "python3"
  },
  "language_info": {
   "codemirror_mode": {
    "name": "ipython",
    "version": 3
   },
   "file_extension": ".py",
   "mimetype": "text/x-python",
   "name": "python",
   "nbconvert_exporter": "python",
   "pygments_lexer": "ipython3",
   "version": "3.12.7"
  }
 },
 "nbformat": 4,
 "nbformat_minor": 5
}
