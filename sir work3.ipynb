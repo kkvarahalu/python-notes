{
 "cells": [
  {
   "cell_type": "markdown",
   "id": "af2833da-3b8e-407f-881c-1a2166dd5e97",
   "metadata": {},
   "source": [
    "# recursion"
   ]
  },
  {
   "cell_type": "code",
   "execution_count": 1,
   "id": "f4c68841-abc5-4f2d-b76a-38ada413cf98",
   "metadata": {},
   "outputs": [
    {
     "name": "stdout",
     "output_type": "stream",
     "text": [
      "5\n"
     ]
    }
   ],
   "source": [
    "1.\n",
    "def f(n):\n",
    "    if n<=1:\n",
    "        return 1\n",
    "    if n % 2 == 0:\n",
    "       return f(n // 2)\n",
    "    return f(n // 2) + f(n // 2 + 1)\n",
    "\n",
    "print(f(11))"
   ]
  },
  {
   "cell_type": "code",
   "execution_count": 3,
   "id": "23735e33-1ba6-4072-b69d-e1a8860c61ad",
   "metadata": {},
   "outputs": [
    {
     "name": "stdout",
     "output_type": "stream",
     "text": [
      "5\n"
     ]
    }
   ],
   "source": [
    "2.\n",
    "def f(n):\n",
    "    i=[1]\n",
    "    if n>=5:\n",
    "       return n\n",
    "    n=n+i[0]\n",
    "    i[0]+=1\n",
    "    return f(n)\n",
    "print(f(1))"
   ]
  },
  {
   "cell_type": "code",
   "execution_count": 7,
   "id": "e584f584-a083-43d8-82f5-643b2735f6d9",
   "metadata": {},
   "outputs": [
    {
     "name": "stdout",
     "output_type": "stream",
     "text": [
      "0 1 0 2 0 1 0 "
     ]
    }
   ],
   "source": [
    "3.\n",
    "def function(num):\n",
    "    if num>0:\n",
    "        function(num-1)\n",
    "        print(num-1,end=\" \")\n",
    "        function(num-1)\n",
    "function(3)\n",
    "        "
   ]
  },
  {
   "cell_type": "code",
   "execution_count": 13,
   "id": "1401ceb1-985c-4d1b-9400-c9a131fd9288",
   "metadata": {},
   "outputs": [
    {
     "name": "stdout",
     "output_type": "stream",
     "text": [
      "3 1 2 2 1 3 "
     ]
    }
   ],
   "source": [
    "4.\n",
    "def fun1(n):\n",
    "    if n==0:\n",
    "        return \n",
    "    print(n,end=\" \")\n",
    "    fun2(n-2)\n",
    "    print(n,end=\" \")\n",
    "def fun2(n):\n",
    "    if n==0:\n",
    "        return\n",
    "    print(n,end=\" \")\n",
    "    fun1(n+1)\n",
    "    print(n,end=\" \")\n",
    "fun1(3)\n",
    "\n",
    "    "
   ]
  },
  {
   "cell_type": "code",
   "execution_count": 16,
   "id": "08f44c61-1204-4906-abe3-c8811956a169",
   "metadata": {},
   "outputs": [
    {
     "name": "stdout",
     "output_type": "stream",
     "text": [
      "7\n"
     ]
    }
   ],
   "source": [
    "5.\n",
    "def func(n):\n",
    "    if n<3:\n",
    "        return 1\n",
    "    else:\n",
    "        return func(n-1)+func(n-3)+1\n",
    "print(func(5))"
   ]
  },
  {
   "cell_type": "code",
   "execution_count": 15,
   "id": "dd265c5f-a73c-4744-9b63-bddd6851129c",
   "metadata": {},
   "outputs": [
    {
     "name": "stdout",
     "output_type": "stream",
     "text": [
      "2\n"
     ]
    }
   ],
   "source": [
    "6.\n",
    "def foo(n,r):\n",
    "    if n>0:\n",
    "        return(n%r)+foo(n//r,r)\n",
    "    else:\n",
    "        return 0\n",
    "print(foo(513,2))\n",
    "        "
   ]
  },
  {
   "cell_type": "code",
   "execution_count": 3,
   "id": "ab3e154d-b10a-425e-88d7-37ba3d61d813",
   "metadata": {},
   "outputs": [
    {
     "name": "stdin",
     "output_type": "stream",
     "text": [
      " 2\n"
     ]
    },
    {
     "name": "stdout",
     "output_type": "stream",
     "text": [
      "2 is not prime\n"
     ]
    }
   ],
   "source": [
    "n = int(input())\n",
    "# 1 and itself - other than these, the number should be divided\n",
    "# Example -> 10\n",
    "#10 % 1 = 0 and 10 % 10 = 0\n",
    "1# 10 % 2 = 0 -> Not a prime\n",
    "isPrime = True\n",
    "for i in range(2,n):\n",
    "    if n % i == 0:\n",
    "        isPrime = False\n",
    "        break\n",
    "\n",
    "if isPrime:\n",
    "    print(f\"{n} is prime\")\n",
    "else:\n",
    "    print(f\"{n} is not prime\")"
   ]
  },
  {
   "cell_type": "code",
   "execution_count": 16,
   "id": "01663876-2c97-41ae-81dd-c48ac62d7887",
   "metadata": {},
   "outputs": [],
   "source": [
    "def isPrime(n):\n",
    "    isPrime_val = True\n",
    "    for i in range(2, n):\n",
    "        if n % i == 0:\n",
    "            isPrime_val = False\n",
    "            break\n",
    "    \n",
    "    return isPrime_val"
   ]
  },
  {
   "cell_type": "code",
   "execution_count": 19,
   "id": "29532206-dfa7-4120-b384-ebc0c35d9d9a",
   "metadata": {},
   "outputs": [
    {
     "data": {
      "text/plain": [
       "[5, 7, 11, 13, 17, 19]"
      ]
     },
     "execution_count": 19,
     "metadata": {},
     "output_type": "execute_result"
    }
   ],
   "source": [
    "primes = []\n",
    "for i in range(5, 20):\n",
    "    if isPrime(i):\n",
    "        primes.append(i)\n",
    "\n",
    "primes"
   ]
  },
  {
   "cell_type": "code",
   "execution_count": null,
   "id": "844c0808-61d6-4d6d-9bd0-c5eafea45e32",
   "metadata": {},
   "outputs": [],
   "source": []
  }
 ],
 "metadata": {
  "kernelspec": {
   "display_name": "Python 3 (ipykernel)",
   "language": "python",
   "name": "python3"
  },
  "language_info": {
   "codemirror_mode": {
    "name": "ipython",
    "version": 3
   },
   "file_extension": ".py",
   "mimetype": "text/x-python",
   "name": "python",
   "nbconvert_exporter": "python",
   "pygments_lexer": "ipython3",
   "version": "3.12.7"
  }
 },
 "nbformat": 4,
 "nbformat_minor": 5
}
