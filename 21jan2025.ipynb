{
 "cells": [
  {
   "cell_type": "code",
   "execution_count": 1,
   "id": "f40ea798-b577-4d5c-94c6-cbd5670f922a",
   "metadata": {},
   "outputs": [],
   "source": [
    "#creating a new file \n",
    "f=open(\"mayur.txt\",'w')\n",
    "f.write(\"this a new file\")\n",
    "f.write(\"this is python file handling\")\n",
    "f.close()"
   ]
  },
  {
   "cell_type": "code",
   "execution_count": 2,
   "id": "ced20f14-ad0c-4625-84a6-3927e58e7f23",
   "metadata": {},
   "outputs": [],
   "source": [
    "f=open(\"mayur.txt\",'w')\n",
    "f.write(\"this a new file\\n\")\n",
    "f.write(\"this is python file handling\")\n",
    "f.close()"
   ]
  },
  {
   "cell_type": "code",
   "execution_count": 3,
   "id": "bd0bd62b-98c8-4240-b529-492548409223",
   "metadata": {},
   "outputs": [
    {
     "name": "stdout",
     "output_type": "stream",
     "text": [
      "this a new file\n",
      "this is python file handling\n"
     ]
    }
   ],
   "source": [
    "#reading the file\n",
    "f=open(\"mayur.txt\",'r')\n",
    "print(f.read())\n",
    "f.close()\n"
   ]
  },
  {
   "cell_type": "code",
   "execution_count": 4,
   "id": "4e47d668-f55c-4bed-b88c-1bf6c541ff18",
   "metadata": {},
   "outputs": [
    {
     "name": "stdout",
     "output_type": "stream",
     "text": [
      "this \n"
     ]
    }
   ],
   "source": [
    "f=open(\"mayur.txt\",'r')\n",
    "print(f.read(5))"
   ]
  },
  {
   "cell_type": "code",
   "execution_count": 5,
   "id": "d4bd0f23-594b-4b4b-9cf8-69c161f6226a",
   "metadata": {},
   "outputs": [
    {
     "name": "stdout",
     "output_type": "stream",
     "text": [
      "['is the new linethis a new file\\n', 'this is python file handling']\n"
     ]
    }
   ],
   "source": [
    "print(f.readlines())"
   ]
  },
  {
   "cell_type": "code",
   "execution_count": 6,
   "id": "86cb3557-4923-44ed-9c01-26231107cf57",
   "metadata": {},
   "outputs": [
    {
     "data": {
      "text/plain": [
       "65"
      ]
     },
     "execution_count": 6,
     "metadata": {},
     "output_type": "execute_result"
    }
   ],
   "source": [
    "f.tell()"
   ]
  },
  {
   "cell_type": "code",
   "execution_count": 7,
   "id": "d54de3f5-c982-4d35-857c-9327fe1370c2",
   "metadata": {},
   "outputs": [],
   "source": [
    "f.close()"
   ]
  },
  {
   "cell_type": "code",
   "execution_count": 8,
   "id": "21f96a86-bfb6-4f3c-96cb-41017460ceda",
   "metadata": {},
   "outputs": [
    {
     "name": "stdout",
     "output_type": "stream",
     "text": [
      "this a new file\n",
      "this is python file handling\n"
     ]
    }
   ],
   "source": [
    "f=open(\"mayur.txt\",'r')\n",
    "print(f.read())"
   ]
  },
  {
   "cell_type": "code",
   "execution_count": 10,
   "id": "44af5afe-5921-4aac-8ffd-2134ccdc37ce",
   "metadata": {},
   "outputs": [
    {
     "name": "stdout",
     "output_type": "stream",
     "text": [
      "\n"
     ]
    }
   ],
   "source": [
    "print(f.read(10))"
   ]
  },
  {
   "cell_type": "code",
   "execution_count": 11,
   "id": "5abd6f9c-ad40-4707-845a-c19b8c59a549",
   "metadata": {},
   "outputs": [
    {
     "data": {
      "text/plain": [
       "45"
      ]
     },
     "execution_count": 11,
     "metadata": {},
     "output_type": "execute_result"
    }
   ],
   "source": [
    "f.tell()"
   ]
  },
  {
   "cell_type": "code",
   "execution_count": 9,
   "id": "b8f44352-2383-4d48-82e7-40c6b70e4734",
   "metadata": {},
   "outputs": [
    {
     "data": {
      "text/plain": [
       "10"
      ]
     },
     "execution_count": 9,
     "metadata": {},
     "output_type": "execute_result"
    }
   ],
   "source": [
    "f.seek(10)\n"
   ]
  },
  {
   "cell_type": "code",
   "execution_count": 10,
   "id": "c20ea8c4-9edd-40c4-9972-0fdd329f83e7",
   "metadata": {},
   "outputs": [
    {
     "data": {
      "text/plain": [
       "10"
      ]
     },
     "execution_count": 10,
     "metadata": {},
     "output_type": "execute_result"
    }
   ],
   "source": [
    "f.tell()"
   ]
  },
  {
   "cell_type": "code",
   "execution_count": 11,
   "id": "3718ec25-72b3-47cc-b645-4467278b0a69",
   "metadata": {},
   "outputs": [
    {
     "data": {
      "text/plain": [
       "'e new'"
      ]
     },
     "execution_count": 11,
     "metadata": {},
     "output_type": "execute_result"
    }
   ],
   "source": [
    "f.read(5)"
   ]
  },
  {
   "cell_type": "code",
   "execution_count": 15,
   "id": "10caf0e2-b25c-4e81-8989-3fb2ffe0eda0",
   "metadata": {},
   "outputs": [],
   "source": [
    "f.close()"
   ]
  },
  {
   "cell_type": "code",
   "execution_count": 16,
   "id": "78661bfc-5006-4be7-b78a-c4c6f7cf30c3",
   "metadata": {},
   "outputs": [],
   "source": [
    "f=open(\"mayur.txt\",'w')\n",
    "f.write(\"this is the new line\")\n",
    "f.close()"
   ]
  },
  {
   "cell_type": "code",
   "execution_count": 17,
   "id": "2a15cf93-58f4-4bee-af01-1747205099ae",
   "metadata": {},
   "outputs": [
    {
     "name": "stdout",
     "output_type": "stream",
     "text": [
      "this is the new line\n"
     ]
    }
   ],
   "source": [
    "f=open(\"mayur.txt\",'r')\n",
    "print(f.read())"
   ]
  },
  {
   "cell_type": "code",
   "execution_count": 18,
   "id": "b0686313-7089-4d0b-bdfe-3c0b72e5fc7d",
   "metadata": {},
   "outputs": [],
   "source": [
    "f.close()"
   ]
  },
  {
   "cell_type": "code",
   "execution_count": 19,
   "id": "054c0f8d-6513-4ad2-ab27-cb11481dcf47",
   "metadata": {},
   "outputs": [],
   "source": [
    "#.use append:\n",
    "f=open(\"mayur.txt\",'a')\n",
    "f.write(\"this a new file\\n\")\n",
    "f.write(\"this is python file handling\")\n",
    "f.close()"
   ]
  },
  {
   "cell_type": "code",
   "execution_count": 20,
   "id": "3e3fcee0-23c4-4d5a-8d84-24b53e1bce9b",
   "metadata": {},
   "outputs": [
    {
     "name": "stdout",
     "output_type": "stream",
     "text": [
      "this is the new linethis a new file\n",
      "this is python file handling\n"
     ]
    }
   ],
   "source": [
    "f=open(\"mayur.txt\",'r')\n",
    "print(f.read())"
   ]
  },
  {
   "cell_type": "code",
   "execution_count": 23,
   "id": "c9c6aeb4-d6e0-4cd3-ac99-41591974d082",
   "metadata": {},
   "outputs": [
    {
     "name": "stdout",
     "output_type": "stream",
     "text": [
      "this is the new linethis a new file\n",
      "this is python file handling\n",
      "64\n"
     ]
    }
   ],
   "source": [
    "#count all the char present in the file:\n",
    "f=open(\"mayur.txt\",'r+')\n",
    "string=f.read()\n",
    "print(string)\n",
    "print(len(string))\n",
    "f.close()"
   ]
  },
  {
   "cell_type": "code",
   "execution_count": 24,
   "id": "c3db6a3b-3f08-4395-b165-e4760d87fffe",
   "metadata": {},
   "outputs": [
    {
     "name": "stdout",
     "output_type": "stream",
     "text": [
      "this \n"
     ]
    }
   ],
   "source": [
    "f=open(\"mayur.txt\",'r+')\n",
    "print(f.readline(5))\n",
    "f.close()"
   ]
  },
  {
   "cell_type": "code",
   "execution_count": 25,
   "id": "66632c00-d569-4139-9a75-9eb66d974f36",
   "metadata": {},
   "outputs": [
    {
     "name": "stdout",
     "output_type": "stream",
     "text": [
      "this is the new linethis a new file\n",
      "\n"
     ]
    }
   ],
   "source": [
    "f=open(\"mayur.txt\",'r+')\n",
    "print(f.readline())\n",
    "f.close()"
   ]
  },
  {
   "cell_type": "code",
   "execution_count": 26,
   "id": "0e2f0546-efb3-4433-85c9-c67423fdbb84",
   "metadata": {},
   "outputs": [
    {
     "name": "stdout",
     "output_type": "stream",
     "text": [
      "['this is the new linethis a new file\\n', 'this is python file handling']\n"
     ]
    }
   ],
   "source": [
    "f=open(\"mayur.txt\",'r+')\n",
    "print(f.readlines())\n",
    "f.close()"
   ]
  },
  {
   "cell_type": "code",
   "execution_count": 27,
   "id": "716d11fd-2dea-4058-9cce-23eaff5de9e9",
   "metadata": {},
   "outputs": [
    {
     "name": "stdout",
     "output_type": "stream",
     "text": [
      "this is the new linethis a new file\n",
      "this is python file handling\n"
     ]
    }
   ],
   "source": [
    "f=open(\"mayur.txt\",'r+')\n",
    "print(f.read())\n",
    "f.close()"
   ]
  },
  {
   "cell_type": "code",
   "execution_count": 31,
   "id": "4d45461b-291e-457e-ab3b-9f780bbdb2ff",
   "metadata": {},
   "outputs": [
    {
     "name": "stdout",
     "output_type": "stream",
     "text": [
      "['this is the new linethis a new file\\n', 'this is python file handling']\n",
      "2\n"
     ]
    }
   ],
   "source": [
    "f=open(\"mayur.txt\",'r+')\n",
    "list=f.readlines()\n",
    "print(list)\n",
    "print(len(list))\n",
    "f.close()"
   ]
  },
  {
   "cell_type": "code",
   "execution_count": 32,
   "id": "5943e2ef-dfc9-4c56-8d0d-c61adbc6e0dc",
   "metadata": {},
   "outputs": [
    {
     "name": "stdout",
     "output_type": "stream",
     "text": [
      "['this', 'is', 'the', 'new', 'linethis', 'a', 'new', 'file', 'this', 'is', 'python', 'file', 'handling']\n",
      "13\n"
     ]
    }
   ],
   "source": [
    "#find the number of words present in the text \n",
    "f=open(\"mayur.txt\",'r+')\n",
    "string=f.read()\n",
    "list=string.split()\n",
    "print(list)\n",
    "print(len(list))\n",
    "f.close()"
   ]
  },
  {
   "cell_type": "code",
   "execution_count": null,
   "id": "7e13d47c-9fef-4a4a-b00c-dc8f6aad1f24",
   "metadata": {},
   "outputs": [],
   "source": []
  }
 ],
 "metadata": {
  "kernelspec": {
   "display_name": "Python 3 (ipykernel)",
   "language": "python",
   "name": "python3"
  },
  "language_info": {
   "codemirror_mode": {
    "name": "ipython",
    "version": 3
   },
   "file_extension": ".py",
   "mimetype": "text/x-python",
   "name": "python",
   "nbconvert_exporter": "python",
   "pygments_lexer": "ipython3",
   "version": "3.12.7"
  }
 },
 "nbformat": 4,
 "nbformat_minor": 5
}
