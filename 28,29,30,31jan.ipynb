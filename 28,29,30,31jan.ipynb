{
 "cells": [
  {
   "cell_type": "code",
   "execution_count": 1,
   "id": "8562714a-da33-4947-b224-93a089ef8728",
   "metadata": {},
   "outputs": [
    {
     "name": "stdout",
     "output_type": "stream",
     "text": [
      "[1, 2, 3, 4, 5]\n",
      "[1, 2, 3, 4, 5]\n"
     ]
    }
   ],
   "source": [
    "#allocate memory:\n",
    "a=[1,2,3,4]\n",
    "b=a\n",
    "b.append(5)\n",
    "print(a)\n",
    "print(b)"
   ]
  },
  {
   "cell_type": "code",
   "execution_count": 2,
   "id": "baa979a3-be65-42cd-af41-e04257a9f485",
   "metadata": {},
   "outputs": [
    {
     "data": {
      "text/plain": [
       "2076739995264"
      ]
     },
     "execution_count": 2,
     "metadata": {},
     "output_type": "execute_result"
    }
   ],
   "source": [
    "id(a)"
   ]
  },
  {
   "cell_type": "code",
   "execution_count": 3,
   "id": "142e9818-b8df-465a-af30-174a260aea1b",
   "metadata": {},
   "outputs": [
    {
     "data": {
      "text/plain": [
       "2076739995264"
      ]
     },
     "execution_count": 3,
     "metadata": {},
     "output_type": "execute_result"
    }
   ],
   "source": [
    "id(b)"
   ]
  },
  {
   "cell_type": "code",
   "execution_count": 4,
   "id": "8e6260f0-07c1-4458-be0b-cb710d089852",
   "metadata": {},
   "outputs": [],
   "source": [
    "a=\"mayur\"\n",
    "a=12"
   ]
  },
  {
   "cell_type": "code",
   "execution_count": 5,
   "id": "5ea5c024-7828-443e-9831-8217f5ef58a4",
   "metadata": {},
   "outputs": [
    {
     "data": {
      "text/plain": [
       "12"
      ]
     },
     "execution_count": 5,
     "metadata": {},
     "output_type": "execute_result"
    }
   ],
   "source": [
    "a"
   ]
  },
  {
   "cell_type": "code",
   "execution_count": 6,
   "id": "1b212304-02c2-4d95-893a-195bb26e1c47",
   "metadata": {},
   "outputs": [],
   "source": [
    "l=[1,2,3,4]"
   ]
  },
  {
   "cell_type": "code",
   "execution_count": 7,
   "id": "3c8976fd-d3ee-4707-b101-43195a133be8",
   "metadata": {},
   "outputs": [
    {
     "name": "stdout",
     "output_type": "stream",
     "text": [
      "<class 'list'>\n"
     ]
    }
   ],
   "source": [
    "print(type(l))"
   ]
  },
  {
   "cell_type": "code",
   "execution_count": 8,
   "id": "19d7fc0b-21dc-4f4d-ad00-e9901e4e4b56",
   "metadata": {},
   "outputs": [],
   "source": [
    "#abjectoriant error:\n",
    "s=\"mayur\""
   ]
  },
  {
   "cell_type": "code",
   "execution_count": 10,
   "id": "1589b1e8-f5d6-45c1-b9f6-936c8e1bbcc0",
   "metadata": {},
   "outputs": [
    {
     "ename": "AttributeError",
     "evalue": "'str' object has no attribute 'append'",
     "output_type": "error",
     "traceback": [
      "\u001b[1;31m---------------------------------------------------------------------------\u001b[0m",
      "\u001b[1;31mAttributeError\u001b[0m                            Traceback (most recent call last)",
      "Cell \u001b[1;32mIn[10], line 1\u001b[0m\n\u001b[1;32m----> 1\u001b[0m s\u001b[38;5;241m.\u001b[39mappend(\u001b[38;5;124m'\u001b[39m\u001b[38;5;124ma\u001b[39m\u001b[38;5;124m'\u001b[39m)\n",
      "\u001b[1;31mAttributeError\u001b[0m: 'str' object has no attribute 'append'"
     ]
    }
   ],
   "source": [
    "s.append('a')"
   ]
  },
  {
   "cell_type": "code",
   "execution_count": 11,
   "id": "98f33da3-c55e-4bf8-900e-181b29d28c51",
   "metadata": {},
   "outputs": [
    {
     "name": "stdout",
     "output_type": "stream",
     "text": [
      "1\n",
      "2\n",
      "3\n",
      "4\n",
      "5\n",
      "6\n",
      "7\n",
      "8\n",
      "9\n",
      "10\n"
     ]
    }
   ],
   "source": [
    "\n",
    "i=1\n",
    "while i<=10:\n",
    "    print(i)\n",
    "    i+=1"
   ]
  },
  {
   "cell_type": "code",
   "execution_count": 1,
   "id": "f5c8fae9-dc71-4be9-8e4e-50c9f7972dcf",
   "metadata": {},
   "outputs": [],
   "source": [
    "a = 10"
   ]
  },
  {
   "cell_type": "code",
   "execution_count": 2,
   "id": "4b3fd7a0-5776-4ccc-a385-d892b640f3fb",
   "metadata": {},
   "outputs": [
    {
     "data": {
      "text/plain": [
       "140735572749016"
      ]
     },
     "execution_count": 2,
     "metadata": {},
     "output_type": "execute_result"
    }
   ],
   "source": [
    "id(a)"
   ]
  },
  {
   "cell_type": "code",
   "execution_count": 3,
   "id": "9bc073c2-0335-43f8-8c33-8fdf41b2a0d9",
   "metadata": {},
   "outputs": [],
   "source": [
    "a = 20"
   ]
  },
  {
   "cell_type": "code",
   "execution_count": 4,
   "id": "973249e3-69bc-44c4-ba35-1350d1de3cb1",
   "metadata": {},
   "outputs": [
    {
     "data": {
      "text/plain": [
       "140735572749336"
      ]
     },
     "execution_count": 4,
     "metadata": {},
     "output_type": "execute_result"
    }
   ],
   "source": [
    "id(a)"
   ]
  },
  {
   "cell_type": "code",
   "execution_count": 5,
   "id": "9d5cf1bc-606c-4788-ace5-34c640ebfe42",
   "metadata": {},
   "outputs": [],
   "source": [
    "b = 10"
   ]
  },
  {
   "cell_type": "code",
   "execution_count": 6,
   "id": "379fe627-697c-41d2-8e4b-59f129dbb2c4",
   "metadata": {},
   "outputs": [
    {
     "data": {
      "text/plain": [
       "140735572749016"
      ]
     },
     "execution_count": 6,
     "metadata": {},
     "output_type": "execute_result"
    }
   ],
   "source": [
    "id(b)"
   ]
  },
  {
   "cell_type": "code",
   "execution_count": 7,
   "id": "d4e3ae4b-5f8d-4bdf-ad2e-fe895e2a9654",
   "metadata": {},
   "outputs": [
    {
     "data": {
      "text/plain": [
       "140735572749016"
      ]
     },
     "execution_count": 7,
     "metadata": {},
     "output_type": "execute_result"
    }
   ],
   "source": [
    "c = 10\n",
    "id(c)"
   ]
  },
  {
   "cell_type": "code",
   "execution_count": 8,
   "id": "92d8ea4b-a8c3-4532-a571-339e8743ddc3",
   "metadata": {},
   "outputs": [
    {
     "data": {
      "text/plain": [
       "140735572749336"
      ]
     },
     "execution_count": 8,
     "metadata": {},
     "output_type": "execute_result"
    }
   ],
   "source": [
    "c =20\n",
    "id(c)"
   ]
  },
  {
   "cell_type": "code",
   "execution_count": 9,
   "id": "305819a5-d8b6-44c1-b64c-38310274c12b",
   "metadata": {},
   "outputs": [],
   "source": [
    "a = 20"
   ]
  },
  {
   "cell_type": "code",
   "execution_count": 11,
   "id": "a0adf5ad-7251-4258-b2f5-7bbd137b6a4b",
   "metadata": {},
   "outputs": [],
   "source": [
    "a = 56.678"
   ]
  },
  {
   "cell_type": "code",
   "execution_count": 12,
   "id": "83a327a7-aefb-407e-9802-92039a6fbbcf",
   "metadata": {},
   "outputs": [
    {
     "data": {
      "text/plain": [
       "56.678"
      ]
     },
     "execution_count": 12,
     "metadata": {},
     "output_type": "execute_result"
    }
   ],
   "source": [
    "a"
   ]
  },
  {
   "cell_type": "code",
   "execution_count": 13,
   "id": "fad2245d-e12b-4f7e-9b95-f229150520a3",
   "metadata": {},
   "outputs": [],
   "source": [
    "a = [12,24,56]"
   ]
  },
  {
   "cell_type": "code",
   "execution_count": 14,
   "id": "147928a9-c3f2-414c-b352-8461799e7e64",
   "metadata": {},
   "outputs": [
    {
     "data": {
      "text/plain": [
       "[12, 24, 56]"
      ]
     },
     "execution_count": 14,
     "metadata": {},
     "output_type": "execute_result"
    }
   ],
   "source": [
    "a"
   ]
  },
  {
   "cell_type": "code",
   "execution_count": null,
   "id": "dedce746-23f2-4f22-be57-db857191dc21",
   "metadata": {},
   "outputs": [],
   "source": [
    "# Step 1: Static allocation (stack)\n",
    "x = 10  # 'x' is stored in the stack, pointing to the value '10' in the heap.\n",
    "\n",
    "# Step 2: Dynamic allocation (heap)\n",
    "my_list = [1, 2, 3]  # 'my_list' is a reference in the stack, pointing to the list object in the heap.\n",
    "\n",
    "# Step 3: Reference counting\n",
    "a = my_list  # Reference count for [1, 2, 3] is now 2.\n",
    "b = a        # Reference count for [1, 2, 3] is now 3.\n",
    "\n",
    "# Step 4: Decrementing reference count\n",
    "del a        # Reference count for [1, 2, 3] is now 2.\n",
    "b = None     # Reference count for [1, 2, 3] is now 1.\n",
    "my_list = None  # Reference count for [1, 2, 3] is now 0.\n",
    "\n",
    "# Step 5: Garbage collection\n",
    "# The garbage collector deallocates the memory for [1, 2, 3] since its reference count is 0."
   ]
  },
  {
   "cell_type": "code",
   "execution_count": 3,
   "id": "6f61b13e-e282-43e8-b394-8b7d0f16aae5",
   "metadata": {},
   "outputs": [],
   "source": [
    "x = 10"
   ]
  },
  {
   "cell_type": "code",
   "execution_count": 4,
   "id": "ece28110-b463-422e-9556-b26f2d9776fa",
   "metadata": {},
   "outputs": [],
   "source": [
    "my_list = [1, 2, 3]"
   ]
  },
  {
   "cell_type": "code",
   "execution_count": 5,
   "id": "b8d439b9-c678-45d1-bb37-08e02bb275e9",
   "metadata": {},
   "outputs": [],
   "source": [
    "a = my_list"
   ]
  },
  {
   "cell_type": "code",
   "execution_count": 6,
   "id": "53d37a64-eb20-40d4-9c03-930c14039baf",
   "metadata": {},
   "outputs": [
    {
     "data": {
      "text/plain": [
       "1530682626752"
      ]
     },
     "execution_count": 6,
     "metadata": {},
     "output_type": "execute_result"
    }
   ],
   "source": [
    "id(a)"
   ]
  },
  {
   "cell_type": "code",
   "execution_count": 7,
   "id": "903f88fe-dff4-4596-8cbf-110512e373b4",
   "metadata": {},
   "outputs": [],
   "source": [
    "b = a "
   ]
  },
  {
   "cell_type": "code",
   "execution_count": 8,
   "id": "2a2deaa4-8266-4c03-91ac-d2a734b2061b",
   "metadata": {},
   "outputs": [
    {
     "data": {
      "text/plain": [
       "1530682626752"
      ]
     },
     "execution_count": 8,
     "metadata": {},
     "output_type": "execute_result"
    }
   ],
   "source": [
    "id(b)"
   ]
  },
  {
   "cell_type": "code",
   "execution_count": 9,
   "id": "4819daae-e62f-4786-94f0-44b57f970e30",
   "metadata": {},
   "outputs": [
    {
     "data": {
      "text/plain": [
       "1530682626752"
      ]
     },
     "execution_count": 9,
     "metadata": {},
     "output_type": "execute_result"
    }
   ],
   "source": [
    "id(my_list)"
   ]
  },
  {
   "cell_type": "code",
   "execution_count": 10,
   "id": "688eb784-f58d-4bc2-9731-3b51471a967a",
   "metadata": {},
   "outputs": [],
   "source": [
    "del a"
   ]
  },
  {
   "cell_type": "code",
   "execution_count": 11,
   "id": "e79879c7-223b-4820-bea9-2d147668590f",
   "metadata": {},
   "outputs": [
    {
     "data": {
      "text/plain": [
       "[1, 2, 3]"
      ]
     },
     "execution_count": 11,
     "metadata": {},
     "output_type": "execute_result"
    }
   ],
   "source": [
    "b"
   ]
  },
  {
   "cell_type": "code",
   "execution_count": 24,
   "id": "9372643d-3e44-4c01-815c-09e7cec88cc5",
   "metadata": {},
   "outputs": [],
   "source": [
    "b = None"
   ]
  },
  {
   "cell_type": "code",
   "execution_count": 25,
   "id": "17af6aa1-bd4a-40ae-83ed-5ecf8e81c4e7",
   "metadata": {},
   "outputs": [],
   "source": [
    "b"
   ]
  },
  {
   "cell_type": "code",
   "execution_count": 26,
   "id": "17fb77fa-ba82-4e40-acae-c0e57460c571",
   "metadata": {},
   "outputs": [
    {
     "data": {
      "text/plain": [
       "[1, 2, 3]"
      ]
     },
     "execution_count": 26,
     "metadata": {},
     "output_type": "execute_result"
    }
   ],
   "source": [
    "my_list"
   ]
  },
  {
   "cell_type": "code",
   "execution_count": 27,
   "id": "5ac385c1-700b-4a6e-bb84-123c39a48abc",
   "metadata": {},
   "outputs": [],
   "source": [
    "my_list = None"
   ]
  },
  {
   "cell_type": "code",
   "execution_count": 28,
   "id": "4a9f0679-4552-4150-a33d-22ce08644bd7",
   "metadata": {},
   "outputs": [],
   "source": [
    "my_list"
   ]
  },
  {
   "cell_type": "code",
   "execution_count": 4,
   "id": "dd4c6377-5c6e-441f-a404-86fe578e39c9",
   "metadata": {},
   "outputs": [],
   "source": [
    "class sample:\n",
    "     def __init__(self):\n",
    "       self.a=10\n",
    "       self.b=20\n",
    "obj=sample()\n"
   ]
  },
  {
   "cell_type": "code",
   "execution_count": 6,
   "id": "d5868f7c-e57d-4236-aab5-4f89fc72d5c0",
   "metadata": {},
   "outputs": [
    {
     "data": {
      "text/plain": [
       "10"
      ]
     },
     "execution_count": 6,
     "metadata": {},
     "output_type": "execute_result"
    }
   ],
   "source": [
    "obj.a"
   ]
  },
  {
   "cell_type": "code",
   "execution_count": 8,
   "id": "817548a0-6290-46f6-b26e-5c952fe64054",
   "metadata": {},
   "outputs": [
    {
     "data": {
      "text/plain": [
       "20"
      ]
     },
     "execution_count": 8,
     "metadata": {},
     "output_type": "execute_result"
    }
   ],
   "source": [
    "obj.b"
   ]
  },
  {
   "cell_type": "code",
   "execution_count": 9,
   "id": "0b09ab59-7754-46e6-9d69-c6c964c4159e",
   "metadata": {},
   "outputs": [
    {
     "name": "stdout",
     "output_type": "stream",
     "text": [
      "10 20\n"
     ]
    }
   ],
   "source": [
    "class sample:\n",
    "     def __init__(self):\n",
    "       self.a=10\n",
    "       self.b=20\n",
    "obj=sample()\n",
    "print(obj.a, obj.b)"
   ]
  },
  {
   "cell_type": "code",
   "execution_count": 6,
   "id": "c90e47e2-bc12-47cc-b6fd-b20e84d4089f",
   "metadata": {},
   "outputs": [],
   "source": [
    "list1=list([1,2,3,4,5])\n"
   ]
  },
  {
   "cell_type": "code",
   "execution_count": 7,
   "id": "f4ef12e7-487d-49e1-8908-b4244085ffc8",
   "metadata": {},
   "outputs": [
    {
     "data": {
      "text/plain": [
       "[1, 2, 3, 4, 5]"
      ]
     },
     "execution_count": 7,
     "metadata": {},
     "output_type": "execute_result"
    }
   ],
   "source": [
    "list1"
   ]
  },
  {
   "cell_type": "code",
   "execution_count": 10,
   "id": "e6e4cb27-7b25-4896-bf9a-bd2ec0a226b3",
   "metadata": {},
   "outputs": [
    {
     "ename": "NameError",
     "evalue": "name 'class_name' is not defined",
     "output_type": "error",
     "traceback": [
      "\u001b[1;31m----------------------------------------------------------------\u001b[0m",
      "\u001b[1;31mNameError\u001b[0m                      Traceback (most recent call last)",
      "Cell \u001b[1;32mIn[10], line 2\u001b[0m\n\u001b[0;32m      1\u001b[0m list1\u001b[38;5;241m=\u001b[39m\u001b[38;5;28mlist\u001b[39m([\u001b[38;5;241m1\u001b[39m,\u001b[38;5;241m2\u001b[39m,\u001b[38;5;241m3\u001b[39m,\u001b[38;5;241m4\u001b[39m,\u001b[38;5;241m5\u001b[39m])\n\u001b[1;32m----> 2\u001b[0m obj_name\u001b[38;5;241m=\u001b[39mclass_name()\n",
      "\u001b[1;31mNameError\u001b[0m: name 'class_name' is not defined"
     ]
    }
   ],
   "source": [
    "list1=list([1,2,3,4,5])\n",
    "#obj_name=class_name()\n"
   ]
  },
  {
   "cell_type": "code",
   "execution_count": 13,
   "id": "cd7f729e-ad32-4b42-ab4c-6737f091c211",
   "metadata": {},
   "outputs": [],
   "source": [
    "class test:\n",
    "   def __init__(self):\n",
    "      self.name=\"mayur\"\n",
    "      self.rollno=101\n",
    "obj=test()      "
   ]
  },
  {
   "cell_type": "code",
   "execution_count": 14,
   "id": "a366ff1f-3c11-4001-9da8-527dff697071",
   "metadata": {},
   "outputs": [
    {
     "data": {
      "text/plain": [
       "'mayur'"
      ]
     },
     "execution_count": 14,
     "metadata": {},
     "output_type": "execute_result"
    }
   ],
   "source": [
    "obj.name"
   ]
  },
  {
   "cell_type": "code",
   "execution_count": 12,
   "id": "839f7703-988b-4236-b282-18869b5bb456",
   "metadata": {},
   "outputs": [
    {
     "data": {
      "text/plain": [
       "101"
      ]
     },
     "execution_count": 12,
     "metadata": {},
     "output_type": "execute_result"
    }
   ],
   "source": [
    "obj.rollno"
   ]
  },
  {
   "cell_type": "code",
   "execution_count": 15,
   "id": "bed40311-7795-4f02-8df9-9e7b7c95590f",
   "metadata": {},
   "outputs": [],
   "source": [
    "class test:\n",
    "   def _init_(self):\n",
    "      self.name=\"mayur\"\n",
    "      self.rollno=101\n",
    "obj1=test()\n",
    "obj2=test()\n",
    "obj3=test()\n",
    "\n"
   ]
  },
  {
   "cell_type": "code",
   "execution_count": 16,
   "id": "df46b590-b6ef-477a-8b68-f3b86a5008ce",
   "metadata": {},
   "outputs": [
    {
     "data": {
      "text/plain": [
       "'mayur'"
      ]
     },
     "execution_count": 16,
     "metadata": {},
     "output_type": "execute_result"
    }
   ],
   "source": [
    "obj.name"
   ]
  },
  {
   "cell_type": "code",
   "execution_count": 18,
   "id": "a869a4a0-b290-4f14-83f9-4870342b5858",
   "metadata": {},
   "outputs": [
    {
     "name": "stdout",
     "output_type": "stream",
     "text": [
      "mayur\n",
      "101\n"
     ]
    }
   ],
   "source": [
    "class test:\n",
    "   def __init__(self):\n",
    "      self.name = \"mayur\"\n",
    "      self.rollno = 101\n",
    "   def myfun(self):\n",
    "      \n",
    "       print(self.name)\n",
    "       print(self.rollno)\n",
    "\n",
    "\n",
    "obj1=test()\n",
    "obj1.myfun()\n"
   ]
  },
  {
   "cell_type": "code",
   "execution_count": null,
   "id": "b6af6b3d-3fb4-4395-b439-e47cc64ad250",
   "metadata": {},
   "outputs": [],
   "source": [
    "len(list2)#function\n",
    "list2.append(67)#method"
   ]
  },
  {
   "cell_type": "code",
   "execution_count": 21,
   "id": "2f80ba30-b681-4752-9a19-c6ac3fd08ef4",
   "metadata": {},
   "outputs": [
    {
     "name": "stdout",
     "output_type": "stream",
     "text": [
      "10\n",
      "20\n"
     ]
    }
   ],
   "source": [
    "class sample:\n",
    "    def __init__(self):\n",
    "        self.a=10\n",
    "        self.b=20\n",
    "    def display(self):\n",
    "        print(self.a)\n",
    "        print(self.b)\n",
    "obj=sample()\n",
    "obj.display()"
   ]
  },
  {
   "cell_type": "code",
   "execution_count": 43,
   "id": "d7cb3a65-6def-4254-a47e-eecb61aa42a5",
   "metadata": {},
   "outputs": [
    {
     "name": "stdout",
     "output_type": "stream",
     "text": [
      "mayur\n",
      "10\n",
      "101\n"
     ]
    }
   ],
   "source": [
    "class student:\n",
    "    def __init__(self,name,rollno,marks):\n",
    "        self.name=name\n",
    "        self.rollno=rollno\n",
    "        self.marks=marks\n",
    "    def display(self):\n",
    "        print(self.name)\n",
    "        print(self.rollno)\n",
    "        print(self.marks)\n",
    "obj=student(\"mayur\",10,101)\n",
    "obj.display()"
   ]
  },
  {
   "cell_type": "code",
   "execution_count": 6,
   "id": "b1394f45-4703-4d6f-adc1-266f2137c2cd",
   "metadata": {},
   "outputs": [
    {
     "name": "stdin",
     "output_type": "stream",
     "text": [
      "Enter the number of people (n):  7\n",
      "Enter the step size (k):  3\n"
     ]
    },
    {
     "name": "stdout",
     "output_type": "stream",
     "text": [
      "2\n",
      "3\n",
      "4\n",
      "5\n",
      "6\n",
      "7\n",
      "The last remaining person is at position: 4\n"
     ]
    }
   ],
   "source": [
    "def josephus(n, k):\n",
    "    result = 0\n",
    "    for i in range(2, n + 1):\n",
    "        print(i)\n",
    "        result = (result + k) % i\n",
    "    return result + 1  # 1-based indexing\n",
    "\n",
    "# Input\n",
    "n = int(input(\"Enter the number of people (n): \"))\n",
    "k = int(input(\"Enter the step size (k): \"))\n",
    "\n",
    "# Output\n",
    "print(\"The last remaining person is at position:\", josephus(n, k))"
   ]
  },
  {
   "cell_type": "code",
   "execution_count": 5,
   "id": "73fdfdc4-e188-454c-a992-bf25fe9d0b12",
   "metadata": {},
   "outputs": [
    {
     "name": "stdout",
     "output_type": "stream",
     "text": [
      "The last remaining position is: p3\n"
     ]
    }
   ],
   "source": [
    "def josephus(n, k):\n",
    "    result = 0\n",
    "    for i in range(2, n + 1):\n",
    "        result = (result + k) % i\n",
    "    return result  # 0-based indexing\n",
    "\n",
    "# Input\n",
    "n = 7  # Number of positions (p0, p1, p2, p3, p4, p5, pc)\n",
    "k = 3  # Step size\n",
    "\n",
    "# Output\n",
    "last_position = josephus(n, k)\n",
    "print(f\"The last remaining position is: p{last_position}\")"
   ]
  },
  {
   "cell_type": "code",
   "execution_count": 18,
   "id": "deb06db4-173c-4388-b2dd-463872c3167b",
   "metadata": {},
   "outputs": [
    {
     "name": "stdout",
     "output_type": "stream",
     "text": [
      "Eliminated: 2\n",
      "Eliminated: 5\n",
      "Eliminated: 1\n",
      "Eliminated: 6\n",
      "Eliminated: 4\n",
      "Eliminated: 0\n",
      "The last remaining person is: 3\n"
     ]
    }
   ],
   "source": [
    "def josephus(people, k):\n",
    "    # Initialize the index to start the elimination process\n",
    "    index = 0\n",
    "    \n",
    "    # Continue until only one person remains\n",
    "    while len(people) > 1:\n",
    "        # Move k-1 steps ahead in the circle\n",
    "        index = (index + k - 1) % len(people)\n",
    "        \n",
    "        # Eliminate the person at the current position\n",
    "        eliminated_person = people.pop(index)\n",
    "        print(f\"Eliminated: {eliminated_person}\")\n",
    "    \n",
    "    # Return the last remaining person\n",
    "    return people[0]\n",
    "\n",
    "# List of people\n",
    "people = [0,1,2,3,4,5,6]\n",
    "\n",
    "# Step size for elimination (every 2nd person)\n",
    "k = 3\n",
    "\n",
    "# Run the Josephus problem\n",
    "last_person = josephus(people, k)\n",
    "print(f\"The last remaining person is: {last_person}\")"
   ]
  },
  {
   "cell_type": "code",
   "execution_count": 27,
   "id": "287e8e70-a7fc-4765-80ba-2b02b1d5801f",
   "metadata": {
    "jp-MarkdownHeadingCollapsed": true
   },
   "outputs": [
    {
     "name": "stdout",
     "output_type": "stream",
     "text": [
      "e:[1, 2, 4, 5, 6, 7]\n",
      "e:[1, 2, 4, 5, 7]\n",
      "e:[1, 4, 5, 7]\n",
      "e:[1, 4, 5]\n",
      "e:[1, 4]\n",
      "e:[4]\n",
      "4\n"
     ]
    }
   ],
   "source": [
    "def fun(n,k):\n",
    "   index=0\n",
    "   while len(n)>1:\n",
    "      index=(index+k-1)%len(n)\n",
    "      e=n.pop(index)\n",
    "      print(f\"e:{n}\")\n",
    "   return n[0]\n",
    "n=[1,2,3,4,5,6,7]\n",
    "k=3\n",
    "l=fun(n,k)\n",
    "print(l)"
   ]
  },
  {
   "cell_type": "code",
   "execution_count": null,
   "id": "dd027190-0b85-4a10-822c-11c54939228f",
   "metadata": {},
   "outputs": [],
   "source": [
    "obj1.display()"
   ]
  },
  {
   "cell_type": "code",
   "execution_count": null,
   "id": "71260403-fb0b-4a34-b3a5-7d6e81a469fb",
   "metadata": {},
   "outputs": [],
   "source": [
    "class sample:\n",
    "    def __int__(self,ID,salary):\n",
    "        self.ID=ID\n",
    "        self.salary=salary\n",
    "    def display(self):\n",
    "        print(self.ID)\n",
    "        print(self.salary)\n",
    "obj1=sample(5201,25000)"
   ]
  },
  {
   "cell_type": "markdown",
   "id": "b7a9bdf7-bf3d-4bb5-8581-3c6293c5a5d0",
   "metadata": {},
   "source": [
    "## ATM"
   ]
  },
  {
   "cell_type": "code",
   "execution_count": 1,
   "id": "d6e3b8bc-1e6f-43e3-876e-cf1c8d602577",
   "metadata": {},
   "outputs": [
    {
     "name": "stdin",
     "output_type": "stream",
     "text": [
      "Enter your choice:\n",
      "1. Press 1 to set the pin\n",
      "2. Press 2 to change the pin\n",
      "3. Press 3 to check the balance\n",
      "4. Press 4 to withdraw\n",
      "5. Press 5 to deposit\n",
      "6. Press anything else to exit\n",
      " 1\n",
      "Enter the pin:  5326\n"
     ]
    },
    {
     "name": "stdout",
     "output_type": "stream",
     "text": [
      "Pin set successfully\n"
     ]
    },
    {
     "name": "stdin",
     "output_type": "stream",
     "text": [
      "Enter your choice:\n",
      "1. Press 1 to set the pin\n",
      "2. Press 2 to change the pin\n",
      "3. Press 3 to check the balance\n",
      "4. Press 4 to withdraw\n",
      "5. Press 5 to deposit\n",
      "6. Press anything else to exit\n",
      " 2\n",
      "Enter old pin:  5326\n",
      "Enter the new pin:  5326\n"
     ]
    },
    {
     "name": "stdout",
     "output_type": "stream",
     "text": [
      "Pin changed successfully\n"
     ]
    },
    {
     "name": "stdin",
     "output_type": "stream",
     "text": [
      "Enter your choice:\n",
      "1. Press 1 to set the pin\n",
      "2. Press 2 to change the pin\n",
      "3. Press 3 to check the balance\n",
      "4. Press 4 to withdraw\n",
      "5. Press 5 to deposit\n",
      "6. Press anything else to exit\n",
      " 3\n",
      "Enter the pin:  5326\n"
     ]
    },
    {
     "name": "stdout",
     "output_type": "stream",
     "text": [
      "Your balance is: 0\n"
     ]
    },
    {
     "name": "stdin",
     "output_type": "stream",
     "text": [
      "Enter your choice:\n",
      "1. Press 1 to set the pin\n",
      "2. Press 2 to change the pin\n",
      "3. Press 3 to check the balance\n",
      "4. Press 4 to withdraw\n",
      "5. Press 5 to deposit\n",
      "6. Press anything else to exit\n",
      " 4\n",
      "Enter the pin:  5326\n",
      "Enter the amount:  0\n"
     ]
    },
    {
     "name": "stdout",
     "output_type": "stream",
     "text": [
      "Collect your cash\n"
     ]
    },
    {
     "name": "stdin",
     "output_type": "stream",
     "text": [
      "Enter your choice:\n",
      "1. Press 1 to set the pin\n",
      "2. Press 2 to change the pin\n",
      "3. Press 3 to check the balance\n",
      "4. Press 4 to withdraw\n",
      "5. Press 5 to deposit\n",
      "6. Press anything else to exit\n",
      " 5\n",
      "Enter the pin:  5326\n",
      "Enter the amount:  200\n"
     ]
    },
    {
     "name": "stdout",
     "output_type": "stream",
     "text": [
      "Amount deposited successfully\n"
     ]
    },
    {
     "name": "stdin",
     "output_type": "stream",
     "text": [
      "Enter your choice:\n",
      "1. Press 1 to set the pin\n",
      "2. Press 2 to change the pin\n",
      "3. Press 3 to check the balance\n",
      "4. Press 4 to withdraw\n",
      "5. Press 5 to deposit\n",
      "6. Press anything else to exit\n",
      " 6\n"
     ]
    },
    {
     "name": "stdout",
     "output_type": "stream",
     "text": [
      "Exiting the ATM, Goodbye!\n"
     ]
    }
   ],
   "source": [
    "31/01/2025:\n",
    "class Atm:\n",
    "    def __init__(self):\n",
    "        self.pin = ''\n",
    "        self.balance = 0\n",
    "        self.menu()\n",
    "\n",
    "    def menu(self):\n",
    "        user_input = input(\"\"\"Enter your choice:\n",
    "1. Press 1 to set the pin\n",
    "2. Press 2 to change the pin\n",
    "3. Press 3 to check the balance\n",
    "4. Press 4 to withdraw\n",
    "5. Press 5 to deposit\n",
    "6. Press anything else to exit\\n\"\"\")\n",
    "\n",
    "        if user_input == '1':\n",
    "            self.set_pin()\n",
    "        elif user_input == '2':\n",
    "            self.change_pin()\n",
    "        elif user_input == '3':\n",
    "            self.check_balance()\n",
    "        elif user_input == '4':\n",
    "            self.withdraw()\n",
    "        elif user_input == '5':\n",
    "            self.deposit()\n",
    "        else:\n",
    "            print(\"Exiting the ATM, Goodbye!\")\n",
    "            exit()\n",
    "\n",
    "    def set_pin(self):\n",
    "        user_pin = input(\"Enter the pin: \")\n",
    "        self.pin = user_pin\n",
    "        print(\"Pin set successfully\")\n",
    "        self.menu()\n",
    "\n",
    "    def change_pin(self):\n",
    "        old_pin = input(\"Enter old pin: \")\n",
    "        if self.pin == old_pin:\n",
    "            user_pin = input(\"Enter the new pin: \")\n",
    "            self.pin = user_pin\n",
    "            print(\"Pin changed successfully\")\n",
    "        else:\n",
    "            print(\"Incorrect old pin!\")\n",
    "        self.menu()\n",
    "\n",
    "    def check_balance(self):\n",
    "        user_pin = input(\"Enter the pin: \")\n",
    "        if self.pin == user_pin:\n",
    "            print(\"Your balance is:\", self.balance)\n",
    "        else:\n",
    "            print(\"Incorrect pin!\")\n",
    "        self.menu()\n",
    "\n",
    "    def withdraw(self):\n",
    "        user_pin = input(\"Enter the pin: \")\n",
    "        if self.pin == user_pin:\n",
    "            amount = int(input(\"Enter the amount: \"))\n",
    "            if self.balance >= amount:\n",
    "                self.balance -= amount\n",
    "                print(\"Collect your cash\")\n",
    "            else:\n",
    "                print(\"Insufficient balance!\")\n",
    "        else:\n",
    "            print(\"Incorrect pin!\")\n",
    "        self.menu()\n",
    "\n",
    "    def deposit(self):\n",
    "        user_pin = input(\"Enter the pin: \")\n",
    "        if self.pin == user_pin:\n",
    "            amount = int(input(\"Enter the amount: \"))\n",
    "            if amount > 0:\n",
    "                self.balance += amount\n",
    "                print(\"Amount deposited successfully\")\n",
    "            else:\n",
    "                print(\"Amount should be greater than zero\")\n",
    "        else:\n",
    "            print(\"Incorrect pin!\")\n",
    "        self.menu()\n",
    "\n",
    "\n",
    "# Create an instance of the Atm class\n",
    "obj = Atm()"
   ]
  },
  {
   "cell_type": "code",
   "execution_count": 19,
   "id": "fe937a2f-39b8-4be6-b869-387e613a2baa",
   "metadata": {},
   "outputs": [],
   "source": [
    "class stack:\n",
    "    def __init__(self):\n",
    "        self.list=[]\n",
    "    def push(self,item):\n",
    "        self.list.append(item)\n",
    "        print(\"item is pushed\")\n",
    "    def isempty(self):\n",
    "        if  len(self.list)==0:\n",
    "            return True\n",
    "        else:\n",
    "            return False\n",
    "    def pop(self):\n",
    "        if self.isempty():\n",
    "            print(\"we cannot pop because stack is empty\")\n",
    "        else:\n",
    "            self.list.pop()\n",
    "            print(self.list)\n",
    "    def peek(self):\n",
    "        a=len(self.list)-1\n",
    "        print(self.list[a])\n",
    "s=stack()"
   ]
  },
  {
   "cell_type": "code",
   "execution_count": 21,
   "id": "97961eaa-899c-4e09-bfcc-5746ebc346ea",
   "metadata": {},
   "outputs": [
    {
     "name": "stdout",
     "output_type": "stream",
     "text": [
      "item is pushed\n"
     ]
    }
   ],
   "source": [
    "s.push(10)"
   ]
  },
  {
   "cell_type": "code",
   "execution_count": 23,
   "id": "80f33f95-a357-4551-aac4-cd464ba51153",
   "metadata": {},
   "outputs": [
    {
     "name": "stdout",
     "output_type": "stream",
     "text": [
      "item is pushed\n"
     ]
    }
   ],
   "source": [
    "s.push(20)"
   ]
  },
  {
   "cell_type": "code",
   "execution_count": 25,
   "id": "1228f44c-e539-4647-a81f-d39cb25d1d59",
   "metadata": {},
   "outputs": [
    {
     "data": {
      "text/plain": [
       "False"
      ]
     },
     "execution_count": 25,
     "metadata": {},
     "output_type": "execute_result"
    }
   ],
   "source": [
    "s.isempty()"
   ]
  },
  {
   "cell_type": "code",
   "execution_count": 28,
   "id": "146057a2-b98b-49e0-8f73-7f8e0f93812e",
   "metadata": {},
   "outputs": [
    {
     "name": "stdout",
     "output_type": "stream",
     "text": [
      "[10, 10]\n"
     ]
    }
   ],
   "source": [
    "s.pop()"
   ]
  },
  {
   "cell_type": "code",
   "execution_count": 30,
   "id": "66aecef8-b27e-4131-b7cd-b88fb2a310f9",
   "metadata": {},
   "outputs": [
    {
     "name": "stdout",
     "output_type": "stream",
     "text": [
      "10\n"
     ]
    }
   ],
   "source": [
    "s.peek()"
   ]
  },
  {
   "cell_type": "code",
   "execution_count": null,
   "id": "8887ea85-42ae-42d9-a7b8-06ad91d96a51",
   "metadata": {},
   "outputs": [],
   "source": []
  },
  {
   "cell_type": "code",
   "execution_count": 15,
   "id": "d14ef373-bb9b-405b-8b56-7b1bb6c5391d",
   "metadata": {},
   "outputs": [
    {
     "name": "stdout",
     "output_type": "stream",
     "text": [
      "item is pushed\n"
     ]
    }
   ],
   "source": [
    "\n",
    "s.push(10)"
   ]
  },
  {
   "cell_type": "code",
   "execution_count": 16,
   "id": "a6f5f8f9-b6aa-462c-9d1a-3a36bb43e0e9",
   "metadata": {},
   "outputs": [
    {
     "data": {
      "text/plain": [
       "False"
      ]
     },
     "execution_count": 16,
     "metadata": {},
     "output_type": "execute_result"
    }
   ],
   "source": [
    "s.isempty()"
   ]
  },
  {
   "cell_type": "code",
   "execution_count": 12,
   "id": "4fcbbc21-2bb7-46f6-b202-5abd44fed1a7",
   "metadata": {},
   "outputs": [
    {
     "name": "stdout",
     "output_type": "stream",
     "text": [
      "10\n"
     ]
    }
   ],
   "source": [
    "s.peek()"
   ]
  },
  {
   "cell_type": "code",
   "execution_count": 14,
   "id": "06cd5b6d-0f3e-4b93-b4e1-0326e72c3e87",
   "metadata": {},
   "outputs": [
    {
     "name": "stdout",
     "output_type": "stream",
     "text": [
      "[]\n"
     ]
    }
   ],
   "source": [
    "s.pop()"
   ]
  },
  {
   "cell_type": "code",
   "execution_count": 17,
   "id": "06f1f406-16e5-46d0-9ea8-0b8846375736",
   "metadata": {},
   "outputs": [
    {
     "name": "stdout",
     "output_type": "stream",
     "text": [
      "Item '10' pushed to stack\n",
      "Item '20' pushed to stack\n",
      "20\n",
      "20\n",
      "10\n",
      "Cannot pop from an empty stack\n",
      "None\n",
      "Stack is empty, nothing to peek\n",
      "None\n"
     ]
    }
   ],
   "source": [
    "class Stack:\n",
    "    def __init__(self):\n",
    "        self.list = []  # Initialize an empty list to represent the stack\n",
    "\n",
    "    def push(self, item):\n",
    "        self.list.append(item)  # Add the item to the top of the stack\n",
    "        print(f\"Item '{item}' pushed to stack\")\n",
    "\n",
    "    def isempty(self):\n",
    "        return not self.list  # Return True if the stack is empty, False otherwise\n",
    "\n",
    "    def pop(self):\n",
    "        if self.isempty():\n",
    "            print(\"Cannot pop from an empty stack\")\n",
    "            return None  # Return None if the stack is empty\n",
    "        else:\n",
    "            return self.list.pop()  # Remove and return the top item from the stack\n",
    "\n",
    "    def peek(self):\n",
    "        if self.isempty():\n",
    "            print(\"Stack is empty, nothing to peek\")\n",
    "            return None  # Return None if the stack is empty\n",
    "        else:\n",
    "            return self.list[-1]  # Return the top item without removing it\n",
    "\n",
    "# Example usage\n",
    "s = Stack()\n",
    "s.push(10)  # Item '10' pushed to stack\n",
    "s.push(20)  # Item '20' pushed to stack\n",
    "print(s.peek())  # Output: 20\n",
    "print(s.pop())   # Output: 20\n",
    "print(s.pop())   # Output: 10\n",
    "print(s.pop())   # Output: Cannot pop from an empty stack, None\n",
    "print(s.peek())  # Output: Stack is empty, nothing to peek, None\n",
    "\n"
   ]
  },
  {
   "cell_type": "code",
   "execution_count": null,
   "id": "635af9c3-e6a9-43e9-ba86-cc76c287552b",
   "metadata": {},
   "outputs": [],
   "source": []
  }
 ],
 "metadata": {
  "kernelspec": {
   "display_name": "Python 3 (ipykernel)",
   "language": "python",
   "name": "python3"
  },
  "language_info": {
   "codemirror_mode": {
    "name": "ipython",
    "version": 3
   },
   "file_extension": ".py",
   "mimetype": "text/x-python",
   "name": "python",
   "nbconvert_exporter": "python",
   "pygments_lexer": "ipython3",
   "version": "3.12.7"
  }
 },
 "nbformat": 4,
 "nbformat_minor": 5
}
