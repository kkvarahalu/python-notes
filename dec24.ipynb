{
 "cells": [
  {
   "cell_type": "code",
   "execution_count": 2,
   "id": "262df751-6881-40eb-8053-871280f59c95",
   "metadata": {},
   "outputs": [
    {
     "name": "stdout",
     "output_type": "stream",
     "text": [
      "False\n"
     ]
    }
   ],
   "source": [
    "def samesign(a,b):\n",
    "     if a^b<0:\n",
    "         return False\n",
    "     else:\n",
    "         return True\n",
    "print(samesign(5,-6))"
   ]
  },
  {
   "cell_type": "code",
   "execution_count": 4,
   "id": "c7895ce3-a703-4cc4-b21f-ad8e34a2140c",
   "metadata": {},
   "outputs": [
    {
     "name": "stdout",
     "output_type": "stream",
     "text": [
      "<class 'tuple'>\n"
     ]
    }
   ],
   "source": [
    "t=()\n",
    "print(type(t))"
   ]
  },
  {
   "cell_type": "code",
   "execution_count": 5,
   "id": "c020d281-6100-4d77-93c4-3e7da1415514",
   "metadata": {},
   "outputs": [],
   "source": [
    "t2=('string')"
   ]
  },
  {
   "cell_type": "code",
   "execution_count": 11,
   "id": "5cfa68e1-62df-4308-af88-d90f1e35ecd7",
   "metadata": {},
   "outputs": [
    {
     "data": {
      "text/plain": [
       "(20,)"
      ]
     },
     "execution_count": 11,
     "metadata": {},
     "output_type": "execute_result"
    }
   ],
   "source": [
    "t=(10,20,30,40,50,60,70)\n",
    "t[-6::-2]"
   ]
  },
  {
   "cell_type": "code",
   "execution_count": 18,
   "id": "73236112-a7fd-4ebb-9a94-3184f616d3fa",
   "metadata": {},
   "outputs": [
    {
     "data": {
      "text/plain": [
       "(10,)"
      ]
     },
     "execution_count": 18,
     "metadata": {},
     "output_type": "execute_result"
    }
   ],
   "source": [
    "t[-7::-2]"
   ]
  },
  {
   "cell_type": "code",
   "execution_count": 13,
   "id": "71045a1c-a6ee-4ffe-98f0-b73084a0f821",
   "metadata": {},
   "outputs": [
    {
     "data": {
      "text/plain": [
       "(30, 40, 50)"
      ]
     },
     "execution_count": 13,
     "metadata": {},
     "output_type": "execute_result"
    }
   ],
   "source": [
    "t[-5:-2]"
   ]
  },
  {
   "cell_type": "code",
   "execution_count": 14,
   "id": "abd36f94-50f4-4d37-867b-d84ac3dc90d3",
   "metadata": {},
   "outputs": [
    {
     "data": {
      "text/plain": [
       "()"
      ]
     },
     "execution_count": 14,
     "metadata": {},
     "output_type": "execute_result"
    }
   ],
   "source": [
    "t[-5:-3:-3]"
   ]
  },
  {
   "cell_type": "code",
   "execution_count": 26,
   "id": "87a619d4-a0c3-4d06-acbd-ecd095060701",
   "metadata": {},
   "outputs": [],
   "source": [
    "t=((\"mayur\")*5)"
   ]
  },
  {
   "cell_type": "code",
   "execution_count": 1,
   "id": "23dc81ab-bb39-47cf-aebe-a3fc932a192d",
   "metadata": {},
   "outputs": [],
   "source": [
    "t=((\"mayur\")*5)"
   ]
  },
  {
   "cell_type": "code",
   "execution_count": 2,
   "id": "096a8757-3b24-4a2e-bc48-e1ee57dcec34",
   "metadata": {},
   "outputs": [
    {
     "data": {
      "text/plain": [
       "'mayurmayurmayurmayurmayur'"
      ]
     },
     "execution_count": 2,
     "metadata": {},
     "output_type": "execute_result"
    }
   ],
   "source": [
    "t"
   ]
  },
  {
   "cell_type": "code",
   "execution_count": 3,
   "id": "814edff0-b7f5-4ad3-bf20-dbe4c2caae59",
   "metadata": {},
   "outputs": [],
   "source": [
    "t=(1,2,3,4,[45,7,90,9])"
   ]
  },
  {
   "cell_type": "code",
   "execution_count": 4,
   "id": "81bfc226-ef57-4222-a27c-dd5c50534ae7",
   "metadata": {},
   "outputs": [
    {
     "data": {
      "text/plain": [
       "(1, 2, 3, 4, [45, 7, 90, 9])"
      ]
     },
     "execution_count": 4,
     "metadata": {},
     "output_type": "execute_result"
    }
   ],
   "source": [
    "t"
   ]
  },
  {
   "cell_type": "code",
   "execution_count": 5,
   "id": "24e95b82-9ad9-4161-940a-07e807309c11",
   "metadata": {},
   "outputs": [],
   "source": [
    "t1=(1,2,3,4,5,6,89)\n",
    "t2=(45,3,56,67,89)"
   ]
  },
  {
   "cell_type": "code",
   "execution_count": 6,
   "id": "1bbceedf-f98f-45c6-b928-f14884697f6c",
   "metadata": {},
   "outputs": [],
   "source": [
    "t1=sorted(t1)"
   ]
  },
  {
   "cell_type": "code",
   "execution_count": 8,
   "id": "0f6e66fd-6437-486f-a5d4-bd9bde5c6a16",
   "metadata": {},
   "outputs": [
    {
     "data": {
      "text/plain": [
       "[1, 2, 3, 4, 5, 6, 89]"
      ]
     },
     "execution_count": 8,
     "metadata": {},
     "output_type": "execute_result"
    }
   ],
   "source": [
    "t1"
   ]
  },
  {
   "cell_type": "code",
   "execution_count": 9,
   "id": "aeffae68-9fe0-43f8-9434-de9f7e661b14",
   "metadata": {},
   "outputs": [
    {
     "data": {
      "text/plain": [
       "2"
      ]
     },
     "execution_count": 9,
     "metadata": {},
     "output_type": "execute_result"
    }
   ],
   "source": [
    "t1.index(3)"
   ]
  },
  {
   "cell_type": "code",
   "execution_count": 3,
   "id": "40581c3a-1387-4993-abfc-68213b10fec8",
   "metadata": {},
   "outputs": [],
   "source": [
    "l=[3,4,5,6,7]"
   ]
  },
  {
   "cell_type": "code",
   "execution_count": 5,
   "id": "ddaaf207-33c8-4bb0-8671-eb11a2c82584",
   "metadata": {},
   "outputs": [
    {
     "data": {
      "text/plain": [
       "4"
      ]
     },
     "execution_count": 5,
     "metadata": {},
     "output_type": "execute_result"
    }
   ],
   "source": [
    "l.index(7)"
   ]
  },
  {
   "cell_type": "code",
   "execution_count": 10,
   "id": "581247d2-ff71-4c06-8aef-c3dc6ef09748",
   "metadata": {},
   "outputs": [
    {
     "name": "stdout",
     "output_type": "stream",
     "text": [
      "True\n"
     ]
    }
   ],
   "source": [
    "print(1 in t1)"
   ]
  },
  {
   "cell_type": "code",
   "execution_count": 12,
   "id": "013c3f9d-957a-4697-bbca-fb7880787a85",
   "metadata": {},
   "outputs": [
    {
     "data": {
      "text/plain": [
       "(20,)"
      ]
     },
     "execution_count": 12,
     "metadata": {},
     "output_type": "execute_result"
    }
   ],
   "source": [
    "t=(10,20,30,40,50,60,70)\n",
    "t[-6::-9]"
   ]
  },
  {
   "cell_type": "code",
   "execution_count": 14,
   "id": "7aa15135-c60b-4ad4-b616-46f8396dc1d4",
   "metadata": {},
   "outputs": [],
   "source": [
    "t1=(10,20,30,40,50,60,70)\n",
    "t2=(2,3)"
   ]
  },
  {
   "cell_type": "code",
   "execution_count": 15,
   "id": "078a7068-88c2-46c7-8dd6-9667eeaff0f5",
   "metadata": {},
   "outputs": [
    {
     "data": {
      "text/plain": [
       "(10, 20, 30, 40, 50, 60, 70, 2, 3)"
      ]
     },
     "execution_count": 15,
     "metadata": {},
     "output_type": "execute_result"
    }
   ],
   "source": [
    "t1+t2"
   ]
  },
  {
   "cell_type": "code",
   "execution_count": 16,
   "id": "c4c3e208-5d7f-4bc6-930d-c90186168647",
   "metadata": {},
   "outputs": [
    {
     "data": {
      "text/plain": [
       "40"
      ]
     },
     "execution_count": 16,
     "metadata": {},
     "output_type": "execute_result"
    }
   ],
   "source": [
    "t[3]"
   ]
  },
  {
   "cell_type": "code",
   "execution_count": null,
   "id": "8a908ef1-8882-44b3-ba7e-ddaee29ca023",
   "metadata": {},
   "outputs": [],
   "source": []
  },
  {
   "cell_type": "code",
   "execution_count": null,
   "id": "f4aa8ef0-06c0-4ee1-bfb4-f713387b2b76",
   "metadata": {},
   "outputs": [],
   "source": []
  }
 ],
 "metadata": {
  "kernelspec": {
   "display_name": "Python 3 (ipykernel)",
   "language": "python",
   "name": "python3"
  },
  "language_info": {
   "codemirror_mode": {
    "name": "ipython",
    "version": 3
   },
   "file_extension": ".py",
   "mimetype": "text/x-python",
   "name": "python",
   "nbconvert_exporter": "python",
   "pygments_lexer": "ipython3",
   "version": "3.12.7"
  }
 },
 "nbformat": 4,
 "nbformat_minor": 5
}
