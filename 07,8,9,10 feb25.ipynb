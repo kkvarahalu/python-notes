{
 "cells": [
  {
   "cell_type": "code",
   "execution_count": 2,
   "id": "51aa502a-c283-46d7-a9a1-292994ffa409",
   "metadata": {},
   "outputs": [
    {
     "name": "stdin",
     "output_type": "stream",
     "text": [
      "enter any number 5\n",
      "enter any number 6\n"
     ]
    },
    {
     "name": "stdout",
     "output_type": "stream",
     "text": [
      "11\n"
     ]
    }
   ],
   "source": [
    "#file handling:\n",
    "a=int(input(\"enter any number\"))\n",
    "b=int(input(\"enter any number\"))\n",
    "print(a+b)"
   ]
  },
  {
   "cell_type": "code",
   "execution_count": 1,
   "id": "05c6ac0d-8594-4b61-a6e5-74ec83c0896a",
   "metadata": {},
   "outputs": [
    {
     "name": "stdin",
     "output_type": "stream",
     "text": [
      "enter first name kalimi\n",
      "enter last name kanakavarahalu\n"
     ]
    }
   ],
   "source": [
    "\n",
    "first_name=input(\"enter first name\")\n",
    "last_name=input(\"enter last name\")\n",
    "f=open(\"myfile_name\",'w')\n",
    "f.write(first_name)\n",
    "f.write(last_name)\n",
    "f.close()"
   ]
  },
  {
   "cell_type": "markdown",
   "id": "9c670aaa-2faf-4579-a6f9-da262c650a7c",
   "metadata": {},
   "source": [
    "# 07/02/2025:MODULES VS PYTHON VS LIBRARY:\n",
    "\n",
    "\n",
    "\n"
   ]
  },
  {
   "cell_type": "code",
   "execution_count": 2,
   "id": "c2c503e8-ed3e-40a6-b067-be764f0fcbd8",
   "metadata": {},
   "outputs": [
    {
     "name": "stdout",
     "output_type": "stream",
     "text": [
      "hellomayur\n"
     ]
    }
   ],
   "source": [
    "#user  defined function\n",
    "def print_name(name):\n",
    "    \"\"\"\n",
    "     this function is printing a name \n",
    "     \"\"\"\n",
    "    print(\"hello\"+str(name))\n",
    "print_name(\"mayur\")"
   ]
  },
  {
   "cell_type": "code",
   "execution_count": 3,
   "id": "89141708-d9b4-4aa0-9dea-b2ad4a689685",
   "metadata": {},
   "outputs": [
    {
     "name": "stdout",
     "output_type": "stream",
     "text": [
      "\n",
      "     this function is printing a name \n",
      "     \n"
     ]
    }
   ],
   "source": [
    "print(print_name.__doc__)"
   ]
  },
  {
   "cell_type": "code",
   "execution_count": 4,
   "id": "70a63b17-8e76-4bab-8132-4fff14751dd8",
   "metadata": {},
   "outputs": [
    {
     "data": {
      "text/plain": [
       "3"
      ]
     },
     "execution_count": 4,
     "metadata": {},
     "output_type": "execute_result"
    }
   ],
   "source": [
    "abs(-3)"
   ]
  },
  {
   "cell_type": "code",
   "execution_count": 5,
   "id": "f0ab1897-93e9-4fd6-b4f9-75d8b3938e12",
   "metadata": {},
   "outputs": [
    {
     "data": {
      "text/plain": [
       "3"
      ]
     },
     "execution_count": 5,
     "metadata": {},
     "output_type": "execute_result"
    }
   ],
   "source": [
    "abs(3)"
   ]
  },
  {
   "cell_type": "code",
   "execution_count": 6,
   "id": "1e8b0a2d-0b7d-4fdd-a4d6-92de453ba296",
   "metadata": {},
   "outputs": [
    {
     "data": {
      "text/plain": [
       "3.14"
      ]
     },
     "execution_count": 6,
     "metadata": {},
     "output_type": "execute_result"
    }
   ],
   "source": [
    "abs(-3.14)"
   ]
  },
  {
   "cell_type": "code",
   "execution_count": 7,
   "id": "bdfdfef4-5e33-442c-b62a-f7a0c82da64e",
   "metadata": {},
   "outputs": [
    {
     "data": {
      "text/plain": [
       "5.7"
      ]
     },
     "execution_count": 7,
     "metadata": {},
     "output_type": "execute_result"
    }
   ],
   "source": [
    "abs(5.7)"
   ]
  },
  {
   "cell_type": "code",
   "execution_count": 8,
   "id": "93989d12-e9a8-4be1-aea2-8ff1e1621e3b",
   "metadata": {},
   "outputs": [
    {
     "data": {
      "text/plain": [
       "3.605551275463989"
      ]
     },
     "execution_count": 8,
     "metadata": {},
     "output_type": "execute_result"
    }
   ],
   "source": [
    "abs(2+3j)"
   ]
  },
  {
   "cell_type": "code",
   "execution_count": 9,
   "id": "ea9dd353-c28c-42a4-9870-f435993f8c68",
   "metadata": {},
   "outputs": [
    {
     "data": {
      "text/plain": [
       "3.1622776601683795"
      ]
     },
     "execution_count": 9,
     "metadata": {},
     "output_type": "execute_result"
    }
   ],
   "source": [
    "abs(-1-3j)"
   ]
  },
  {
   "cell_type": "code",
   "execution_count": 10,
   "id": "1c29b745-dbb9-4dc6-9da6-28d1efb1c64d",
   "metadata": {},
   "outputs": [
    {
     "data": {
      "text/plain": [
       "True"
      ]
     },
     "execution_count": 10,
     "metadata": {},
     "output_type": "execute_result"
    }
   ],
   "source": [
    "lst=[1,2,3,4,5]#positive numbers are return true\n",
    "all(lst)"
   ]
  },
  {
   "cell_type": "code",
   "execution_count": 11,
   "id": "165692b8-54a2-4ec8-bb47-82108d35c99f",
   "metadata": {},
   "outputs": [
    {
     "data": {
      "text/plain": [
       "False"
      ]
     },
     "execution_count": 11,
     "metadata": {},
     "output_type": "execute_result"
    }
   ],
   "source": [
    "lst=[0,2,3,4,5] #o in list so return false\n",
    "all(lst)"
   ]
  },
  {
   "cell_type": "code",
   "execution_count": 12,
   "id": "865e8c91-92f0-472a-b4f8-4fcea55a2224",
   "metadata": {},
   "outputs": [
    {
     "data": {
      "text/plain": [
       "False"
      ]
     },
     "execution_count": 12,
     "metadata": {},
     "output_type": "execute_result"
    }
   ],
   "source": [
    "lst=[False,3,4]\n",
    "all(lst)"
   ]
  },
  {
   "cell_type": "code",
   "execution_count": 14,
   "id": "80f60aba-53c8-4dbf-9301-8f1e3193ef16",
   "metadata": {},
   "outputs": [
    {
     "data": {
      "text/plain": [
       "True"
      ]
     },
     "execution_count": 14,
     "metadata": {},
     "output_type": "execute_result"
    }
   ],
   "source": [
    "dict={1:0,3:4,5:7}#values 0 but conseder  but key is conseder \n",
    "all(dict)"
   ]
  },
  {
   "cell_type": "code",
   "execution_count": 15,
   "id": "e254d8a0-0633-401b-b12d-04b7f70961c3",
   "metadata": {},
   "outputs": [
    {
     "data": {
      "text/plain": [
       "False"
      ]
     },
     "execution_count": 15,
     "metadata": {},
     "output_type": "execute_result"
    }
   ],
   "source": [
    "dict={0:1,3:4,4:5}\n",
    "all(dict)"
   ]
  },
  {
   "cell_type": "code",
   "execution_count": 18,
   "id": "54d51e9b-ed3e-4a07-9666-089f3b064dde",
   "metadata": {},
   "outputs": [
    {
     "data": {
      "text/plain": [
       "['__add__',\n",
       " '__class__',\n",
       " '__class_getitem__',\n",
       " '__contains__',\n",
       " '__delattr__',\n",
       " '__delitem__',\n",
       " '__dir__',\n",
       " '__doc__',\n",
       " '__eq__',\n",
       " '__format__',\n",
       " '__ge__',\n",
       " '__getattribute__',\n",
       " '__getitem__',\n",
       " '__getstate__',\n",
       " '__gt__',\n",
       " '__hash__',\n",
       " '__iadd__',\n",
       " '__imul__',\n",
       " '__init__',\n",
       " '__init_subclass__',\n",
       " '__iter__',\n",
       " '__le__',\n",
       " '__len__',\n",
       " '__lt__',\n",
       " '__mul__',\n",
       " '__ne__',\n",
       " '__new__',\n",
       " '__reduce__',\n",
       " '__reduce_ex__',\n",
       " '__repr__',\n",
       " '__reversed__',\n",
       " '__rmul__',\n",
       " '__setattr__',\n",
       " '__setitem__',\n",
       " '__sizeof__',\n",
       " '__str__',\n",
       " '__subclasshook__',\n",
       " 'append',\n",
       " 'clear',\n",
       " 'copy',\n",
       " 'count',\n",
       " 'extend',\n",
       " 'index',\n",
       " 'insert',\n",
       " 'pop',\n",
       " 'remove',\n",
       " 'reverse',\n",
       " 'sort']"
      ]
     },
     "execution_count": 18,
     "metadata": {},
     "output_type": "execute_result"
    }
   ],
   "source": [
    "lst=[5,4,6,7]#return all methods in the list\n",
    "dir(lst)"
   ]
  },
  {
   "cell_type": "code",
   "execution_count": 19,
   "id": "3c7c1c5b-35c3-4bdf-ad76-71dac00b2128",
   "metadata": {},
   "outputs": [
    {
     "data": {
      "text/plain": [
       "['__add__',\n",
       " '__class__',\n",
       " '__contains__',\n",
       " '__delattr__',\n",
       " '__dir__',\n",
       " '__doc__',\n",
       " '__eq__',\n",
       " '__format__',\n",
       " '__ge__',\n",
       " '__getattribute__',\n",
       " '__getitem__',\n",
       " '__getnewargs__',\n",
       " '__getstate__',\n",
       " '__gt__',\n",
       " '__hash__',\n",
       " '__init__',\n",
       " '__init_subclass__',\n",
       " '__iter__',\n",
       " '__le__',\n",
       " '__len__',\n",
       " '__lt__',\n",
       " '__mod__',\n",
       " '__mul__',\n",
       " '__ne__',\n",
       " '__new__',\n",
       " '__reduce__',\n",
       " '__reduce_ex__',\n",
       " '__repr__',\n",
       " '__rmod__',\n",
       " '__rmul__',\n",
       " '__setattr__',\n",
       " '__sizeof__',\n",
       " '__str__',\n",
       " '__subclasshook__',\n",
       " 'capitalize',\n",
       " 'casefold',\n",
       " 'center',\n",
       " 'count',\n",
       " 'encode',\n",
       " 'endswith',\n",
       " 'expandtabs',\n",
       " 'find',\n",
       " 'format',\n",
       " 'format_map',\n",
       " 'index',\n",
       " 'isalnum',\n",
       " 'isalpha',\n",
       " 'isascii',\n",
       " 'isdecimal',\n",
       " 'isdigit',\n",
       " 'isidentifier',\n",
       " 'islower',\n",
       " 'isnumeric',\n",
       " 'isprintable',\n",
       " 'isspace',\n",
       " 'istitle',\n",
       " 'isupper',\n",
       " 'join',\n",
       " 'ljust',\n",
       " 'lower',\n",
       " 'lstrip',\n",
       " 'maketrans',\n",
       " 'partition',\n",
       " 'removeprefix',\n",
       " 'removesuffix',\n",
       " 'replace',\n",
       " 'rfind',\n",
       " 'rindex',\n",
       " 'rjust',\n",
       " 'rpartition',\n",
       " 'rsplit',\n",
       " 'rstrip',\n",
       " 'split',\n",
       " 'splitlines',\n",
       " 'startswith',\n",
       " 'strip',\n",
       " 'swapcase',\n",
       " 'title',\n",
       " 'translate',\n",
       " 'upper',\n",
       " 'zfill']"
      ]
     },
     "execution_count": 19,
     "metadata": {},
     "output_type": "execute_result"
    }
   ],
   "source": [
    "s=\"mayur\"\n",
    "dir(s)  #dir is use all functions like list,tople,string,dict,..etx."
   ]
  },
  {
   "cell_type": "code",
   "execution_count": 23,
   "id": "59969ead-833a-444a-8944-e45889c39e0b",
   "metadata": {},
   "outputs": [
    {
     "data": {
      "text/plain": [
       "['__abstractmethods__',\n",
       " '__annotations__',\n",
       " '__class__',\n",
       " '__delattr__',\n",
       " '__dict__',\n",
       " '__dir__',\n",
       " '__doc__',\n",
       " '__eq__',\n",
       " '__format__',\n",
       " '__ge__',\n",
       " '__getattribute__',\n",
       " '__getitem__',\n",
       " '__getstate__',\n",
       " '__gt__',\n",
       " '__hash__',\n",
       " '__init__',\n",
       " '__init_subclass__',\n",
       " '__iter__',\n",
       " '__le__',\n",
       " '__len__',\n",
       " '__lt__',\n",
       " '__module__',\n",
       " '__ne__',\n",
       " '__new__',\n",
       " '__reduce__',\n",
       " '__reduce_ex__',\n",
       " '__repr__',\n",
       " '__setattr__',\n",
       " '__setstate__',\n",
       " '__sizeof__',\n",
       " '__sklearn_clone__',\n",
       " '__str__',\n",
       " '__subclasshook__',\n",
       " '__weakref__',\n",
       " '_abc_impl',\n",
       " '_build_request_for_signature',\n",
       " '_check_feature_names',\n",
       " '_check_n_features',\n",
       " '_compute_oob_predictions',\n",
       " '_doc_link_module',\n",
       " '_doc_link_template',\n",
       " '_doc_link_url_param_generator',\n",
       " '_estimator_type',\n",
       " '_get_default_requests',\n",
       " '_get_doc_link',\n",
       " '_get_estimators_indices',\n",
       " '_get_metadata_request',\n",
       " '_get_oob_predictions',\n",
       " '_get_param_names',\n",
       " '_get_tags',\n",
       " '_make_estimator',\n",
       " '_more_tags',\n",
       " '_parameter_constraints',\n",
       " '_repr_html_',\n",
       " '_repr_html_inner',\n",
       " '_repr_mimebundle_',\n",
       " '_required_parameters',\n",
       " '_set_oob_score_and_attributes',\n",
       " '_validate_X_predict',\n",
       " '_validate_data',\n",
       " '_validate_estimator',\n",
       " '_validate_params',\n",
       " '_validate_y_class_weight',\n",
       " 'apply',\n",
       " 'bootstrap',\n",
       " 'ccp_alpha',\n",
       " 'class_weight',\n",
       " 'criterion',\n",
       " 'decision_path',\n",
       " 'estimator',\n",
       " 'estimator_params',\n",
       " 'estimators_samples_',\n",
       " 'feature_importances_',\n",
       " 'fit',\n",
       " 'get_metadata_routing',\n",
       " 'get_params',\n",
       " 'max_depth',\n",
       " 'max_features',\n",
       " 'max_leaf_nodes',\n",
       " 'max_samples',\n",
       " 'min_impurity_decrease',\n",
       " 'min_samples_leaf',\n",
       " 'min_samples_split',\n",
       " 'min_weight_fraction_leaf',\n",
       " 'monotonic_cst',\n",
       " 'n_estimators',\n",
       " 'n_jobs',\n",
       " 'oob_score',\n",
       " 'predict',\n",
       " 'predict_log_proba',\n",
       " 'predict_proba',\n",
       " 'random_state',\n",
       " 'score',\n",
       " 'set_fit_request',\n",
       " 'set_params',\n",
       " 'set_score_request',\n",
       " 'verbose',\n",
       " 'warm_start']"
      ]
     },
     "execution_count": 23,
     "metadata": {},
     "output_type": "execute_result"
    }
   ],
   "source": [
    "from sklearn.ensemble import RandomForestClassifier\n",
    "module=RandomForestClassifier()\n",
    "dir(module)"
   ]
  },
  {
   "cell_type": "code",
   "execution_count": 24,
   "id": "1654bc96-0cc0-4ced-bd99-5fabd433f723",
   "metadata": {},
   "outputs": [
    {
     "data": {
      "text/plain": [
       "(4, 1)"
      ]
     },
     "execution_count": 24,
     "metadata": {},
     "output_type": "execute_result"
    }
   ],
   "source": [
    "divmod(9,2)"
   ]
  },
  {
   "cell_type": "code",
   "execution_count": 25,
   "id": "2177a4f4-3c39-4d1d-bd2a-35984e99b9ec",
   "metadata": {},
   "outputs": [],
   "source": [
    "total_datapoints=103  #100/20=5,3\n",
    "batch_size=20\n",
    "no_batches,reamining=divmod(total_datapoints,batch_size)"
   ]
  },
  {
   "cell_type": "code",
   "execution_count": 26,
   "id": "ca250577-7ec4-4d74-b862-48dce79ec49d",
   "metadata": {},
   "outputs": [
    {
     "data": {
      "text/plain": [
       "5"
      ]
     },
     "execution_count": 26,
     "metadata": {},
     "output_type": "execute_result"
    }
   ],
   "source": [
    "no_batches"
   ]
  },
  {
   "cell_type": "code",
   "execution_count": 27,
   "id": "b1e74d29-d39a-4119-827f-b609b34b7b94",
   "metadata": {},
   "outputs": [
    {
     "data": {
      "text/plain": [
       "3"
      ]
     },
     "execution_count": 27,
     "metadata": {},
     "output_type": "execute_result"
    }
   ],
   "source": [
    "reamining"
   ]
  },
  {
   "cell_type": "code",
   "execution_count": null,
   "id": "a0c64712-7d0e-4f4a-bf44-996cbc1db258",
   "metadata": {
    "jp-MarkdownHeadingCollapsed": true
   },
   "outputs": [],
   "source": [
    "# filter function"
   ]
  },
  {
   "cell_type": "code",
   "execution_count": 30,
   "id": "557b0140-066c-42a1-ab9f-18889547e006",
   "metadata": {},
   "outputs": [
    {
     "name": "stdout",
     "output_type": "stream",
     "text": [
      "['k', 'k', 'v']\n"
     ]
    }
   ],
   "source": [
    "def str(x):\n",
    "    return True \n",
    "my_str = \"kkv\"\n",
    "output = filter(str, my_str)\n",
    "print(list(output))"
   ]
  },
  {
   "cell_type": "code",
   "execution_count": 1,
   "id": "00c9f649-208e-4f25-b63c-132640b2df56",
   "metadata": {},
   "outputs": [
    {
     "name": "stdout",
     "output_type": "stream",
     "text": [
      "0 11\n",
      "1 12\n",
      "2 13\n",
      "3 14\n",
      "4 15\n"
     ]
    }
   ],
   "source": [
    "my_list=[11,12,13,14,15]\n",
    "for index,value in enumerate(my_list):\n",
    "    print(index,value)"
   ]
  },
  {
   "cell_type": "code",
   "execution_count": 2,
   "id": "7ed65451-3f23-4886-a165-687f4d78a7bb",
   "metadata": {},
   "outputs": [
    {
     "name": "stdout",
     "output_type": "stream",
     "text": [
      "0 11\n",
      "1 12\n",
      "2 13\n",
      "3 14\n",
      "4 15\n"
     ]
    }
   ],
   "source": [
    "my_list=[11,12,13,14,15]\n",
    "for index,value in enumerate(my_list,start=0):\n",
    "    print(index,value)"
   ]
  },
  {
   "cell_type": "code",
   "execution_count": 3,
   "id": "d2c0ade1-f716-4e13-8803-77387c8ce678",
   "metadata": {},
   "outputs": [
    {
     "name": "stdout",
     "output_type": "stream",
     "text": [
      "10 hi\n",
      "11 hello\n",
      "12 bye\n"
     ]
    }
   ],
   "source": [
    "t=(\"hi\",\"hello\",\"bye\")\n",
    "for index,value in enumerate(t,start=10):\n",
    "    print(index,value)"
   ]
  },
  {
   "cell_type": "code",
   "execution_count": 4,
   "id": "e8a9b02b-9c45-4ace-bb71-6ac092899ff0",
   "metadata": {},
   "outputs": [
    {
     "name": "stdout",
     "output_type": "stream",
     "text": [
      "50 56\n",
      "51 34\n",
      "52 99\n",
      "53 78\n"
     ]
    }
   ],
   "source": [
    "s={34,56,78,99}\n",
    "for index,value in enumerate(s,start=50):\n",
    "    print(index,value)"
   ]
  },
  {
   "cell_type": "code",
   "execution_count": 8,
   "id": "2f802769-43c2-429c-a243-87c686a9e76a",
   "metadata": {},
   "outputs": [
    {
     "name": "stdout",
     "output_type": "stream",
     "text": [
      "a 1\n",
      "b 2\n",
      "c 3\n"
     ]
    }
   ],
   "source": [
    "dict={\"a\":1,\"b\":2,\"c\":3}\n",
    "for k,v in dict.items():\n",
    "    print(k,v)"
   ]
  },
  {
   "cell_type": "code",
   "execution_count": 10,
   "id": "d34032d9-1dd6-40aa-8033-e9e83305eaf0",
   "metadata": {},
   "outputs": [
    {
     "name": "stdout",
     "output_type": "stream",
     "text": [
      "0 a\n",
      "1 b\n",
      "2 c\n"
     ]
    }
   ],
   "source": [
    "d={\"a\":1,\"b\":2,\"c\":3}\n",
    "for index,key in enumerate(d,start=0):\n",
    "    print(index,key)"
   ]
  },
  {
   "cell_type": "code",
   "execution_count": 11,
   "id": "4702e576-9f5c-449a-9ddb-2a120d571251",
   "metadata": {},
   "outputs": [
    {
     "name": "stdout",
     "output_type": "stream",
     "text": [
      "0 3\n",
      "1 4\n",
      "2 5\n",
      "3 6\n"
     ]
    }
   ],
   "source": [
    "def my_enumerate(a):\n",
    "    for i in range(len(a)):\n",
    "        print(i,a[i])\n",
    "a=[3,4,5,6]\n",
    "my_enumerate(a)"
   ]
  },
  {
   "cell_type": "code",
   "execution_count": 12,
   "id": "051fcd1a-63a1-491d-9d35-7818523ac57b",
   "metadata": {},
   "outputs": [
    {
     "name": "stdout",
     "output_type": "stream",
     "text": [
      "(2, 4, 6, 8)\n"
     ]
    }
   ],
   "source": [
    "def even_fun(x):\n",
    "    return x%2==0\n",
    "my_lst=[1,2,3,4,5,6,7,8,9]\n",
    "even_lst=filter(even_fun,my_lst)\n",
    "print(tuple(even_lst))"
   ]
  },
  {
   "cell_type": "code",
   "execution_count": 13,
   "id": "99a0b718-1bf6-4907-9c58-3c20627a429b",
   "metadata": {},
   "outputs": [
    {
     "name": "stdout",
     "output_type": "stream",
     "text": [
      "range(-10, 10)\n",
      "[1, 2, 3, 4, 5, 6, 7, 8, 9]\n"
     ]
    }
   ],
   "source": [
    "def positive(n):\n",
    "    if n>0:\n",
    "        return n\n",
    "your_lst=range(-10,10)\n",
    "print(your_lst)\n",
    "lst_pos=list(filter(positive,your_lst))\n",
    "print(lst_pos)"
   ]
  },
  {
   "cell_type": "code",
   "execution_count": 14,
   "id": "c239ce0d-8d92-4450-a2a6-8d153d8d90ab",
   "metadata": {},
   "outputs": [
    {
     "name": "stdout",
     "output_type": "stream",
     "text": [
      "True\n"
     ]
    }
   ],
   "source": [
    "x=5\n",
    "print(isinstance(x,int))"
   ]
  },
  {
   "cell_type": "code",
   "execution_count": 15,
   "id": "3d273616-1291-4548-915e-3d26264de5e5",
   "metadata": {},
   "outputs": [
    {
     "name": "stdout",
     "output_type": "stream",
     "text": [
      "True\n"
     ]
    }
   ],
   "source": [
    "y=3.14\n",
    "print(isinstance(y,float))"
   ]
  },
  {
   "cell_type": "code",
   "execution_count": 16,
   "id": "af2fc85f-67a6-43c7-8754-f0d058fcd332",
   "metadata": {},
   "outputs": [
    {
     "name": "stdout",
     "output_type": "stream",
     "text": [
      "True\n"
     ]
    }
   ],
   "source": [
    "z=\"mayur\"\n",
    "print(isinstance(z,(int,float,str)))"
   ]
  },
  {
   "cell_type": "code",
   "execution_count": 18,
   "id": "950151ab-7719-44be-9391-055e48762bf2",
   "metadata": {},
   "outputs": [
    {
     "name": "stdout",
     "output_type": "stream",
     "text": [
      "hi how are you\n",
      "True\n"
     ]
    }
   ],
   "source": [
    "class sample:\n",
    "    print(\"hi how are you\")\n",
    "obj=sample()\n",
    "print(isinstance(obj,sample))\n"
   ]
  },
  {
   "cell_type": "code",
   "execution_count": 24,
   "id": "6bfcc2f6-d981-4c10-a8c5-b67afa1c4522",
   "metadata": {},
   "outputs": [
    {
     "name": "stdout",
     "output_type": "stream",
     "text": [
      "[1, 4, 9, 16, 25, 36]\n"
     ]
    }
   ],
   "source": [
    "def square(p):\n",
    "    return p**2\n",
    "our_list=[1,2,3,4,5,6]\n",
    "square_lst=map(square,our_list)\n",
    "print(list(square_lst))"
   ]
  },
  {
   "cell_type": "code",
   "execution_count": 25,
   "id": "fb1b806a-6469-466b-abb0-e70b185fed2f",
   "metadata": {},
   "outputs": [
    {
     "name": "stdout",
     "output_type": "stream",
     "text": [
      "120\n"
     ]
    }
   ],
   "source": [
    "lst_me=[1,2,3,4,5]\n",
    "from functools import reduce\n",
    "def product(x,y):\n",
    "    return x*y\n",
    "result=reduce(product,lst_me)\n",
    "print(result)"
   ]
  },
  {
   "cell_type": "code",
   "execution_count": 1,
   "id": "c0424388-f100-408e-bcee-a1b00d1f53a9",
   "metadata": {},
   "outputs": [
    {
     "name": "stdout",
     "output_type": "stream",
     "text": [
      "[1, 2, 3, 4, 5, 6, 7, 8, 9]\n"
     ]
    }
   ],
   "source": [
    "our_list=range(-10,10)\n",
    "elements=list(filter(lambda x:x>0,our_list))\n",
    "print(elements)"
   ]
  },
  {
   "cell_type": "markdown",
   "id": "11e82dc8-657f-4b2f-b095-97584bfb5922",
   "metadata": {},
   "source": [
    "## lambda function"
   ]
  },
  {
   "cell_type": "code",
   "execution_count": 3,
   "id": "e5218e19-9974-4164-8c9a-5173ecbb6c01",
   "metadata": {},
   "outputs": [
    {
     "name": "stdout",
     "output_type": "stream",
     "text": [
      "10\n"
     ]
    }
   ],
   "source": [
    "double=lambda x:2*x\n",
    "print(double(5))"
   ]
  },
  {
   "cell_type": "code",
   "execution_count": 5,
   "id": "ccecc2ac-4669-4685-87e7-8815106cd275",
   "metadata": {},
   "outputs": [
    {
     "name": "stdout",
     "output_type": "stream",
     "text": [
      "25\n"
     ]
    }
   ],
   "source": [
    "result=lambda x:x**2\n",
    "print(result(5))"
   ]
  },
  {
   "cell_type": "code",
   "execution_count": 8,
   "id": "59eb9b50-0ca2-449f-9056-3a8bedcda8cf",
   "metadata": {},
   "outputs": [
    {
     "name": "stdout",
     "output_type": "stream",
     "text": [
      "[2, 4]\n"
     ]
    }
   ],
   "source": [
    "my_list=[1,2,3,4,5]\n",
    "def even(x):\n",
    "    return x%2==0\n",
    "result=filter(even,my_list)\n",
    "print(list(result))"
   ]
  },
  {
   "cell_type": "code",
   "execution_count": 10,
   "id": "ef7623d5-44b2-461a-a24a-ca7246716798",
   "metadata": {},
   "outputs": [
    {
     "name": "stdout",
     "output_type": "stream",
     "text": [
      "[2, 4, 6, 8]\n"
     ]
    }
   ],
   "source": [
    "our_list=[1,2,3,4,5,6,7,8]\n",
    "filtered_elements=list(filter(lambda x:x%2==0,our_list))\n",
    "print(filtered_elements)"
   ]
  },
  {
   "cell_type": "code",
   "execution_count": 12,
   "id": "828b8296-1d1f-4dc5-bb9e-5810805fb754",
   "metadata": {},
   "outputs": [
    {
     "name": "stdout",
     "output_type": "stream",
     "text": [
      "[1, 2, 3, 4, 5, 6, 7, 8, 9]\n"
     ]
    }
   ],
   "source": [
    "new_list=range(-10,10)\n",
    "elements=list(filter(lambda x:x>0,new_list))\n",
    "print(elements)"
   ]
  },
  {
   "cell_type": "code",
   "execution_count": 13,
   "id": "d84cd2c9-0336-4a9c-bedc-942e6648828d",
   "metadata": {},
   "outputs": [
    {
     "name": "stdout",
     "output_type": "stream",
     "text": [
      "[1, 8, 27, 64, 125, 216, 343, 512, 729]\n"
     ]
    }
   ],
   "source": [
    "next_list=[1,2,3,4,5,6,7,8,9]\n",
    "result=list(map(lambda x:x**3,next_list))\n",
    "print(result)"
   ]
  },
  {
   "cell_type": "code",
   "execution_count": 2,
   "id": "44f71086-fe09-41cb-b6ae-677812c14ff4",
   "metadata": {},
   "outputs": [
    {
     "name": "stdout",
     "output_type": "stream",
     "text": [
      "[1, 8, 27, 64, 125]\n"
     ]
    }
   ],
   "source": [
    "nlist=[1,2,3,4,5]\n",
    "elements=list(map(lambda x:x**3,nlist))\n",
    "print(elements)\n",
    "              "
   ]
  },
  {
   "cell_type": "code",
   "execution_count": null,
   "id": "1021f093-9d72-46fe-b837-b6ab160c7861",
   "metadata": {},
   "outputs": [],
   "source": []
  },
  {
   "cell_type": "code",
   "execution_count": 4,
   "id": "d753438c-7100-4f78-b17c-659b7538c8ef",
   "metadata": {},
   "outputs": [
    {
     "name": "stdout",
     "output_type": "stream",
     "text": [
      "[0, 1, 0, 1, 1, 0]\n"
     ]
    }
   ],
   "source": [
    "processed_list=[\"male\",\"female\",\"male\",\"female\",\"female\",\"male\"]\n",
    "result=list(map(lambda x:0 if x==\"male\" else 1,processed_list))\n",
    "print(result)"
   ]
  },
  {
   "cell_type": "code",
   "execution_count": 8,
   "id": "6c89822b-f1e0-41f8-a93d-08eb728b31ed",
   "metadata": {},
   "outputs": [
    {
     "name": "stdout",
     "output_type": "stream",
     "text": [
      "[0, 1, 0, 0, 1, 1, 0, 2, 0, 2, 2]\n"
     ]
    }
   ],
   "source": [
    "processed_list=[\"male\",\"female\",\"male\",\"male\",\"female\",\"female\",\"male\",\"others\",\"male\",\"others\",\"othres\"]\n",
    "result=list(map(lambda x:0 if x==\"male\" else 1 if x==\"female\" else 2,processed_list))\n",
    "print(result)"
   ]
  },
  {
   "cell_type": "code",
   "execution_count": 15,
   "id": "06ec1851-02a4-4b03-98bf-59463164683a",
   "metadata": {},
   "outputs": [
    {
     "name": "stdout",
     "output_type": "stream",
     "text": [
      "[('dog', 1), ('apple', 3), ('ball', 4), ('cat', 5)]\n"
     ]
    }
   ],
   "source": [
    "#sort the tuple based on the second value\n",
    "t_list=[(\"apple\",3),(\"ball\",4),(\"cat\",5),(\"dog\",1)]\n",
    "t_list.sort(key=lambda ele:ele[1])\n",
    "print(t_list)"
   ]
  },
  {
   "cell_type": "code",
   "execution_count": 18,
   "id": "bc8b58d2-b583-49a9-a1ab-59241ae56101",
   "metadata": {},
   "outputs": [
    {
     "name": "stdout",
     "output_type": "stream",
     "text": [
      "40320\n"
     ]
    }
   ],
   "source": [
    "from functools import reduce\n",
    "curr_list=[1,2,3,4,5,6,7,8]\n",
    "target=(reduce(lambda x,y:x*y,curr_list))\n",
    "print(target)"
   ]
  },
  {
   "cell_type": "code",
   "execution_count": 20,
   "id": "a1587bde-2905-4613-8c15-b6fe080593b4",
   "metadata": {},
   "outputs": [
    {
     "name": "stdout",
     "output_type": "stream",
     "text": [
      "1\n",
      "2\n",
      "3\n"
     ]
    },
    {
     "ename": "StopIteration",
     "evalue": "",
     "output_type": "error",
     "traceback": [
      "\u001b[1;31m---------------------------------------------------------------------------\u001b[0m",
      "\u001b[1;31mStopIteration\u001b[0m                             Traceback (most recent call last)",
      "Cell \u001b[1;32mIn[20], line 6\u001b[0m\n\u001b[0;32m      4\u001b[0m \u001b[38;5;28mprint\u001b[39m(\u001b[38;5;28mnext\u001b[39m(iterator))\n\u001b[0;32m      5\u001b[0m \u001b[38;5;28mprint\u001b[39m(\u001b[38;5;28mnext\u001b[39m(iterator))\n\u001b[1;32m----> 6\u001b[0m \u001b[38;5;28mprint\u001b[39m(\u001b[38;5;28mnext\u001b[39m(iterator))\n",
      "\u001b[1;31mStopIteration\u001b[0m: "
     ]
    }
   ],
   "source": [
    "obj_list=[1,2,3]\n",
    "iterator=iter(obj_list)\n",
    "print(next(iterator))\n",
    "print(next(iterator))\n",
    "print(next(iterator))\n",
    "print(next(iterator))"
   ]
  },
  {
   "cell_type": "code",
   "execution_count": 23,
   "id": "8a537eea-d3b3-4bb8-8889-8aa9d30da805",
   "metadata": {},
   "outputs": [
    {
     "name": "stdout",
     "output_type": "stream",
     "text": [
      "1\n",
      "2\n",
      "3\n",
      "no elements in iterable\n"
     ]
    }
   ],
   "source": [
    "\n",
    "\n",
    "check_list=[1,2,3]\n",
    "try:\n",
    "    iterator=iter(obj_list)\n",
    "    print(next(iterator))\n",
    "    print(next(iterator))\n",
    "    print(next(iterator))\n",
    "    print(next(iterator))\n",
    "except StopIteration:\n",
    "    print(\"no elements in iterable\")"
   ]
  },
  {
   "cell_type": "code",
   "execution_count": null,
   "id": "86d99789-cb7f-42b0-bcef-43561c1e60b4",
   "metadata": {},
   "outputs": [],
   "source": [
    "lst=[1,2,3,4]\n",
    "sum=0\n",
    "count=0\n",
    "for i in lst:\n",
    "    sum+=i\n",
    "    count+=1\n",
    "print(sum/count)"
   ]
  },
  {
   "cell_type": "code",
   "execution_count": 4,
   "id": "53fc1fd7-703b-48b7-9e3f-67e89ca2a267",
   "metadata": {},
   "outputs": [
    {
     "name": "stdout",
     "output_type": "stream",
     "text": [
      "0 1 0 2 0 1 0 "
     ]
    }
   ],
   "source": [
    "def function(n):\n",
    "    if n>0:\n",
    "        function(n-1)\n",
    "        print(n-1,end=\" \")\n",
    "        function(n-1)\n",
    "function(3)"
   ]
  },
  {
   "cell_type": "code",
   "execution_count": null,
   "id": "621481bd-615f-45cb-82cf-e7c57bcbe8f3",
   "metadata": {},
   "outputs": [],
   "source": [
    "#avarage number\n",
    "lst=[1,2,3,4]\n"
   ]
  },
  {
   "cell_type": "code",
   "execution_count": null,
   "id": "6b94af98-6cf1-48e3-96d1-f53edf0c74a4",
   "metadata": {},
   "outputs": [],
   "source": []
  },
  {
   "cell_type": "code",
   "execution_count": null,
   "id": "a0264842-461e-4a12-980e-77265792008b",
   "metadata": {},
   "outputs": [],
   "source": []
  }
 ],
 "metadata": {
  "kernelspec": {
   "display_name": "Python 3 (ipykernel)",
   "language": "python",
   "name": "python3"
  },
  "language_info": {
   "codemirror_mode": {
    "name": "ipython",
    "version": 3
   },
   "file_extension": ".py",
   "mimetype": "text/x-python",
   "name": "python",
   "nbconvert_exporter": "python",
   "pygments_lexer": "ipython3",
   "version": "3.12.7"
  }
 },
 "nbformat": 4,
 "nbformat_minor": 5
}
