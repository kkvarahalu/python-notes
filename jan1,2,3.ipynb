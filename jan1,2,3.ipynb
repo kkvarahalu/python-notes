{
 "cells": [
  {
   "cell_type": "code",
   "execution_count": 8,
   "id": "625796a9-150d-427d-aacd-cb2f8eae9618",
   "metadata": {},
   "outputs": [
    {
     "data": {
      "text/plain": [
       "190"
      ]
     },
     "execution_count": 8,
     "metadata": {},
     "output_type": "execute_result"
    }
   ],
   "source": [
    "dict={\n",
    "    1:100,2:50,3:40}\n",
    "x=dict.values()\n",
    "sum(x)"
   ]
  },
  {
   "cell_type": "code",
   "execution_count": 3,
   "id": "7aaa81b4-ab96-485b-b9d9-86a120e93fa5",
   "metadata": {},
   "outputs": [
    {
     "name": "stdout",
     "output_type": "stream",
     "text": [
      "dict_values([100, 50, 40])\n"
     ]
    }
   ],
   "source": [
    "print(x)"
   ]
  },
  {
   "cell_type": "code",
   "execution_count": 16,
   "id": "bc500925-7e9b-42c3-81da-d54fe137f4d7",
   "metadata": {},
   "outputs": [
    {
     "data": {
      "text/plain": [
       "40"
      ]
     },
     "execution_count": 16,
     "metadata": {},
     "output_type": "execute_result"
    }
   ],
   "source": [
    "dict={\n",
    "    1:100,2:50,3:40}\n",
    "x=dict.values()\n",
    "min(x)"
   ]
  },
  {
   "cell_type": "code",
   "execution_count": 17,
   "id": "2a3cd360-8fdf-42ef-b51b-370a1de48c41",
   "metadata": {},
   "outputs": [
    {
     "name": "stdout",
     "output_type": "stream",
     "text": [
      "190\n"
     ]
    }
   ],
   "source": [
    "dict={\n",
    "    1:100,2:50,3:40}\n",
    "x=dict[1]+dict[2]+dict[3]\n",
    "print(x)"
   ]
  },
  {
   "cell_type": "code",
   "execution_count": 21,
   "id": "19cb03e4-c476-4083-87a2-2cdf11608e80",
   "metadata": {},
   "outputs": [],
   "source": [
    "var='mayur'"
   ]
  },
  {
   "cell_type": "code",
   "execution_count": 22,
   "id": "3c61c215-0143-49d5-a358-a0ac019bd45e",
   "metadata": {},
   "outputs": [
    {
     "data": {
      "text/plain": [
       "'mayur'"
      ]
     },
     "execution_count": 22,
     "metadata": {},
     "output_type": "execute_result"
    }
   ],
   "source": [
    "var\n"
   ]
  },
  {
   "cell_type": "code",
   "execution_count": 23,
   "id": "aadca395-300d-44b1-9f66-0395f1c61bca",
   "metadata": {},
   "outputs": [
    {
     "data": {
      "text/plain": [
       "str"
      ]
     },
     "execution_count": 23,
     "metadata": {},
     "output_type": "execute_result"
    }
   ],
   "source": [
    "type(var)"
   ]
  },
  {
   "cell_type": "code",
   "execution_count": 24,
   "id": "12839f61-a07a-447b-8041-060f23928ab4",
   "metadata": {},
   "outputs": [
    {
     "name": "stdout",
     "output_type": "stream",
     "text": [
      "mayur\n",
      "mayur\n"
     ]
    }
   ],
   "source": [
    "var=\"mayur\"\n",
    "Var='''mayur'''\n",
    "print(var)\n",
    "print(Var)"
   ]
  },
  {
   "cell_type": "code",
   "execution_count": 13,
   "id": "62bcc2fe-0353-4868-b92e-eadc70497cc7",
   "metadata": {},
   "outputs": [
    {
     "ename": "SyntaxError",
     "evalue": "invalid syntax (1141616655.py, line 1)",
     "output_type": "error",
     "traceback": [
      "\u001b[1;36m  Cell \u001b[1;32mIn[13], line 1\u001b[1;36m\u001b[0m\n\u001b[1;33m    txt=\"\"one upon a time lived in a forest and jdjj xkok;o; jodkp jkkopik kiddj oikdikj okheqwe ioskkl klsk,\\\u001b[0m\n\u001b[1;37m          ^\u001b[0m\n\u001b[1;31mSyntaxError\u001b[0m\u001b[1;31m:\u001b[0m invalid syntax\n"
     ]
    }
   ],
   "source": [
    "txt=\"\"\"one upon a time lived in a forest and jdjj xkok;o; jodkp jkkopik kiddj oikdikj okheqwe ioskkl klsk,\\\n",
    "ckoi9i iekdolo oojko oijw099 nbnx, jos;m ji0o- hiodo0 jhgspks jpsdppvoijps kipsco joppodof psolcfooco kicox cxoxo oxoo \n",
    "oikjkok\"\"\""
   ]
  },
  {
   "cell_type": "code",
   "execution_count": 12,
   "id": "8df6e618-2537-4085-af3a-4cd6b33208d0",
   "metadata": {},
   "outputs": [
    {
     "data": {
      "text/plain": [
       "'one upon a time lived in a forest and jdjj xkok;o; jodkp jkkopik kiddj oikdikj okheqwe ioskkl klsk,ckoi9i iekdolo oojko oijw099 nbnx, jos;m ji0o- hiodo0 jhgspks jpsdppvoijps kipsco joppodof psolcfooco kicox cxoxo oxoo \\noikjkok'"
      ]
     },
     "execution_count": 12,
     "metadata": {},
     "output_type": "execute_result"
    }
   ],
   "source": [
    "txt"
   ]
  },
  {
   "cell_type": "code",
   "execution_count": null,
   "id": "33fccb86-c6ad-4d20-9daa-2cce7aa8e948",
   "metadata": {},
   "outputs": [],
   "source": [
    "txt=\"\"\"one upon a time lived in a forest and jdjj xkok;o; jodkp jkkopik kiddj oikdikj okheqwe ioskkl klsk,\\\n",
    "ckoi9i iekdolo oojko oijw099 nbnx, jos;m ji0o- hiodo0 jhgspks jpsdppvoijps kipsco joppodof psolcfooco kicox cxoxo oxoo \n",
    "oikjkok\"\"\""
   ]
  },
  {
   "cell_type": "code",
   "execution_count": 10,
   "id": "7afc401e-fb9f-469c-8f7f-db2c0b15a748",
   "metadata": {},
   "outputs": [
    {
     "data": {
      "text/plain": [
       "'one upon a time lived in a forest and jdjj xkok;o; jodkp jkkopik kiddj oikdikj okheqwe ioskkl klsk,ckoi9i iekdolo oojko oijw099 nbnx, jos;m ji0o- hiodo0 jhgspks jpsdppvoijps kipsco joppodof psolcfooco kicox cxoxo oxoo \\noikjkok'"
      ]
     },
     "execution_count": 10,
     "metadata": {},
     "output_type": "execute_result"
    }
   ],
   "source": [
    "txt"
   ]
  },
  {
   "cell_type": "code",
   "execution_count": 14,
   "id": "be8842f4-ed61-49d5-9c29-a0ff097c4c4f",
   "metadata": {},
   "outputs": [],
   "source": [
    "str=\"kkvarahalu\""
   ]
  },
  {
   "cell_type": "code",
   "execution_count": 15,
   "id": "0528a50c-8993-4bf5-a008-6fdba423aa5a",
   "metadata": {},
   "outputs": [
    {
     "data": {
      "text/plain": [
       "'k'"
      ]
     },
     "execution_count": 15,
     "metadata": {},
     "output_type": "execute_result"
    }
   ],
   "source": [
    "str[1]"
   ]
  },
  {
   "cell_type": "code",
   "execution_count": 25,
   "id": "d9b462f8-e0bf-49d7-a507-945b4ffdb4f8",
   "metadata": {},
   "outputs": [],
   "source": [
    "str=\"heloworld\""
   ]
  },
  {
   "cell_type": "code",
   "execution_count": 26,
   "id": "1378ad28-2c31-4999-a4f8-4c4452d4b787",
   "metadata": {},
   "outputs": [
    {
     "data": {
      "text/plain": [
       "'h'"
      ]
     },
     "execution_count": 26,
     "metadata": {},
     "output_type": "execute_result"
    }
   ],
   "source": [
    "str[0]"
   ]
  },
  {
   "cell_type": "code",
   "execution_count": 49,
   "id": "445a927d-e884-461b-b258-b74b4c936614",
   "metadata": {},
   "outputs": [],
   "source": [
    "str=\"hellohowareyou\""
   ]
  },
  {
   "cell_type": "code",
   "execution_count": 50,
   "id": "3718fc12-25cd-4875-b261-67a346b4a6f5",
   "metadata": {},
   "outputs": [
    {
     "data": {
      "text/plain": [
       "'elloh'"
      ]
     },
     "execution_count": 50,
     "metadata": {},
     "output_type": "execute_result"
    }
   ],
   "source": [
    "str[1:6]"
   ]
  },
  {
   "cell_type": "code",
   "execution_count": 48,
   "id": "18dc7641-2866-402c-8a13-b39387d030e7",
   "metadata": {},
   "outputs": [
    {
     "data": {
      "text/plain": [
       "'uewoe'"
      ]
     },
     "execution_count": 48,
     "metadata": {},
     "output_type": "execute_result"
    }
   ],
   "source": [
    "str[-1: :-3]"
   ]
  },
  {
   "cell_type": "code",
   "execution_count": 45,
   "id": "d19a9ee3-9d71-4288-8be5-00a85c56a251",
   "metadata": {},
   "outputs": [],
   "source": [
    "x=str[5:14]\n"
   ]
  },
  {
   "cell_type": "code",
   "execution_count": 46,
   "id": "ec67dfe0-82ce-425f-8fac-804505680d66",
   "metadata": {},
   "outputs": [
    {
     "data": {
      "text/plain": [
       "'howareyou'"
      ]
     },
     "execution_count": 46,
     "metadata": {},
     "output_type": "execute_result"
    }
   ],
   "source": [
    "x"
   ]
  },
  {
   "cell_type": "code",
   "execution_count": 51,
   "id": "472fcd84-5260-4d8d-b2eb-b05b305919f3",
   "metadata": {},
   "outputs": [
    {
     "data": {
      "text/plain": [
       "'uoyerawoholleh'"
      ]
     },
     "execution_count": 51,
     "metadata": {},
     "output_type": "execute_result"
    }
   ],
   "source": [
    "str[::-1]"
   ]
  },
  {
   "cell_type": "code",
   "execution_count": 30,
   "id": "df013ad6-f9c7-40c7-9936-6786578c4b77",
   "metadata": {},
   "outputs": [
    {
     "data": {
      "text/plain": [
       "''"
      ]
     },
     "execution_count": 30,
     "metadata": {},
     "output_type": "execute_result"
    }
   ],
   "source": [
    "str[2:4:-2]"
   ]
  },
  {
   "cell_type": "code",
   "execution_count": 31,
   "id": "d5ee14a7-8083-47b8-bfc1-e8fab7f2e074",
   "metadata": {},
   "outputs": [
    {
     "data": {
      "text/plain": [
       "''"
      ]
     },
     "execution_count": 31,
     "metadata": {},
     "output_type": "execute_result"
    }
   ],
   "source": [
    "str[-4:-2:-1]"
   ]
  },
  {
   "cell_type": "code",
   "execution_count": 32,
   "id": "807bd56d-94bb-4b27-8d8a-9c30a13ed566",
   "metadata": {},
   "outputs": [],
   "source": [
    "str1=\"hello\""
   ]
  },
  {
   "cell_type": "code",
   "execution_count": 33,
   "id": "d9512ae3-670f-4cb4-a29c-9239a7fc146a",
   "metadata": {},
   "outputs": [],
   "source": [
    "str2=\"hello\""
   ]
  },
  {
   "cell_type": "code",
   "execution_count": 34,
   "id": "1e44e71a-9312-4395-b4a3-7862aad74917",
   "metadata": {},
   "outputs": [
    {
     "data": {
      "text/plain": [
       "2234890580448"
      ]
     },
     "execution_count": 34,
     "metadata": {},
     "output_type": "execute_result"
    }
   ],
   "source": [
    "#concept of interning:\n",
    "id(str1)"
   ]
  },
  {
   "cell_type": "code",
   "execution_count": 35,
   "id": "d5ffa198-0eb9-4264-ae02-a50017b8692b",
   "metadata": {},
   "outputs": [
    {
     "data": {
      "text/plain": [
       "2234890580448"
      ]
     },
     "execution_count": 35,
     "metadata": {},
     "output_type": "execute_result"
    }
   ],
   "source": [
    "id(str2)"
   ]
  },
  {
   "cell_type": "code",
   "execution_count": 36,
   "id": "9934ded3-9c2d-4911-aa77-392a03fe6bf3",
   "metadata": {},
   "outputs": [],
   "source": [
    "s=\"hello\""
   ]
  },
  {
   "cell_type": "code",
   "execution_count": 37,
   "id": "54459f6e-4dd1-4f93-8504-245cacfb0461",
   "metadata": {
    "scrolled": true
   },
   "outputs": [
    {
     "ename": "TypeError",
     "evalue": "'str' object does not support item assignment",
     "output_type": "error",
     "traceback": [
      "\u001b[1;31m---------------------------------------------------------------------------\u001b[0m",
      "\u001b[1;31mTypeError\u001b[0m                                 Traceback (most recent call last)",
      "Cell \u001b[1;32mIn[37], line 1\u001b[0m\n\u001b[1;32m----> 1\u001b[0m s[\u001b[38;5;241m1\u001b[39m]\u001b[38;5;241m=\u001b[39m\u001b[38;5;124m'\u001b[39m\u001b[38;5;124ma\u001b[39m\u001b[38;5;124m'\u001b[39m\n",
      "\u001b[1;31mTypeError\u001b[0m: 'str' object does not support item assignment"
     ]
    }
   ],
   "source": [
    "#stirngs is immutible:this mean not suport item assignment in string:\n",
    "s[1]='a'"
   ]
  },
  {
   "cell_type": "code",
   "execution_count": 39,
   "id": "304b1b1e-ff7a-4b0d-8bd7-f57a43b5fab1",
   "metadata": {},
   "outputs": [],
   "source": [
    "s=\"abcd\""
   ]
  },
  {
   "cell_type": "code",
   "execution_count": 43,
   "id": "227bf16c-aff9-4893-aa41-16ac35edcefe",
   "metadata": {},
   "outputs": [],
   "source": [
    "x=s[0:1],s[0:2],s[0:3],s[0:4]\n",
    "y=s[1:1],s[1:2],s[1:3],s[1:4]"
   ]
  },
  {
   "cell_type": "code",
   "execution_count": 45,
   "id": "950fe851-8f9d-4571-87fc-35b0fdbfc05e",
   "metadata": {},
   "outputs": [
    {
     "name": "stdout",
     "output_type": "stream",
     "text": [
      "('a', 'ab', 'abc', 'abcd')\n",
      "('', 'b', 'bc', 'bcd')\n"
     ]
    }
   ],
   "source": [
    "print(x)\n",
    "print(y)"
   ]
  },
  {
   "cell_type": "code",
   "execution_count": 2,
   "id": "9e2bca0e-619a-46e9-9603-6687cb6ea7aa",
   "metadata": {},
   "outputs": [
    {
     "name": "stdout",
     "output_type": "stream",
     "text": [
      "a\n",
      "ab\n",
      "abc\n",
      "abcd\n",
      "b\n",
      "bc\n",
      "bcd\n",
      "c\n",
      "cd\n",
      "d\n",
      "None\n"
     ]
    }
   ],
   "source": [
    "def substring(s):\n",
    "    for i in range(len(s)):\n",
    "        for j in range(i+1,len(s)+1):\n",
    "            print(s[i:j])\n",
    "s=\"abcd\"\n",
    "print(substring(s))"
   ]
  },
  {
   "cell_type": "code",
   "execution_count": 53,
   "id": "d649b276-25e1-4237-9c80-e61fcc889181",
   "metadata": {},
   "outputs": [
    {
     "name": "stdout",
     "output_type": "stream",
     "text": [
      "n\n",
      "ni\n",
      "nit\n",
      "niti\n",
      "nitin\n",
      "i\n",
      "it\n",
      "iti\n",
      "itin\n",
      "t\n",
      "ti\n",
      "tin\n",
      "i\n",
      "in\n",
      "n\n",
      "None\n"
     ]
    }
   ],
   "source": [
    "def substring(s):\n",
    "    for i in range(0,len(s)):\n",
    "        for j in range(i+1,len(s)+1):\n",
    "            print(s[i:j])\n",
    "s=\"nitin\"\n",
    "print(substring(s))"
   ]
  },
  {
   "cell_type": "code",
   "execution_count": 63,
   "id": "6174abef-d38c-40ea-8986-24bfa9335e1d",
   "metadata": {},
   "outputs": [
    {
     "name": "stdout",
     "output_type": "stream",
     "text": [
      "a\n",
      "b\n",
      "bccb\n",
      "c\n",
      "cc\n",
      "c\n",
      "b\n",
      "d\n",
      "None\n"
     ]
    }
   ],
   "source": [
    "def substring(s):\n",
    "    for i in range(0,len(s)):\n",
    "        for j in range(i+1,len(s)+1):\n",
    "            v=s[i:j]\n",
    "            if ispallindrome(v)==True:\n",
    "                print(v)\n",
    "def ispallindrome(s):\n",
    "    i=0\n",
    "    j=len(s)-1\n",
    "    while i<=j:\n",
    "        if s[i]!=s[j]:\n",
    "            return False\n",
    "        else:\n",
    "            i+=1\n",
    "            j-=1\n",
    "    return True\n",
    "s=\"abccbd\"\n",
    "print(substring(s))"
   ]
  },
  {
   "cell_type": "code",
   "execution_count": 57,
   "id": "ad4cd06d-d2ba-436f-9269-65885e8ceb50",
   "metadata": {},
   "outputs": [
    {
     "name": "stdout",
     "output_type": "stream",
     "text": [
      "['a', 'b', 'bccb', 'c', 'cc', 'c', 'b', 'd']\n"
     ]
    }
   ],
   "source": [
    "def substring(s):\n",
    "    palindromes=[]\n",
    "    for i in range(0,len(s)):\n",
    "        for j in range(i+1,len(s)+1):\n",
    "            v=s[i:j]\n",
    "            if ispallindrome(v):\n",
    "                palindromes.append(v)\n",
    "    return palindromes\n",
    "def ispallindrome(s):\n",
    "    i=0\n",
    "    j=len(s)-1\n",
    "    while i<=j:\n",
    "        if s[i]!=s[j]:\n",
    "            return False\n",
    "        else:\n",
    "            i+=1\n",
    "            j-=1\n",
    "    return True\n",
    "s=\"abccbd\"\n",
    "palindromes=substring(s)\n",
    "print(substring(s))"
   ]
  },
  {
   "cell_type": "code",
   "execution_count": 7,
   "id": "fab628fe-47a4-4315-8cdb-9803fe5df048",
   "metadata": {},
   "outputs": [
    {
     "data": {
      "text/plain": [
       "'nitin'"
      ]
     },
     "execution_count": 7,
     "metadata": {},
     "output_type": "execute_result"
    }
   ],
   "source": [
    "def pai(s):\n",
    "    if s==s[::-1]:\n",
    "            return s\n",
    "    else:\n",
    "            return ''\n",
    "s='nitin'\n",
    "pai(s)"
   ]
  },
  {
   "cell_type": "code",
   "execution_count": null,
   "id": "10dc6b34-738d-4ab1-b974-a80877a73b80",
   "metadata": {},
   "outputs": [],
   "source": [
    "s='nitin"
   ]
  },
  {
   "cell_type": "code",
   "execution_count": 4,
   "id": "72e604a9-e663-4df3-b61f-387ed9938da5",
   "metadata": {},
   "outputs": [
    {
     "data": {
      "text/plain": [
       "'nitin'"
      ]
     },
     "execution_count": 4,
     "metadata": {},
     "output_type": "execute_result"
    }
   ],
   "source": [
    "s[::-1]"
   ]
  },
  {
   "cell_type": "code",
   "execution_count": 64,
   "id": "3926051a-8696-4b45-9900-a4673ec4e4e9",
   "metadata": {},
   "outputs": [
    {
     "name": "stdout",
     "output_type": "stream",
     "text": [
      "n\n",
      "nitin\n",
      "i\n",
      "iti\n",
      "t\n",
      "i\n",
      "n\n",
      "None\n"
     ]
    }
   ],
   "source": [
    "def substring(s):\n",
    "    for i in range(len(s)):\n",
    "        for j in range(i+1,len(s)+1):\n",
    "            v=s[i:j]\n",
    "            if ispallindrome(v)==True:\n",
    "                print(v)\n",
    "def ispallindrome(s):\n",
    "    i=0\n",
    "    j=len(s)-1\n",
    "    while i<=j:\n",
    "        if s[i]!=s[j]:\n",
    "            return False\n",
    "        else:\n",
    "            i+=1\n",
    "            j-=1\n",
    "    return True\n",
    "s=\"nitin\"\n",
    "print(substring(s))"
   ]
  },
  {
   "cell_type": "code",
   "execution_count": 65,
   "id": "d18d132f-cdd0-40af-8f0a-962b6c316e1d",
   "metadata": {},
   "outputs": [
    {
     "name": "stdout",
     "output_type": "stream",
     "text": [
      "abc\n"
     ]
    }
   ],
   "source": [
    "def compress(s):\n",
    "    s1=s[0]\n",
    "    for i in range(1,len(s)):\n",
    "        curr=s[i]\n",
    "        prev=s[i-1]\n",
    "        if prev!=curr:\n",
    "            s1+=curr\n",
    "    return s1\n",
    "s=\"aaaaaabbbbbbccc\"\n",
    "print(compress(s))"
   ]
  },
  {
   "cell_type": "code",
   "execution_count": 5,
   "id": "ce5ec9bf-191d-47ad-9a73-2ddde9672f6e",
   "metadata": {},
   "outputs": [
    {
     "name": "stdout",
     "output_type": "stream",
     "text": [
      "a6b6c3\n"
     ]
    }
   ],
   "source": [
    "def compress(s):\n",
    "    if not s:\n",
    "        return \"\"\n",
    "    s1=\"\"\n",
    "    count=1  \n",
    "    for i in range(1,len(s)):\n",
    "        curr=s[i]\n",
    "        prev=s[i-1]\n",
    "        if prev==curr:\n",
    "            count+=1\n",
    "        else:\n",
    "            s1+=prev+str(count)\n",
    "            count=1 \n",
    "    s1+=s[-1]+str(count)\n",
    "    return s1\n",
    "s=\"aaaaaabbbbbbccc\"\n",
    "print(compress(s))  "
   ]
  },
  {
   "cell_type": "code",
   "execution_count": null,
   "id": "6ff08200-9ac1-4b55-92f8-832c5804dd2f",
   "metadata": {},
   "outputs": [],
   "source": []
  },
  {
   "cell_type": "code",
   "execution_count": 7,
   "id": "2f291b5d-0287-44b9-acdb-f6a086268b4a",
   "metadata": {},
   "outputs": [
    {
     "name": "stdout",
     "output_type": "stream",
     "text": [
      "pattern is match\n",
      "pattern is match\n",
      "None\n"
     ]
    }
   ],
   "source": [
    "#.pattern matching:\n",
    "def  pattern_match(string,pattern):\n",
    "    n=len(string)\n",
    "    m=len(pattern)\n",
    "    for i in range(n-m+1):\n",
    "        j=0\n",
    "        while j<m:\n",
    "            if string[i+j]!=pattern[j]:\n",
    "                break\n",
    "            j+=1\n",
    "        if j==m:\n",
    "            print(\"pattern is match\")\n",
    "string=\"aaaabbbbababababbbb\"\n",
    "pattern=\"abbb\"\n",
    "print(pattern_match(string,pattern))   "
   ]
  },
  {
   "cell_type": "code",
   "execution_count": 4,
   "id": "9fe6e9ce-7706-4cae-bb99-e6350ca184ed",
   "metadata": {},
   "outputs": [
    {
     "name": "stdout",
     "output_type": "stream",
     "text": [
      "xyzabc\n"
     ]
    }
   ],
   "source": [
    "str1=\"xyz\"\n",
    "str2=\"abc\"\n",
    "print(str1+str2)"
   ]
  },
  {
   "cell_type": "code",
   "execution_count": 5,
   "id": "baa1e8ca-f2e5-4474-9d42-59641b1f4e35",
   "metadata": {},
   "outputs": [
    {
     "name": "stdout",
     "output_type": "stream",
     "text": [
      "xyzxyzxyz\n"
     ]
    }
   ],
   "source": [
    "print(str1*3)"
   ]
  },
  {
   "cell_type": "code",
   "execution_count": 6,
   "id": "fcded2a2-1375-48e9-b154-6fbbe1791a79",
   "metadata": {},
   "outputs": [
    {
     "name": "stdout",
     "output_type": "stream",
     "text": [
      "abc\n"
     ]
    }
   ],
   "source": [
    "str1=\"ABC\"\n",
    "print(str1.lower())"
   ]
  },
  {
   "cell_type": "code",
   "execution_count": 7,
   "id": "26a71826-38dd-4312-a79a-6457e0ab36bb",
   "metadata": {},
   "outputs": [
    {
     "name": "stdout",
     "output_type": "stream",
     "text": [
      "ABC\n"
     ]
    }
   ],
   "source": [
    "str2=\"abc\"\n",
    "print(str2.upper())"
   ]
  },
  {
   "cell_type": "code",
   "execution_count": 8,
   "id": "3597da93-b833-4b3a-84f1-f2850c26c540",
   "metadata": {},
   "outputs": [
    {
     "name": "stdout",
     "output_type": "stream",
     "text": [
      "['Python', 'is', 'a', 'programming', 'language']\n"
     ]
    }
   ],
   "source": [
    "str3=\"Python is  a programming language\"\n",
    "print(str3.split())"
   ]
  },
  {
   "cell_type": "code",
   "execution_count": 11,
   "id": "24fe2402-3068-4bc6-92fa-ba190faa56fe",
   "metadata": {},
   "outputs": [
    {
     "name": "stdout",
     "output_type": "stream",
     "text": [
      "pythonisaprogramminglanguage\n"
     ]
    }
   ],
   "source": [
    "print(''.join(['python','is','a','programming','language']))"
   ]
  },
  {
   "cell_type": "code",
   "execution_count": 13,
   "id": "1c9b809c-5def-4e77-ab91-df3f8f7931f2",
   "metadata": {},
   "outputs": [
    {
     "name": "stdout",
     "output_type": "stream",
     "text": [
      "Mayur\n"
     ]
    }
   ],
   "source": [
    "str=\"mayur\"\n",
    "print(str.replace('m','M'))"
   ]
  },
  {
   "cell_type": "code",
   "execution_count": 3,
   "id": "2a46db66-46ae-4550-8801-57932b5c9a2e",
   "metadata": {},
   "outputs": [
    {
     "name": "stdout",
     "output_type": "stream",
     "text": [
      "mmn\n"
     ]
    }
   ],
   "source": [
    "s=\"mkn\"\n",
    "a=s.replace('k','m')\n",
    "print(a)"
   ]
  },
  {
   "cell_type": "code",
   "execution_count": 29,
   "id": "1d07560d-b4fd-42a2-b7dd-3fe6ea65b4db",
   "metadata": {},
   "outputs": [],
   "source": [
    "a=\"12Gb\"\n",
    "str1=a.replace('GB','')\n"
   ]
  },
  {
   "cell_type": "code",
   "execution_count": 30,
   "id": "f4a334c5-f078-4477-a126-262cc16607b1",
   "metadata": {},
   "outputs": [
    {
     "data": {
      "text/plain": [
       "'12Gb'"
      ]
     },
     "execution_count": 30,
     "metadata": {},
     "output_type": "execute_result"
    }
   ],
   "source": [
    "str1"
   ]
  },
  {
   "cell_type": "code",
   "execution_count": 18,
   "id": "2c1cab40-db99-4577-aeb6-75b04baa32c0",
   "metadata": {},
   "outputs": [
    {
     "data": {
      "text/plain": [
       "str"
      ]
     },
     "execution_count": 18,
     "metadata": {},
     "output_type": "execute_result"
    }
   ],
   "source": [
    "type(str1)"
   ]
  },
  {
   "cell_type": "code",
   "execution_count": 21,
   "id": "20d1f1f1-0c26-47c7-b84e-79e8b122cba9",
   "metadata": {},
   "outputs": [],
   "source": [
    "a=\"MaYuR\"\n"
   ]
  },
  {
   "cell_type": "code",
   "execution_count": 23,
   "id": "eaa73f9b-02be-4874-b118-264c7580ef7f",
   "metadata": {},
   "outputs": [
    {
     "name": "stdout",
     "output_type": "stream",
     "text": [
      "4\n"
     ]
    }
   ],
   "source": [
    "str=\"goodmorning\"\n",
    "print(str.find('mo'))"
   ]
  },
  {
   "cell_type": "code",
   "execution_count": 14,
   "id": "e48fd2da-8a40-4d80-9c94-b65974e3629e",
   "metadata": {},
   "outputs": [
    {
     "name": "stdout",
     "output_type": "stream",
     "text": [
      "mAyUr\n"
     ]
    }
   ],
   "source": [
    "input_str=\"MaYuR\"\n",
    "output_str=\"\"\n",
    "for char in input_str:\n",
    "    if char.isupper():\n",
    "        output_str+=char.lower()\n",
    "    else:\n",
    "        output_str+=char.upper()\n",
    "print(output_str)"
   ]
  },
  {
   "cell_type": "code",
   "execution_count": 18,
   "id": "c756d9f2-9b5b-4fa6-bba1-2d7853b24d2c",
   "metadata": {},
   "outputs": [
    {
     "name": "stdout",
     "output_type": "stream",
     "text": [
      "mAyUr\n"
     ]
    }
   ],
   "source": [
    "n=\"MaYuR\"\n",
    "result=\"\"\n",
    "for i in n:\n",
    "    if i.isupper():\n",
    "        result+=i.lower()\n",
    "    else:\n",
    "        result+=i.upper()\n",
    "print(result)"
   ]
  },
  {
   "cell_type": "code",
   "execution_count": 11,
   "id": "395b3e9d-c6be-4fff-8c3f-76bce32ed23d",
   "metadata": {},
   "outputs": [
    {
     "name": "stdout",
     "output_type": "stream",
     "text": [
      "abc\n"
     ]
    }
   ],
   "source": [
    "#ABC\n",
    "def changelower():\n",
    "    s=\"ABC\"\n",
    "    result=\"\"\n",
    "    for i in range(len(s)):\n",
    "        result+=chr(ord(s[i])+(ord(\"a\")-ord(\"A\")))\n",
    "    return result\n",
    "lowercase_string=changelower()\n",
    "print(lowercase_string)"
   ]
  },
  {
   "cell_type": "code",
   "execution_count": 10,
   "id": "1944b180-af93-4889-997c-bb68404ef171",
   "metadata": {},
   "outputs": [
    {
     "name": "stdout",
     "output_type": "stream",
     "text": [
      "['a', 'ab', 'aba', 'abb', 'b', 'ba', 'bab', 'bb', 'bba', 'bbab']\n"
     ]
    }
   ],
   "source": [
    "#.identify the common_substring:\n",
    "def common_substrings(s1,s2):\n",
    "    common =set()\n",
    "    for i in range(0,len(s1)):\n",
    "         for j in range(i+1,len(s1)+1):\n",
    "             substring=s1[i:j]\n",
    "             if substring in s2:\n",
    "                 common.add(substring)\n",
    "   \n",
    "                 \n",
    "    return sorted(common)\n",
    "s1=\"aabaabbbab\"\n",
    "s2=\"abbabababb\"\n",
    "print(common_substrings(s1,s2))\n",
    "        "
   ]
  },
  {
   "cell_type": "code",
   "execution_count": 11,
   "id": "0cacde23-1efc-43d8-a510-d5d29e42b99c",
   "metadata": {},
   "outputs": [
    {
     "name": "stdout",
     "output_type": "stream",
     "text": [
      "4\n"
     ]
    }
   ],
   "source": [
    "def frequenecy_count(string,character):\n",
    "    count=0\n",
    "    for i in string:\n",
    "        if i==character:\n",
    "            count+=1\n",
    "    return count\n",
    "string=\"aaaabbbccab\"\n",
    "print(frequenecy_count(string,'b'))"
   ]
  },
  {
   "cell_type": "code",
   "execution_count": 4,
   "id": "e2e6ccdb-7496-490e-bdf3-cab939671c7a",
   "metadata": {},
   "outputs": [
    {
     "ename": "NameError",
     "evalue": "name 'recursive_frequenecy_count' is not defined",
     "output_type": "error",
     "traceback": [
      "\u001b[1;31m---------------------------------------------------------------------------\u001b[0m",
      "\u001b[1;31mNameError\u001b[0m                                 Traceback (most recent call last)",
      "Cell \u001b[1;32mIn[4], line 10\u001b[0m\n\u001b[0;32m      8\u001b[0m string\u001b[38;5;241m=\u001b[39m\u001b[38;5;124m\"\u001b[39m\u001b[38;5;124maaaabbbccab\u001b[39m\u001b[38;5;124m\"\u001b[39m  \n\u001b[0;32m      9\u001b[0m char\u001b[38;5;241m=\u001b[39m\u001b[38;5;124m\"\u001b[39m\u001b[38;5;124ma\u001b[39m\u001b[38;5;124m\"\u001b[39m\n\u001b[1;32m---> 10\u001b[0m \u001b[38;5;28mprint\u001b[39m(recursive_frequenecy_count(string,char))\n",
      "\u001b[1;31mNameError\u001b[0m: name 'recursive_frequenecy_count' is not defined"
     ]
    }
   ],
   "source": [
    "def recursive_frequency_count(string,char):\n",
    "    if len(string)==0:\n",
    "        return 0\n",
    "    elif string[0]==char:\n",
    "        return 1+recursive_frequenecy_count(string[1:],char)\n",
    "    else:\n",
    "        return recursive_frequenecy_count(string[1:],char)\n",
    "string=\"aaaabbbccab\"  \n",
    "char=\"a\"\n",
    "print(recursive_frequenecy_count(string,char))"
   ]
  },
  {
   "cell_type": "code",
   "execution_count": null,
   "id": "98920620-9d6e-4d1f-8a8e-1d6b1af24c5a",
   "metadata": {},
   "outputs": [],
   "source": []
  },
  {
   "cell_type": "code",
   "execution_count": 13,
   "id": "753c53c4-ca76-4fca-8144-184c3d664cda",
   "metadata": {},
   "outputs": [
    {
     "name": "stdout",
     "output_type": "stream",
     "text": [
      "m\n",
      "a\n",
      "y\n",
      "u\n",
      "r\n"
     ]
    }
   ],
   "source": [
    "string=\"mayur\"\n",
    "for i in string:\n",
    "    print(i)"
   ]
  },
  {
   "cell_type": "code",
   "execution_count": 19,
   "id": "2dfa3bb9-89b9-4367-a7a3-01ca34aa8a48",
   "metadata": {},
   "outputs": [
    {
     "name": "stdout",
     "output_type": "stream",
     "text": [
      "m\n",
      "a\n",
      "y\n",
      "u\n",
      "r\n",
      "None\n"
     ]
    }
   ],
   "source": [
    "def iterate_recursion(string,index):\n",
    "    if index==len(string):\n",
    "        return\n",
    "    else:\n",
    "        print(string[index])\n",
    "        return iterate_recursion(string,index+1)\n",
    "s=\"mayur\"\n",
    "print(iterate_recursion(s,0))"
   ]
  },
  {
   "cell_type": "code",
   "execution_count": 13,
   "id": "79be78d0-9b68-42f3-9767-ee5ac0fc5683",
   "metadata": {},
   "outputs": [
    {
     "name": "stdout",
     "output_type": "stream",
     "text": [
      "j\n",
      "r\n",
      "v\n",
      "k\n",
      "None\n"
     ]
    }
   ],
   "source": [
    "def iterate_recursion(string,index):\n",
    "    if index==len(string):\n",
    "        return\n",
    "    else:\n",
    "        iterate_recursion(string,index+2)\n",
    "        print(string[index])\n",
    "        \n",
    "s=\"kkvaraja\"\n",
    "print(iterate_recursion(s,0))"
   ]
  },
  {
   "cell_type": "code",
   "execution_count": 21,
   "id": "4cbac125-8118-481a-a6f7-1532439129eb",
   "metadata": {},
   "outputs": [],
   "source": [
    "s=\"this is python first class\""
   ]
  },
  {
   "cell_type": "code",
   "execution_count": 22,
   "id": "c96b56fc-f350-42d6-8491-1abe30940bc1",
   "metadata": {},
   "outputs": [
    {
     "name": "stdout",
     "output_type": "stream",
     "text": [
      "['this', 'is', 'python', 'first', 'class']\n"
     ]
    }
   ],
   "source": [
    "print(s.split())"
   ]
  },
  {
   "cell_type": "code",
   "execution_count": 23,
   "id": "f038730d-cf2a-43c0-8bcd-ba4c011ceacf",
   "metadata": {},
   "outputs": [
    {
     "name": "stdout",
     "output_type": "stream",
     "text": [
      "ayur\n"
     ]
    }
   ],
   "source": [
    "s=\"mayur\"\n",
    "print(s.replace(\"m\",\"\"))"
   ]
  },
  {
   "cell_type": "code",
   "execution_count": 24,
   "id": "137b8244-d3c8-466a-a9d4-5d56300e8a6e",
   "metadata": {},
   "outputs": [
    {
     "name": "stdout",
     "output_type": "stream",
     "text": [
      "4\n"
     ]
    }
   ],
   "source": [
    "s=\"goodmorning\"\n",
    "print(s.find(\"mo\"))"
   ]
  },
  {
   "cell_type": "code",
   "execution_count": 25,
   "id": "abcb5981-6e36-4e1a-8a8f-9b4db7623d67",
   "metadata": {},
   "outputs": [],
   "source": [
    "s1='abc'\n",
    "s2='xyz'"
   ]
  },
  {
   "cell_type": "code",
   "execution_count": 26,
   "id": "c991e0ae-7b89-4f78-95be-d96e91c07632",
   "metadata": {},
   "outputs": [
    {
     "data": {
      "text/plain": [
       "'abcxyz'"
      ]
     },
     "execution_count": 26,
     "metadata": {},
     "output_type": "execute_result"
    }
   ],
   "source": [
    "s1+s2"
   ]
  },
  {
   "cell_type": "code",
   "execution_count": 27,
   "id": "cf694304-cdc0-49a4-a4c1-b07ccfee3103",
   "metadata": {},
   "outputs": [
    {
     "name": "stdout",
     "output_type": "stream",
     "text": [
      "abcabcabcabcabc\n"
     ]
    }
   ],
   "source": [
    "print(s1*5)"
   ]
  },
  {
   "cell_type": "code",
   "execution_count": 32,
   "id": "f296f193-8a77-4716-ad84-790a599a3a78",
   "metadata": {},
   "outputs": [
    {
     "name": "stdout",
     "output_type": "stream",
     "text": [
      "it is a palindrome.\n"
     ]
    }
   ],
   "source": [
    "p=\"abcba\"\n",
    "if p[::-1]==p:\n",
    "    print(\"it is a palindrome.\")\n",
    "else:\n",
    "    print(\"it is a not palindrome.\")\n"
   ]
  },
  {
   "cell_type": "code",
   "execution_count": 12,
   "id": "6e0e1d6d-11cb-428a-a74c-81d4bd7a0633",
   "metadata": {},
   "outputs": [
    {
     "name": "stdout",
     "output_type": "stream",
     "text": [
      "is language python slow\n"
     ]
    }
   ],
   "source": [
    "str=\"python is slow language\"\n",
    "words=str.split(\" \")\n",
    "words.sort()\n",
    "sorted_str=\" \".join(words)\n",
    "print(sorted_str)"
   ]
  },
  {
   "cell_type": "code",
   "execution_count": 13,
   "id": "facac072-5cec-474f-8919-8ef91279a642",
   "metadata": {},
   "outputs": [],
   "source": [
    "s=\"ababababaab\""
   ]
  },
  {
   "cell_type": "code",
   "execution_count": 17,
   "id": "2136bf46-f8db-4e75-8b74-87229af0f58a",
   "metadata": {},
   "outputs": [
    {
     "name": "stdout",
     "output_type": "stream",
     "text": [
      "a\n"
     ]
    }
   ],
   "source": [
    "from collections import Counter\n",
    "print(max(Counter(\"ababababaab\"),key=Counter(\"ababababaab\").get))"
   ]
  },
  {
   "cell_type": "code",
   "execution_count": 35,
   "id": "a2b20a25-1504-4d9e-9515-b6dda069f331",
   "metadata": {},
   "outputs": [
    {
     "data": {
      "text/plain": [
       "'a'"
      ]
     },
     "execution_count": 35,
     "metadata": {},
     "output_type": "execute_result"
    }
   ],
   "source": [
    "s[0]"
   ]
  },
  {
   "cell_type": "code",
   "execution_count": 41,
   "id": "3c2c2226-bc16-4c81-b82e-d20580ba02b1",
   "metadata": {},
   "outputs": [],
   "source": [
    "str=\"!!!!!!!!!!hello!!!!!!!!\""
   ]
  },
  {
   "cell_type": "code",
   "execution_count": 42,
   "id": "24acc46f-7f6e-42f8-acd5-47fe2690de7d",
   "metadata": {},
   "outputs": [
    {
     "data": {
      "text/plain": [
       "'hello'"
      ]
     },
     "execution_count": 42,
     "metadata": {},
     "output_type": "execute_result"
    }
   ],
   "source": [
    "str.strip('!')"
   ]
  },
  {
   "cell_type": "code",
   "execution_count": 43,
   "id": "0196ae94-679c-4200-a7d5-9d06e438959d",
   "metadata": {},
   "outputs": [],
   "source": [
    "s2=\"!!!!!!!!!!hello\""
   ]
  },
  {
   "cell_type": "code",
   "execution_count": 45,
   "id": "b6632bbd-37a8-479f-be14-cf1aeef15d26",
   "metadata": {},
   "outputs": [
    {
     "data": {
      "text/plain": [
       "'hello'"
      ]
     },
     "execution_count": 45,
     "metadata": {},
     "output_type": "execute_result"
    }
   ],
   "source": [
    "s2.lstrip('!')"
   ]
  },
  {
   "cell_type": "code",
   "execution_count": 46,
   "id": "02d4cd3d-4b45-4386-8017-56f9cddd9c6d",
   "metadata": {},
   "outputs": [],
   "source": [
    "str3=\"hello!!!!!!!!!!\""
   ]
  },
  {
   "cell_type": "code",
   "execution_count": 48,
   "id": "c5a77c9e-36d0-42a9-8079-6f8cd9d11b88",
   "metadata": {},
   "outputs": [
    {
     "data": {
      "text/plain": [
       "'hello'"
      ]
     },
     "execution_count": 48,
     "metadata": {},
     "output_type": "execute_result"
    }
   ],
   "source": [
    "str3.rstrip('!')"
   ]
  },
  {
   "cell_type": "code",
   "execution_count": 49,
   "id": "911720f2-0e97-40de-8bc4-df523bb6821e",
   "metadata": {},
   "outputs": [],
   "source": [
    "str=\"!!!!!!!!!!hello!!!!!howareyou!!!!!!!!\""
   ]
  },
  {
   "cell_type": "code",
   "execution_count": 50,
   "id": "5f037752-385f-47d1-871f-53287087c2e8",
   "metadata": {},
   "outputs": [
    {
     "data": {
      "text/plain": [
       "'hello!!!!!howareyou'"
      ]
     },
     "execution_count": 50,
     "metadata": {},
     "output_type": "execute_result"
    }
   ],
   "source": [
    "str.strip('!')"
   ]
  },
  {
   "cell_type": "code",
   "execution_count": null,
   "id": "722e4744-55e0-4983-a60e-f84d8a355ec9",
   "metadata": {},
   "outputs": [],
   "source": []
  },
  {
   "cell_type": "code",
   "execution_count": null,
   "id": "a15a1f29-40d9-423c-823c-11378622ce29",
   "metadata": {},
   "outputs": [],
   "source": []
  },
  {
   "cell_type": "code",
   "execution_count": null,
   "id": "efd29d3a-6206-4afd-9a90-11af5ef57dd9",
   "metadata": {},
   "outputs": [],
   "source": []
  },
  {
   "cell_type": "code",
   "execution_count": null,
   "id": "89362ef2-1aff-4c61-a2a5-90833df45895",
   "metadata": {},
   "outputs": [],
   "source": []
  },
  {
   "cell_type": "code",
   "execution_count": null,
   "id": "b0c7014b-5aaa-4890-9cd0-64dd091e0e0f",
   "metadata": {},
   "outputs": [],
   "source": []
  },
  {
   "cell_type": "code",
   "execution_count": null,
   "id": "079cdab4-150f-4aff-9495-4a82b2e9b4fd",
   "metadata": {},
   "outputs": [],
   "source": []
  },
  {
   "cell_type": "code",
   "execution_count": null,
   "id": "d0009986-f13b-4282-b80a-296463aae9ba",
   "metadata": {},
   "outputs": [],
   "source": []
  },
  {
   "cell_type": "code",
   "execution_count": null,
   "id": "2ad3c5e2-90af-44fa-8e24-aeff22d09150",
   "metadata": {},
   "outputs": [],
   "source": []
  },
  {
   "cell_type": "code",
   "execution_count": null,
   "id": "de5986d8-c225-4d24-ab30-7f55fc8851c0",
   "metadata": {},
   "outputs": [],
   "source": []
  },
  {
   "cell_type": "code",
   "execution_count": null,
   "id": "088d680d-64e1-42a2-8f41-7326b71a003d",
   "metadata": {},
   "outputs": [],
   "source": []
  },
  {
   "cell_type": "code",
   "execution_count": null,
   "id": "6e262821-a5d6-4edd-93fa-3506c937696c",
   "metadata": {},
   "outputs": [],
   "source": []
  },
  {
   "cell_type": "code",
   "execution_count": null,
   "id": "e9e025eb-9f58-4876-a5d2-bb6628a2d9c1",
   "metadata": {},
   "outputs": [],
   "source": []
  },
  {
   "cell_type": "code",
   "execution_count": null,
   "id": "fbd926c0-d8e5-4394-a23a-92ab42a68808",
   "metadata": {},
   "outputs": [],
   "source": []
  },
  {
   "cell_type": "code",
   "execution_count": null,
   "id": "baba79b2-a599-4667-a00e-69497b960033",
   "metadata": {},
   "outputs": [],
   "source": []
  },
  {
   "cell_type": "code",
   "execution_count": null,
   "id": "3a11032f-d829-457b-84a3-6d596aa55b57",
   "metadata": {},
   "outputs": [],
   "source": []
  },
  {
   "cell_type": "code",
   "execution_count": null,
   "id": "e5a2625d-610c-4322-b13e-8f3e81b8c91c",
   "metadata": {},
   "outputs": [],
   "source": []
  },
  {
   "cell_type": "code",
   "execution_count": null,
   "id": "5c1d5939-c432-4e14-859a-382c40467e56",
   "metadata": {},
   "outputs": [],
   "source": []
  },
  {
   "cell_type": "code",
   "execution_count": null,
   "id": "7cb9add2-2329-4023-b6db-45cd31d3110b",
   "metadata": {},
   "outputs": [],
   "source": []
  },
  {
   "cell_type": "code",
   "execution_count": null,
   "id": "522eafbe-67c3-4cdc-b3a1-d401cc74bf2a",
   "metadata": {},
   "outputs": [],
   "source": []
  },
  {
   "cell_type": "code",
   "execution_count": null,
   "id": "2d313a59-38f3-4fa9-823c-119815085ca1",
   "metadata": {},
   "outputs": [],
   "source": []
  },
  {
   "cell_type": "code",
   "execution_count": null,
   "id": "fd65c7bf-2e15-48c2-b407-1cb6a35d612f",
   "metadata": {},
   "outputs": [],
   "source": []
  },
  {
   "cell_type": "code",
   "execution_count": null,
   "id": "7658b328-38be-476b-839c-330f14357e09",
   "metadata": {},
   "outputs": [],
   "source": []
  },
  {
   "cell_type": "code",
   "execution_count": null,
   "id": "4580b429-0243-4e6e-b4ae-61964289ff75",
   "metadata": {},
   "outputs": [],
   "source": []
  },
  {
   "cell_type": "code",
   "execution_count": null,
   "id": "9427ea28-bc68-4831-acf9-d270d11089a6",
   "metadata": {},
   "outputs": [],
   "source": []
  },
  {
   "cell_type": "code",
   "execution_count": null,
   "id": "6667af71-05fc-4558-984d-42a527716b7f",
   "metadata": {},
   "outputs": [],
   "source": []
  },
  {
   "cell_type": "code",
   "execution_count": null,
   "id": "e05b8adc-dd88-49bf-9f97-41d8c171357f",
   "metadata": {},
   "outputs": [],
   "source": []
  },
  {
   "cell_type": "code",
   "execution_count": null,
   "id": "c16a4b90-a384-40ab-82ba-42b27d5620fa",
   "metadata": {},
   "outputs": [],
   "source": []
  },
  {
   "cell_type": "code",
   "execution_count": null,
   "id": "cca44fc6-a881-448a-a0e3-afc679ee7034",
   "metadata": {},
   "outputs": [],
   "source": []
  },
  {
   "cell_type": "code",
   "execution_count": null,
   "id": "0b7014a5-e3ab-425c-bc99-72c55178746a",
   "metadata": {},
   "outputs": [],
   "source": []
  },
  {
   "cell_type": "code",
   "execution_count": null,
   "id": "f4aa5e8a-d615-4e42-bd59-5825cc6a28c9",
   "metadata": {},
   "outputs": [],
   "source": []
  },
  {
   "cell_type": "code",
   "execution_count": null,
   "id": "425a738a-a876-49cc-8f84-63eda764cb67",
   "metadata": {},
   "outputs": [],
   "source": []
  },
  {
   "cell_type": "code",
   "execution_count": null,
   "id": "8abaad94-7b88-4c88-9d52-7e9cce3d09cb",
   "metadata": {},
   "outputs": [],
   "source": []
  },
  {
   "cell_type": "code",
   "execution_count": null,
   "id": "9a9cd6c2-5b49-4c3d-9dd9-fcedd3d0b80d",
   "metadata": {},
   "outputs": [],
   "source": []
  },
  {
   "cell_type": "code",
   "execution_count": null,
   "id": "be4ee2b1-c66a-46d7-99d6-fbfff31fc23f",
   "metadata": {},
   "outputs": [],
   "source": []
  },
  {
   "cell_type": "code",
   "execution_count": null,
   "id": "86f078dc-f6e4-4f66-9b6a-f314694053bf",
   "metadata": {},
   "outputs": [],
   "source": []
  },
  {
   "cell_type": "code",
   "execution_count": null,
   "id": "79ec6ddb-f828-4599-ab02-9ea74273464c",
   "metadata": {},
   "outputs": [],
   "source": []
  },
  {
   "cell_type": "code",
   "execution_count": null,
   "id": "bd3706aa-917b-4154-97b4-cb7d92cc6ec3",
   "metadata": {},
   "outputs": [],
   "source": []
  },
  {
   "cell_type": "code",
   "execution_count": null,
   "id": "13b0046e-fd94-4fa9-bc9e-62703615e7aa",
   "metadata": {},
   "outputs": [],
   "source": []
  },
  {
   "cell_type": "code",
   "execution_count": null,
   "id": "74dc554f-473c-4cea-9aa0-2cf2c1fbabe5",
   "metadata": {},
   "outputs": [],
   "source": []
  },
  {
   "cell_type": "code",
   "execution_count": null,
   "id": "e4127d60-68d3-442a-af3d-652f06261e56",
   "metadata": {},
   "outputs": [],
   "source": []
  },
  {
   "cell_type": "code",
   "execution_count": null,
   "id": "69458f6d-0e85-44e4-8291-cf826a653afa",
   "metadata": {},
   "outputs": [],
   "source": []
  },
  {
   "cell_type": "code",
   "execution_count": null,
   "id": "40ee0d5e-698a-48ac-a220-33338e881883",
   "metadata": {},
   "outputs": [],
   "source": []
  },
  {
   "cell_type": "code",
   "execution_count": null,
   "id": "aa40a99d-8775-4839-af3c-7e84cef1a43d",
   "metadata": {},
   "outputs": [],
   "source": []
  },
  {
   "cell_type": "code",
   "execution_count": null,
   "id": "dc13586a-7209-4872-9522-23941c410a9b",
   "metadata": {},
   "outputs": [],
   "source": []
  },
  {
   "cell_type": "code",
   "execution_count": null,
   "id": "eceb3f7f-9865-4770-9248-d86c8b673946",
   "metadata": {},
   "outputs": [],
   "source": []
  }
 ],
 "metadata": {
  "kernelspec": {
   "display_name": "Python 3 (ipykernel)",
   "language": "python",
   "name": "python3"
  },
  "language_info": {
   "codemirror_mode": {
    "name": "ipython",
    "version": 3
   },
   "file_extension": ".py",
   "mimetype": "text/x-python",
   "name": "python",
   "nbconvert_exporter": "python",
   "pygments_lexer": "ipython3",
   "version": "3.12.7"
  }
 },
 "nbformat": 4,
 "nbformat_minor": 5
}
