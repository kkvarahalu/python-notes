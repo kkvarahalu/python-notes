{
 "cells": [
  {
   "cell_type": "code",
   "execution_count": 1,
   "id": "e3b958e2-4b82-4717-8e35-9555fd17de60",
   "metadata": {},
   "outputs": [
    {
     "name": "stdout",
     "output_type": "stream",
     "text": [
      "xyz\n"
     ]
    }
   ],
   "source": [
    "dict={\n",
    "    \"mayur\":101,\n",
    "    \"abc\":102,\n",
    "    \"xyz\":103\n",
    "}\n",
    "for key,value in dict.items():\n",
    "    if value==103:\n",
    "        print(key)"
   ]
  },
  {
   "cell_type": "code",
   "execution_count": 8,
   "id": "daf460cb-0d11-43fa-9ea8-4eded4e0a3b8",
   "metadata": {},
   "outputs": [
    {
     "ename": "KeyError",
     "evalue": "12",
     "output_type": "error",
     "traceback": [
      "\u001b[1;31m---------------------------------------------------------------------------\u001b[0m",
      "\u001b[1;31mKeyError\u001b[0m                                  Traceback (most recent call last)",
      "Cell \u001b[1;32mIn[8], line 1\u001b[0m\n\u001b[1;32m----> 1\u001b[0m \u001b[38;5;28mdict\u001b[39m[\u001b[38;5;241m12\u001b[39m]\n",
      "\u001b[1;31mKeyError\u001b[0m: 12"
     ]
    }
   ],
   "source": [
    "dict[12]"
   ]
  },
  {
   "cell_type": "code",
   "execution_count": 2,
   "id": "5a363abb-bf13-48fd-b8d6-c2abd2b51632",
   "metadata": {},
   "outputs": [],
   "source": [
    "dict={\n",
    "    \"mayur\":101,\n",
    "    \"abc\":102,\n",
    "    \"xyz\":103\n",
    "}"
   ]
  },
  {
   "cell_type": "code",
   "execution_count": 3,
   "id": "8de42680-63d5-45d8-91b8-25eab285e1aa",
   "metadata": {},
   "outputs": [
    {
     "data": {
      "text/plain": [
       "101"
      ]
     },
     "execution_count": 3,
     "metadata": {},
     "output_type": "execute_result"
    }
   ],
   "source": [
    "dict[\"mayur\"]"
   ]
  },
  {
   "cell_type": "code",
   "execution_count": 5,
   "id": "9a59834b-1c18-47aa-b818-bb413fc2742c",
   "metadata": {},
   "outputs": [
    {
     "data": {
      "text/plain": [
       "103"
      ]
     },
     "execution_count": 5,
     "metadata": {},
     "output_type": "execute_result"
    }
   ],
   "source": [
    "dict[\"xyz\"]"
   ]
  },
  {
   "cell_type": "code",
   "execution_count": 10,
   "id": "7abb55b1-d583-4a33-ba30-7e1a7f89ee26",
   "metadata": {},
   "outputs": [
    {
     "name": "stdout",
     "output_type": "stream",
     "text": [
      "{10: 1, 20: 1, 30: 1, 40: 1, 50: 1}\n"
     ]
    }
   ],
   "source": [
    "list=[10,20,30,40,50]\n",
    "dict={}\n",
    "for ele in list:\n",
    "    dict[ele]=1\n",
    "print(dict)"
   ]
  },
  {
   "cell_type": "code",
   "execution_count": 8,
   "id": "7ebfe6d9-6a69-4242-b897-6c0aaa544c92",
   "metadata": {},
   "outputs": [
    {
     "name": "stdout",
     "output_type": "stream",
     "text": [
      "{10: 'a', 20: 'a', 30: 'a', 40: 'a', 50: 'a'}\n"
     ]
    }
   ],
   "source": [
    "list=[10,20,30,40,50]\n",
    "dict={}\n",
    "for i in list:\n",
    "    dict[i]=\"a\"\n",
    "print(dict)"
   ]
  },
  {
   "cell_type": "code",
   "execution_count": 9,
   "id": "5f8aa5c7-1f33-4508-ab16-d79f8e929c05",
   "metadata": {},
   "outputs": [
    {
     "name": "stdout",
     "output_type": "stream",
     "text": [
      "{1: ('apple', 'banana'), 2: ('apple', 'banana'), 3: ('apple', 'banana'), 4: ('apple', 'banana')}\n"
     ]
    }
   ],
   "source": [
    "list=[1,2,3,4]\n",
    "dict={}\n",
    "for i in list:\n",
    "    dict[i]=\"apple\",\"banana\"\n",
    "print(dict)"
   ]
  },
  {
   "cell_type": "code",
   "execution_count": 5,
   "id": "f267d429-8daa-4f12-99a1-78671d77a770",
   "metadata": {},
   "outputs": [
    {
     "name": "stdout",
     "output_type": "stream",
     "text": [
      "[20, 40]\n"
     ]
    }
   ],
   "source": [
    "def commonelements(list1,list2):\n",
    "    smallest={}\n",
    "    list3=[]\n",
    "    if len(list1)<len(list2):\n",
    "        for i in list1:\n",
    "            smallest[i]=1\n",
    "    else:\n",
    "        for i in list2:\n",
    "            smallest[i]=1\n",
    "    if len(list1)==len(smallest):\n",
    "       for i in list2:\n",
    "          if smallest.get(i):\n",
    "              list3.append(i)\n",
    "    else:\n",
    "        for i in list1:\n",
    "            if smallest.get(i):\n",
    "                list3.append(i)\n",
    "    return list3\n",
    "list1=[10,20,30,40,50]\n",
    "list2=[20,40,90,100]\n",
    "print(commonelements(list1,list2))\n"
   ]
  },
  {
   "cell_type": "code",
   "execution_count": 34,
   "id": "b0bb705a-0d7d-49dd-8b38-768c26349adb",
   "metadata": {},
   "outputs": [
    {
     "name": "stdout",
     "output_type": "stream",
     "text": [
      "[30, 40, 50, 60, 70]\n"
     ]
    }
   ],
   "source": [
    "def commonelements(list1,list2):\n",
    "    smallest={}\n",
    "    list3=[]\n",
    "    if len(list1)<len(list2):\n",
    "        for i in list1:\n",
    "            smallest[i]=1\n",
    "    else:\n",
    "       for i in list2:\n",
    "           smallest[i]=1\n",
    "    if len(list1)==len(smallest):\n",
    "        for i in list2:\n",
    "            if smallest.get(i):\n",
    "                list3.append(i)\n",
    "    else:\n",
    "        for i in list1:\n",
    "            if smallest.get(i):\n",
    "                list3.append(i)\n",
    "    return list3\n",
    "list1=[10,20,30,40,50]\n",
    "list2=[30,40,50,60,70]\n",
    "print(commonelements(list1,list2))    "
   ]
  },
  {
   "cell_type": "code",
   "execution_count": 7,
   "id": "659502d9-1c5d-402f-afc9-24b9869f4873",
   "metadata": {},
   "outputs": [
    {
     "name": "stdout",
     "output_type": "stream",
     "text": [
      "[20, 40]\n"
     ]
    }
   ],
   "source": [
    "def commonelements(list1,list2):\n",
    "    set2=set(list2)\n",
    "    return [item for item in list1 if item in set2]\n",
    "list1=[10,20,30,40,50]\n",
    "list2=[20,40,90,20,100]\n",
    "print(commonelements(list1,list2))\n",
    "\n",
    "    "
   ]
  },
  {
   "cell_type": "code",
   "execution_count": 35,
   "id": "18ef3ff7-426c-4ec1-b77b-e7895207f05f",
   "metadata": {},
   "outputs": [
    {
     "name": "stdout",
     "output_type": "stream",
     "text": [
      "[30, 40, 50]\n"
     ]
    }
   ],
   "source": [
    "def commonelements(list1,list2):\n",
    "    set2=set(list2)\n",
    "    return [item for item in list1 if item in set2]\n",
    "list1=[10,20,30,40,50]\n",
    "list2=[30,40,50,60,70]\n",
    "print(commonelements(list1,list2))\n"
   ]
  },
  {
   "cell_type": "code",
   "execution_count": null,
   "id": "ccc6a6b3-5985-40e0-866c-7356db7c7ab2",
   "metadata": {},
   "outputs": [],
   "source": []
  },
  {
   "cell_type": "code",
   "execution_count": 3,
   "id": "edf1b1e0-6452-4717-819f-dd2bc9ce04aa",
   "metadata": {},
   "outputs": [
    {
     "name": "stdout",
     "output_type": "stream",
     "text": [
      "[40, 20]\n"
     ]
    }
   ],
   "source": [
    "def commonelements(list1,list2):\n",
    "    return list(set(list1)&set(list2))\n",
    "list1=[10,20,30,40,50]\n",
    "list2=[20,40,90,100]\n",
    "print(commonelements(list1,list2))"
   ]
  },
  {
   "cell_type": "code",
   "execution_count": 25,
   "id": "e4f980fa-579c-4066-a95e-a3baf69b6ba9",
   "metadata": {},
   "outputs": [
    {
     "name": "stdout",
     "output_type": "stream",
     "text": [
      "50\n",
      "20\n",
      "40\n",
      "10\n",
      "30\n"
     ]
    }
   ],
   "source": [
    "set1={10,20,30,40,50}\n",
    "for i in set1:\n",
    "    print(i)"
   ]
  },
  {
   "cell_type": "code",
   "execution_count": 27,
   "id": "e03a024d-8c55-490c-8060-532a4731ded6",
   "metadata": {},
   "outputs": [],
   "source": [
    "dict={}\n",
    "for i in set1:\n",
    "    dict[i]=1"
   ]
  },
  {
   "cell_type": "code",
   "execution_count": 28,
   "id": "25b9b4e3-9794-4c35-b241-900809a04aa2",
   "metadata": {},
   "outputs": [
    {
     "data": {
      "text/plain": [
       "{50: 1, 20: 1, 40: 1, 10: 1, 30: 1}"
      ]
     },
     "execution_count": 28,
     "metadata": {},
     "output_type": "execute_result"
    }
   ],
   "source": [
    "dict"
   ]
  },
  {
   "cell_type": "code",
   "execution_count": 1,
   "id": "f29ede35-805c-4f71-b414-54eeee3b86d9",
   "metadata": {},
   "outputs": [],
   "source": [
    "dict={\n",
    "    \"mayur\":101,\n",
    "    \"abc\":102,\n",
    "    \"xyz\":103\n",
    "}"
   ]
  },
  {
   "cell_type": "code",
   "execution_count": 3,
   "id": "d5eda9bc-50c0-4a28-9a0f-5e7800c5cc7a",
   "metadata": {},
   "outputs": [
    {
     "data": {
      "text/plain": [
       "102"
      ]
     },
     "execution_count": 3,
     "metadata": {},
     "output_type": "execute_result"
    }
   ],
   "source": [
    "dict.pop(\"abc\")"
   ]
  },
  {
   "cell_type": "code",
   "execution_count": 4,
   "id": "a22a7227-4029-4616-a646-4846e88ffa74",
   "metadata": {},
   "outputs": [
    {
     "data": {
      "text/plain": [
       "{'mayur': 101, 'xyz': 103}"
      ]
     },
     "execution_count": 4,
     "metadata": {},
     "output_type": "execute_result"
    }
   ],
   "source": [
    "dict"
   ]
  },
  {
   "cell_type": "code",
   "execution_count": 34,
   "id": "63b89e3c-95da-431e-9dee-691cde7b282c",
   "metadata": {},
   "outputs": [
    {
     "data": {
      "text/plain": [
       "{'mayur': 101, 'abc': 102, 'xyz': 103}"
      ]
     },
     "execution_count": 34,
     "metadata": {},
     "output_type": "execute_result"
    }
   ],
   "source": [
    "dict\n"
   ]
  },
  {
   "cell_type": "code",
   "execution_count": 35,
   "id": "c8135c62-fbd5-4a38-823d-28a0e5deea38",
   "metadata": {},
   "outputs": [],
   "source": [
    "#\n",
    "dict[\"mayur\"]=500"
   ]
  },
  {
   "cell_type": "code",
   "execution_count": 36,
   "id": "d7bbc14c-5b58-4c55-b545-57e753ab337f",
   "metadata": {},
   "outputs": [
    {
     "data": {
      "text/plain": [
       "{'mayur': 500, 'abc': 102, 'xyz': 103}"
      ]
     },
     "execution_count": 36,
     "metadata": {},
     "output_type": "execute_result"
    }
   ],
   "source": [
    "dict"
   ]
  },
  {
   "cell_type": "code",
   "execution_count": 37,
   "id": "c75e74b5-b99c-4882-8c66-b040364200ad",
   "metadata": {},
   "outputs": [],
   "source": [
    "#add dictionary item:\n",
    "dict[\"wer\"]=890"
   ]
  },
  {
   "cell_type": "code",
   "execution_count": 38,
   "id": "4be4b5df-827f-4752-872b-f07503e772f9",
   "metadata": {},
   "outputs": [
    {
     "data": {
      "text/plain": [
       "{'mayur': 500, 'abc': 102, 'xyz': 103, 'wer': 890}"
      ]
     },
     "execution_count": 38,
     "metadata": {},
     "output_type": "execute_result"
    }
   ],
   "source": [
    "dict"
   ]
  },
  {
   "cell_type": "code",
   "execution_count": 39,
   "id": "1fd0819b-c912-40e7-ac63-b940907fd9a8",
   "metadata": {},
   "outputs": [],
   "source": [
    "dict[\"yur\"]=1000"
   ]
  },
  {
   "cell_type": "code",
   "execution_count": 40,
   "id": "ba779c19-9c69-45b7-ae76-8e2aa18eb254",
   "metadata": {},
   "outputs": [
    {
     "data": {
      "text/plain": [
       "{'mayur': 500, 'abc': 102, 'xyz': 103, 'wer': 890, 'yur': 1000}"
      ]
     },
     "execution_count": 40,
     "metadata": {},
     "output_type": "execute_result"
    }
   ],
   "source": [
    "dict"
   ]
  },
  {
   "cell_type": "code",
   "execution_count": null,
   "id": "4fae6a70-81ea-48c3-a8d5-22dfddb6fb16",
   "metadata": {},
   "outputs": [],
   "source": [
    "#.identify last item:"
   ]
  },
  {
   "cell_type": "code",
   "execution_count": 5,
   "id": "68f6b3b3-0ea8-4674-9fe1-06599fab925c",
   "metadata": {},
   "outputs": [
    {
     "name": "stdout",
     "output_type": "stream",
     "text": [
      "mayur\n",
      "xyz\n"
     ]
    }
   ],
   "source": [
    "for i in dict:\n",
    "    print(i)"
   ]
  },
  {
   "cell_type": "code",
   "execution_count": 9,
   "id": "023c83ea-fc4c-4976-8a4f-01c96eda26e4",
   "metadata": {},
   "outputs": [
    {
     "ename": "ValueError",
     "evalue": "too many values to unpack (expected 2)",
     "output_type": "error",
     "traceback": [
      "\u001b[1;31m---------------------------------------------------------------------------\u001b[0m",
      "\u001b[1;31mValueError\u001b[0m                                Traceback (most recent call last)",
      "Cell \u001b[1;32mIn[9], line 1\u001b[0m\n\u001b[1;32m----> 1\u001b[0m \u001b[38;5;28;01mfor\u001b[39;00m k,v \u001b[38;5;129;01min\u001b[39;00m \u001b[38;5;28mdict\u001b[39m:\n\u001b[0;32m      2\u001b[0m     \u001b[38;5;28mprint\u001b[39m(i)\n",
      "\u001b[1;31mValueError\u001b[0m: too many values to unpack (expected 2)"
     ]
    }
   ],
   "source": [
    "for k,v in dict:\n",
    "    print(i)"
   ]
  },
  {
   "cell_type": "code",
   "execution_count": 10,
   "id": "940243a8-ff69-47c1-aa2b-333c8428e012",
   "metadata": {},
   "outputs": [
    {
     "ename": "TypeError",
     "evalue": "my_pop() takes from 0 to 1 positional arguments but 2 were given",
     "output_type": "error",
     "traceback": [
      "\u001b[1;31m---------------------------------------------------------------------------\u001b[0m",
      "\u001b[1;31mTypeError\u001b[0m                                 Traceback (most recent call last)",
      "Cell \u001b[1;32mIn[10], line 12\u001b[0m\n\u001b[0;32m      6\u001b[0m     \u001b[38;5;28;01mreturn\u001b[39;00m dict1\n\u001b[0;32m      7\u001b[0m \u001b[38;5;28mdict\u001b[39m\u001b[38;5;241m=\u001b[39m{\n\u001b[0;32m      8\u001b[0m     \u001b[38;5;124m\"\u001b[39m\u001b[38;5;124mname\u001b[39m\u001b[38;5;124m\"\u001b[39m:\u001b[38;5;124m\"\u001b[39m\u001b[38;5;124mmayur\u001b[39m\u001b[38;5;124m\"\u001b[39m,\n\u001b[0;32m      9\u001b[0m     \u001b[38;5;124m\"\u001b[39m\u001b[38;5;124mrollno\u001b[39m\u001b[38;5;124m\"\u001b[39m:\u001b[38;5;241m101\u001b[39m,\n\u001b[0;32m     10\u001b[0m     \u001b[38;5;124m\"\u001b[39m\u001b[38;5;124mmarks\u001b[39m\u001b[38;5;124m\"\u001b[39m:\u001b[38;5;241m75\u001b[39m\n\u001b[0;32m     11\u001b[0m }\n\u001b[1;32m---> 12\u001b[0m \u001b[38;5;28mprint\u001b[39m(my_pop(\u001b[38;5;28mdict\u001b[39m,\u001b[38;5;124m\"\u001b[39m\u001b[38;5;124mmarks\u001b[39m\u001b[38;5;124m\"\u001b[39m))\n",
      "\u001b[1;31mTypeError\u001b[0m: my_pop() takes from 0 to 1 positional arguments but 2 were given"
     ]
    }
   ],
   "source": [
    "def my_pop(key=6):\n",
    "    dict1={}\n",
    "    for i in dict:\n",
    "        if key!=i:\n",
    "            dict1[i]=dict.get(i)\n",
    "    return dict1\n",
    "dict={\n",
    "    \"name\":\"mayur\",\n",
    "    \"rollno\":101,\n",
    "    \"marks\":75\n",
    "}\n",
    "print(my_pop(dict,\"marks\"))   "
   ]
  },
  {
   "cell_type": "code",
   "execution_count": 10,
   "id": "ebe89e6e-30e4-4df5-846e-ad004bee6390",
   "metadata": {},
   "outputs": [],
   "source": [
    "dict={\n",
    "    \"name\":\"mayur\",\n",
    "    \"rollno\":101,\n",
    "    \"marks\":75\n",
    "}"
   ]
  },
  {
   "cell_type": "code",
   "execution_count": 11,
   "id": "9f6b849c-411f-4553-a82f-362b8f4cf3cd",
   "metadata": {},
   "outputs": [
    {
     "data": {
      "text/plain": [
       "('marks', 75)"
      ]
     },
     "execution_count": 11,
     "metadata": {},
     "output_type": "execute_result"
    }
   ],
   "source": [
    "dict.popitem()"
   ]
  },
  {
   "cell_type": "code",
   "execution_count": 12,
   "id": "e7d7883e-679e-49cb-9034-9255d38f1175",
   "metadata": {},
   "outputs": [
    {
     "data": {
      "text/plain": [
       "dict_items([('name', 'mayur'), ('rollno', 101)])"
      ]
     },
     "execution_count": 12,
     "metadata": {},
     "output_type": "execute_result"
    }
   ],
   "source": [
    "dict.items()"
   ]
  },
  {
   "cell_type": "code",
   "execution_count": 13,
   "id": "3279aebc-3945-4c84-9eea-8dc1878bf0bb",
   "metadata": {},
   "outputs": [],
   "source": [
    "dict.get(101)"
   ]
  },
  {
   "cell_type": "code",
   "execution_count": 14,
   "id": "3d2e0597-8468-4079-9dcd-33d369b4835d",
   "metadata": {},
   "outputs": [
    {
     "data": {
      "text/plain": [
       "{'name': 'mayur', 'rollno': 101}"
      ]
     },
     "execution_count": 14,
     "metadata": {},
     "output_type": "execute_result"
    }
   ],
   "source": [
    " dict"
   ]
  },
  {
   "cell_type": "code",
   "execution_count": 15,
   "id": "99416ca2-ba17-4ff7-b5f6-4eaf71776bf9",
   "metadata": {},
   "outputs": [
    {
     "name": "stdout",
     "output_type": "stream",
     "text": [
      "name mayur\n",
      "rollno 101\n"
     ]
    }
   ],
   "source": [
    "for k,v in dict.items():\n",
    "    print(k,v)"
   ]
  },
  {
   "cell_type": "code",
   "execution_count": 16,
   "id": "699ce94d-afdf-4e7f-b406-a39f1b26bc8e",
   "metadata": {},
   "outputs": [],
   "source": [
    "dict.clear()"
   ]
  },
  {
   "cell_type": "code",
   "execution_count": 17,
   "id": "9dd19d68-1656-4063-9fb8-a42c44ffe4e1",
   "metadata": {},
   "outputs": [
    {
     "data": {
      "text/plain": [
       "{}"
      ]
     },
     "execution_count": 17,
     "metadata": {},
     "output_type": "execute_result"
    }
   ],
   "source": [
    "dict"
   ]
  },
  {
   "cell_type": "code",
   "execution_count": 22,
   "id": "1b9bad4f-5bb6-4b8c-8177-3a79505c8155",
   "metadata": {},
   "outputs": [],
   "source": [
    "for k,v in dict.items():\n",
    "    print(dict.clear())"
   ]
  },
  {
   "cell_type": "code",
   "execution_count": 23,
   "id": "c16b1d6c-090e-4dea-8707-e523403abf70",
   "metadata": {},
   "outputs": [
    {
     "data": {
      "text/plain": [
       "{}"
      ]
     },
     "execution_count": 23,
     "metadata": {},
     "output_type": "execute_result"
    }
   ],
   "source": [
    "dict"
   ]
  },
  {
   "cell_type": "code",
   "execution_count": 24,
   "id": "2a3c7917-803b-44e5-8907-3214875a0833",
   "metadata": {},
   "outputs": [],
   "source": [
    "for k,v in dict.items():\n",
    "    print(dict.pop())"
   ]
  },
  {
   "cell_type": "code",
   "execution_count": 25,
   "id": "b1e8dea8-72fa-4da9-91a6-3b3f974675c1",
   "metadata": {},
   "outputs": [
    {
     "data": {
      "text/plain": [
       "{}"
      ]
     },
     "execution_count": 25,
     "metadata": {},
     "output_type": "execute_result"
    }
   ],
   "source": [
    "dict"
   ]
  },
  {
   "cell_type": "code",
   "execution_count": 26,
   "id": "0ee0259b-3c2b-4537-81fe-7a5db7117ee1",
   "metadata": {},
   "outputs": [
    {
     "name": "stdout",
     "output_type": "stream",
     "text": [
      "{'name': 'mayur', 'rollno': 101}\n"
     ]
    }
   ],
   "source": [
    "def  my_items(dict):\n",
    "    dict1={}\n",
    "    for i in dict:\n",
    "        continue\n",
    "    for j in dict:\n",
    "        if j!=i:\n",
    "            dict1[j]=dict.get(j)\n",
    "    return dict1\n",
    "dict={\n",
    "    \"name\":\"mayur\",\n",
    "    \"rollno\":101,\n",
    "    \"marks\":75\n",
    "}\n",
    "print(my_items(dict))"
   ]
  },
  {
   "cell_type": "code",
   "execution_count": 27,
   "id": "81f491a7-1a3a-4688-9187-4a033f74ba84",
   "metadata": {},
   "outputs": [],
   "source": [
    "dict1=dict.copy()"
   ]
  },
  {
   "cell_type": "code",
   "execution_count": 28,
   "id": "6c575372-a490-472c-ae4d-5e751e1a1099",
   "metadata": {},
   "outputs": [
    {
     "data": {
      "text/plain": [
       "{'name': 'mayur', 'rollno': 101, 'marks': 75}"
      ]
     },
     "execution_count": 28,
     "metadata": {},
     "output_type": "execute_result"
    }
   ],
   "source": [
    "dict1"
   ]
  },
  {
   "cell_type": "code",
   "execution_count": 1,
   "id": "1ed0d24a-b17e-4670-8ac2-b55f50f5d743",
   "metadata": {},
   "outputs": [
    {
     "ename": "TypeError",
     "evalue": "'int' object is not iterable",
     "output_type": "error",
     "traceback": [
      "\u001b[1;31m---------------------------------------------------------------------------\u001b[0m",
      "\u001b[1;31mTypeError\u001b[0m                                 Traceback (most recent call last)",
      "Cell \u001b[1;32mIn[1], line 4\u001b[0m\n\u001b[0;32m      2\u001b[0m \u001b[38;5;28mdict\u001b[39m\u001b[38;5;241m=\u001b[39m{}\n\u001b[0;32m      3\u001b[0m list2\u001b[38;5;241m=\u001b[39m[]\n\u001b[1;32m----> 4\u001b[0m \u001b[38;5;28;01mfor\u001b[39;00m i \u001b[38;5;129;01min\u001b[39;00m \u001b[38;5;28mlen\u001b[39m(list1):\n\u001b[0;32m      5\u001b[0m     \u001b[38;5;28;01mcontinue\u001b[39;00m\n\u001b[0;32m      6\u001b[0m     \u001b[38;5;28;01mfor\u001b[39;00m j \u001b[38;5;129;01min\u001b[39;00m list1:\n",
      "\u001b[1;31mTypeError\u001b[0m: 'int' object is not iterable"
     ]
    }
   ],
   "source": [
    "list1=[2,6,4,1,5,3,4]\n",
    "dict={}\n",
    "list2=[]\n",
    "for i in len(list1):\n",
    "    continue\n",
    "    for j in list1:\n",
    "     Target=8\n",
    "print(Target)"
   ]
  },
  {
   "cell_type": "code",
   "execution_count": 11,
   "id": "9fa8d64f-a726-486b-851a-8b4d2847175e",
   "metadata": {},
   "outputs": [
    {
     "name": "stdout",
     "output_type": "stream",
     "text": [
      "[(2, 6), (5, 3), (4, 4)]\n"
     ]
    }
   ],
   "source": [
    "list1 = [2, 6, 4, 1, 5, 3, 4]\n",
    "Target = 8\n",
    "list2 = []\n",
    "dict = {}\n",
    "for i in list1:\n",
    "    complement = Target - i\n",
    "    if complement in dict:\n",
    "        list2.append((complement, i))\n",
    "    dict[i] = True\n",
    "\n",
    "#print(\"list2 that sum to\", Target, \":\", list2)\n",
    "print(list2)"
   ]
  },
  {
   "cell_type": "code",
   "execution_count": 37,
   "id": "b9ccb81b-6999-4c22-92aa-2d92eaa3b6c4",
   "metadata": {},
   "outputs": [
    {
     "name": "stdout",
     "output_type": "stream",
     "text": [
      "{1: None, 2: None, 3: None, 4: None, 5: None}\n"
     ]
    }
   ],
   "source": [
    "dict={}\n",
    "s=(1,2,3,4,5)\n",
    "print(dict.fromkeys(s,None))"
   ]
  },
  {
   "cell_type": "code",
   "execution_count": null,
   "id": "c1fa5118-3301-4297-8e23-48f934edd4aa",
   "metadata": {},
   "outputs": [],
   "source": []
  },
  {
   "cell_type": "code",
   "execution_count": null,
   "id": "d8e82edd-2d42-4db9-82fd-98fb6d112424",
   "metadata": {},
   "outputs": [],
   "source": []
  },
  {
   "cell_type": "code",
   "execution_count": null,
   "id": "11958ec4-04f8-4649-8ce6-141d6ceafb77",
   "metadata": {},
   "outputs": [],
   "source": []
  },
  {
   "cell_type": "code",
   "execution_count": null,
   "id": "2bd00829-b18d-4af9-870d-af8c64918d31",
   "metadata": {},
   "outputs": [],
   "source": []
  },
  {
   "cell_type": "code",
   "execution_count": null,
   "id": "40fae687-a956-49ff-9765-4ef3e1003208",
   "metadata": {},
   "outputs": [],
   "source": []
  },
  {
   "cell_type": "code",
   "execution_count": null,
   "id": "3ef3d85c-d139-44fe-8b4b-86d6cfb3c540",
   "metadata": {},
   "outputs": [],
   "source": []
  },
  {
   "cell_type": "code",
   "execution_count": null,
   "id": "db6fafc4-47a1-4fbf-9c3d-5f3b212d45ba",
   "metadata": {},
   "outputs": [],
   "source": []
  },
  {
   "cell_type": "code",
   "execution_count": null,
   "id": "1e770b68-2d39-42a0-aab6-c5ebfa4e864a",
   "metadata": {},
   "outputs": [],
   "source": []
  },
  {
   "cell_type": "code",
   "execution_count": null,
   "id": "a77911c7-cf4a-4475-a83a-00a05fb7bbcf",
   "metadata": {},
   "outputs": [],
   "source": []
  },
  {
   "cell_type": "code",
   "execution_count": null,
   "id": "99113b59-c658-49d9-befe-596689659ef1",
   "metadata": {},
   "outputs": [],
   "source": []
  },
  {
   "cell_type": "code",
   "execution_count": null,
   "id": "a8198ce6-16db-4505-a539-40e344d5c00b",
   "metadata": {},
   "outputs": [],
   "source": []
  },
  {
   "cell_type": "code",
   "execution_count": null,
   "id": "e6f1b0a7-88a3-4a78-8bc0-7c017752a151",
   "metadata": {},
   "outputs": [],
   "source": []
  },
  {
   "cell_type": "code",
   "execution_count": null,
   "id": "b96f7ec7-c2d2-46ce-97fa-4067341a6fc7",
   "metadata": {},
   "outputs": [],
   "source": []
  },
  {
   "cell_type": "code",
   "execution_count": null,
   "id": "9c6f832a-6b98-4d09-9289-d26070bde566",
   "metadata": {},
   "outputs": [],
   "source": []
  },
  {
   "cell_type": "code",
   "execution_count": null,
   "id": "6535fbde-64ef-4b25-81bf-e3316c1de692",
   "metadata": {},
   "outputs": [],
   "source": []
  },
  {
   "cell_type": "code",
   "execution_count": null,
   "id": "a86070ac-5176-475e-9d0b-816d66cef451",
   "metadata": {},
   "outputs": [],
   "source": []
  },
  {
   "cell_type": "code",
   "execution_count": null,
   "id": "02e3b116-7c9e-4438-9163-08f8ce2d69db",
   "metadata": {},
   "outputs": [],
   "source": []
  },
  {
   "cell_type": "code",
   "execution_count": null,
   "id": "71bd53a3-b184-4b64-b411-9c4e86c48a94",
   "metadata": {},
   "outputs": [],
   "source": []
  },
  {
   "cell_type": "code",
   "execution_count": null,
   "id": "46d5ad8d-dc20-46d1-9e04-f87b2e6f9c22",
   "metadata": {},
   "outputs": [],
   "source": []
  },
  {
   "cell_type": "code",
   "execution_count": null,
   "id": "e89bcc74-2e0d-4283-b4a4-5309055d7f33",
   "metadata": {},
   "outputs": [],
   "source": []
  },
  {
   "cell_type": "code",
   "execution_count": null,
   "id": "33cbeacd-554b-4cc1-aea0-0e49fbc58109",
   "metadata": {},
   "outputs": [],
   "source": []
  },
  {
   "cell_type": "code",
   "execution_count": null,
   "id": "2b4ef2cc-763a-4299-bfd7-82f298a43953",
   "metadata": {},
   "outputs": [],
   "source": []
  },
  {
   "cell_type": "code",
   "execution_count": null,
   "id": "35482605-7e51-4913-a23d-f4626e4f0b1d",
   "metadata": {},
   "outputs": [],
   "source": []
  }
 ],
 "metadata": {
  "kernelspec": {
   "display_name": "Python 3 (ipykernel)",
   "language": "python",
   "name": "python3"
  },
  "language_info": {
   "codemirror_mode": {
    "name": "ipython",
    "version": 3
   },
   "file_extension": ".py",
   "mimetype": "text/x-python",
   "name": "python",
   "nbconvert_exporter": "python",
   "pygments_lexer": "ipython3",
   "version": "3.12.7"
  }
 },
 "nbformat": 4,
 "nbformat_minor": 5
}
