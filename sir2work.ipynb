{
 "cells": [
  {
   "cell_type": "code",
   "execution_count": 3,
   "id": "dc916f74-8685-4450-8c24-6bc6c3eb4096",
   "metadata": {},
   "outputs": [
    {
     "name": "stdin",
     "output_type": "stream",
     "text": [
      "enter the first number 3\n",
      "enter the second number 3\n"
     ]
    },
    {
     "name": "stdout",
     "output_type": "stream",
     "text": [
      "9\n"
     ]
    }
   ],
   "source": [
    "def recursive_mul(a,b):\n",
    "    if b==0:\n",
    "        return 0\n",
    "    else:\n",
    "       return a+recursive_mul(a,(b-1))\n",
    "a=int(input(\"enter the first number\"))\n",
    "b=int(input(\"enter the second number\"))\n",
    "print(recursive_mul(a,b))"
   ]
  },
  {
   "cell_type": "code",
   "execution_count": 9,
   "id": "b1639551-b386-4257-8931-fec5a63f5ba5",
   "metadata": {},
   "outputs": [
    {
     "name": "stdin",
     "output_type": "stream",
     "text": [
      "enter any number 5\n"
     ]
    },
    {
     "name": "stdout",
     "output_type": "stream",
     "text": [
      "120\n"
     ]
    }
   ],
   "source": [
    "def fact(n):\n",
    "    if n==0 or n==1:\n",
    "       return 1\n",
    "    else:\n",
    "        return n*fact(n-1)\n",
    "n=int(input(\"enter any number\"))\n",
    "print(fact(n))"
   ]
  },
  {
   "cell_type": "code",
   "execution_count": 12,
   "id": "e812d9f5-a020-4865-ade3-2e1dd1c49827",
   "metadata": {},
   "outputs": [
    {
     "name": "stdin",
     "output_type": "stream",
     "text": [
      "enter any number 2\n",
      "enter any number 5\n"
     ]
    },
    {
     "name": "stdout",
     "output_type": "stream",
     "text": [
      "32\n"
     ]
    }
   ],
   "source": [
    "def power(a,n):\n",
    "    if n==0:\n",
    "       return 1\n",
    "    elif n%2==0:\n",
    "        result=power(a,(n//2))\n",
    "        return result*result\n",
    "    else:\n",
    "        result=power(a,(n//2))\n",
    "        return result*result*a\n",
    "a=int(input(\"enter any number\"))\n",
    "n=int(input(\"enter any number\"))\n",
    "print(power(a,n))"
   ]
  },
  {
   "cell_type": "code",
   "execution_count": 4,
   "id": "afae3091-bd89-4a82-9422-858f9614dea9",
   "metadata": {},
   "outputs": [
    {
     "name": "stdin",
     "output_type": "stream",
     "text": [
      "Enter the first number:  -4\n",
      "Enter the second number:  -3\n"
     ]
    },
    {
     "name": "stdout",
     "output_type": "stream",
     "text": [
      "12\n"
     ]
    }
   ],
   "source": [
    "def recursive_mul(a, b):\n",
    "    # Base case for b == 0\n",
    "    if b == 0:\n",
    "        return 0\n",
    "    # Handle positive b\n",
    "    elif b > 0:\n",
    "        return a + recursive_mul(a, b - 1)\n",
    "    # Handle negative b\n",
    "    else:  # b < 0\n",
    "        return -recursive_mul(a, -b)  # Negate the result for negative b\n",
    "\n",
    "# Input from the user\n",
    "a = int(input(\"Enter the first number: \"))\n",
    "b = int(input(\"Enter the second number: \"))\n",
    "\n",
    "# Call the function and print the result\n",
    "print(recursive_mul(a, b))\n"
   ]
  },
  {
   "cell_type": "code",
   "execution_count": 8,
   "id": "9e4faa3d-9d09-4fe9-a1d1-9afd458cdce2",
   "metadata": {},
   "outputs": [
    {
     "name": "stdout",
     "output_type": "stream",
     "text": [
      "0\n"
     ]
    }
   ],
   "source": [
    "def factorial(n):\n",
    "    if n == 0 or n == 1:\n",
    "        return 1\n",
    "    else:\n",
    "        return n * factorial(n - 1)\n",
    "def nCr(n, r):\n",
    "    if r > n:\n",
    "        return 0 \n",
    "    return factorial(n) // (factorial(r) * factorial(n - r))\n",
    "import math\n",
    "n = 2\n",
    "r = 4\n",
    "print(nCr(n, r)) \n"
   ]
  },
  {
   "cell_type": "code",
   "execution_count": 5,
   "id": "975c82c3-d556-41d5-b5e3-1bfb697b89e5",
   "metadata": {},
   "outputs": [
    {
     "name": "stdin",
     "output_type": "stream",
     "text": [
      "Enter the first number:  5\n"
     ]
    },
    {
     "name": "stdout",
     "output_type": "stream",
     "text": [
      "120\n"
     ]
    }
   ],
   "source": [
    "def factorial(n):\n",
    "    if n == 0 or n == 1:\n",
    "        return 1\n",
    "    else:\n",
    "        return n * factorial(n - 1)\n",
    "n = int(input(\"Enter the first number: \"))\n",
    "print(factorial(n))\n"
   ]
  },
  {
   "cell_type": "code",
   "execution_count": 15,
   "id": "761b096e-b48c-4166-887c-66b72e21a753",
   "metadata": {},
   "outputs": [
    {
     "name": "stdout",
     "output_type": "stream",
     "text": [
      "6\n"
     ]
    }
   ],
   "source": [
    "def samplex(x):\n",
    "    if x==0 or x==1:\n",
    "        return 1\n",
    "    else:\n",
    "        return samplex(x-1)*(x-1)\n",
    "print(samplex(4))"
   ]
  },
  {
   "cell_type": "code",
   "execution_count": 19,
   "id": "977f388c-d18a-4670-add7-e1b065b08caa",
   "metadata": {},
   "outputs": [
    {
     "name": "stdin",
     "output_type": "stream",
     "text": [
      " 3\n"
     ]
    },
    {
     "name": "stdout",
     "output_type": "stream",
     "text": [
      "None\n"
     ]
    }
   ],
   "source": [
    "def count(n,d=1):\n",
    "  if n>1:\n",
    "         return d+count(n-1) \n",
    "n=int(input())\n",
    "print(count(3))\n",
    "\n",
    "\n",
    "\n",
    "    \n",
    "    "
   ]
  },
  {
   "cell_type": "code",
   "execution_count": 26,
   "id": "80996ea2-8efd-48b7-bd33-d718bb93ad5a",
   "metadata": {},
   "outputs": [
    {
     "name": "stdout",
     "output_type": "stream",
     "text": [
      "3\n",
      "1\n",
      "2\n",
      "1\n",
      "1\n",
      "1\n",
      "2\n",
      "2\n"
     ]
    }
   ],
   "source": [
    "def count(n,d=1):\n",
    "    print(n)\n",
    "    print(d)\n",
    "    d+=1\n",
    "    if n>1:\n",
    "        count(n-1)\n",
    "        print(d)\n",
    "count(3)"
   ]
  },
  {
   "cell_type": "code",
   "execution_count": 1,
   "id": "12672963-ac6d-447e-a39b-8b270ee2986c",
   "metadata": {},
   "outputs": [
    {
     "data": {
      "text/plain": [
       "120"
      ]
     },
     "execution_count": 1,
     "metadata": {},
     "output_type": "execute_result"
    }
   ],
   "source": [
    "#myverson\n",
    "def sum(n):\n",
    "   \n",
    "   if n==1:\n",
    "      return 1\n",
    "   else:\n",
    "      return sum(n-1)*n\n",
    "sum(5)"
   ]
  },
  {
   "cell_type": "code",
   "execution_count": 8,
   "id": "164be21f-13e2-4467-93e8-09fcb44fe931",
   "metadata": {},
   "outputs": [
    {
     "data": {
      "text/plain": [
       "120"
      ]
     },
     "execution_count": 8,
     "metadata": {},
     "output_type": "execute_result"
    }
   ],
   "source": [
    "#sir qs:\n",
    "def sum(n):\n",
    "    if n==2:\n",
    "        return 2\n",
    "    return sum(n-1)*n\n",
    "sum(5)"
   ]
  },
  {
   "cell_type": "code",
   "execution_count": 19,
   "id": "b9eab584-007e-4696-9590-e3fb74976de5",
   "metadata": {},
   "outputs": [
    {
     "data": {
      "text/plain": [
       "6"
      ]
     },
     "execution_count": 19,
     "metadata": {},
     "output_type": "execute_result"
    }
   ],
   "source": [
    "def f(n,r=[0]):\n",
    "    if n<=0:\n",
    "        return 1\n",
    "    r[0]=n\n",
    "    return f(n-1,r)+r[0]\n",
    "f(5)"
   ]
  },
  {
   "cell_type": "code",
   "execution_count": 5,
   "id": "08139cd8-eda1-42bb-a734-8e3b71680dac",
   "metadata": {},
   "outputs": [
    {
     "name": "stdout",
     "output_type": "stream",
     "text": [
      "-\n",
      "-\n",
      "-\n",
      "-\n",
      "-\n",
      "-\n",
      "-\n",
      "-\n"
     ]
    }
   ],
   "source": [
    "def howmanydash(n):  #2power(n-1):\n",
    "    if n==0 or n==1:\n",
    "        print(\"-\")\n",
    "    else:\n",
    "        howmanydash(n-1)\n",
    "        howmanydash(n-1)\n",
    "howmanydash(4)\n",
    "    \n",
    "        "
   ]
  },
  {
   "cell_type": "code",
   "execution_count": 15,
   "id": "fa205a78-9ae1-4ef6-802d-592a79d08841",
   "metadata": {},
   "outputs": [
    {
     "name": "stdout",
     "output_type": "stream",
     "text": [
      "****************\n",
      "****************\n",
      "****************\n",
      "****************\n",
      "****************\n",
      "****************\n",
      "****************\n",
      "****************\n"
     ]
    }
   ],
   "source": [
    "def fun(n):  #2power(n-1):\n",
    "    if n==0 or n==1:\n",
    "        print(\"****************\")\n",
    "    else:\n",
    "        fun(n-1)\n",
    "        fun(n-1)\n",
    "fun(4)"
   ]
  },
  {
   "cell_type": "code",
   "execution_count": 25,
   "id": "832e8a62-3dcf-42b8-956e-f60323e961e5",
   "metadata": {},
   "outputs": [
    {
     "name": "stdout",
     "output_type": "stream",
     "text": [
      "17\n"
     ]
    }
   ],
   "source": [
    "def fun1(x,y):\n",
    "    if y==0:\n",
    "        return 0\n",
    "    return x+fun2(x,y-1)\n",
    "def fun2(x,y):\n",
    "    if x==0:\n",
    "        return y\n",
    "    return fun2(x-1,x+y)\n",
    "result=fun1(4,4)\n",
    "print(result)\n",
    "    "
   ]
  },
  {
   "cell_type": "code",
   "execution_count": 31,
   "id": "7c2ac7f6-70f1-4908-acdb-bb1c39f96714",
   "metadata": {},
   "outputs": [
    {
     "name": "stdout",
     "output_type": "stream",
     "text": [
      "hello hello hello hello hello hello world world world world world world world "
     ]
    }
   ],
   "source": [
    "def greet(n):\n",
    "    if n>0:\n",
    "        print(\"hello\",end=\" \")\n",
    "        greet(n-1)\n",
    "    print(\"world\",end=\" \")\n",
    "greet(6)"
   ]
  },
  {
   "cell_type": "code",
   "execution_count": 2,
   "id": "3f2684ad-5d28-43c5-93fd-55a4ea57b34a",
   "metadata": {},
   "outputs": [
    {
     "name": "stdout",
     "output_type": "stream",
     "text": [
      "hello world "
     ]
    }
   ],
   "source": [
    "def greet(n):\n",
    "    if n>0:\n",
    "        print(\"hello\",end=\" \")\n",
    "        \n",
    "    print(\"world\",end=\" \")\n",
    "greet(2)"
   ]
  },
  {
   "cell_type": "code",
   "execution_count": 32,
   "id": "0a89af21-b343-4b91-8a8a-6427bb61cf71",
   "metadata": {},
   "outputs": [
    {
     "name": "stdout",
     "output_type": "stream",
     "text": [
      "hello world "
     ]
    }
   ],
   "source": [
    "def greet(n):\n",
    "    if n>0:\n",
    "        print(\"hello\",end=\" \")\n",
    "        \n",
    "    print(\"world\",end=\" \")\n",
    "greet(2)"
   ]
  },
  {
   "cell_type": "code",
   "execution_count": 38,
   "id": "f765265f-03ad-4924-a6a5-5e0e29213d0b",
   "metadata": {},
   "outputs": [
    {
     "data": {
      "text/plain": [
       "1640"
      ]
     },
     "execution_count": 38,
     "metadata": {},
     "output_type": "execute_result"
    }
   ],
   "source": [
    "def f1(n):\n",
    "   if n==0 or n==1:\n",
    "      return n\n",
    "   else:\n",
    "      return 2*f1(n-1)+3*f1(n-2)\n",
    "\n",
    "def f2(n):\n",
    "   if n==0 or n==1:\n",
    "      return n\n",
    "   else:\n",
    "      return 2*f1(n-1)+3*f1(n-2)\n",
    "f1(8)\n"
   ]
  },
  {
   "cell_type": "code",
   "execution_count": 39,
   "id": "47d0bf4d-4afc-46ac-beab-b580c1d01aef",
   "metadata": {},
   "outputs": [
    {
     "name": "stdout",
     "output_type": "stream",
     "text": [
      "5\n"
     ]
    }
   ],
   "source": [
    "def f(n):\n",
    "    if n<=1:\n",
    "        return 1\n",
    "    if n%2==0:\n",
    "        return f(n//2)\n",
    "    return f(n//2)+f(n//2+1)\n",
    "print(f(11))"
   ]
  },
  {
   "cell_type": "code",
   "execution_count": 41,
   "id": "a9fbd91b-42b0-422d-a2ec-9432219f66b4",
   "metadata": {},
   "outputs": [
    {
     "name": "stdout",
     "output_type": "stream",
     "text": [
      "15\n"
     ]
    }
   ],
   "source": [
    "def f(a,n):\n",
    "    if n<=0:\n",
    "        return 0\n",
    "    elif a[0]%2==0:#check if the first element is even\n",
    "        return a[0]+f(a[1:],n-1)\n",
    "    else:\n",
    "        return a[0]-f(a[1:],n-1)\n",
    "a=[12,7,13,4,11,6]\n",
    "print(f(a,len(a)))"
   ]
  },
  {
   "cell_type": "code",
   "execution_count": 2,
   "id": "9c659efa-59c4-482c-b8dd-6fb416f4cdf1",
   "metadata": {},
   "outputs": [
    {
     "name": "stdout",
     "output_type": "stream",
     "text": [
      "1\n",
      "2\n",
      "3\n",
      "4\n",
      "5\n",
      "6\n",
      "7\n",
      "8\n",
      "9\n",
      "10\n"
     ]
    }
   ],
   "source": [
    "#1.Print numbers from 1 to 10 using a for loop:\n",
    "for i in range(1,11):\n",
    "    print(i)"
   ]
  },
  {
   "cell_type": "code",
   "execution_count": 14,
   "id": "e834b352-fdbf-4028-bfe7-31b5a8e31ffe",
   "metadata": {},
   "outputs": [
    {
     "name": "stdout",
     "output_type": "stream",
     "text": [
      "55\n"
     ]
    }
   ],
   "source": [
    "#2.Calculate the sum of numbers from 1 to 10 using a for loop:\n",
    "sum=0\n",
    "for i in range(1,11):\n",
    "    sum+=i\n",
    "print(sum)\n",
    "\n",
    "    "
   ]
  },
  {
   "cell_type": "code",
   "execution_count": 15,
   "id": "ac7d33f5-c7de-41d1-8733-0de26e670050",
   "metadata": {},
   "outputs": [
    {
     "name": "stdout",
     "output_type": "stream",
     "text": [
      "1\n",
      "2\n",
      "3\n",
      "4\n",
      "5\n"
     ]
    }
   ],
   "source": [
    "#3.print the elements of a list using a for loop:\n",
    "list=[1,2,3,4,5]\n",
    "for i in list:\n",
    "    print(i)"
   ]
  },
  {
   "cell_type": "code",
   "execution_count": 19,
   "id": "fff23887-35d5-471a-a666-210d2ba58bb6",
   "metadata": {},
   "outputs": [
    {
     "name": "stdout",
     "output_type": "stream",
     "text": [
      "120\n"
     ]
    }
   ],
   "source": [
    "#4.Calculate the product of elements in a list using a for loop:\n",
    "list=[1,2,3,4,5]\n",
    "product=1\n",
    "for i in list:\n",
    "    product*=i\n",
    "print(product)\n",
    "\n",
    "        "
   ]
  },
  {
   "cell_type": "code",
   "execution_count": 23,
   "id": "152ef9e8-d2f5-4eaf-9036-6584275ae199",
   "metadata": {},
   "outputs": [
    {
     "name": "stdout",
     "output_type": "stream",
     "text": [
      "2\n",
      "4\n",
      "6\n",
      "8\n",
      "10\n"
     ]
    }
   ],
   "source": [
    "#5.Print even numbers from 1 to 10 using a for loop:\n",
    "for i in range(1,11):\n",
    "    if i%2==0:\n",
    "        print(i)\n",
    "    "
   ]
  },
  {
   "cell_type": "code",
   "execution_count": 22,
   "id": "b12addc6-43a0-4ea5-9bfb-1f00346b5bf3",
   "metadata": {},
   "outputs": [
    {
     "name": "stdout",
     "output_type": "stream",
     "text": [
      "2\n",
      "4\n",
      "6\n",
      "8\n",
      "10\n"
     ]
    }
   ],
   "source": [
    "for i in range(2,11,2):\n",
    "    print(i)"
   ]
  },
  {
   "cell_type": "code",
   "execution_count": 34,
   "id": "a9c1c0ab-e590-4219-af7d-4217d2105cbc",
   "metadata": {},
   "outputs": [
    {
     "name": "stdout",
     "output_type": "stream",
     "text": [
      "10\n",
      "9\n",
      "8\n",
      "7\n",
      "6\n",
      "5\n",
      "4\n",
      "3\n",
      "2\n",
      "1\n"
     ]
    }
   ],
   "source": [
    "#6.Print numbers in reverse from 10 to 1 using a for loop\n",
    "for i in range(10,0,-1):\n",
    "    print(i)\n",
    "   "
   ]
  },
  {
   "cell_type": "code",
   "execution_count": 38,
   "id": "efcaf1a6-1d70-4f77-b37b-079cd147e5b4",
   "metadata": {},
   "outputs": [
    {
     "name": "stdout",
     "output_type": "stream",
     "text": [
      "k\n",
      "k\n",
      "v\n",
      "a\n",
      "r\n",
      "a\n",
      "h\n",
      "a\n",
      "l\n",
      "u\n"
     ]
    }
   ],
   "source": [
    "#7.Print characters of a string using a for loop\n",
    "a=\"kkvarahalu\"\n",
    "for i in (a):\n",
    "    print(i)"
   ]
  },
  {
   "cell_type": "code",
   "execution_count": 43,
   "id": "841291d4-423a-422e-bb94-8647fb7e6384",
   "metadata": {},
   "outputs": [
    {
     "name": "stdout",
     "output_type": "stream",
     "text": [
      "9\n"
     ]
    }
   ],
   "source": [
    "#8.Find the largest number in a list using a for loop\n",
    "lst=[1,2,3,4,6,9,6,5]\n",
    "max=lst[0]\n",
    "for i in lst:\n",
    "    if i>max:\n",
    "        max=i\n",
    "print(max)\n",
    "        \n",
    "    \n",
    "    "
   ]
  },
  {
   "cell_type": "code",
   "execution_count": 49,
   "id": "244c4fa4-ba6c-4466-94c5-b94dbca22054",
   "metadata": {},
   "outputs": [
    {
     "name": "stdout",
     "output_type": "stream",
     "text": [
      "1\n"
     ]
    }
   ],
   "source": [
    "#.smallest nuber:\n",
    "lst=[1,2,3,4,6,9,6,5]\n",
    "min=lst[0]\n",
    "for i in lst:\n",
    "    if i<min:\n",
    "        min=i\n",
    "print(min)"
   ]
  },
  {
   "cell_type": "code",
   "execution_count": 52,
   "id": "3b804fae-6c35-486b-bfb9-56fb13cdfe11",
   "metadata": {},
   "outputs": [
    {
     "name": "stdout",
     "output_type": "stream",
     "text": [
      "2.5\n"
     ]
    }
   ],
   "source": [
    "#9.Find the average of numbers in a list using a for loop\n",
    "lst=[1,2,3,4]\n",
    "sum=0\n",
    "count=0\n",
    "for i in lst:\n",
    "    sum+=i\n",
    "    count+=1\n",
    "print(sum/count)\n",
    "\n",
    "    \n",
    "    \n",
    "    "
   ]
  },
  {
   "cell_type": "code",
   "execution_count": 58,
   "id": "9e4f1f2f-f9e8-46d4-ae37-4ff0a465caec",
   "metadata": {},
   "outputs": [
    {
     "name": "stdout",
     "output_type": "stream",
     "text": [
      "K\n",
      "L\n",
      "H\n",
      "G\n"
     ]
    }
   ],
   "source": [
    "#10.Print all uppercase letters in a string using a for loop\n",
    "s=\"KmLjHlGf\"\n",
    "u=\"ABCDEFGHIJKLMNOPQRSTUVWXYZ\"\n",
    "for i in s:\n",
    "   for j in u:\n",
    "       if i==j:\n",
    "        print(i)\n",
    "\n",
    "   \n",
    "    "
   ]
  },
  {
   "cell_type": "code",
   "execution_count": 92,
   "id": "ae2b98ca-29fd-41e9-8bcc-4402461b5189",
   "metadata": {},
   "outputs": [
    {
     "name": "stdout",
     "output_type": "stream",
     "text": [
      "K\n",
      "L\n",
      "L\n",
      "H\n",
      "G\n"
     ]
    }
   ],
   "source": [
    "s=\"KmLjHlGf\"\n",
    "s1=s.upper()\n",
    "e=\"\"\n",
    "for i in s:\n",
    "    for j in s1:\n",
    "       if i==j:\n",
    "          print(j)\n",
    "        \n",
    "           \n"
   ]
  },
  {
   "cell_type": "code",
   "execution_count": 93,
   "id": "8749ee28-80e7-43dc-aabd-92dc283da34b",
   "metadata": {},
   "outputs": [
    {
     "name": "stdout",
     "output_type": "stream",
     "text": [
      "a\n",
      "e\n",
      "i\n"
     ]
    }
   ],
   "source": [
    "#11.Count the number of vowels in a string using a for loop\n",
    "s=\"abcdefghijklmn\"\n",
    "u=\"AEIOUaeiou\"\n",
    "for i in s:\n",
    "   for j in u:\n",
    "       if i==j:\n",
    "        print(i)\n"
   ]
  },
  {
   "cell_type": "code",
   "execution_count": 29,
   "id": "69bcc81e-c974-4f1b-9a8a-a4c089e5f927",
   "metadata": {},
   "outputs": [
    {
     "name": "stdin",
     "output_type": "stream",
     "text": [
      "Enter the number for which you want factorial: 6\n"
     ]
    },
    {
     "name": "stdout",
     "output_type": "stream",
     "text": [
      "720\n"
     ]
    }
   ],
   "source": [
    "#12.Calculate factorial of a number using a while loop\n",
    "n=int(input(\"Enter the number for which you want factorial:\"))\n",
    "i=1\n",
    "fact = 1\n",
    "while i<=n:\n",
    "    fact*=i\n",
    "    i+= 1\n",
    "print(fact)\n",
    "  \n"
   ]
  },
  {
   "cell_type": "code",
   "execution_count": 32,
   "id": "471082d1-47e4-4df7-939a-09c73c32d1f1",
   "metadata": {},
   "outputs": [
    {
     "name": "stdin",
     "output_type": "stream",
     "text": [
      "Enter the number for which you want factorial: 5\n"
     ]
    },
    {
     "name": "stdout",
     "output_type": "stream",
     "text": [
      "120\n"
     ]
    }
   ],
   "source": [
    "#12.Calculate factorial of a number using a while loop\n",
    "n=int(input(\"Enter the number for which you want factorial:\"))\n",
    "i=1\n",
    "fact = 1\n",
    "while n>1:\n",
    "    fact *=n\n",
    "    n -= 1\n",
    "print(fact)\n",
    "  \n"
   ]
  },
  {
   "cell_type": "code",
   "execution_count": null,
   "id": "8c8524fa-8e3d-4459-b35f-b7ded26b0b72",
   "metadata": {},
   "outputs": [],
   "source": [
    "#13.find the first occurrence of a number in a list using a while loop:\n",
    "list=[1,2,3,4,5]\n"
   ]
  },
  {
   "cell_type": "code",
   "execution_count": 8,
   "id": "64f5e295-6a21-441d-b01a-50df0e3c4218",
   "metadata": {},
   "outputs": [
    {
     "name": "stdin",
     "output_type": "stream",
     "text": [
      "sum of number from 100\n"
     ]
    },
    {
     "name": "stdout",
     "output_type": "stream",
     "text": [
      "5050\n"
     ]
    }
   ],
   "source": [
    "#14.Calculate the sum of numbers from 1 to 100 using a while loop:\n",
    "n=int(input(\"sum of number from\"))\n",
    "i=0\n",
    "sum=0\n",
    "while i<=n:\n",
    "    sum+=i\n",
    "    i+=1\n",
    "print(sum)\n"
   ]
  },
  {
   "cell_type": "code",
   "execution_count": 2,
   "id": "a9ed3ec5-7dc2-46ff-b5e0-6eda3da2ea2f",
   "metadata": {},
   "outputs": [
    {
     "name": "stdout",
     "output_type": "stream",
     "text": [
      "2 3 5 7 11 13 17 19 23 29 31 37 41 43 47 "
     ]
    }
   ],
   "source": [
    "#15.Find all prime numbers between 1 and 50 using  nested for and if:\n",
    "for n in range(2,51):  \n",
    "    is_prime=True  \n",
    "    for i in range(2,n):  \n",
    "        if n%i==0:  \n",
    "            is_prime=False\n",
    "    if is_prime:\n",
    "        print(n,end=\" \")  \n",
    "\n",
    "    \n"
   ]
  },
  {
   "cell_type": "code",
   "execution_count": 47,
   "id": "9cd2378f-3a6c-455b-b60c-d63ddfe0aec0",
   "metadata": {},
   "outputs": [
    {
     "name": "stdout",
     "output_type": "stream",
     "text": [
      "3\n",
      "5\n",
      "6\n",
      "9\n",
      "10\n",
      "12\n",
      "15\n",
      "18\n"
     ]
    }
   ],
   "source": [
    "#16.Print numbers divisible by 3 or 5 from 1 to 20 using a for loop:\n",
    "for i in range(1,20):\n",
    "    if i%3==0 or i%5==0:\n",
    "        print(i)"
   ]
  },
  {
   "cell_type": "code",
   "execution_count": 25,
   "id": "33c8734a-9e69-4344-b080-c352a0ed06db",
   "metadata": {},
   "outputs": [
    {
     "name": "stdout",
     "output_type": "stream",
     "text": [
      "[1, 4, 9, 16, 25]\n"
     ]
    }
   ],
   "source": [
    "#17.Print a list of squares of numbers from 1 to 5 using a list comprehension\n",
    "list=[x**2 for x in range(1,6)]\n",
    "print(list)\n",
    "\n",
    "    \n",
    "          \n",
    "    \n",
    "    \n",
    "  \n"
   ]
  },
  {
   "cell_type": "code",
   "execution_count": 36,
   "id": "988298a2-b048-4a58-ac32-965f2bb331de",
   "metadata": {},
   "outputs": [
    {
     "name": "stdin",
     "output_type": "stream",
     "text": [
      " 0\n"
     ]
    },
    {
     "name": "stdout",
     "output_type": "stream",
     "text": [
      "positive number\n"
     ]
    }
   ],
   "source": [
    "#18.Print the Fibonacci sequence up to the 10th term using a for loop\n",
    "\n",
    "num=int(input())    #0,1,1,2,3,5,8,13,21,34\n",
    "if num<=0:\n",
    "    print(\"positive number\")\n",
    "elif num==1:\n",
    "    print(\"Fibonacci sequence\")\n",
    "    print(0)  \n",
    "else:\n",
    "    a, b = 0, 1  # First two terms\n",
    "    print(\"Fibonacci sequence\")\n",
    "    print(a)\n",
    "    print(b)\n",
    "    for i in range(2, num):\n",
    "        c = a + b\n",
    "        a = b\n",
    "        b = c\n",
    "        print(c)\n"
   ]
  },
  {
   "cell_type": "code",
   "execution_count": 49,
   "id": "dcb032ce-d226-4c6c-a788-76e093c11dab",
   "metadata": {},
   "outputs": [
    {
     "name": "stdout",
     "output_type": "stream",
     "text": [
      "[1, 2, 35, 79, 5]\n"
     ]
    }
   ],
   "source": [
    "#19.Find the common elements in two lists using a for loop\n",
    "list=[1,2,35,6,79,5]\n",
    "lst=[1,35,79,5,2]\n",
    "common_element=[]\n",
    "for i in list:\n",
    "    if i in lst:\n",
    "        common_element.append(i)\n",
    "print(common_element)"
   ]
  },
  {
   "cell_type": "code",
   "execution_count": 3,
   "id": "135fc62e-e855-427c-8212-81f2e04d8043",
   "metadata": {},
   "outputs": [
    {
     "name": "stdout",
     "output_type": "stream",
     "text": [
      "10\n",
      "5\n",
      "8\n",
      "3\n"
     ]
    }
   ],
   "source": [
    "#20.Print numbers in a list until a negative number is encountered using a while loop\n",
    "list=[10,5,8,3,-2,15,7]\n",
    "i=0\n",
    "while i<len(list) and list[i]>=0:\n",
    "   print(list[i])\n",
    "   i+=1"
   ]
  },
  {
   "cell_type": "code",
   "execution_count": 1,
   "id": "419d5061-b1c5-4071-a2cb-d9ab53c5ba5e",
   "metadata": {},
   "outputs": [
    {
     "name": "stdout",
     "output_type": "stream",
     "text": [
      "1\n",
      "2\n",
      "4\n",
      "5\n"
     ]
    }
   ],
   "source": [
    "#21. Print numbers from 1 to 5, except 3 using a for loop and continue statement\n",
    "for i in range(1,6):\n",
    "    if i==3:\n",
    "        continue\n",
    "    print(i)"
   ]
  },
  {
   "cell_type": "code",
   "execution_count": 2,
   "id": "396742cf-d9b3-4680-bfdc-3d9e665ebf1c",
   "metadata": {},
   "outputs": [
    {
     "name": "stdout",
     "output_type": "stream",
     "text": [
      "1\n",
      "2\n",
      "3\n"
     ]
    }
   ],
   "source": [
    "#22. Print numbers from 1 to 10. If a number is divisible by 4, stop the loop using a for loop and break statement\n",
    "for i in range(1,11):\n",
    "    if i%4==0:\n",
    "        break\n",
    "    print(i)"
   ]
  },
  {
   "cell_type": "code",
   "execution_count": 3,
   "id": "1118708a-7bf3-4e04-be9a-2bea1e04bce8",
   "metadata": {},
   "outputs": [
    {
     "name": "stdout",
     "output_type": "stream",
     "text": [
      "clause\n",
      "number is even\n",
      "clause\n",
      "number is even\n",
      "clause\n",
      "number is even\n",
      "clause\n",
      "number is even\n",
      "clause\n",
      "number is even\n"
     ]
    }
   ],
   "source": [
    "#23. Print numbers from 1 to 10. If a number is even, skip it using a for loop and else clause\n",
    "for i in range(1,11):\n",
    "    if i%2==0:\n",
    "        print(\"number is even\")\n",
    "    else:\n",
    "        print(\"clause\")"
   ]
  },
  {
   "cell_type": "code",
   "execution_count": 6,
   "id": "627568f1-daab-4f2e-a406-96b8c23be72c",
   "metadata": {},
   "outputs": [
    {
     "name": "stdout",
     "output_type": "stream",
     "text": [
      "clause\n",
      "number is even\n"
     ]
    }
   ],
   "source": [
    "#24. Print numbers from 1 to 10. If a number is even, break the loop using a for loop and else clause\n",
    "for i in range(1,11):\n",
    "    if i%2==0:\n",
    "        print(\"number is even\")\n",
    "        break\n",
    "    else:\n",
    "        print(\"clause\")"
   ]
  },
  {
   "cell_type": "code",
   "execution_count": 9,
   "id": "872a8141-5675-4645-befa-8490345b2a01",
   "metadata": {},
   "outputs": [
    {
     "name": "stdout",
     "output_type": "stream",
     "text": [
      "3\n",
      "5\n",
      "6\n",
      "9\n"
     ]
    }
   ],
   "source": [
    "#25. If we list all the natural numbers below 10 that are multiples of 3 or 5, we get 3,5,6 and 9.\n",
    "list=[1,2,3,4,5,6,7,8,9]\n",
    "for i in list:\n",
    "    if i%3==0 or i%5==0:\n",
    "        print(i)"
   ]
  },
  {
   "cell_type": "code",
   "execution_count": 1,
   "id": "8025dc4f-a99d-45bf-916d-cefe4d2af707",
   "metadata": {},
   "outputs": [
    {
     "name": "stdout",
     "output_type": "stream",
     "text": [
      "[1, 4, 9, 16, 25, 36]\n"
     ]
    }
   ],
   "source": [
    "def square(k):\n",
    "    return k**2\n",
    "our_list=[1,2,3,4,5,6]\n",
    "square_lst=list(map(square,our_list))\n",
    "print(square_lst)"
   ]
  },
  {
   "cell_type": "code",
   "execution_count": 1,
   "id": "ca1d2d7c-9f29-486f-b2f2-830673b5e87d",
   "metadata": {},
   "outputs": [
    {
     "name": "stdout",
     "output_type": "stream",
     "text": [
      "['APPLE', 'BAT', 'CAT', 'DOG', 'EGG']\n"
     ]
    }
   ],
   "source": [
    "words=[\"apple\",\"bat\",\"cat\",\"dog\",\"egg\"]\n",
    "result=list(map(str.upper,words))\n",
    "print(result)"
   ]
  },
  {
   "cell_type": "code",
   "execution_count": 2,
   "id": "5de9da6d-3698-48b5-9f32-2aba8b1d4bde",
   "metadata": {},
   "outputs": [
    {
     "name": "stdout",
     "output_type": "stream",
     "text": [
      "[5, 3, 3, 3, 3]\n"
     ]
    }
   ],
   "source": [
    "words=[\"apple\",\"bat\",\"cat\",\"dog\",\"egg\"]\n",
    "result=list(map(len,words))\n",
    "print(result)"
   ]
  },
  {
   "cell_type": "code",
   "execution_count": 4,
   "id": "4d35c801-5b8f-4348-b770-c6c3ebf6fb9c",
   "metadata": {},
   "outputs": [
    {
     "name": "stdout",
     "output_type": "stream",
     "text": [
      "[-17.22222222222222, -16.666666666666668, -16.11111111111111, -15.555555555555555]\n"
     ]
    }
   ],
   "source": [
    "num=[1,2,3,4]\n",
    "result=list(map(lambda f:(f-32)*5/9,num))\n",
    "print(result)"
   ]
  },
  {
   "cell_type": "code",
   "execution_count": 11,
   "id": "ea5179ca-fbcc-460e-84a9-72cb825ecf9f",
   "metadata": {},
   "outputs": [
    {
     "name": "stdout",
     "output_type": "stream",
     "text": [
      "\n",
      "* \n",
      "* * \n",
      "* * * \n",
      "* * * * \n"
     ]
    }
   ],
   "source": [
    "n=5\n",
    "for i in range(n):\n",
    "    for j in range(i):\n",
    "        print(\"*\",end=\" \")\n",
    "    print()\n",
    "    \n",
    "   "
   ]
  },
  {
   "cell_type": "code",
   "execution_count": 24,
   "id": "e50a311a-bbba-4113-ab21-13bc7dee9e65",
   "metadata": {},
   "outputs": [
    {
     "name": "stdout",
     "output_type": "stream",
     "text": [
      "\n",
      "0\n",
      "01\n",
      "012\n",
      "0123\n"
     ]
    }
   ],
   "source": [
    "n=5\n",
    "for i in range(n):\n",
    "    for j in range(i):\n",
    "       print(j,end=\"\")\n",
    "    print()"
   ]
  },
  {
   "cell_type": "code",
   "execution_count": 40,
   "id": "0ea41a06-d8ab-4f78-a0dc-754b06cfbe1e",
   "metadata": {},
   "outputs": [
    {
     "name": "stdout",
     "output_type": "stream",
     "text": [
      "**********\n",
      "*********\n",
      "********\n",
      "*******\n",
      "******\n"
     ]
    }
   ],
   "source": [
    "n=5\n",
    "for i in range(n):\n",
    "   for i in range(i,n):\n",
    "       print(\"*\",end=\"\")\n",
    "   for j in range(i+1):\n",
    "       print(\"*\",end=\"\")\n",
    "   print()\n",
    "       \n",
    "       "
   ]
  },
  {
   "cell_type": "code",
   "execution_count": 25,
   "id": "35dd3e66-3e12-4b07-b01c-907631eb81ee",
   "metadata": {},
   "outputs": [
    {
     "name": "stdout",
     "output_type": "stream",
     "text": [
      "\n",
      "1\n",
      "22\n",
      "333\n",
      "4444\n"
     ]
    }
   ],
   "source": [
    "n=5\n",
    "for i in range(n):\n",
    "    for j in range(i):\n",
    "       print(i,end=\"\")\n",
    "    print()"
   ]
  },
  {
   "cell_type": "code",
   "execution_count": 4,
   "id": "3295f8e1-a323-443d-85d1-7ac1158d6ca9",
   "metadata": {},
   "outputs": [
    {
     "name": "stdout",
     "output_type": "stream",
     "text": [
      "1\n",
      "12\n",
      "123\n",
      "1234\n",
      "12345\n"
     ]
    }
   ],
   "source": [
    "for i in range(5):\n",
    "    for j in range(5):\n",
    "        if(j<=i):\n",
    "            print(j+1,end=\"\")\n",
    "    print()"
   ]
  },
  {
   "cell_type": "code",
   "execution_count": 12,
   "id": "6ca5bfd5-8d03-4879-9932-7ff8348778f9",
   "metadata": {},
   "outputs": [
    {
     "name": "stdout",
     "output_type": "stream",
     "text": [
      " \n",
      "* \n",
      "** \n",
      "*** \n",
      "**** \n"
     ]
    }
   ],
   "source": [
    "n=5\n",
    "for i in range(n):\n",
    "    print(\"*\"*i,end=\" \")\n",
    "    print()"
   ]
  },
  {
   "cell_type": "code",
   "execution_count": 3,
   "id": "54f71111-327f-4329-b03c-177a5bae3d37",
   "metadata": {},
   "outputs": [
    {
     "name": "stdout",
     "output_type": "stream",
     "text": [
      "    *\n",
      "   ***\n",
      "  *****\n",
      " *******\n",
      "*********\n"
     ]
    }
   ],
   "source": [
    "n=5\n",
    "for i in range(1,n+1):\n",
    "    print(\" \"*(n-i)+\"*\"*(2*i-1))"
   ]
  },
  {
   "cell_type": "code",
   "execution_count": 4,
   "id": "5b22d6d1-6669-47b3-90d0-c6d3f779506e",
   "metadata": {},
   "outputs": [
    {
     "name": "stdout",
     "output_type": "stream",
     "text": [
      "    *\n",
      "   ***\n",
      "  *****\n",
      " *******\n",
      "*********\n"
     ]
    }
   ],
   "source": [
    "def trian(n):\n",
    "    if n==0:\n",
    "        return\n",
    "    trian(n-1)\n",
    "    sp=\" \"*(5-n)\n",
    "    st=\"*\"*(2*n-1)\n",
    "    print(sp+st)\n",
    "trian(5)\n",
    "    "
   ]
  },
  {
   "cell_type": "code",
   "execution_count": null,
   "id": "63d81b7f-e5cc-4842-8542-7011f3cf0a28",
   "metadata": {},
   "outputs": [],
   "source": []
  },
  {
   "cell_type": "code",
   "execution_count": 14,
   "id": "4d8f8b72-87e7-44d5-b80a-518b245d70f6",
   "metadata": {},
   "outputs": [
    {
     "name": "stdout",
     "output_type": "stream",
     "text": [
      "\n",
      "*\n",
      "**\n",
      "***\n",
      "****\n"
     ]
    }
   ],
   "source": [
    "n=5\n",
    "for i in range(n):\n",
    "    print(\"*\"*i,end)"
   ]
  },
  {
   "cell_type": "code",
   "execution_count": 46,
   "id": "bf2c70a3-b45d-4c31-9188-8181be0fe876",
   "metadata": {},
   "outputs": [
    {
     "name": "stdout",
     "output_type": "stream",
     "text": [
      "1\n",
      "2\n",
      "**\n",
      "4\n",
      "*\n",
      "**\n",
      "7\n",
      "8\n",
      "**\n"
     ]
    }
   ],
   "source": [
    "for i in range(1, 10):\n",
    "    if i % 3 == 0 and i % 5 == 0:\n",
    "        print(\"***\")\n",
    "    elif i % 3 == 0:\n",
    "        print(\"**\")\n",
    "    elif i % 5 == 0:\n",
    "        print(\"*\")\n",
    "    else:\n",
    "        print(i)"
   ]
  },
  {
   "cell_type": "code",
   "execution_count": 48,
   "id": "d7427c27-cf0d-4782-b305-a9968a2c953c",
   "metadata": {},
   "outputs": [
    {
     "name": "stdout",
     "output_type": "stream",
     "text": [
      "AAAAA\n",
      "AAAA\n",
      "AAA\n",
      "AA\n",
      "A\n"
     ]
    }
   ],
   "source": [
    "n=5\n",
    "for i in range(n,0,-1):\n",
    "    print(\"A\"*i)"
   ]
  },
  {
   "cell_type": "code",
   "execution_count": 51,
   "id": "3d210ec0-d33f-4240-8627-bb9259891645",
   "metadata": {},
   "outputs": [
    {
     "name": "stdout",
     "output_type": "stream",
     "text": [
      "      * \n",
      "    * * \n",
      "  * * * \n",
      "* * * * \n"
     ]
    }
   ],
   "source": [
    "n=4\n",
    "for i in range(n):\n",
    "    for j in range(n -i -1):\n",
    "        print(\" \", end=\" \")\n",
    "    for k in range(i+1):\n",
    "        print(\"*\", end=\" \")\n",
    "    print()"
   ]
  },
  {
   "cell_type": "code",
   "execution_count": 7,
   "id": "437a0743-eeef-48bf-9ec5-85da4e7e8d93",
   "metadata": {},
   "outputs": [
    {
     "name": "stdout",
     "output_type": "stream",
     "text": [
      "***** \n",
      "**** * \n",
      "*** * * \n",
      "** * * * \n",
      "* * * * * \n"
     ]
    }
   ],
   "source": [
    "n = 5\n",
    "for i in range(n): \n",
    "    \n",
    "    for j in range(n-i-1):\n",
    "        print(\"*\", end=\"\")\n",
    "    \n",
    "    for k in range(i+1):\n",
    "        print(\"*\", end=\" \")\n",
    "    print()  "
   ]
  },
  {
   "cell_type": "code",
   "execution_count": 9,
   "id": "66765a64-2034-46be-b19e-cc2f784b5e82",
   "metadata": {},
   "outputs": [
    {
     "name": "stdout",
     "output_type": "stream",
     "text": [
      "    * \n",
      "   * * \n",
      "  * * * \n",
      " * * * * \n",
      "* * * * * \n"
     ]
    }
   ],
   "source": [
    "n = 5\n",
    "for i in range(n): \n",
    "    \n",
    "    for j in range(n-i-1):\n",
    "        print(\" \", end=\"\")\n",
    "    \n",
    "    for k in range(i+1):\n",
    "        print(\"*\", end=\" \")\n",
    "    print()  "
   ]
  },
  {
   "cell_type": "code",
   "execution_count": 11,
   "id": "ccfebfbc-902f-43ec-97ba-44fe365dc269",
   "metadata": {},
   "outputs": [
    {
     "name": "stdout",
     "output_type": "stream",
     "text": [
      "* * * * * \n",
      "*       * \n",
      "*       * \n",
      "*       * \n",
      "* * * * * \n"
     ]
    }
   ],
   "source": [
    "n = 4\n",
    "for i in range(n): \n",
    "    for j in range(n): \n",
    "        if i == 0 or i == n - 1 or j == 0 or j == n - 1:\n",
    "            print(\"*\", end=\" \")\n",
    "        else:\n",
    "            print(\" \", end=\" \")  \n",
    "    print()  "
   ]
  },
  {
   "cell_type": "code",
   "execution_count": 8,
   "id": "8431a044-31dd-44ea-b350-bcfcd9088b80",
   "metadata": {},
   "outputs": [
    {
     "name": "stdout",
     "output_type": "stream",
     "text": [
      "    + \n",
      "   + + \n",
      "  + + + \n",
      " + + + + \n",
      "+ + + + + \n",
      " + + + + \n",
      "  + + + \n",
      "   + + \n",
      "    + \n"
     ]
    }
   ],
   "source": [
    "n = 5\n",
    "for i in range(n):\n",
    "    for j in range(n - i - 1):\n",
    "        print(\" \", end=\"\")\n",
    "    for k in range(i + 1):\n",
    "        print(\"+\", end=\" \")\n",
    "    print() \n",
    "for i in range(n - 1, 0, -1):\n",
    "    for j in range(n - i):\n",
    "        print(\" \", end=\"\")\n",
    "    for k in range(i):  \n",
    "        print(\"+\", end=\" \")\n",
    "    print()  "
   ]
  },
  {
   "cell_type": "code",
   "execution_count": null,
   "id": "f01a9d13-c9aa-4933-99b7-763c1d720776",
   "metadata": {},
   "outputs": [],
   "source": [
    "r=8\n",
    "c=8\n",
    "for i in range(r):\n",
    "    for j in range(c):\n",
    "        if (i+j)%2==0:\n",
    "            print(\"X\",end=\" \")\n",
    "        else:\n",
    "            print"
   ]
  },
  {
   "cell_type": "code",
   "execution_count": 9,
   "id": "6ef8db2a-1d8f-4e10-b6aa-d2eedb15c1e7",
   "metadata": {},
   "outputs": [
    {
     "name": "stdout",
     "output_type": "stream",
     "text": [
      "* * * * \n",
      "* * * * \n",
      "* * * * \n",
      "* * * * \n"
     ]
    }
   ],
   "source": [
    "for i in range(4):\n",
    "    for j in range(4):\n",
    "        print(\"*\",end=\" \")\n",
    "    print()"
   ]
  },
  {
   "cell_type": "code",
   "execution_count": 32,
   "id": "ce373483-ce84-4d77-b2a0-6c725a6b658f",
   "metadata": {},
   "outputs": [
    {
     "name": "stdout",
     "output_type": "stream",
     "text": [
      "\n",
      "*\n",
      "**\n",
      "***\n",
      "****\n",
      "*****\n",
      "****\n",
      "***\n",
      "**\n",
      "*\n"
     ]
    }
   ],
   "source": [
    "for i in range(6):\n",
    "    for j in range(i):\n",
    "        print(\"*\",end=\"\")\n",
    "    print()\n",
    "for i in range(4,0,-1):\n",
    "    for j in range(i):\n",
    "        print(\"*\",end=\"\")\n",
    "    print()"
   ]
  },
  {
   "cell_type": "code",
   "execution_count": 10,
   "id": "9621fd45-8075-4f13-9af3-e40f71bd08a9",
   "metadata": {},
   "outputs": [
    {
     "name": "stdout",
     "output_type": "stream",
     "text": [
      "\n",
      "*\n",
      "**\n",
      "***\n",
      "****\n",
      "*****\n",
      "****\n",
      "***\n",
      "**\n",
      "*\n"
     ]
    }
   ],
   "source": [
    "for i in range(6):\n",
    "    print(\"*\"*i)\n",
    "for i in range(4,0,-1):\n",
    "    print(\"*\"*i)"
   ]
  },
  {
   "cell_type": "code",
   "execution_count": 2,
   "id": "52547cc5-a715-411e-88fe-1d39ef06ceaa",
   "metadata": {},
   "outputs": [
    {
     "name": "stdout",
     "output_type": "stream",
     "text": [
      "* \n",
      "* * * \n",
      "* * * * * \n",
      "* * * * * * * \n",
      "* * * * * * * * * \n"
     ]
    }
   ],
   "source": [
    "for i in range(1,10,2):\n",
    "    for j in range(i):\n",
    "        print(\"*\",end=\" \")\n",
    "    print()\n"
   ]
  },
  {
   "cell_type": "code",
   "execution_count": 30,
   "id": "621c92b2-c55f-47eb-bd04-6a9c55ca5b12",
   "metadata": {},
   "outputs": [
    {
     "name": "stdout",
     "output_type": "stream",
     "text": [
      "* * * * * * * * * \n",
      "* * * * * * * \n",
      "* * * * * \n",
      "* * * \n",
      "* \n",
      "* * * \n",
      "* * * * * \n",
      "* * * * * * * \n",
      "* * * * * * * * * \n"
     ]
    }
   ],
   "source": [
    "for i in range(9,0,-2):\n",
    "    for j in range(i):\n",
    "        print(\"*\",end=\" \")\n",
    "    print()\n",
    "for i in range(3,10,2):\n",
    "    for j in range(i):\n",
    "        print(\"*\",end=\" \")\n",
    "    print()\n",
    "        "
   ]
  },
  {
   "cell_type": "code",
   "execution_count": 31,
   "id": "d3745b30-6c55-4789-a2f4-d4ddb042a0da",
   "metadata": {},
   "outputs": [
    {
     "name": "stdout",
     "output_type": "stream",
     "text": [
      "*********\n",
      "*******\n",
      "*****\n",
      "***\n",
      "*\n",
      "***\n",
      "*****\n",
      "*******\n",
      "*********\n"
     ]
    }
   ],
   "source": [
    "for i in range(9,0,-2):\n",
    "    print(\"*\"*i)\n",
    "for i in range(3,10,2):\n",
    "    print(\"*\"*i)"
   ]
  },
  {
   "cell_type": "code",
   "execution_count": 33,
   "id": "83080c7b-020d-4d15-aa8b-b3e8f777c34c",
   "metadata": {},
   "outputs": [
    {
     "name": "stdout",
     "output_type": "stream",
     "text": [
      " \n",
      "* *\n",
      "** **\n",
      "*** ***\n",
      "**** ****\n"
     ]
    }
   ],
   "source": [
    "for i in range(5):\n",
    "        print(\"*\"*i+\" \"+\"*\"*i)"
   ]
  },
  {
   "cell_type": "code",
   "execution_count": 37,
   "id": "a32c92ff-7266-4815-b1f4-ffb6fdf1920b",
   "metadata": {},
   "outputs": [
    {
     "name": "stdout",
     "output_type": "stream",
     "text": [
      "*********"
     ]
    }
   ],
   "source": [
    "for i in range(9):\n",
    "        print(\"*\",end=\"\")\n",
    "    "
   ]
  },
  {
   "cell_type": "code",
   "execution_count": 38,
   "id": "c8b20f06-d6ae-4d21-a398-5b66e0177764",
   "metadata": {},
   "outputs": [
    {
     "name": "stdout",
     "output_type": "stream",
     "text": [
      "***** *****\n",
      "**** ****\n",
      "*** ***\n",
      "** **\n",
      "* *\n"
     ]
    }
   ],
   "source": [
    "for i in range(5,0,-1):\n",
    "    print(\"*\"*i+\" \"+\"*\"*i)"
   ]
  },
  {
   "cell_type": "code",
   "execution_count": 31,
   "id": "a903e0c7-92b6-4068-9006-19ed61037c60",
   "metadata": {},
   "outputs": [
    {
     "name": "stdout",
     "output_type": "stream",
     "text": [
      " \n",
      "* *\n",
      "** **\n",
      "*** ***\n",
      "**** ****\n",
      "*********\n",
      "**** ****\n",
      "*** ***\n",
      "** **\n",
      "* *\n"
     ]
    }
   ],
   "source": [
    "for i in range(5):\n",
    "        print(\"*\"*i+\" \"+\"*\"*i)\n",
    "for i in range(2):\n",
    "    if i==1:\n",
    "       print(\"*********\")\n",
    "for i in range(4,0,-1):\n",
    "    print(\"*\"*i+\" \"+\"*\"*i)"
   ]
  },
  {
   "cell_type": "code",
   "execution_count": 1,
   "id": "a4bad55c-3783-4f41-a767-f8f6d37b5ca0",
   "metadata": {},
   "outputs": [
    {
     "name": "stdout",
     "output_type": "stream",
     "text": [
      "i\n",
      "am\n",
      "a\n",
      "sports\n",
      "person\n",
      "code 2\n",
      "while\n"
     ]
    }
   ],
   "source": [
    "def frequency_word(statement):\n",
    "    words=statement.split()\n",
    "    word_freq={}\n",
    "    for word in words:\n",
    "        if word in word_freq:\n",
    "            word_freq[word]+=1\n",
    "        else:\n",
    "            word_freq[word]=1\n",
    "        \n",
    "    for word,freq in word_freq.items():\n",
    "        if freq>1:\n",
    "            print(f\"{word} {freq}\")\n",
    "            \n",
    "        else:\n",
    "            print(word)\n",
    "frequency_word(\"i am a sports person\")\n",
    "frequency_word(\"code while code\")\n",
    "            "
   ]
  },
  {
   "cell_type": "code",
   "execution_count": 1,
   "id": "e0fe7251-8bbb-4c43-86e7-721d06f03b64",
   "metadata": {},
   "outputs": [
    {
     "name": "stdout",
     "output_type": "stream",
     "text": [
      "\n",
      "c\n",
      "b\n",
      "bc\n",
      "a\n",
      "ac\n",
      "ab\n",
      "abc\n"
     ]
    }
   ],
   "source": [
    "def getSubsets(s, index=0, current=\"\"):\n",
    "    if index == len(s):  \n",
    "        print(current)\n",
    "        return \n",
    "\n",
    "    getSubsets(s, index + 1, current)\n",
    "\n",
    "    \n",
    "    getSubsets(s, index + 1, current + s[index])\n",
    "\n",
    "s = \"abc\"\n",
    "getSubsets(s)"
   ]
  },
  {
   "cell_type": "code",
   "execution_count": 2,
   "id": "155a5594-2e41-4290-915d-0037bb54eb35",
   "metadata": {},
   "outputs": [
    {
     "name": "stdout",
     "output_type": "stream",
     "text": [
      "\n",
      "c\n",
      "b\n",
      "bc\n",
      "a\n",
      "ac\n",
      "ab\n",
      "abc\n"
     ]
    }
   ],
   "source": [
    "def getSubsets(s, index=0, current=\"\"):\n",
    "    if index == len(s):  \n",
    "        print(current)\n",
    "        return \n",
    "\n",
    "    getSubsets(s, index + 1, current)\n",
    "\n",
    "    \n",
    "    getSubsets(s, index + 1, current + s[index])\n",
    "\n",
    "s = \"abc\"\n",
    "getSubsets(s)"
   ]
  },
  {
   "cell_type": "code",
   "execution_count": 2,
   "id": "96110b49-39b9-46e5-b268-b2251c1c0cfe",
   "metadata": {},
   "outputs": [],
   "source": [
    "str='hello'\n"
   ]
  },
  {
   "cell_type": "code",
   "execution_count": 6,
   "id": "914019ee-faec-4bc3-9cee-15fee471e550",
   "metadata": {},
   "outputs": [
    {
     "data": {
      "text/plain": [
       "['__add__',\n",
       " '__class__',\n",
       " '__contains__',\n",
       " '__delattr__',\n",
       " '__dir__',\n",
       " '__doc__',\n",
       " '__eq__',\n",
       " '__format__',\n",
       " '__ge__',\n",
       " '__getattribute__',\n",
       " '__getitem__',\n",
       " '__getnewargs__',\n",
       " '__getstate__',\n",
       " '__gt__',\n",
       " '__hash__',\n",
       " '__init__',\n",
       " '__init_subclass__',\n",
       " '__iter__',\n",
       " '__le__',\n",
       " '__len__',\n",
       " '__lt__',\n",
       " '__mod__',\n",
       " '__mul__',\n",
       " '__ne__',\n",
       " '__new__',\n",
       " '__reduce__',\n",
       " '__reduce_ex__',\n",
       " '__repr__',\n",
       " '__rmod__',\n",
       " '__rmul__',\n",
       " '__setattr__',\n",
       " '__sizeof__',\n",
       " '__str__',\n",
       " '__subclasshook__',\n",
       " 'capitalize',\n",
       " 'casefold',\n",
       " 'center',\n",
       " 'count',\n",
       " 'encode',\n",
       " 'endswith',\n",
       " 'expandtabs',\n",
       " 'find',\n",
       " 'format',\n",
       " 'format_map',\n",
       " 'index',\n",
       " 'isalnum',\n",
       " 'isalpha',\n",
       " 'isascii',\n",
       " 'isdecimal',\n",
       " 'isdigit',\n",
       " 'isidentifier',\n",
       " 'islower',\n",
       " 'isnumeric',\n",
       " 'isprintable',\n",
       " 'isspace',\n",
       " 'istitle',\n",
       " 'isupper',\n",
       " 'join',\n",
       " 'ljust',\n",
       " 'lower',\n",
       " 'lstrip',\n",
       " 'maketrans',\n",
       " 'partition',\n",
       " 'removeprefix',\n",
       " 'removesuffix',\n",
       " 'replace',\n",
       " 'rfind',\n",
       " 'rindex',\n",
       " 'rjust',\n",
       " 'rpartition',\n",
       " 'rsplit',\n",
       " 'rstrip',\n",
       " 'split',\n",
       " 'splitlines',\n",
       " 'startswith',\n",
       " 'strip',\n",
       " 'swapcase',\n",
       " 'title',\n",
       " 'translate',\n",
       " 'upper',\n",
       " 'zfill']"
      ]
     },
     "execution_count": 6,
     "metadata": {},
     "output_type": "execute_result"
    }
   ],
   "source": [
    "s=''\n",
    "dir(s)"
   ]
  },
  {
   "cell_type": "code",
   "execution_count": null,
   "id": "845ccaca-693d-4593-aff8-904149baf406",
   "metadata": {},
   "outputs": [],
   "source": []
  }
 ],
 "metadata": {
  "kernelspec": {
   "display_name": "Python 3 (ipykernel)",
   "language": "python",
   "name": "python3"
  },
  "language_info": {
   "codemirror_mode": {
    "name": "ipython",
    "version": 3
   },
   "file_extension": ".py",
   "mimetype": "text/x-python",
   "name": "python",
   "nbconvert_exporter": "python",
   "pygments_lexer": "ipython3",
   "version": "3.12.7"
  }
 },
 "nbformat": 4,
 "nbformat_minor": 5
}
