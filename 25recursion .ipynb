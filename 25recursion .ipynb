{
 "cells": [
  {
   "cell_type": "code",
   "execution_count": 9,
   "id": "c00e68ff-4faf-4ed8-994f-4ec71f7eb3de",
   "metadata": {},
   "outputs": [
    {
     "name": "stdout",
     "output_type": "stream",
     "text": [
      "1 2 3 4 5 6 7 8 9 10 "
     ]
    }
   ],
   "source": [
    "#1.\n",
    "def print_numbers(n):\n",
    "    if n>10:\n",
    "        return \n",
    "    print(n,end=\" \")\n",
    "    print_numbers(n+1)\n",
    "print_numbers(1)\n"
   ]
  },
  {
   "cell_type": "code",
   "execution_count": 12,
   "id": "fc544fc1-7bf6-4b7e-901b-8b71375aa52a",
   "metadata": {},
   "outputs": [
    {
     "data": {
      "text/plain": [
       "55"
      ]
     },
     "execution_count": 12,
     "metadata": {},
     "output_type": "execute_result"
    }
   ],
   "source": [
    "#2.\n",
    "def sum_numbers(n):\n",
    "    if n==0:\n",
    "        return 0\n",
    "    return n+sum_numbers(n-1)\n",
    "sum_numbers(10)"
   ]
  },
  {
   "cell_type": "code",
   "execution_count": 14,
   "id": "bc2812c1-8e5f-4c54-8e4a-d57500de0e78",
   "metadata": {},
   "outputs": [
    {
     "name": "stdout",
     "output_type": "stream",
     "text": [
      "2 4 6 8 "
     ]
    }
   ],
   "source": [
    "#3.\n",
    "def print_list(lst,index=0):\n",
    "    if index==len(lst):\n",
    "        return \n",
    "    print(lst[index],end=\" \")\n",
    "    print_list(lst,index+1)\n",
    "lst=[2,4,6,8]\n",
    "print_list(lst)"
   ]
  },
  {
   "cell_type": "code",
   "execution_count": 1,
   "id": "6d8ac170-12fb-4697-88b8-9e127e298974",
   "metadata": {},
   "outputs": [
    {
     "data": {
      "text/plain": [
       "120"
      ]
     },
     "execution_count": 1,
     "metadata": {},
     "output_type": "execute_result"
    }
   ],
   "source": [
    "#4.\n",
    "def product_list(lst,index=0):\n",
    "    if index==len(lst):\n",
    "        return 1\n",
    "    return lst[index]*product_list(lst,index+1)\n",
    "lst=[2,3,4,5]\n",
    "product_list(lst)"
   ]
  },
  {
   "cell_type": "code",
   "execution_count": 4,
   "id": "cd46a824-565f-40a1-b02f-ef787cd5471e",
   "metadata": {},
   "outputs": [
    {
     "name": "stdout",
     "output_type": "stream",
     "text": [
      "2 4 6 8 10 "
     ]
    }
   ],
   "source": [
    "#5\n",
    "def print_even(n):\n",
    "    if n>10:\n",
    "        return \n",
    "    if n%2==0:\n",
    "        print(n,end=\" \")\n",
    "    print_even(n+1)\n",
    "print_even(1)"
   ]
  },
  {
   "cell_type": "code",
   "execution_count": 6,
   "id": "1654c093-2bc3-4784-9c98-8d882f95e624",
   "metadata": {},
   "outputs": [
    {
     "name": "stdout",
     "output_type": "stream",
     "text": [
      "10 9 8 7 6 5 4 3 2 1 "
     ]
    }
   ],
   "source": [
    "#6\n",
    "def print_reverse(n):\n",
    "    if n<1:\n",
    "        return \n",
    "    print(n,end=\" \")\n",
    "    print_reverse(n-1)\n",
    "print_reverse(10)\n",
    "    "
   ]
  },
  {
   "cell_type": "code",
   "execution_count": 8,
   "id": "bfc347a1-10ba-47b6-9906-0bd22a599cbd",
   "metadata": {},
   "outputs": [
    {
     "name": "stdout",
     "output_type": "stream",
     "text": [
      "h e l l o "
     ]
    }
   ],
   "source": [
    "#7\n",
    "def print_chars(s,index=0):\n",
    "    if index==len(s):\n",
    "        return\n",
    "    print(s[index],end=' ')\n",
    "    print_chars(s,index+1)\n",
    "s='hello'\n",
    "print_chars(s)    "
   ]
  },
  {
   "cell_type": "code",
   "execution_count": 9,
   "id": "f3307a9c-2466-45b0-9d21-bb0abceae52b",
   "metadata": {},
   "outputs": [
    {
     "name": "stdout",
     "output_type": "stream",
     "text": [
      "9\n"
     ]
    }
   ],
   "source": [
    "#8\n",
    "def find_largest(lst,index=0):\n",
    "    if index==len"
   ]
  },
  {
   "cell_type": "code",
   "execution_count": null,
   "id": "04dd8f3a-a086-4fb0-bedc-75bc46201f1d",
   "metadata": {},
   "outputs": [],
   "source": []
  }
 ],
 "metadata": {
  "kernelspec": {
   "display_name": "Python 3 (ipykernel)",
   "language": "python",
   "name": "python3"
  },
  "language_info": {
   "codemirror_mode": {
    "name": "ipython",
    "version": 3
   },
   "file_extension": ".py",
   "mimetype": "text/x-python",
   "name": "python",
   "nbconvert_exporter": "python",
   "pygments_lexer": "ipython3",
   "version": "3.12.7"
  }
 },
 "nbformat": 4,
 "nbformat_minor": 5
}
