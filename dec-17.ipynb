{
 "cells": [
  {
   "cell_type": "code",
   "execution_count": 7,
   "id": "1d70a729-515f-46a5-87c6-f22fc59d4177",
   "metadata": {},
   "outputs": [
    {
     "name": "stdout",
     "output_type": "stream",
     "text": [
      "90\n"
     ]
    }
   ],
   "source": [
    "def maxelement(list):\n",
    "    max=list[0]\n",
    "    for i in list:\n",
    "        if i>max:\n",
    "            max=i\n",
    "    return max\n",
    "list=[4,17,3,19,90]\n",
    "print(maxelement(list))"
   ]
  },
  {
   "cell_type": "code",
   "execution_count": 9,
   "id": "fb6fe704-7121-4dc0-9f88-cd896599e765",
   "metadata": {},
   "outputs": [
    {
     "name": "stdout",
     "output_type": "stream",
     "text": [
      "3\n"
     ]
    }
   ],
   "source": [
    "def minimumelement(list):\n",
    "    min=list[0]\n",
    "    for i in list:\n",
    "        if i<min:\n",
    "            min=i\n",
    "    return min\n",
    "list=[4,17,3,19,90]\n",
    "print(minimumelement(list))"
   ]
  },
  {
   "cell_type": "code",
   "execution_count": 6,
   "id": "bbe663ec-67f2-4e92-adf5-d8d92b523d25",
   "metadata": {},
   "outputs": [
    {
     "name": "stdout",
     "output_type": "stream",
     "text": [
      "(67, 1)\n"
     ]
    }
   ],
   "source": [
    "def maxmin(list):\n",
    "    max=list[0]\n",
    "    min=list[0]\n",
    "    for i in list:\n",
    "        if i>max:\n",
    "           max=i\n",
    "    for i in list:\n",
    "        if i<min:\n",
    "            min=i\n",
    "    return max,min\n",
    "list=[2,34,5,67,1,23]\n",
    "print(maxmin(list))\n",
    "        "
   ]
  },
  {
   "cell_type": "code",
   "execution_count": 1,
   "id": "595ee276-5330-456a-ab88-7332bf7e0492",
   "metadata": {},
   "outputs": [
    {
     "name": "stdout",
     "output_type": "stream",
     "text": [
      "(-3, 21)\n"
     ]
    }
   ],
   "source": [
    "def minmax(list,low,high):\n",
    "    if low==high:\n",
    "        return list[low],list[low]\n",
    "    if high==low+1:\n",
    "         if list[low]>list[high]:\n",
    "             return list[high],list[low]\n",
    "         else:\n",
    "             return list[high],list[low]\n",
    "    else:\n",
    "        mid=(low+high)//2\n",
    "        left_min,left_max=minmax(list,low,mid)\n",
    "        right_min,right_max= minmax(list,mid+1,high)\n",
    "        exact_min=min(left_min,right_min)\n",
    "        exact_max=max(left_max,right_max)\n",
    "        return exact_min,exact_max\n",
    "def min(a,b):\n",
    "    if a<b:\n",
    "       return a\n",
    "    else:\n",
    "       return b\n",
    "list=[7,3,21,-3,17,16,9,8]\n",
    "low=0\n",
    "high=len(list)-1\n",
    "print(minmax(list,low,high))    "
   ]
  },
  {
   "cell_type": "code",
   "execution_count": null,
   "id": "b525dea6-7f92-4da1-8352-8551a2a51bad",
   "metadata": {},
   "outputs": [],
   "source": []
  },
  {
   "cell_type": "code",
   "execution_count": 34,
   "id": "a64a8221-adb6-4ce8-a20b-8e4c5e400f97",
   "metadata": {},
   "outputs": [
    {
     "name": "stdout",
     "output_type": "stream",
     "text": [
      "(1, 3)\n"
     ]
    }
   ],
   "source": [
    "def myfun(data):\n",
    "    min=data[0]\n",
    "    max=data[0]\n",
    "    for i in range(len(data)):\n",
    "        if min>data[i]:\n",
    "            \n",
    "            min=data[i]\n",
    "        if max<data[i]:\n",
    "            max=data[i]\n",
    "    return min,max\n",
    "list=[7,3,21,-3,17,16,9,8]\n",
    "list2=[1,2,3]\n",
    "print(myfun(list))\n"
   ]
  },
  {
   "cell_type": "code",
   "execution_count": 11,
   "id": "cb6e3d4f-a000-436d-9cc7-982f59fbb7b0",
   "metadata": {},
   "outputs": [
    {
     "name": "stdout",
     "output_type": "stream",
     "text": [
      "(-3, 21)\n"
     ]
    }
   ],
   "source": [
    "def myfun(data):\n",
    "    min=data[0]\n",
    "    max=data[0]\n",
    "    for i in range(len(data)):\n",
    "        if min>data[i]:\n",
    "            \n",
    "            min=data[i]\n",
    "        if max<data[i]:\n",
    "            max=data[i]\n",
    "    return min,max\n",
    "print(myfun([7,3,21,-3,17,16,9,8]))"
   ]
  }
 ],
 "metadata": {
  "kernelspec": {
   "display_name": "Python 3 (ipykernel)",
   "language": "python",
   "name": "python3"
  },
  "language_info": {
   "codemirror_mode": {
    "name": "ipython",
    "version": 3
   },
   "file_extension": ".py",
   "mimetype": "text/x-python",
   "name": "python",
   "nbconvert_exporter": "python",
   "pygments_lexer": "ipython3",
   "version": "3.12.7"
  }
 },
 "nbformat": 4,
 "nbformat_minor": 5
}
