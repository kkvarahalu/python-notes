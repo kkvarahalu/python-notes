{
 "cells": [
  {
   "cell_type": "code",
   "execution_count": 19,
   "id": "ace45cf7-1925-4b71-ac0d-9fbcf4edc98f",
   "metadata": {},
   "outputs": [
    {
     "data": {
      "text/plain": [
       "0"
      ]
     },
     "execution_count": 19,
     "metadata": {},
     "output_type": "execute_result"
    }
   ],
   "source": [
    "def meadian(lst):\n",
    "    lst=sorted(lst)\n",
    "    n=len(lst)\n",
    "    mid=n//2\n",
    "    if n%2==0:\n",
    "        return (lst[mid]+lst[mid-1])//2\n",
    "    else:\n",
    "        return lst[mid]\n",
    "lst=[0, -5, 99, 3, -1, 54, -20]\n",
    "meadian(lst)"
   ]
  },
  {
   "cell_type": "code",
   "execution_count": 17,
   "id": "e578bb7c-d01f-4871-aec0-04b7323ba9a9",
   "metadata": {},
   "outputs": [
    {
     "data": {
      "text/plain": [
       "3.5"
      ]
     },
     "execution_count": 17,
     "metadata": {},
     "output_type": "execute_result"
    }
   ],
   "source": [
    "def meadian(lst):\n",
    "    lst=sorted(lst)\n",
    "    n=len(lst)\n",
    "    mid=n//2\n",
    "    if n%2==0:\n",
    "        return (lst[mid]+lst[mid-1])/2\n",
    "    else:\n",
    "        return lst[mid]\n",
    "lst=[7, 3, 8, -1, 4, 0, 5, 2]\n",
    "meadian(lst)"
   ]
  },
  {
   "cell_type": "code",
   "execution_count": 21,
   "id": "ef61037a-d4c9-4721-ae40-e0a311cccd1c",
   "metadata": {},
   "outputs": [
    {
     "data": {
      "text/plain": [
       "-5.5"
      ]
     },
     "execution_count": 21,
     "metadata": {},
     "output_type": "execute_result"
    }
   ],
   "source": [
    "def meadian(lst):\n",
    "    lst=sorted(lst)\n",
    "    n=len(lst)\n",
    "    mid=n//2\n",
    "    if n%2==0:\n",
    "        return (lst[mid]+lst[mid-1])/2\n",
    "    else:\n",
    "        return lst[mid]\n",
    "\n",
    "lst=[-15, -7, -3, -9, -1, -8, -2, -5, -4, -6]\n",
    "meadian(lst)"
   ]
  },
  {
   "cell_type": "code",
   "execution_count": 1,
   "id": "bb3b7c3b-6fd4-4682-bd06-82d0644eb0c8",
   "metadata": {},
   "outputs": [
    {
     "data": {
      "text/plain": [
       "[2, 2, 3, 4]"
      ]
     },
     "execution_count": 1,
     "metadata": {},
     "output_type": "execute_result"
    }
   ],
   "source": [
    "def commen(lst1,lst2):\n",
    "    lst3=[]\n",
    "    for i in lst1:\n",
    "        if i in lst2:\n",
    "            lst3.append(i)\n",
    "    return lst3\n",
    "lst1=[1, 2, 2, 3, 4]\n",
    "lst2=[2, 2, 3, 3, 4, 4]\n",
    "commen(lst1,lst2)"
   ]
  },
  {
   "cell_type": "code",
   "execution_count": 15,
   "id": "df13c828-01d2-4472-aa60-ce3e0d5c80e2",
   "metadata": {},
   "outputs": [
    {
     "data": {
      "text/plain": [
       "[0, 1, 2, -1]"
      ]
     },
     "execution_count": 15,
     "metadata": {},
     "output_type": "execute_result"
    }
   ],
   "source": [
    "def commen(lst1,lst2):\n",
    "    lst3=[]\n",
    "    for i in lst1:\n",
    "        if i in lst2:\n",
    "            lst3.append(i)\n",
    "    return list(set(lst3))\n",
    "lst1=[-1, -1, 0, 1, 1, 2]\n",
    "lst2=[1, -1, 0, 0, 2, 2]\n",
    "commen(lst1,lst2)"
   ]
  },
  {
   "cell_type": "code",
   "execution_count": 16,
   "id": "79685adf-ae04-4053-953a-9af720f4aaf7",
   "metadata": {},
   "outputs": [
    {
     "data": {
      "text/plain": [
       "[]"
      ]
     },
     "execution_count": 16,
     "metadata": {},
     "output_type": "execute_result"
    }
   ],
   "source": [
    "def commen(lst1,lst2):\n",
    "    lst3=[]\n",
    "    for i in lst1:\n",
    "        if i in lst2:\n",
    "            lst3.append(i)\n",
    "    return lst3\n",
    "lst1=[1,2,3]\n",
    "lst2=[]\n",
    "commen(lst1,lst2)"
   ]
  },
  {
   "cell_type": "code",
   "execution_count": 42,
   "id": "33515740-2172-40c5-9963-8e9d3d6ea17a",
   "metadata": {},
   "outputs": [],
   "source": [
    "import pandas as pd\n",
    "import numpy as np\n"
   ]
  },
  {
   "cell_type": "code",
   "execution_count": 43,
   "id": "d42fa0ac-af1d-45f4-8939-b0666fe2ccd1",
   "metadata": {},
   "outputs": [],
   "source": [
    "data={'A':[4,16,25,36],'B':[1,4,9,16]}"
   ]
  },
  {
   "cell_type": "code",
   "execution_count": 44,
   "id": "95be215a-7c07-4c08-8885-625307d5113c",
   "metadata": {},
   "outputs": [
    {
     "data": {
      "text/plain": [
       "{'A': [4, 16, 25, 36], 'B': [1, 4, 9, 16]}"
      ]
     },
     "execution_count": 44,
     "metadata": {},
     "output_type": "execute_result"
    }
   ],
   "source": [
    "data"
   ]
  },
  {
   "cell_type": "code",
   "execution_count": 45,
   "id": "563a5d03-0cae-4de8-b7a1-1cd3877e42f5",
   "metadata": {},
   "outputs": [],
   "source": [
    "df=pd.DataFrame(data)"
   ]
  },
  {
   "cell_type": "code",
   "execution_count": 46,
   "id": "7d01f39f-bd10-4722-be40-9eb044e20ae1",
   "metadata": {},
   "outputs": [
    {
     "data": {
      "text/html": [
       "<div>\n",
       "<style scoped>\n",
       "    .dataframe tbody tr th:only-of-type {\n",
       "        vertical-align: middle;\n",
       "    }\n",
       "\n",
       "    .dataframe tbody tr th {\n",
       "        vertical-align: top;\n",
       "    }\n",
       "\n",
       "    .dataframe thead th {\n",
       "        text-align: right;\n",
       "    }\n",
       "</style>\n",
       "<table border=\"1\" class=\"dataframe\">\n",
       "  <thead>\n",
       "    <tr style=\"text-align: right;\">\n",
       "      <th></th>\n",
       "      <th>A</th>\n",
       "      <th>B</th>\n",
       "    </tr>\n",
       "  </thead>\n",
       "  <tbody>\n",
       "    <tr>\n",
       "      <th>0</th>\n",
       "      <td>4</td>\n",
       "      <td>1</td>\n",
       "    </tr>\n",
       "    <tr>\n",
       "      <th>1</th>\n",
       "      <td>16</td>\n",
       "      <td>4</td>\n",
       "    </tr>\n",
       "    <tr>\n",
       "      <th>2</th>\n",
       "      <td>25</td>\n",
       "      <td>9</td>\n",
       "    </tr>\n",
       "    <tr>\n",
       "      <th>3</th>\n",
       "      <td>36</td>\n",
       "      <td>16</td>\n",
       "    </tr>\n",
       "  </tbody>\n",
       "</table>\n",
       "</div>"
      ],
      "text/plain": [
       "    A   B\n",
       "0   4   1\n",
       "1  16   4\n",
       "2  25   9\n",
       "3  36  16"
      ]
     },
     "execution_count": 46,
     "metadata": {},
     "output_type": "execute_result"
    }
   ],
   "source": [
    "df"
   ]
  },
  {
   "cell_type": "code",
   "execution_count": 102,
   "id": "ef3b7c71-9742-4313-bbcc-49fb2b58da20",
   "metadata": {},
   "outputs": [
    {
     "name": "stdout",
     "output_type": "stream",
     "text": [
      "   A  B\n",
      "0  2  1\n",
      "1  4  2\n",
      "2  5  3\n",
      "3  6  4\n"
     ]
    },
    {
     "name": "stderr",
     "output_type": "stream",
     "text": [
      "C:\\Users\\ADMIN\\AppData\\Local\\Temp\\ipykernel_10880\\1548875733.py:5: FutureWarning: DataFrame.applymap has been deprecated. Use DataFrame.map instead.\n",
      "  result=df.applymap(lambda x:x**0.5 if x>=0 else none)\n"
     ]
    }
   ],
   "source": [
    "import pandas as pd\n",
    "import numpy as np\n",
    "def fun(df):\n",
    "   result=df.applymap(lambda x:x**0.5 if x>=0 else none)\n",
    "   return result.astype(int)\n",
    "print(fun(df))"
   ]
  },
  {
   "cell_type": "code",
   "execution_count": 89,
   "id": "1db435db-fd10-45ac-bf02-072101b1c3b1",
   "metadata": {},
   "outputs": [],
   "source": [
    "data1={'A':[1, 0, 9, 81],\n",
    "      'B':[1, 0, 16, 64]}"
   ]
  },
  {
   "cell_type": "code",
   "execution_count": 90,
   "id": "e7d6b829-48c0-45ab-8686-10b3fb92680d",
   "metadata": {},
   "outputs": [],
   "source": [
    "df1=pd.DataFrame(data1)"
   ]
  },
  {
   "cell_type": "code",
   "execution_count": 91,
   "id": "a860f1b6-de87-49b6-9d0a-a587814d9863",
   "metadata": {},
   "outputs": [
    {
     "data": {
      "text/html": [
       "<div>\n",
       "<style scoped>\n",
       "    .dataframe tbody tr th:only-of-type {\n",
       "        vertical-align: middle;\n",
       "    }\n",
       "\n",
       "    .dataframe tbody tr th {\n",
       "        vertical-align: top;\n",
       "    }\n",
       "\n",
       "    .dataframe thead th {\n",
       "        text-align: right;\n",
       "    }\n",
       "</style>\n",
       "<table border=\"1\" class=\"dataframe\">\n",
       "  <thead>\n",
       "    <tr style=\"text-align: right;\">\n",
       "      <th></th>\n",
       "      <th>A</th>\n",
       "      <th>B</th>\n",
       "    </tr>\n",
       "  </thead>\n",
       "  <tbody>\n",
       "    <tr>\n",
       "      <th>0</th>\n",
       "      <td>1</td>\n",
       "      <td>1</td>\n",
       "    </tr>\n",
       "    <tr>\n",
       "      <th>1</th>\n",
       "      <td>0</td>\n",
       "      <td>0</td>\n",
       "    </tr>\n",
       "    <tr>\n",
       "      <th>2</th>\n",
       "      <td>9</td>\n",
       "      <td>16</td>\n",
       "    </tr>\n",
       "    <tr>\n",
       "      <th>3</th>\n",
       "      <td>81</td>\n",
       "      <td>64</td>\n",
       "    </tr>\n",
       "  </tbody>\n",
       "</table>\n",
       "</div>"
      ],
      "text/plain": [
       "    A   B\n",
       "0   1   1\n",
       "1   0   0\n",
       "2   9  16\n",
       "3  81  64"
      ]
     },
     "execution_count": 91,
     "metadata": {},
     "output_type": "execute_result"
    }
   ],
   "source": [
    "df1"
   ]
  },
  {
   "cell_type": "code",
   "execution_count": 98,
   "id": "18c0e1c5-b4a0-45f4-8dc0-732db4494def",
   "metadata": {},
   "outputs": [
    {
     "name": "stderr",
     "output_type": "stream",
     "text": [
      "C:\\Users\\ADMIN\\AppData\\Local\\Temp\\ipykernel_10880\\1719756339.py:2: FutureWarning: DataFrame.applymap has been deprecated. Use DataFrame.map instead.\n",
      "  result=df1.applymap(lambda x:x**0.5 if x>=0 else none)\n"
     ]
    },
    {
     "data": {
      "text/html": [
       "<div>\n",
       "<style scoped>\n",
       "    .dataframe tbody tr th:only-of-type {\n",
       "        vertical-align: middle;\n",
       "    }\n",
       "\n",
       "    .dataframe tbody tr th {\n",
       "        vertical-align: top;\n",
       "    }\n",
       "\n",
       "    .dataframe thead th {\n",
       "        text-align: right;\n",
       "    }\n",
       "</style>\n",
       "<table border=\"1\" class=\"dataframe\">\n",
       "  <thead>\n",
       "    <tr style=\"text-align: right;\">\n",
       "      <th></th>\n",
       "      <th>A</th>\n",
       "      <th>B</th>\n",
       "    </tr>\n",
       "  </thead>\n",
       "  <tbody>\n",
       "    <tr>\n",
       "      <th>0</th>\n",
       "      <td>1</td>\n",
       "      <td>1</td>\n",
       "    </tr>\n",
       "    <tr>\n",
       "      <th>1</th>\n",
       "      <td>0</td>\n",
       "      <td>0</td>\n",
       "    </tr>\n",
       "    <tr>\n",
       "      <th>2</th>\n",
       "      <td>3</td>\n",
       "      <td>4</td>\n",
       "    </tr>\n",
       "    <tr>\n",
       "      <th>3</th>\n",
       "      <td>9</td>\n",
       "      <td>8</td>\n",
       "    </tr>\n",
       "  </tbody>\n",
       "</table>\n",
       "</div>"
      ],
      "text/plain": [
       "   A  B\n",
       "0  1  1\n",
       "1  0  0\n",
       "2  3  4\n",
       "3  9  8"
      ]
     },
     "execution_count": 98,
     "metadata": {},
     "output_type": "execute_result"
    }
   ],
   "source": [
    "def fun(df1):\n",
    "    result=df1.applymap(lambda x:x**0.5 if x>=0 else none)\n",
    "    return result.astype(int)\n",
    "fun(df1)"
   ]
  },
  {
   "cell_type": "code",
   "execution_count": 80,
   "id": "5afae2c3-2406-457e-a2d6-3d26ac88bc92",
   "metadata": {},
   "outputs": [],
   "source": [
    "data2={'A':[0.25, 2.25, 6.25, 12.25],\n",
    "      'B':[0.25, 1, 2.25, 6.25]}"
   ]
  },
  {
   "cell_type": "code",
   "execution_count": 82,
   "id": "9b38ff7e-e17e-47d2-a842-13d58ba51cce",
   "metadata": {},
   "outputs": [],
   "source": [
    "df3=pd.DataFrame(data2)"
   ]
  },
  {
   "cell_type": "code",
   "execution_count": 83,
   "id": "9f8ab3a3-9535-42a5-a233-7f79a8bd9c34",
   "metadata": {},
   "outputs": [
    {
     "data": {
      "text/html": [
       "<div>\n",
       "<style scoped>\n",
       "    .dataframe tbody tr th:only-of-type {\n",
       "        vertical-align: middle;\n",
       "    }\n",
       "\n",
       "    .dataframe tbody tr th {\n",
       "        vertical-align: top;\n",
       "    }\n",
       "\n",
       "    .dataframe thead th {\n",
       "        text-align: right;\n",
       "    }\n",
       "</style>\n",
       "<table border=\"1\" class=\"dataframe\">\n",
       "  <thead>\n",
       "    <tr style=\"text-align: right;\">\n",
       "      <th></th>\n",
       "      <th>A</th>\n",
       "      <th>B</th>\n",
       "    </tr>\n",
       "  </thead>\n",
       "  <tbody>\n",
       "    <tr>\n",
       "      <th>0</th>\n",
       "      <td>0.25</td>\n",
       "      <td>0.25</td>\n",
       "    </tr>\n",
       "    <tr>\n",
       "      <th>1</th>\n",
       "      <td>2.25</td>\n",
       "      <td>1.00</td>\n",
       "    </tr>\n",
       "    <tr>\n",
       "      <th>2</th>\n",
       "      <td>6.25</td>\n",
       "      <td>2.25</td>\n",
       "    </tr>\n",
       "    <tr>\n",
       "      <th>3</th>\n",
       "      <td>12.25</td>\n",
       "      <td>6.25</td>\n",
       "    </tr>\n",
       "  </tbody>\n",
       "</table>\n",
       "</div>"
      ],
      "text/plain": [
       "       A     B\n",
       "0   0.25  0.25\n",
       "1   2.25  1.00\n",
       "2   6.25  2.25\n",
       "3  12.25  6.25"
      ]
     },
     "execution_count": 83,
     "metadata": {},
     "output_type": "execute_result"
    }
   ],
   "source": [
    "df3"
   ]
  },
  {
   "cell_type": "code",
   "execution_count": 101,
   "id": "7d0d653d-1b45-43f2-9a0c-c2b4a79c8564",
   "metadata": {},
   "outputs": [
    {
     "name": "stderr",
     "output_type": "stream",
     "text": [
      "C:\\Users\\ADMIN\\AppData\\Local\\Temp\\ipykernel_10880\\1686422979.py:2: FutureWarning: DataFrame.applymap has been deprecated. Use DataFrame.map instead.\n",
      "  result=df3.applymap(lambda x:x**0.5 if x>=0 else none)\n"
     ]
    },
    {
     "data": {
      "text/html": [
       "<div>\n",
       "<style scoped>\n",
       "    .dataframe tbody tr th:only-of-type {\n",
       "        vertical-align: middle;\n",
       "    }\n",
       "\n",
       "    .dataframe tbody tr th {\n",
       "        vertical-align: top;\n",
       "    }\n",
       "\n",
       "    .dataframe thead th {\n",
       "        text-align: right;\n",
       "    }\n",
       "</style>\n",
       "<table border=\"1\" class=\"dataframe\">\n",
       "  <thead>\n",
       "    <tr style=\"text-align: right;\">\n",
       "      <th></th>\n",
       "      <th>A</th>\n",
       "      <th>B</th>\n",
       "    </tr>\n",
       "  </thead>\n",
       "  <tbody>\n",
       "    <tr>\n",
       "      <th>0</th>\n",
       "      <td>0.5</td>\n",
       "      <td>0.5</td>\n",
       "    </tr>\n",
       "    <tr>\n",
       "      <th>1</th>\n",
       "      <td>1.5</td>\n",
       "      <td>1.0</td>\n",
       "    </tr>\n",
       "    <tr>\n",
       "      <th>2</th>\n",
       "      <td>2.5</td>\n",
       "      <td>1.5</td>\n",
       "    </tr>\n",
       "    <tr>\n",
       "      <th>3</th>\n",
       "      <td>3.5</td>\n",
       "      <td>2.5</td>\n",
       "    </tr>\n",
       "  </tbody>\n",
       "</table>\n",
       "</div>"
      ],
      "text/plain": [
       "     A    B\n",
       "0  0.5  0.5\n",
       "1  1.5  1.0\n",
       "2  2.5  1.5\n",
       "3  3.5  2.5"
      ]
     },
     "execution_count": 101,
     "metadata": {},
     "output_type": "execute_result"
    }
   ],
   "source": [
    "def fun(df3):\n",
    "   result=df3.applymap(lambda x:x**0.5 if x>=0 else none)\n",
    "   return result\n",
    "fun(df3)"
   ]
  },
  {
   "cell_type": "code",
   "execution_count": 21,
   "id": "4c2f9c2b-b206-4fe6-970f-d31b720477d0",
   "metadata": {},
   "outputs": [
    {
     "data": {
      "text/plain": [
       "8"
      ]
     },
     "execution_count": 21,
     "metadata": {},
     "output_type": "execute_result"
    }
   ],
   "source": [
    "def sehigh(lst):\n",
    "    m=lst[0]\n",
    "    for i in lst:\n",
    "        if i>m:\n",
    "            m=i\n",
    "    return m\n",
    "lst=[2,3,4,5,6,7,8]\n",
    "sehigh(lst)"
   ]
  },
  {
   "cell_type": "code",
   "execution_count": 23,
   "id": "120e9501-84a5-4a76-9017-4033ce3f3f42",
   "metadata": {},
   "outputs": [
    {
     "data": {
      "text/plain": [
       "7"
      ]
     },
     "execution_count": 23,
     "metadata": {},
     "output_type": "execute_result"
    }
   ],
   "source": [
    "def sehigh(lst):\n",
    "    m=lst[0]\n",
    "    for i in lst:\n",
    "        if i>m:\n",
    "            m=i\n",
    "    s=None\n",
    "    for i in lst:\n",
    "        if i!=m:\n",
    "            if s is None or i>s:\n",
    "                s=i\n",
    "    return s\n",
    "lst=[2,3,4,5,6,7,8]\n",
    "sehigh(lst)"
   ]
  },
  {
   "cell_type": "code",
   "execution_count": 25,
   "id": "51e63905-d645-49dd-aaf0-d46dee0c0ac4",
   "metadata": {},
   "outputs": [
    {
     "data": {
      "text/plain": [
       "5"
      ]
     },
     "execution_count": 25,
     "metadata": {},
     "output_type": "execute_result"
    }
   ],
   "source": [
    "def count_vowels(s):\n",
    "    vowels = 'aeiouAEIOU'\n",
    "    return sum(1 for char in s if char in vowels)\n",
    "s='whdyiteieosm'\n",
    "count_vowels(s)"
   ]
  },
  {
   "cell_type": "code",
   "execution_count": 35,
   "id": "87c7bd27-1a4c-4d88-9400-48af0fb9dccf",
   "metadata": {},
   "outputs": [
    {
     "data": {
      "text/plain": [
       "6"
      ]
     },
     "execution_count": 35,
     "metadata": {},
     "output_type": "execute_result"
    }
   ],
   "source": [
    "def count_vowels(s):\n",
    "    vowels = 'aeiouAEIOU'\n",
    "    v=list(vowels)\n",
    "    c=0\n",
    "    for i in list(s):\n",
    "        if i in v:\n",
    "            c+=1\n",
    "    return c\n",
    "s='whdyiteieoasm'\n",
    "count_vowels(s)"
   ]
  },
  {
   "cell_type": "code",
   "execution_count": 37,
   "id": "3738a058-dc7e-4fc3-8847-861877ed6010",
   "metadata": {},
   "outputs": [
    {
     "data": {
      "text/plain": [
       "4"
      ]
     },
     "execution_count": 37,
     "metadata": {},
     "output_type": "execute_result"
    }
   ],
   "source": [
    "def count_vowels(s):\n",
    "    v='aeiouAEIOU'\n",
    "    c=0\n",
    "    for i in s:\n",
    "        if i in v:\n",
    "            c+=1\n",
    "    return c\n",
    "s='Algo one'\n",
    "count_vowels(s)"
   ]
  },
  {
   "cell_type": "code",
   "execution_count": null,
   "id": "a6d156ff-0374-47e0-90c9-3d8e0dc6dd58",
   "metadata": {},
   "outputs": [],
   "source": [
    "#Write a function to find the first non-repeating character in a string\n",
    "def fun(s):\n",
    "    for i in s:\n",
    "        if s.count(i)==1:\n",
    "            return i\n",
    "        else:\n",
    "            return None\n",
    "s='ab'"
   ]
  }
 ],
 "metadata": {
  "kernelspec": {
   "display_name": "Python 3 (ipykernel)",
   "language": "python",
   "name": "python3"
  },
  "language_info": {
   "codemirror_mode": {
    "name": "ipython",
    "version": 3
   },
   "file_extension": ".py",
   "mimetype": "text/x-python",
   "name": "python",
   "nbconvert_exporter": "python",
   "pygments_lexer": "ipython3",
   "version": "3.12.7"
  }
 },
 "nbformat": 4,
 "nbformat_minor": 5
}
