{
 "cells": [
  {
   "cell_type": "code",
   "execution_count": 2,
   "id": "90151082-29f2-493f-9f40-a9e2474345d7",
   "metadata": {},
   "outputs": [
    {
     "name": "stdout",
     "output_type": "stream",
     "text": [
      "[12, -3, 34, -9, 67, 99]\n",
      "[-3, 12, 34, -9, 67, 99]\n"
     ]
    }
   ],
   "source": [
    "def bubble_sort(list):\n",
    "    for i in range(len(list)-1):\n",
    "        for j in range(len(list)-1):\n",
    "            if list[i]>list[i+1]:\n",
    "                tmp=list[i]\n",
    "                list[i]=list[i+1]\n",
    "                list[i+1]=tmp\n",
    "        return list\n",
    "list=[12,-3,34,-9,67,99]\n",
    "print(list)\n",
    "print(bubble_sort(list))"
   ]
  },
  {
   "cell_type": "code",
   "execution_count": 3,
   "id": "83fd27fd-829a-47c1-8928-cfef5ee59bb0",
   "metadata": {},
   "outputs": [
    {
     "name": "stdout",
     "output_type": "stream",
     "text": [
      "[12, -5, 2, 47, 99, 67]\n",
      "[-5, 2, 12, 47, 99, 67]\n"
     ]
    }
   ],
   "source": [
    "#with out recursive bubble sort:\n",
    "def bubble_sort(list):\n",
    "    for i in range(len(list)-1):\n",
    "        for j in range(len(list)-1-i):\n",
    "            if list[j]>list[j+i]:\n",
    "                tmp=list[j]\n",
    "                list[j]=list[j+1]\n",
    "                list[j+1]=tmp\n",
    "    return list\n",
    "list=[12,-5,2,47,99,67]\n",
    "print(list)\n",
    "print(bubble_sort(list))"
   ]
  },
  {
   "cell_type": "code",
   "execution_count": 2,
   "id": "5505eb57-e11f-4506-acfc-0969522010f8",
   "metadata": {},
   "outputs": [
    {
     "name": "stdout",
     "output_type": "stream",
     "text": [
      "[-3, 12, 34, 47, 67, 99]\n"
     ]
    }
   ],
   "source": [
    "#recursive bubble sort:\n",
    "def recursive_bs(list,n):\n",
    "    if n==1:\n",
    "        return list\n",
    "    else:\n",
    "        for i in range(0,(n-1)):\n",
    "            if list[i]>list[i+1]:\n",
    "                tmp=list[i]\n",
    "                list[i]=list[i+1]\n",
    "                list[i+1]=tmp\n",
    "        return recursive_bs(list,(n-1))\n",
    "list=[12,-3,34,47,67,99]\n",
    "n=len(list)-1\n",
    "print(recursive_bs(list,n))"
   ]
  },
  {
   "cell_type": "code",
   "execution_count": 4,
   "id": "cbd67ad5-7524-482c-8d61-55f7633e4e71",
   "metadata": {},
   "outputs": [
    {
     "name": "stdout",
     "output_type": "stream",
     "text": [
      "[-3, 12, 34, 47, 67, 99]\n"
     ]
    }
   ],
   "source": [
    "def recursive_bs(list,n):\n",
    "    if n==1:\n",
    "        return list\n",
    "    else:\n",
    "        for i in range(0,(n-1)):\n",
    "            if list[i]>list[i+1]:\n",
    "                tmp=list[i]\n",
    "                list[i]=list[i+1]\n",
    "                list[i+1]=tmp\n",
    "        return recursive_bs(list,(n-1))\n",
    "list=[12,-3,34,47,67,99]\n",
    "n=len(list)-1\n",
    "print(recursive_bs(list,n))"
   ]
  },
  {
   "cell_type": "code",
   "execution_count": null,
   "id": "3ed1cc8a-b8f6-4438-970c-6c70984a13d0",
   "metadata": {},
   "outputs": [],
   "source": [
    "def recursive_bs(list,n):\n",
    "    if n==1:\n",
    "        return list\n",
    "    "
   ]
  },
  {
   "cell_type": "code",
   "execution_count": null,
   "id": "bcd53fd7-92c1-4548-9818-176fe1c25c84",
   "metadata": {},
   "outputs": [],
   "source": [
    "def recursive-be(list,n):\n",
    "    if n==1:\n",
    "        return list\n",
    "else:\n",
    "    for i in range("
   ]
  },
  {
   "cell_type": "code",
   "execution_count": 6,
   "id": "2f7d1cf4-d70d-47dd-8321-5860a860d735",
   "metadata": {},
   "outputs": [
    {
     "name": "stdout",
     "output_type": "stream",
     "text": [
      "[-3, 12, 34, 47, 67, 99]\n"
     ]
    }
   ],
   "source": [
    "list=[34,12,-3,47,67,99]\n",
    "list.sort()\n",
    "print(list)"
   ]
  },
  {
   "cell_type": "code",
   "execution_count": 8,
   "id": "cfb6360d-2ccc-40fe-a098-911e101ed7b5",
   "metadata": {},
   "outputs": [
    {
     "data": {
      "text/plain": [
       "[-3, 12, 34, 47, 67, 99]"
      ]
     },
     "execution_count": 8,
     "metadata": {},
     "output_type": "execute_result"
    }
   ],
   "source": [
    "list=[34,12,-3,47,67,99]\n",
    "new_list=sorted(list)\n",
    "new_list"
   ]
  },
  {
   "cell_type": "code",
   "execution_count": null,
   "id": "c4bbd414-a10d-4598-9780-83c73ba0d5be",
   "metadata": {},
   "outputs": [],
   "source": []
  }
 ],
 "metadata": {
  "kernelspec": {
   "display_name": "Python 3 (ipykernel)",
   "language": "python",
   "name": "python3"
  },
  "language_info": {
   "codemirror_mode": {
    "name": "ipython",
    "version": 3
   },
   "file_extension": ".py",
   "mimetype": "text/x-python",
   "name": "python",
   "nbconvert_exporter": "python",
   "pygments_lexer": "ipython3",
   "version": "3.12.7"
  }
 },
 "nbformat": 4,
 "nbformat_minor": 5
}
