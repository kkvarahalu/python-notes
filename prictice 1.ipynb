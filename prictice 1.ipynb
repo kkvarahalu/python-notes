{
 "cells": [
  {
   "cell_type": "code",
   "execution_count": 1,
   "id": "a9b51bb8-079e-47e4-b050-5735ed663ad9",
   "metadata": {},
   "outputs": [
    {
     "name": "stdout",
     "output_type": "stream",
     "text": [
      "Largest: 8 Smallest: 1\n"
     ]
    }
   ],
   "source": [
    "nums = [3, 5, 7, 2, 8, 1]\n",
    "largest = nums[0]\n",
    "smallest = nums[0]\n",
    "for num in nums:\n",
    "    if num > largest:\n",
    "        largest = num\n",
    "    if num < smallest:\n",
    "        smallest = num\n",
    "print(\"Largest:\", largest, \"Smallest:\", smallest)\n"
   ]
  },
  {
   "cell_type": "code",
   "execution_count": 2,
   "id": "85efffc5-f5d8-4d4e-b183-e73a2ca023b0",
   "metadata": {},
   "outputs": [
    {
     "name": "stdout",
     "output_type": "stream",
     "text": [
      "{3: 3, 5: 2, 7: 1, 8: 1}\n"
     ]
    }
   ],
   "source": [
    "nums = [3, 5, 3, 7, 8, 5, 3]\n",
    "frequency = {}\n",
    "for num in nums:\n",
    "    if num in frequency:\n",
    "        frequency[num] += 1\n",
    "    else:\n",
    "        frequency[num] = 1\n",
    "print(frequency)\n"
   ]
  },
  {
   "cell_type": "code",
   "execution_count": 3,
   "id": "5c640b58-dd29-48fa-bb8e-b7cd2547f0ba",
   "metadata": {},
   "outputs": [
    {
     "name": "stdout",
     "output_type": "stream",
     "text": [
      "{3: 3, 5: 2, 7: 1, 8: 1}\n"
     ]
    }
   ],
   "source": [
    "n= [3, 5, 3, 7, 8, 5, 3]\n",
    "f={}\n",
    "for i in n:\n",
    "    if i in f:\n",
    "        f[i]+=1\n",
    "    else:\n",
    "        f[i]=1\n",
    "print(f)"
   ]
  },
  {
   "cell_type": "code",
   "execution_count": 7,
   "id": "0f4db19d-19c0-44a9-996c-d73c5c181680",
   "metadata": {},
   "outputs": [
    {
     "name": "stdout",
     "output_type": "stream",
     "text": [
      "olleH\n"
     ]
    }
   ],
   "source": [
    "string = \"Hello\"\n",
    "reversed_string = \"\"\n",
    "for char in string:\n",
    "    reversed_string = char + reversed_string\n",
    "print(reversed_string)\n"
   ]
  },
  {
   "cell_type": "code",
   "execution_count": 10,
   "id": "d65693a6-6c6e-4027-9f91-20b808f222d6",
   "metadata": {},
   "outputs": [
    {
     "name": "stdout",
     "output_type": "stream",
     "text": [
      "olleh\n"
     ]
    }
   ],
   "source": [
    "s='hello'\n",
    "r=''\n",
    "for i in s:\n",
    "    r=i+r\n",
    "print(r)"
   ]
  },
  {
   "cell_type": "code",
   "execution_count": 11,
   "id": "c6c3c257-aa0f-4150-be38-f2458792d8d0",
   "metadata": {},
   "outputs": [
    {
     "name": "stdout",
     "output_type": "stream",
     "text": [
      "[4, 5]\n"
     ]
    }
   ],
   "source": [
    "list1 = [1, 2, 3, 4, 5]\n",
    "list2 = [4, 5, 6, 7]\n",
    "intersection = []\n",
    "for item in list1:\n",
    "    if item in list2:\n",
    "        intersection.append(item)\n",
    "print(intersection)\n"
   ]
  },
  {
   "cell_type": "code",
   "execution_count": 16,
   "id": "dc19483d-016b-4e84-b6f8-12be20eb246e",
   "metadata": {},
   "outputs": [
    {
     "name": "stdin",
     "output_type": "stream",
     "text": [
      " 2\n"
     ]
    },
    {
     "name": "stdout",
     "output_type": "stream",
     "text": [
      "True\n"
     ]
    }
   ],
   "source": [
    "n=int(input())\n",
    "y=True\n",
    "for i in range(2,n):\n",
    "    if n%i==0:\n",
    "        y=False\n",
    "        break\n",
    "print(y)   "
   ]
  },
  {
   "cell_type": "code",
   "execution_count": 5,
   "id": "e8e0b324-2ab6-498d-bfba-913035a0fe93",
   "metadata": {},
   "outputs": [
    {
     "name": "stdout",
     "output_type": "stream",
     "text": [
      "15\n"
     ]
    }
   ],
   "source": [
    "a=[1,2,3,4,5]\n",
    "s=0\n",
    "for i in a:\n",
    "    s+=i\n",
    "print(s)"
   ]
  },
  {
   "cell_type": "code",
   "execution_count": 6,
   "id": "07721692-9ec0-4139-b6e4-98a4607d19f7",
   "metadata": {},
   "outputs": [
    {
     "name": "stdout",
     "output_type": "stream",
     "text": [
      "6\n"
     ]
    }
   ],
   "source": [
    "a=[1,2,3,4,5]\n",
    "s=0\n",
    "for i in a:\n",
    "    if i%2==0:\n",
    "       s+=i\n",
    "print(s)"
   ]
  },
  {
   "cell_type": "code",
   "execution_count": 8,
   "id": "7fe7f306-9302-4ecf-a262-8bdb214fc18a",
   "metadata": {},
   "outputs": [
    {
     "name": "stdout",
     "output_type": "stream",
     "text": [
      "9\n"
     ]
    }
   ],
   "source": [
    "a=[1,2,3,4,5]\n",
    "s=0\n",
    "for i in a:\n",
    "    if i%2!=0:\n",
    "       s+=i\n",
    "print(s)"
   ]
  },
  {
   "cell_type": "code",
   "execution_count": null,
   "id": "b2045a9b-f995-45da-8c9f-49129befdfe2",
   "metadata": {},
   "outputs": [],
   "source": [
    "nested_list = [[1, 2], [3, 4], [5, 6]]\n",
    "flat_list = []\n",
    "for sublist in nested_list:\n",
    "    for item in sublist:\n",
    "        flat_list.append(item)\n",
    "print(flat_list)\n"
   ]
  },
  {
   "cell_type": "code",
   "execution_count": 9,
   "id": "4a0ae04a-e112-41c2-bb54-b8d530af79f1",
   "metadata": {},
   "outputs": [
    {
     "name": "stdout",
     "output_type": "stream",
     "text": [
      "[[1, 2], [1, 2], [3, 4], [3, 4], [5, 6], [5, 6]]\n"
     ]
    }
   ],
   "source": [
    "nested_list= [[1, 2], [3, 4], [5, 6]]\n",
    "flattern=[]\n",
    "for i in nested_list:\n",
    "    for j in i:\n",
    "        flattern.append(i)\n",
    "print(flattern)"
   ]
  },
  {
   "cell_type": "code",
   "execution_count": 11,
   "id": "b44db580-8f3f-44cf-9d89-039b2e4b21fc",
   "metadata": {},
   "outputs": [
    {
     "name": "stdout",
     "output_type": "stream",
     "text": [
      "[[1, 2, 3, 4, 5, 6, 7], [1, 2, 3, 4, 5, 6, 7], [1, 2, 3, 4, 5, 6, 7], [1, 2, 3, 4, 5, 6, 7], [1, 2, 3, 4, 5, 6, 7], [1, 2, 3, 4, 5, 6, 7], [1, 2, 3, 4, 5, 6, 7]]\n"
     ]
    }
   ],
   "source": [
    "nested_list= [[1,2,3,4,5,6,7]]\n",
    "flattern=[]\n",
    "for i in nested_list:\n",
    "    for j in i:\n",
    "        flattern.append(i)\n",
    "print(flattern)"
   ]
  },
  {
   "cell_type": "code",
   "execution_count": 17,
   "id": "7ca1ba84-bf77-41b1-a524-328fe5a6aca7",
   "metadata": {},
   "outputs": [
    {
     "name": "stdout",
     "output_type": "stream",
     "text": [
      "3\n"
     ]
    }
   ],
   "source": [
    "nums = [1, 2, 4, 5, 6]\n",
    "n = 6\n",
    "sum_total = n * (n + 1) // 2\n",
    "sum_list = sum(nums)\n",
    "missing_number = sum_total - sum_list\n",
    "print(missing_number)"
   ]
  },
  {
   "cell_type": "code",
   "execution_count": 14,
   "id": "1d9ea53e-648a-4e06-b7bd-b5314909bc4a",
   "metadata": {},
   "outputs": [
    {
     "name": "stdout",
     "output_type": "stream",
     "text": [
      "21\n"
     ]
    }
   ],
   "source": [
    "nums = [1, 2, 4, 5, 6]\n",
    "n = 6\n",
    "sum_total = n * (n + 1) // 2\n",
    "print(sum_total)"
   ]
  },
  {
   "cell_type": "code",
   "execution_count": 16,
   "id": "8dc76ef1-ccfc-4868-ad2c-495d3408ccf2",
   "metadata": {},
   "outputs": [
    {
     "name": "stdout",
     "output_type": "stream",
     "text": [
      "2\n"
     ]
    }
   ],
   "source": [
    "num=[1,3]\n",
    "n=3\n",
    "s=n*(n+1)//2\n",
    "a=sum(num)\n",
    "c=s-a\n",
    "print(c)"
   ]
  },
  {
   "cell_type": "code",
   "execution_count": 20,
   "id": "d17ef1f8-0867-4ec5-bf35-8a1ec11bd970",
   "metadata": {},
   "outputs": [
    {
     "name": "stdout",
     "output_type": "stream",
     "text": [
      "[0, 1, 1, 2, 3, 5, 8, 13, 21, 34]\n"
     ]
    }
   ],
   "source": [
    "n = 10\n",
    "a, b = 0, 1\n",
    "fib_series = [a]\n",
    "for i in range(1, n):\n",
    "    fib_series.append(b)\n",
    "    a, b = b, a + b\n",
    "print(fib_series)\n"
   ]
  },
  {
   "cell_type": "code",
   "execution_count": null,
   "id": "ed711c09-8a19-4b93-a7ed-ec62d12611f8",
   "metadata": {},
   "outputs": [],
   "source": [
    "n=int(input())\n",
    "a,b=0,1\n"
   ]
  }
 ],
 "metadata": {
  "kernelspec": {
   "display_name": "Python 3 (ipykernel)",
   "language": "python",
   "name": "python3"
  },
  "language_info": {
   "codemirror_mode": {
    "name": "ipython",
    "version": 3
   },
   "file_extension": ".py",
   "mimetype": "text/x-python",
   "name": "python",
   "nbconvert_exporter": "python",
   "pygments_lexer": "ipython3",
   "version": "3.12.7"
  }
 },
 "nbformat": 4,
 "nbformat_minor": 5
}
