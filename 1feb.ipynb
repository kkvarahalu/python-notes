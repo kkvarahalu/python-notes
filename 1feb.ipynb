{
 "cells": [
  {
   "cell_type": "code",
   "execution_count": 2,
   "id": "ff5072a9-2a1b-455e-938c-7f2c3c763e24",
   "metadata": {},
   "outputs": [
    {
     "name": "stdout",
     "output_type": "stream",
     "text": [
      "mayur\n",
      "78\n",
      "hardweek\n",
      "89\n"
     ]
    }
   ],
   "source": [
    "class test:\n",
    "    def __init__(self,name,marks):\n",
    "       self.name=name\n",
    "       self.marks=marks\n",
    "    def display(self):\n",
    "        print(self.name)\n",
    "        print(self.marks)\n",
    "t1=test(\"mayur\",78)\n",
    "t2=test(\"hardweek\",89)\n",
    "t1.display()\n",
    "t2.display()\n",
    "        "
   ]
  },
  {
   "cell_type": "code",
   "execution_count": 3,
   "id": "96e98d80-d1e9-457e-8751-58c32498b7b7",
   "metadata": {},
   "outputs": [],
   "source": [
    "class counting:\n",
    "    count=0\n",
    "    def __init__(self):\n",
    "        counting.count+=1\n",
    "    def display(self):\n",
    "        print(counting.count)\n",
    "c1=counting()\n",
    "c2=counting()\n",
    "c3=counting()"
   ]
  },
  {
   "cell_type": "code",
   "execution_count": 4,
   "id": "29a57f7f-fc92-455d-a7b8-ee1e11bbee4d",
   "metadata": {},
   "outputs": [
    {
     "name": "stdout",
     "output_type": "stream",
     "text": [
      "3\n"
     ]
    }
   ],
   "source": [
    "c1.display()"
   ]
  },
  {
   "cell_type": "code",
   "execution_count": 1,
   "id": "70aef4c6-ed45-4cda-bfae-6812cd80955e",
   "metadata": {},
   "outputs": [],
   "source": [
    "class test:\n",
    "    pass"
   ]
  },
  {
   "cell_type": "code",
   "execution_count": 6,
   "id": "7eec37de-f750-46a4-9fe6-1a6039de8997",
   "metadata": {},
   "outputs": [],
   "source": [
    "class test:\n",
    "    def __init__(self,name,marks):\n",
    "       self.name=name\n",
    "       self.marks=marks\n",
    "    def display(self):\n",
    "        print(self.name)\n",
    "        print(self.marks)\n",
    "t1=test(\"mayur\",78)\n",
    "t2=test(\"hardweek\",89)\n",
    "\n",
    "        "
   ]
  },
  {
   "cell_type": "code",
   "execution_count": 7,
   "id": "57431f7e-0c3c-4919-96ab-51528dfecee2",
   "metadata": {},
   "outputs": [
    {
     "data": {
      "text/plain": [
       "'mayur'"
      ]
     },
     "execution_count": 7,
     "metadata": {},
     "output_type": "execute_result"
    }
   ],
   "source": [
    "t1.name"
   ]
  },
  {
   "cell_type": "code",
   "execution_count": 8,
   "id": "858ba1f8-e1e5-4e6d-969a-c5dc4807a843",
   "metadata": {},
   "outputs": [
    {
     "data": {
      "text/plain": [
       "78"
      ]
     },
     "execution_count": 8,
     "metadata": {},
     "output_type": "execute_result"
    }
   ],
   "source": [
    "t1.marks"
   ]
  },
  {
   "cell_type": "code",
   "execution_count": 9,
   "id": "70813273-e27d-4f04-92be-ae71e21cf380",
   "metadata": {},
   "outputs": [],
   "source": [
    "t1.gender='male'"
   ]
  },
  {
   "cell_type": "code",
   "execution_count": 10,
   "id": "5e186b45-f380-4c5f-be60-40bb309085d3",
   "metadata": {},
   "outputs": [
    {
     "data": {
      "text/plain": [
       "'male'"
      ]
     },
     "execution_count": 10,
     "metadata": {},
     "output_type": "execute_result"
    }
   ],
   "source": [
    "t1.gender"
   ]
  },
  {
   "cell_type": "code",
   "execution_count": 12,
   "id": "eed19e77-1a1d-4538-abe6-18bd0ab153d6",
   "metadata": {},
   "outputs": [
    {
     "name": "stdout",
     "output_type": "stream",
     "text": [
      "mayur\n",
      "78\n",
      "mayur\n",
      "78\n"
     ]
    }
   ],
   "source": [
    "class test:\n",
    "    def __init__(self,name,marks):\n",
    "       self.name=name\n",
    "       self.marks=marks\n",
    "    def display(self):\n",
    "        print(self.name)\n",
    "        print(self.marks)\n",
    "t1=test(\"mayur\",78)\n",
    "\n",
    "t1.display()\n",
    "t2=t1\n",
    "t2.display()\n",
    "        "
   ]
  },
  {
   "cell_type": "code",
   "execution_count": 1,
   "id": "e019c9aa-0bc7-404a-96dd-70f6b0387971",
   "metadata": {},
   "outputs": [],
   "source": [
    "#call by reference\n",
    "class student:\n",
    "    def __init__(self,name,rollno):\n",
    "        self.name=name\n",
    "        self.rollno=rollno\n",
    "def display(person):\n",
    "    print(person.name)\n",
    "    print(person.rollno)\n",
    "s=student(\"mayur\",101)"
   ]
  },
  {
   "cell_type": "code",
   "execution_count": 2,
   "id": "182c8056-b0a6-47ae-a505-2ca402fdd4d7",
   "metadata": {},
   "outputs": [
    {
     "name": "stdout",
     "output_type": "stream",
     "text": [
      "mayur\n",
      "101\n"
     ]
    }
   ],
   "source": [
    "display(s)"
   ]
  },
  {
   "cell_type": "code",
   "execution_count": 15,
   "id": "3ecfa059-fde6-46d2-90d7-40825d2c02f0",
   "metadata": {},
   "outputs": [
    {
     "name": "stdout",
     "output_type": "stream",
     "text": [
      "mayur\n",
      "101\n",
      "mayur\n",
      "101\n"
     ]
    }
   ],
   "source": [
    "class student:\n",
    "    def __init__(self,name,rollno):\n",
    "        self.name=name\n",
    "        self.rollno=rollno\n",
    "def display(person):\n",
    "    print(person.name)\n",
    "    print(person.rollno)\n",
    "    return person\n",
    "s=student(\"mayur\",101)\n",
    "p1=display(s)\n",
    "print(p1.name)\n",
    "print(p1.rollno)"
   ]
  },
  {
   "cell_type": "code",
   "execution_count": null,
   "id": "34197065-0a5a-410e-91a1-0fbd238ea187",
   "metadata": {},
   "outputs": [],
   "source": [
    "l=0\n",
    "h=len(list)-1\n",
    "while l<h:\n",
    "l="
   ]
  },
  {
   "cell_type": "code",
   "execution_count": 8,
   "id": "6e835b5e-1c1e-4716-9460-aabf2bd35148",
   "metadata": {},
   "outputs": [],
   "source": [
    "class shirt:\n",
    "    def __init__(self,colour,price):\n",
    "        self.colour=colour\n",
    "        self.price=price\n",
    "    def display(self):\n",
    "        print(self.colour)\n",
    "        print(self.price)\n",
    "        print(\"shirt purchased\")\n",
    "class pant(shirt):#derived class\n",
    "    def pant_details(self):\n",
    "        print(\"pant purchased\")\n",
    "obj=pant(\"red\",2000)\n"
   ]
  },
  {
   "cell_type": "code",
   "execution_count": 3,
   "id": "a73477d8-7a28-4e21-b061-76434768ef5e",
   "metadata": {},
   "outputs": [
    {
     "data": {
      "text/plain": [
       "'red'"
      ]
     },
     "execution_count": 3,
     "metadata": {},
     "output_type": "execute_result"
    }
   ],
   "source": [
    "obj.colour"
   ]
  },
  {
   "cell_type": "code",
   "execution_count": 1,
   "id": "b21390fb-281a-46c9-a214-1eee943d842e",
   "metadata": {},
   "outputs": [],
   "source": [
    "class shirt:\n",
    "    def __init__(self,colour,price):\n",
    "        self.__colour=colour\n",
    "        self.price=price\n",
    "    def display(self):\n",
    "        print(self.colour)\n",
    "        print(self.price)\n",
    "        print(\"shirt purchased\")\n",
    "class pant(shirt):#derived class\n",
    "    def display(self):\n",
    "        print(\"pant purchased\")\n",
    "obj=pant(\"red\",2000)"
   ]
  },
  {
   "cell_type": "code",
   "execution_count": 11,
   "id": "a4adfcbb-ef47-4e61-bf2b-7d51ec1aa481",
   "metadata": {},
   "outputs": [
    {
     "name": "stdout",
     "output_type": "stream",
     "text": [
      "pant purchased\n"
     ]
    }
   ],
   "source": [
    "obj.display()"
   ]
  },
  {
   "cell_type": "code",
   "execution_count": 6,
   "id": "1847805b-11d1-4701-8c94-a8f49ff3fda3",
   "metadata": {},
   "outputs": [],
   "source": [
    "class shirt:\n",
    "    def __init__(self,color,price):\n",
    "        self.__color=color\n",
    "        self.price=price\n",
    "    def display_shirtdetails(self):\n",
    "        print(self.color)\n",
    "        print(self.price)\n",
    "        print(\"shirt purchased\")\n",
    "class pant(shirt):#derived class\n",
    "    def __init__(self,color,price):\n",
    "        self.color=color\n",
    "        self.price=price\n",
    "    def display_pantdetails(self):\n",
    "        print(self.color)\n",
    "        print(self.price)\n",
    "        print(\"pant purchased\")\n",
    "        super().display_shirtdetails()#access the method of parent clas in side the child class\n",
    "obj=pant(\"red\",2000)"
   ]
  },
  {
   "cell_type": "code",
   "execution_count": 7,
   "id": "616c6e7f-3b35-40f4-b9f8-a174d5e84397",
   "metadata": {},
   "outputs": [
    {
     "name": "stdout",
     "output_type": "stream",
     "text": [
      "red\n",
      "2000\n",
      "pant purchased\n",
      "red\n",
      "2000\n",
      "shirt purchased\n"
     ]
    }
   ],
   "source": [
    "obj.display_pantdetails()"
   ]
  },
  {
   "cell_type": "code",
   "execution_count": 17,
   "id": "7bd961f8-6c56-4a16-9bb1-a8173e5a3f3d",
   "metadata": {},
   "outputs": [],
   "source": [
    "class parent:\n",
    "    def __init__(self):\n",
    "        self.a=100\n",
    "class child(parent):\n",
    "    \n",
    "    def __init__(self):\n",
    "        super().__init__()\n",
    "        self.b=200\n",
    "    def show(self):\n",
    "        print(self.a)\n",
    "        print(self.b)\n",
    "c=child()"
   ]
  },
  {
   "cell_type": "code",
   "execution_count": 18,
   "id": "3f0a9bb2-919b-406f-bd59-4a71eb3128f4",
   "metadata": {},
   "outputs": [
    {
     "name": "stdout",
     "output_type": "stream",
     "text": [
      "100\n",
      "200\n"
     ]
    }
   ],
   "source": [
    "c.show()"
   ]
  },
  {
   "cell_type": "code",
   "execution_count": 5,
   "id": "c5062294-56cc-40af-9177-040c9efcb3de",
   "metadata": {},
   "outputs": [
    {
     "ename": "SyntaxError",
     "evalue": "invalid syntax (3247090920.py, line 11)",
     "output_type": "error",
     "traceback": [
      "\u001b[1;36m  Cell \u001b[1;32mIn[5], line 11\u001b[1;36m\u001b[0m\n\u001b[1;33m    super().__init__(self,name,age,rollno,grades):\u001b[0m\n\u001b[1;37m                                                 ^\u001b[0m\n\u001b[1;31mSyntaxError\u001b[0m\u001b[1;31m:\u001b[0m invalid syntax\n"
     ]
    }
   ],
   "source": [
    "class person:\n",
    "    def __init__(self,name,age):\n",
    "        self.name=name\n",
    "        self.age=age\n",
    "\n",
    "    def display(self):\n",
    "        print(self.name)\n",
    "        print(slef.age)\n",
    "class student(person):\n",
    "    def __init__(self,name,rollno,grades):\n",
    "        super().__init__(self,name,age,rollno,grades):\n",
    "        self.rollno=rollno\n",
    "        self.grades=grades\n",
    "    def display(self):\n",
    "        print(self.rollno)\n",
    "        print(self.grades)\n",
    "class graduatesstudent(student):\n",
    "    def __init__(self,degree):\n",
    "        super().__init__(name,age,rollno,grades)\n",
    "        self.degree=degree\n",
    "    def display(self):\n",
    "        print(self.degree)\n",
    "obj.graduatesstudent(\n",
    "obj.displaygradutes()\n",
    "        "
   ]
  },
  {
   "cell_type": "code",
   "execution_count": null,
   "id": "d4c368f1-376a-4d85-94a8-a3ce2b0616a0",
   "metadata": {},
   "outputs": [],
   "source": [
    "class academic:\n",
    "    def __init__(self,grades,subjects):\n",
    "        self.grades=grades\n",
    "        self.subjects=subjects\n",
    "    def display(self):\n",
    "        print(self.grades)\n",
    "        print(slef.age)"
   ]
  },
  {
   "cell_type": "code",
   "execution_count": null,
   "id": "a50429b9-801a-4af9-ae54-3252e52535f4",
   "metadata": {},
   "outputs": [],
   "source": [
    "class person:\n",
    "    def __init__(self,name,age):\n",
    "        self.name=name\n",
    "        self.age=age\n",
    "\n",
    "    def display(self):\n",
    "        print(self.name)\n",
    "        print(slef.age)\n",
    "class student(person):\n",
    "    def __init__(self,name,grades,undergraduatestudent):\n",
    "        super().__init__(self,name,age,grades,undergraduatestudent):\n",
    "        self.rollno=rollno\n",
    "        self.grades=grades\n",
    "    def display(self):\n",
    "        print(self.rollno)\n",
    "        print(self.grades)\n",
    "class graduatesstudent(student):\n",
    "    def __init__(self,degree):\n",
    "        super().__init__(name,age,rollno,grades)\n",
    "        self.degree=degree\n",
    "    def display(self):\n",
    "        print(self.degree)"
   ]
  },
  {
   "cell_type": "code",
   "execution_count": 5,
   "id": "6b217cbf-a715-4c37-b33b-beae7c420d15",
   "metadata": {},
   "outputs": [
    {
     "name": "stdout",
     "output_type": "stream",
     "text": [
      "hindi is a language in india\n",
      "new delhi is a capital of india\n",
      "english is language\n",
      "washington is capital\n"
     ]
    }
   ],
   "source": [
    "#.polmorpism:\n",
    "class india:\n",
    "    def language(self):\n",
    "        print(\"hindi is a language in india\")\n",
    "    def capital(self):\n",
    "        print(\"new delhi is a capital of india\")\n",
    "    def famousthing(self):\n",
    "        print(\"india is famous for population\")\n",
    "class usa:\n",
    "    def language(self):\n",
    "        print(\"english is language\")\n",
    "    def capital(self):\n",
    "        print(\"washington is capital\")\n",
    "    def famousthing(self):\n",
    "        print(\"famous of masters\")\n",
    "obj_india=india()\n",
    "obj_usa=usa()\n",
    "for country in (obj_india,obj_usa):\n",
    "    country.language()\n",
    "    country.capital()"
   ]
  },
  {
   "cell_type": "code",
   "execution_count": 6,
   "id": "c6ab7e0a-d997-4265-b7d4-50b8d3d7d364",
   "metadata": {},
   "outputs": [
    {
     "name": "stdout",
     "output_type": "stream",
     "text": [
      "bhokbhok\n",
      "meow\n",
      "horm\n"
     ]
    }
   ],
   "source": [
    "class animal:\n",
    "    alive=True\n",
    "class dog(animal):\n",
    "    def speaking(self):\n",
    "        print(\"bhokbhok\")\n",
    "class cat(animal):\n",
    "    def speaking(self):\n",
    "        print(\"meow\")\n",
    "class car:\n",
    "    def speaking(self):\n",
    "        print(\"horm\")\n",
    "animals=[dog(),cat(),car()]\n",
    "for a in animals:\n",
    "    a.speaking()\n",
    "    "
   ]
  },
  {
   "cell_type": "code",
   "execution_count": 4,
   "id": "e52ebd74-7023-4cc6-a30f-39f7648d4024",
   "metadata": {},
   "outputs": [
    {
     "name": "stdout",
     "output_type": "stream",
     "text": [
      "a=3.142*r**2\n",
      "a=2*3.142**2\n",
      "a=b*b\n",
      "a=4*b\n",
      "a=l*b\n",
      "a=2*l+2*b\n"
     ]
    }
   ],
   "source": [
    "class circle:\n",
    "    def area(self):\n",
    "        print(f\"a=3.142*r**2\")\n",
    "    def parameter(self):\n",
    "        print(f\"a=2*3.142**2\")\n",
    "class squre:\n",
    "    def area(self):\n",
    "        print(f\"a=b*b\")\n",
    "    def parameter(self):\n",
    "        print(f\"a=4*b\")\n",
    "class rectangle:\n",
    "    def area(self):\n",
    "        print(f\"a=l*b\")\n",
    "    def parameter(self):\n",
    "        print(f\"a=2*l+2*b\")\n",
    "obj_circle=circle()\n",
    "obj_squre=squre()\n",
    "obj_rectangle=rectangle()\n",
    "for figurs in (obj_circle,obj_squre,obj_rectangle):\n",
    "    figurs.area()\n",
    "    figurs.parameter()\n",
    "        \n"
   ]
  },
  {
   "cell_type": "code",
   "execution_count": 2,
   "id": "63671dbf-b81b-43ec-9165-2320a0190b61",
   "metadata": {},
   "outputs": [
    {
     "name": "stdout",
     "output_type": "stream",
     "text": [
      "car has 4 wheels\n",
      "speed of benz is 100kmph\n",
      "car has 4 wheels\n",
      "speed of tesla is 100kmph\n"
     ]
    }
   ],
   "source": [
    "from abc import ABC,abstractmethod\n",
    "class Car(ABC):\n",
    "    def parameters(self):\n",
    "        print(\"car has 4 wheels\")\n",
    "    @abstractmethod\n",
    "    def average_speed(self):\n",
    "        pass\n",
    "class Benz(Car):\n",
    "    def average_speed(self):\n",
    "        print(\"speed of benz is 100kmph\")\n",
    "class Tesla(Car):\n",
    "    def average_speed(self):\n",
    "        print(\"speed of tesla is 100kmph\")\n",
    "obj1=Benz()\n",
    "obj1.parameters()\n",
    "obj1.average_speed()\n",
    "obj2=Tesla()\n",
    "obj2.parameters()\n",
    "obj2.average_speed()\n",
    "\n",
    "    "
   ]
  },
  {
   "cell_type": "code",
   "execution_count": null,
   "id": "87ee9a10-a809-4065-b08f-4690675c4f82",
   "metadata": {},
   "outputs": [],
   "source": [
    "#bank-appandraid ,iphon,web app ,\n",
    "from abc import ABC,abstractmethod\n",
    "class bankapp(abc):\n",
    "    @abstractmethod\n",
    "    def security(self):\n",
    "        pass\n",
    "class androd(bankapp):\n",
    "    def security(self):\n",
    "        print(\"androd app security is good\")\n",
    "class iphon(bankapp):\n",
    "    def security(self):\n",
    "        print(\"iphon security is more benfit\")\n",
    "class webapp(bankapp):"
   ]
  },
  {
   "cell_type": "code",
   "execution_count": 7,
   "id": "55e4289d-ff8d-44ee-95fe-e7571db8bd3b",
   "metadata": {},
   "outputs": [
    {
     "data": {
      "text/plain": [
       "3.141592653589793"
      ]
     },
     "execution_count": 7,
     "metadata": {},
     "output_type": "execute_result"
    }
   ],
   "source": [
    "import math\n",
    "math.pi"
   ]
  },
  {
   "cell_type": "code",
   "execution_count": 8,
   "id": "a1814276-d38b-4edf-8244-256d5b9a6e04",
   "metadata": {},
   "outputs": [
    {
     "data": {
      "text/plain": [
       "8"
      ]
     },
     "execution_count": 8,
     "metadata": {},
     "output_type": "execute_result"
    }
   ],
   "source": [
    "math.ceil(7.9)"
   ]
  },
  {
   "cell_type": "code",
   "execution_count": 9,
   "id": "1f7c76c5-dd5c-42c1-ac1b-bb230c602ecb",
   "metadata": {},
   "outputs": [
    {
     "data": {
      "text/plain": [
       "5"
      ]
     },
     "execution_count": 9,
     "metadata": {},
     "output_type": "execute_result"
    }
   ],
   "source": [
    "math.floor(5.4)"
   ]
  },
  {
   "cell_type": "code",
   "execution_count": 10,
   "id": "9978cf2d-7808-4751-a9b4-e28baedbd2ad",
   "metadata": {},
   "outputs": [
    {
     "data": {
      "text/plain": [
       "4.0"
      ]
     },
     "execution_count": 10,
     "metadata": {},
     "output_type": "execute_result"
    }
   ],
   "source": [
    "math.pow(2,2)#2*2*2*2*2*2"
   ]
  },
  {
   "cell_type": "code",
   "execution_count": 11,
   "id": "b7bc3f67-3e96-4ee3-84c6-cd321ecacb40",
   "metadata": {},
   "outputs": [
    {
     "data": {
      "text/plain": [
       "120"
      ]
     },
     "execution_count": 11,
     "metadata": {},
     "output_type": "execute_result"
    }
   ],
   "source": [
    "math.factorial(5)"
   ]
  },
  {
   "cell_type": "code",
   "execution_count": null,
   "id": "27b7aa21-4f89-46ef-a331-beb7a1c3db87",
   "metadata": {},
   "outputs": [],
   "source": []
  }
 ],
 "metadata": {
  "kernelspec": {
   "display_name": "Python 3 (ipykernel)",
   "language": "python",
   "name": "python3"
  },
  "language_info": {
   "codemirror_mode": {
    "name": "ipython",
    "version": 3
   },
   "file_extension": ".py",
   "mimetype": "text/x-python",
   "name": "python",
   "nbconvert_exporter": "python",
   "pygments_lexer": "ipython3",
   "version": "3.12.7"
  }
 },
 "nbformat": 4,
 "nbformat_minor": 5
}
