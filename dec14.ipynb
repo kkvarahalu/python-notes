{
 "cells": [
  {
   "cell_type": "code",
   "execution_count": 1,
   "id": "74bf31c2-9427-49d9-80ff-8a3f295c8237",
   "metadata": {},
   "outputs": [
    {
     "name": "stdin",
     "output_type": "stream",
     "text": [
      "enter any number 10\n"
     ]
    },
    {
     "name": "stdout",
     "output_type": "stream",
     "text": [
      "55\n"
     ]
    }
   ],
   "source": [
    "def sum(n):\n",
    "    if n==1:\n",
    "       return 1\n",
    "    else:\n",
    "      return n+sum(n-1)\n",
    "n=int(input(\"enter any number\"))\n",
    "print(sum(n))"
   ]
  },
  {
   "cell_type": "code",
   "execution_count": 1,
   "id": "e60d54df-33ae-4f08-8423-9ab752d3be28",
   "metadata": {},
   "outputs": [
    {
     "name": "stdin",
     "output_type": "stream",
     "text": [
      "enter any number 10\n"
     ]
    },
    {
     "name": "stdout",
     "output_type": "stream",
     "text": [
      "55\n"
     ]
    }
   ],
   "source": [
    "def sum(n):\n",
    "    if n==0 or n==1:\n",
    "        return n\n",
    "    else:\n",
    "        return n+sum(n-1)\n",
    "n=int(input(\"enter any number\"))\n",
    "print(sum(n))"
   ]
  },
  {
   "cell_type": "code",
   "execution_count": 3,
   "id": "1e686c36-a0fa-40f1-a128-9b8c3f0607b6",
   "metadata": {},
   "outputs": [
    {
     "name": "stdin",
     "output_type": "stream",
     "text": [
      "enter any number 10\n"
     ]
    },
    {
     "name": "stdout",
     "output_type": "stream",
     "text": [
      "385\n"
     ]
    }
   ],
   "source": [
    "def squres(n):\n",
    "    if n == 1:\n",
    "        return n\n",
    "    else:\n",
    "        return n**2 + squres(n - 1)\n",
    "n=int(input(\"enter any number\"))\n",
    "print(squres(n))"
   ]
  },
  {
   "cell_type": "code",
   "execution_count": 1,
   "id": "a235a4e4-db07-4762-8c5c-c9ccc48ebb7f",
   "metadata": {},
   "outputs": [
    {
     "name": "stdin",
     "output_type": "stream",
     "text": [
      "enter any number 5\n"
     ]
    },
    {
     "name": "stdout",
     "output_type": "stream",
     "text": [
      "18\n"
     ]
    }
   ],
   "source": [
    "r=0\n",
    "def fun(n):\n",
    "   if n<=0:\n",
    "       global r\n",
    "       return 1\n",
    "   elif n>3:\n",
    "      r=n\n",
    "      return fun(n-2)+2\n",
    "   else:\n",
    "      return fun(n-1)+r\n",
    "n=int(input(\"enter any number\"))\n",
    "print(fun(n))"
   ]
  },
  {
   "cell_type": "code",
   "execution_count": 3,
   "id": "c44f8d65-330a-4847-aa91-ac1c28c91416",
   "metadata": {},
   "outputs": [
    {
     "name": "stdin",
     "output_type": "stream",
     "text": [
      "enter any number 6\n"
     ]
    },
    {
     "name": "stdout",
     "output_type": "stream",
     "text": [
      "13\n"
     ]
    }
   ],
   "source": [
    "r=0\n",
    "def fun(n):\n",
    "    if n<=0:\n",
    "       global r\n",
    "       return 1\n",
    "    elif n>3:\n",
    "        r=n\n",
    "        return fun(n-2)+2\n",
    "    else:\n",
    "        return fun(n-1)+r\n",
    "n=int(input(\"enter any number\"))\n",
    "print(fun(n))"
   ]
  },
  {
   "cell_type": "code",
   "execution_count": 14,
   "id": "83fc2d41-943a-4dcf-b180-8f3a5add7d44",
   "metadata": {},
   "outputs": [
    {
     "name": "stdout",
     "output_type": "stream",
     "text": [
      "13\n"
     ]
    }
   ],
   "source": [
    "r=0\n",
    "def fun(n):\n",
    "   if n<=0:\n",
    "       global r\n",
    "       return 1\n",
    "   elif n>3:\n",
    "      r=n\n",
    "      return fun(n-2)+2\n",
    "   else:\n",
    "      return fun(n-1)+r\n",
    "print(fun(6))"
   ]
  },
  {
   "cell_type": "code",
   "execution_count": 16,
   "id": "2dd139e0-f8e0-4cf2-a47c-8d08ef179010",
   "metadata": {},
   "outputs": [
    {
     "name": "stdout",
     "output_type": "stream",
     "text": [
      "-9\n"
     ]
    }
   ],
   "source": [
    "def my_func(n,k):\n",
    "    if n==0:\n",
    "        return 0\n",
    "    elif n%2==0:\n",
    "        return my_func(n//2,2*k)+k\n",
    "    else:\n",
    "        return my_func(n//2,2*k)-k\n",
    "print(my_func(20,1))"
   ]
  },
  {
   "cell_type": "code",
   "execution_count": 4,
   "id": "7b10fc5c-45ab-4fa4-a745-323946bc8bcd",
   "metadata": {},
   "outputs": [
    {
     "name": "stdout",
     "output_type": "stream",
     "text": [
      "1\n",
      "0\n",
      "1\n",
      "0\n",
      "1\n",
      "1\n",
      "0\n",
      "1\n",
      "None\n"
     ]
    }
   ],
   "source": [
    "def f(n):\n",
    "    if n<=1:\n",
    "        print(n)\n",
    "    else:\n",
    "        f(n//2)\n",
    "        print(n%2)\n",
    "print(f(173))"
   ]
  },
  {
   "cell_type": "code",
   "execution_count": 14,
   "id": "7393ed94-83ae-47a6-b606-b4f7580ee8af",
   "metadata": {},
   "outputs": [
    {
     "name": "stdout",
     "output_type": "stream",
     "text": [
      "0.67578125\n",
      "1.3515625\n",
      "0.703125\n",
      "1.40625\n",
      "0.8125\n",
      "1.625\n",
      "1.25\n",
      "0.5\n",
      "1\n",
      "None\n"
     ]
    }
   ],
   "source": [
    "def f(n):\n",
    "    if n<=1:\n",
    "        print(n)\n",
    "    else:\n",
    "        f(n/2)\n",
    "        print(n%2)\n",
    "print(f(173))"
   ]
  },
  {
   "cell_type": "code",
   "execution_count": 22,
   "id": "5d2499d7-9c4d-4489-889a-4d716fa3c7f4",
   "metadata": {},
   "outputs": [
    {
     "name": "stdout",
     "output_type": "stream",
     "text": [
      "15\n"
     ]
    }
   ],
   "source": [
    "def digit_sum(n):\n",
    "    if n==0:\n",
    "        return 0\n",
    "    return n%10+digit_sum(n//10)\n",
    "num=456\n",
    "result=digit_sum(num)\n",
    "print(result)\n",
    "        "
   ]
  },
  {
   "cell_type": "code",
   "execution_count": 24,
   "id": "4cb4362d-b23c-4a5a-8ee5-363cd34ae8f0",
   "metadata": {},
   "outputs": [
    {
     "name": "stdout",
     "output_type": "stream",
     "text": [
      "12\n"
     ]
    }
   ],
   "source": [
    "def foo(n,r):\n",
    "    if n>0:\n",
    "        return ((n%r)+foo(n//10,10))\n",
    "    else:\n",
    "        return 0\n",
    "print(foo(345,10))"
   ]
  },
  {
   "cell_type": "code",
   "execution_count": null,
   "id": "a891fee4-8f39-48b6-9f6d-ad14aca91d30",
   "metadata": {},
   "outputs": [],
   "source": []
  },
  {
   "cell_type": "code",
   "execution_count": null,
   "id": "6961c61a-1005-40f0-9810-9aa595e24c8e",
   "metadata": {},
   "outputs": [],
   "source": []
  },
  {
   "cell_type": "code",
   "execution_count": null,
   "id": "361fff40-9579-46ab-8c18-d3c9bdfbc4df",
   "metadata": {},
   "outputs": [],
   "source": []
  },
  {
   "cell_type": "code",
   "execution_count": null,
   "id": "529525de-ef90-4b84-a47a-22574efd2d19",
   "metadata": {},
   "outputs": [],
   "source": []
  },
  {
   "cell_type": "code",
   "execution_count": null,
   "id": "ea176a8f-9f1e-41ce-a86d-3f8f825094aa",
   "metadata": {},
   "outputs": [],
   "source": []
  },
  {
   "cell_type": "code",
   "execution_count": null,
   "id": "4f708e6a-6aa2-417d-be80-37f907bcd32d",
   "metadata": {},
   "outputs": [],
   "source": []
  },
  {
   "cell_type": "code",
   "execution_count": null,
   "id": "1903fc55-21de-4403-a208-80db4a7748eb",
   "metadata": {},
   "outputs": [],
   "source": []
  },
  {
   "cell_type": "code",
   "execution_count": null,
   "id": "7faf269c-c81a-43f4-ba96-189032a1fc81",
   "metadata": {},
   "outputs": [],
   "source": []
  },
  {
   "cell_type": "code",
   "execution_count": null,
   "id": "d063c7d8-ab86-4163-8ead-316370689d1d",
   "metadata": {},
   "outputs": [],
   "source": []
  },
  {
   "cell_type": "code",
   "execution_count": null,
   "id": "3604f29b-480f-4556-8d25-95ad27eb0302",
   "metadata": {},
   "outputs": [],
   "source": []
  },
  {
   "cell_type": "code",
   "execution_count": null,
   "id": "8d0e994a-a1c7-4d92-a956-d8512794743e",
   "metadata": {},
   "outputs": [],
   "source": []
  },
  {
   "cell_type": "code",
   "execution_count": null,
   "id": "945d3579-6684-4a4c-b537-fb861df41a5e",
   "metadata": {},
   "outputs": [],
   "source": []
  },
  {
   "cell_type": "code",
   "execution_count": null,
   "id": "29ed6ff0-d50c-4901-b584-08b44f8fef50",
   "metadata": {},
   "outputs": [],
   "source": []
  },
  {
   "cell_type": "code",
   "execution_count": null,
   "id": "138693b9-fee1-497f-ad01-fc44510dab41",
   "metadata": {},
   "outputs": [],
   "source": []
  },
  {
   "cell_type": "code",
   "execution_count": null,
   "id": "8289cd8c-9570-4bee-9df7-336ad6fbee78",
   "metadata": {},
   "outputs": [],
   "source": []
  },
  {
   "cell_type": "code",
   "execution_count": null,
   "id": "5bfdb73f-e84e-4d34-b887-3446fd76d848",
   "metadata": {},
   "outputs": [],
   "source": []
  }
 ],
 "metadata": {
  "kernelspec": {
   "display_name": "Python 3 (ipykernel)",
   "language": "python",
   "name": "python3"
  },
  "language_info": {
   "codemirror_mode": {
    "name": "ipython",
    "version": 3
   },
   "file_extension": ".py",
   "mimetype": "text/x-python",
   "name": "python",
   "nbconvert_exporter": "python",
   "pygments_lexer": "ipython3",
   "version": "3.12.7"
  }
 },
 "nbformat": 4,
 "nbformat_minor": 5
}
