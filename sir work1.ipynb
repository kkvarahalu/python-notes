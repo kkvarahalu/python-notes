{
 "cells": [
  {
   "cell_type": "code",
   "execution_count": 1,
   "id": "7e3fb03d-f08a-46e3-9d20-f63d180f6bd4",
   "metadata": {},
   "outputs": [
    {
     "name": "stdout",
     "output_type": "stream",
     "text": [
      "True\n"
     ]
    }
   ],
   "source": [
    "def checkstatus(a,b,flag):\n",
    "    if a>0 or b>0 :\n",
    "        if flag==False:\n",
    "            return True\n",
    "        else:\n",
    "            return False\n",
    "    elif  a<0 and b<0:\n",
    "       \n",
    "        if flag==True:\n",
    "            return True\n",
    "        else:\n",
    "            return False\n",
    "            \n",
    "        \n",
    "    else:\n",
    "        return False\n",
    "print(checkstatus(1,-1,False))"
   ]
  },
  {
   "cell_type": "code",
   "execution_count": 2,
   "id": "56d79f1a-c97c-4943-94fa-0817f467a235",
   "metadata": {},
   "outputs": [
    {
     "name": "stdout",
     "output_type": "stream",
     "text": [
      "False\n"
     ]
    }
   ],
   "source": [
    "def checkstatus(a,b,flag):\n",
    "    if a>0 or b>0 and flag==False:\n",
    "            return True\n",
    "    elif  a<0 and b<0 and flag==True:\n",
    "            return True\n",
    "    else:\n",
    "        return False\n",
    "print(checkstatus(-1,0,False))"
   ]
  },
  {
   "cell_type": "code",
   "execution_count": 3,
   "id": "6c933954-93da-47be-bab7-41d4c4e54da9",
   "metadata": {},
   "outputs": [
    {
     "name": "stdout",
     "output_type": "stream",
     "text": [
      "-3\n",
      "-2\n",
      "-1\n",
      "0\n"
     ]
    }
   ],
   "source": [
    "n=-3\n",
    "def neg(n):\n",
    "    i=n\n",
    "    while i<=0:\n",
    "        print(i)\n",
    "        i+=1\n",
    "neg(n)"
   ]
  },
  {
   "cell_type": "code",
   "execution_count": 4,
   "id": "c5a39d33-de48-44df-aa31-9e2cb8e7c4f7",
   "metadata": {},
   "outputs": [
    {
     "name": "stdin",
     "output_type": "stream",
     "text": [
      "enter eny number 6\n",
      "enter eny number 4\n",
      "enter eny number 4\n"
     ]
    },
    {
     "name": "stdout",
     "output_type": "stream",
     "text": [
      "6\n"
     ]
    }
   ],
   "source": [
    "age1=int(input(\"enter eny number\"))\n",
    "age2=int(input(\"enter eny number\"))\n",
    "age3=int(input(\"enter eny number\"))\n",
    "oldest_age=max(age1,age2,age3)\n",
    "\n",
    "print(oldest_age)            "
   ]
  },
  {
   "cell_type": "code",
   "execution_count": 7,
   "id": "f6a843d7-192f-49a0-a13f-e33e083015ca",
   "metadata": {},
   "outputs": [
    {
     "name": "stdin",
     "output_type": "stream",
     "text": [
      "enter eny num 98.7\n"
     ]
    },
    {
     "name": "stdout",
     "output_type": "stream",
     "text": [
      "98.7°C is equal to None°F\n"
     ]
    }
   ],
   "source": [
    "#Write a program that will convert celsius value to fahrenheit:\n",
    "def myfun(celsius):\n",
    "    i=(celsius*9/5)+32\n",
    "    return \n",
    "n=float(input(\"enter eny num\"))\n",
    "i=myfun(n)\n",
    "print(f\"{n}°C is equal to {i}°F\")"
   ]
  },
  {
   "cell_type": "code",
   "execution_count": 8,
   "id": "a75974c4-5d90-431b-ab57-edc66c89aecd",
   "metadata": {},
   "outputs": [
    {
     "name": "stdout",
     "output_type": "stream",
     "text": [
      "(5, 2)\n"
     ]
    }
   ],
   "source": [
    "def swap(a,b):\n",
    "    return b,a\n",
    "a=2\n",
    "b=5\n",
    "result=swap(a,b)\n",
    "print(result)"
   ]
  },
  {
   "cell_type": "code",
   "execution_count": 1,
   "id": "e8d73695-3a32-4ed5-969d-32635f8daced",
   "metadata": {},
   "outputs": [
    {
     "name": "stdin",
     "output_type": "stream",
     "text": [
      "enter eny number 534\n"
     ]
    },
    {
     "name": "stdout",
     "output_type": "stream",
     "text": [
      "12\n"
     ]
    }
   ],
   "source": [
    "def myfun(n):\n",
    "    digit_sum=0\n",
    "    while n>0:\n",
    "        digit_value=n%10           #note:\n",
    "        digit_sum+=digit_value     #this is more count digit of sum solution ex:534 or 5667 or ...ex\n",
    "        n=n//10\n",
    "    return digit_sum\n",
    "n=int(input(\"enter eny number\"))\n",
    "print(myfun(n))\n",
    "             "
   ]
  },
  {
   "cell_type": "code",
   "execution_count": 11,
   "id": "e5d898f2-302e-46cf-ac16-91c44487e402",
   "metadata": {},
   "outputs": [
    {
     "name": "stdout",
     "output_type": "stream",
     "text": [
      "15\n"
     ]
    }
   ],
   "source": [
    "def digit_sum(n):\n",
    "    if n==0:\n",
    "        return 0\n",
    "    return n%10+digit_sum(n//10)\n",
    "num=456\n",
    "result=digit_sum(num)\n",
    "print(result)"
   ]
  },
  {
   "cell_type": "code",
   "execution_count": 12,
   "id": "22b9bada-a055-4f27-ad02-b5457943e0c3",
   "metadata": {},
   "outputs": [
    {
     "name": "stdin",
     "output_type": "stream",
     "text": [
      "Enter any number:  09\n"
     ]
    },
    {
     "name": "stdout",
     "output_type": "stream",
     "text": [
      "Please enter a 3-digit number.\n"
     ]
    }
   ],
   "source": [
    "n = int(input(\"Enter any number: \"))  # Take input first\n",
    "\n",
    "if n < 100 or n > 999:  # Check if the number is not a 3-digit number\n",
    "    print(\"Please enter a 3-digit number.\")\n",
    "else:\n",
    "    def myfun(n):\n",
    "        digit_sum = 0\n",
    "        while n > 0:                          #this is only three digitofsum\n",
    "            digit_value = n % 10\n",
    "            digit_sum += digit_value\n",
    "            n = n // 10\n",
    "        return digit_sum\n",
    "\n",
    "    print(\"The sum of the digits is:\", myfun(n))"
   ]
  },
  {
   "cell_type": "code",
   "execution_count": 14,
   "id": "a1faf548-13ad-427b-9eee-276b3f6b8d9d",
   "metadata": {},
   "outputs": [
    {
     "ename": "SyntaxError",
     "evalue": "invalid syntax (3618379471.py, line 2)",
     "output_type": "error",
     "traceback": [
      "\u001b[1;36m  Cell \u001b[1;32mIn[14], line 2\u001b[1;36m\u001b[0m\n\u001b[1;33m    whether the reverse is true.\u001b[0m\n\u001b[1;37m            ^\u001b[0m\n\u001b[1;31mSyntaxError\u001b[0m\u001b[1;31m:\u001b[0m invalid syntax\n"
     ]
    }
   ],
   "source": [
    "#5.Write a program that will reverse a four digit number.Also it checks\n",
    "whether the reverse is true.\n",
    "\n",
    "n=int(input(\"enter eny number\"))\n",
    "revers_num=0\n",
    "while n>0:\n",
    "    last_digit=n%10\n",
    "    revers_num=revers_num*10+last_digit\n",
    "    n=n//10\n",
    "    if revers_num==n:\n",
    "        print(\"the num is True\")\n",
    "    else:\n",
    "        (\"thenum is False\")\n",
    "print(revers_num)"
   ]
  },
  {
   "cell_type": "code",
   "execution_count": null,
   "id": "bae8a0d8-b9cc-4bb4-9257-6711882c85c5",
   "metadata": {},
   "outputs": [],
   "source": [
    "#6.Write a program that will tell whether the number entered by the user is odd or even.\n",
    "def myfunodorevn(n):\n",
    "    if n%2==0:\n",
    "        print(\"number is even\")\n",
    "    else:\n",
    "        print(\"number is odd\")\n",
    "n=int(input(\"enter eny number\"))\n",
    "(myfunodorevn(n))\n"
   ]
  },
  {
   "cell_type": "code",
   "execution_count": null,
   "id": "0592bef2-ea03-4bf6-9af7-a8efb373ac08",
   "metadata": {},
   "outputs": [],
   "source": [
    "#7. Write a program that will tell whether the given year is a leap year or not.\n",
    "def leapornot(n):\n",
    "    if n%4==0 and n%100!=0:\n",
    "        print(\"the year is leap\")\n",
    "    elif n%400==0:\n",
    "        print(\"the year is leap\")\n",
    "    else:\n",
    "        print(\"not leap year\")\n",
    "n=int(input(\"enter year\"))\n",
    "leapornot(n)"
   ]
  },
  {
   "cell_type": "code",
   "execution_count": null,
   "id": "6e4cfc9d-af2f-4fdd-ba88-774f9b9f73cc",
   "metadata": {},
   "outputs": [],
   "source": [
    "#8.Write a program to find the euclidean distance between two coordinates.\n",
    "def myfun(x1,x2,y1,y24):\n",
    "    euclidean_dis=((x2-x1)**2+(y2-y1)**2)**0.5\n",
    "    return euclidean_dis\n",
    "x1=int(input())\n",
    "x2=int(input())\n",
    "y1=int(input())\n",
    "y2=int(input())\n",
    "print(myfun(x1,x2,y1,y2))\n",
    "    "
   ]
  },
  {
   "cell_type": "code",
   "execution_count": 2,
   "id": "84ebd1fa-5ded-485a-b9fb-89b91e6d629c",
   "metadata": {},
   "outputs": [
    {
     "name": "stdin",
     "output_type": "stream",
     "text": [
      " 3\n",
      " 4\n",
      " 5\n"
     ]
    },
    {
     "name": "stdout",
     "output_type": "stream",
     "text": [
      "not tringle \n"
     ]
    }
   ],
   "source": [
    "#9.Write a program that take a user inputr of three angles and will find out whether it can form a triangle or not.\n",
    "angle1=int(input())\n",
    "angle2=int(input())\n",
    "angle3=int(input())\n",
    "if angle1+angle2+angle3==180 and angle1>0 and angle2>0 and angle3>0:\n",
    "    print(\"this  is triangle \")\n",
    "else:\n",
    "    print(\"not tringle \")"
   ]
  },
  {
   "cell_type": "code",
   "execution_count": null,
   "id": "279458e5-8053-4cb4-b3e5-114231784979",
   "metadata": {},
   "outputs": [],
   "source": [
    "#10.Write a program that will take user input of cost price and selling priceand determines whether its a loss or a profit\n",
    "cost_price=int(input())\n",
    "selling_price=int(input())\n",
    "if selling_price>cost_price:\n",
    "    print(\"its a profit\")\n",
    "elif cost_price>selling_price:\n",
    "    print(\"its a loss\")\n",
    "else:\n",
    "    print(\"no loss and no profit\")"
   ]
  },
  {
   "cell_type": "code",
   "execution_count": null,
   "id": "733a22cc-ef5c-4bde-a230-18e5ab67b66c",
   "metadata": {},
   "outputs": [],
   "source": [
    "#11.Write a program to find the simple interest when the value of-\n",
    "#-principle,rate of interest and time period is given.\n",
    "P=int(input())\n",
    "T=int(input())\n",
    "R=int(input())\n",
    "i=(P*T*R/100)\n",
    "print(i)\n",
    "\n"
   ]
  },
  {
   "cell_type": "code",
   "execution_count": null,
   "id": "a962eb7b-2cc1-479c-8692-e55d61f84781",
   "metadata": {},
   "outputs": [],
   "source": [
    "#12. Write a program to find the volume of the cylinder. Also find the cost when ,when the cost of 1litre milk is 40Rs.\n",
    "r=float(input())\n",
    "h=float(input())\n",
    "volume=3.142*r**2*h\n",
    "volume_in_liters=volume/1000\n",
    "cost_per_liter=40\n",
    "total_cost=volume_in_liters*cost_per_liter\n",
    "print(volume)\n",
    "print(total_cost)\n"
   ]
  },
  {
   "cell_type": "code",
   "execution_count": null,
   "id": "cae4acfa-1ee2-4c75-bf21-85dbb531ba1b",
   "metadata": {},
   "outputs": [],
   "source": [
    "#13. Write  a program that will tell whether the given number is divisible by 3 &amp; 6.\n",
    "n=int(input())\n",
    "if n%3==0 and n%6==0:\n",
    "    print(\"number is divisible by 3 & 6\")\n",
    "else:\n",
    "    print(\"not divisible\")\n"
   ]
  },
  {
   "cell_type": "code",
   "execution_count": null,
   "id": "f8c1cb31-8be4-47b7-a1a1-255906477a79",
   "metadata": {},
   "outputs": [],
   "source": [
    "#14.Write a program that will tell the number of dogs and chicken are therewhen the user will provide the value of total heads and legs.\n",
    "h=int(input(\"please enter number of heads:\"))\n",
    "l=int(input(\"please enter number of legs:\"))\n",
    "for i in range(h+1): \n",
    "   chicken=i\n",
    "   dogs=(h-i)\n",
    "   total_legs=((chicken*2)+(dogs*4))\n",
    "   if total_legs==l:\n",
    "            print('no of checken are:',chicken)\n",
    "            print('no of dogs are:',dogs)\n",
    "             break\n",
    "else:\n",
    "    print('no values')\n",
    "  "
   ]
  },
  {
   "cell_type": "code",
   "execution_count": null,
   "id": "a9040911-a796-41c1-8daa-ad6975a9b317",
   "metadata": {},
   "outputs": [],
   "source": [
    "#15.2. Write a program that will swap numbers\n",
    "a=int(input())\n",
    "b=int(input())\n",
    "tmp=a\n",
    "a=b\n",
    "b=tmp\n",
    "print(a,b)"
   ]
  },
  {
   "cell_type": "code",
   "execution_count": null,
   "id": "77b890e4-333b-41f0-aa2c-6c5f235e43e4",
   "metadata": {},
   "outputs": [],
   "source": [
    "#Write a program to find the sum of first n numbers, where n will be\n",
    "#provided by the user. Eg if the user provides n=10 the output should be 55.\n",
    "def sum(n):\n",
    "    if n==0 or n==1:\n",
    "        return 1\n",
    "    else:\n",
    "        return n+sum(n-1)\n",
    "n=int(input())\n",
    "print(sum(n))"
   ]
  },
  {
   "cell_type": "code",
   "execution_count": null,
   "id": "c904c2e2-5ea9-4f53-b415-4af6f946a047",
   "metadata": {},
   "outputs": [],
   "source": [
    "def sum(n):\n",
    "    if n==0:\n",
    "        return 0\n",
    "    elif n==1:\n",
    "        return 1\n",
    "    else:\n",
    "        return n+sum(n-1)\n",
    "n=int(input())\n",
    "print(sum(n))"
   ]
  },
  {
   "cell_type": "code",
   "execution_count": 17,
   "id": "84dcbcd7-cb52-4455-a27f-bf4c43e5686f",
   "metadata": {},
   "outputs": [
    {
     "name": "stdin",
     "output_type": "stream",
     "text": [
      "please enter a value 0\n",
      "please enter b value 0\n"
     ]
    },
    {
     "name": "stdout",
     "output_type": "stream",
     "text": [
      "0\n"
     ]
    }
   ],
   "source": [
    "#.Write a program that can multiply 2 numbers provided by the user without using the * operator?\n",
    "def multyply_without_operator(a,b):\n",
    "    result=0\n",
    "    for i in range(abs(b)):\n",
    "        result=result+abs(a)\n",
    "    if a<0 and b<0:\n",
    "        return result\n",
    "    elif a<0 or b<0: \n",
    "        return -result\n",
    "    \n",
    "    else:\n",
    "        return result      \n",
    "a=int(input(\"please enter a value\"))\n",
    "b=int(input(\"please enter b value\"))\n",
    "print(multyply_without_operator(a,b))\n",
    "\n",
    "\n"
   ]
  },
  {
   "cell_type": "code",
   "execution_count": null,
   "id": "147b00e4-1e53-4258-8304-fb9112b38d00",
   "metadata": {},
   "outputs": [],
   "source": [
    "#5.Write a program that can find the factorial of a given number provided by the user.\n",
    "def fact(n):\n",
    "    if n<0:\n",
    "        return \"Factorial is not defined for negative numbers.\"\n",
    "    elif n==0:    # factorial of 0 is 1\n",
    "        return 1\n",
    "    else:\n",
    "        return n*fact(n-1)\n",
    "n=int(input())\n",
    "result=fact(n)\n",
    "print(result)\n",
    "\n"
   ]
  },
  {
   "cell_type": "code",
   "execution_count": null,
   "id": "54d1db42-8260-4d7e-a684-88a58f27a16d",
   "metadata": {},
   "outputs": [],
   "source": [
    "#6.Write a program to print the first 12 odd numbers\n",
    "for i in range(1,25,2):\n",
    "    print(i)"
   ]
  },
  {
   "cell_type": "code",
   "execution_count": null,
   "id": "731e5515-3d34-4635-8628-068ffffa635c",
   "metadata": {},
   "outputs": [],
   "source": [
    "#7. Write a program to print whether a given number is prime number or not?\n",
    "n=int(input())\n",
    "i=2\n",
    "isdivisible=False\n",
    "if n<=1:\n",
    "    print(\"number is not a prime number.\")\n",
    "else:\n",
    "    while i<n:\n",
    "        if n%i==0:\n",
    "            isdivisible=True\n",
    "        i+=1\n",
    "    if isdivisible:\n",
    "        print(\"number is not prime\")\n",
    "    else:\n",
    "        print(\"number is prime\")"
   ]
  },
  {
   "cell_type": "code",
   "execution_count": null,
   "id": "979c7f0f-4eb4-45d9-ad74-08f5c1045a75",
   "metadata": {},
   "outputs": [],
   "source": [
    "#.Print all the armstrong numbers in the range of 100 to 1000?\n",
    "for x in range(100,1000):\n",
    "    original=x\n",
    "    sumofpowers=0\n",
    "    n=len(str(x))\n",
    "    temp=x\n",
    "    while temp>0:\n",
    "        digit=temp%10\n",
    "        sumofpowers+=digit**n\n",
    "        temp//=10\n",
    "    if sumofpowers==original:\n",
    "        print(original)"
   ]
  },
  {
   "cell_type": "code",
   "execution_count": null,
   "id": "0086cf5e-a3e7-4ded-918c-e8daf11bb7f5",
   "metadata": {},
   "outputs": [],
   "source": [
    "list=[5,3,1,6,9]\n",
    "a=list.pop(4)\n",
    "print(a)\n"
   ]
  },
  {
   "cell_type": "code",
   "execution_count": null,
   "id": "946731d6-aa1d-4c36-ad35-5162b9f334ec",
   "metadata": {},
   "outputs": [],
   "source": [
    "list=[5,3,1,6,9]\n",
    "for i in range(len(list)):\n",
    "    print(i)\n",
    "    \n",
    "         "
   ]
  },
  {
   "cell_type": "code",
   "execution_count": null,
   "id": "ab3c79f2-a870-4a2d-a008-bebfab6402da",
   "metadata": {},
   "outputs": [],
   "source": [
    "my_list=[5,3,1,6,9]\n",
    "result=min(my_list)\n",
    "print(result)"
   ]
  },
  {
   "cell_type": "code",
   "execution_count": null,
   "id": "da285edc-c5b6-4bca-80bf-77f1a3acad35",
   "metadata": {},
   "outputs": [],
   "source": [
    "list=[5,3,1,6,9]\n",
    "min=list[0]\n",
    "print(min)"
   ]
  },
  {
   "cell_type": "code",
   "execution_count": 18,
   "id": "d1ed3ea2-97a2-4e47-a1c4-cf447f48736c",
   "metadata": {},
   "outputs": [
    {
     "name": "stdout",
     "output_type": "stream",
     "text": [
      "1\n"
     ]
    }
   ],
   "source": [
    "def fun(list):\n",
    "    while len(list)>1:\n",
    "        if list[0]>=list[-1]:\n",
    "            list.pop(0)\n",
    "        else:\n",
    "            list.pop(-1)\n",
    "    return list[0]\n",
    "list=[5,3,1,6,9]\n",
    "print(fun(list))"
   ]
  },
  {
   "cell_type": "code",
   "execution_count": null,
   "id": "fa1c1c72-c67b-4b30-a97b-eed539f6aae5",
   "metadata": {},
   "outputs": [],
   "source": [
    "def fun(list):\n",
    "    while len(list)>list[0]:\n",
    "        if len(list)<list[0]:\n",
    "            list[0]=len(list)\n",
    "    return list[0]\n",
    "my\n",
    "        "
   ]
  },
  {
   "cell_type": "code",
   "execution_count": 19,
   "id": "a6569051-cf2f-4aa7-9f87-3bd876f00617",
   "metadata": {},
   "outputs": [
    {
     "name": "stdout",
     "output_type": "stream",
     "text": [
      "-2\n"
     ]
    }
   ],
   "source": [
    "def fun(list):\n",
    "    min=list[0]\n",
    "    for i in range(len(list)):\n",
    "        if list[i]<min:\n",
    "            min=list[i]\n",
    "    return min\n",
    "\n",
    "\n",
    "my_list=[5,3,1,6,9,-2]\n",
    "print(fun(my_list))\n",
    "            "
   ]
  },
  {
   "cell_type": "code",
   "execution_count": 20,
   "id": "42d64c16-886e-4492-ae3f-478b99ef08df",
   "metadata": {},
   "outputs": [
    {
     "name": "stdout",
     "output_type": "stream",
     "text": [
      "42\n"
     ]
    }
   ],
   "source": [
    "def product(arr):\n",
    "    result=0\n",
    "    product=1\n",
    "    for i in range(len(arr)-1):\n",
    "        product=arr[i]*arr[i+1]\n",
    "        if result<abs(product):\n",
    "            result=abs(product)\n",
    "    return result\n",
    "\n",
    "arr = [1, 4, 3,6, 7, 0]\n",
    "print(product(arr))"
   ]
  },
  {
   "cell_type": "code",
   "execution_count": 3,
   "id": "e7518fec-e164-4e1a-bb29-7bf5d84bec6f",
   "metadata": {},
   "outputs": [
    {
     "name": "stdout",
     "output_type": "stream",
     "text": [
      "{'root': 10, 'ls': {'root': 5, 'ls': {'root': 3, 'ls': None, 'rs': None}, 'rs': {'root': 7, 'ls': None, 'rs': None}}, 'rs': {'root': 12, 'ls': None, 'rs': None}}\n"
     ]
    }
   ],
   "source": [
    "\n",
    "def inseration(root,key):\n",
    "    if root is None:\n",
    "        return{\"root\":key,\"ls\":None,\"rs\":None}\n",
    "    if key<root[\"root\"]:\n",
    "        root[\"ls\"]=inseration(root[\"ls\"],key)\n",
    "    elif key>root[\"root\"]:\n",
    "        root[\"rs\"]=inseration(root[\"rs\"],key)\n",
    "    return root\n",
    "root=None\n",
    "root=inseration(root,10)\n",
    "root=inseration(root,5)\n",
    "root=inseration(root,3)\n",
    "root=inseration(root,12)\n",
    "root=inseration(root,7)\n",
    "print(root)\n",
    "    \n",
    "        \n",
    "          \n",
    "    "
   ]
  },
  {
   "cell_type": "code",
   "execution_count": 16,
   "id": "c4597fc1-2c22-4700-8256-f7160a3a5e94",
   "metadata": {},
   "outputs": [
    {
     "name": "stdout",
     "output_type": "stream",
     "text": [
      "\n",
      "* \n",
      "* * \n",
      "* * * \n",
      "* * * * \n",
      "* * * * * \n",
      "* * * * * * \n",
      "* * * * * * * \n",
      "* * * * * * * * \n",
      "* * * * * * * * * \n"
     ]
    }
   ],
   "source": [
    "n=10\n",
    "for i in range(n):\n",
    "    for j in range(i):\n",
    "       print(\"*\",end=\" \")\n",
    "    print()"
   ]
  },
  {
   "cell_type": "code",
   "execution_count": 2,
   "id": "68f0944e-4786-4554-81a3-a8ab5c3769c1",
   "metadata": {},
   "outputs": [
    {
     "data": {
      "text/plain": [
       "6"
      ]
     },
     "execution_count": 2,
     "metadata": {},
     "output_type": "execute_result"
    }
   ],
   "source": [
    "def fun(arr):\n",
    "    if len(arr)==0:\n",
    "       return 0\n",
    "    else:\n",
    "        return arr[0]+fun(arr[1:])\n",
    "arr=[1,2,3]\n",
    "fun(arr)"
   ]
  },
  {
   "cell_type": "code",
   "execution_count": 5,
   "id": "9ad09239-e016-4618-b860-de802f2bf008",
   "metadata": {},
   "outputs": [
    {
     "ename": "TypeError",
     "evalue": "'str' object is not callable",
     "output_type": "error",
     "traceback": [
      "\u001b[1;31m---------------------------------------------------------------------------\u001b[0m",
      "\u001b[1;31mTypeError\u001b[0m                                 Traceback (most recent call last)",
      "Cell \u001b[1;32mIn[5], line 7\u001b[0m\n\u001b[0;32m      5\u001b[0m         \u001b[38;5;28;01mreturn\u001b[39;00m \u001b[38;5;28mstr\u001b[39m(\u001b[38;5;241m0\u001b[39m)\u001b[38;5;241m+\u001b[39mfun(\u001b[38;5;28mstr\u001b[39m[\u001b[38;5;241m1\u001b[39m:])\n\u001b[0;32m      6\u001b[0m \u001b[38;5;28mstr\u001b[39m\u001b[38;5;241m=\u001b[39m\u001b[38;5;124m\"\u001b[39m\u001b[38;5;124m123\u001b[39m\u001b[38;5;124m\"\u001b[39m\n\u001b[1;32m----> 7\u001b[0m fun(\u001b[38;5;28mstr\u001b[39m)\n",
      "Cell \u001b[1;32mIn[5], line 5\u001b[0m, in \u001b[0;36mfun\u001b[1;34m(str)\u001b[0m\n\u001b[0;32m      3\u001b[0m     \u001b[38;5;28;01mreturn\u001b[39;00m \u001b[38;5;241m0\u001b[39m\n\u001b[0;32m      4\u001b[0m \u001b[38;5;28;01melse\u001b[39;00m:\n\u001b[1;32m----> 5\u001b[0m     \u001b[38;5;28;01mreturn\u001b[39;00m \u001b[38;5;28mstr\u001b[39m(\u001b[38;5;241m0\u001b[39m)\u001b[38;5;241m+\u001b[39mfun(\u001b[38;5;28mstr\u001b[39m[\u001b[38;5;241m1\u001b[39m:])\n",
      "\u001b[1;31mTypeError\u001b[0m: 'str' object is not callable"
     ]
    }
   ],
   "source": [
    "def fun(str):\n",
    "    if len(str)==0:\n",
    "        return 0\n",
    "    else:\n",
    "        return str(0)+fun(str[1:])\n",
    "str=\"123\"\n",
    "fun(str)"
   ]
  },
  {
   "cell_type": "code",
   "execution_count": null,
   "id": "af22062b-2b21-48c7-b86f-2d8b04737859",
   "metadata": {},
   "outputs": [],
   "source": []
  },
  {
   "cell_type": "code",
   "execution_count": null,
   "id": "9367a412-7f7a-4bce-ba51-7aec569b5d4b",
   "metadata": {},
   "outputs": [],
   "source": []
  },
  {
   "cell_type": "code",
   "execution_count": null,
   "id": "8a85f58e-1a4d-41f6-85dc-a9f3740c4398",
   "metadata": {},
   "outputs": [],
   "source": []
  },
  {
   "cell_type": "code",
   "execution_count": null,
   "id": "b9f70204-5c73-450e-a9c2-62e9a345a2af",
   "metadata": {},
   "outputs": [],
   "source": []
  },
  {
   "cell_type": "code",
   "execution_count": null,
   "id": "14ef54c1-cb8a-404e-92db-cfc8c33e92c5",
   "metadata": {},
   "outputs": [],
   "source": []
  },
  {
   "cell_type": "code",
   "execution_count": null,
   "id": "26de736f-00d1-4ded-9401-8c6053564bb2",
   "metadata": {},
   "outputs": [],
   "source": []
  },
  {
   "cell_type": "code",
   "execution_count": null,
   "id": "9993c524-4ed6-44d6-968f-f84157db4907",
   "metadata": {},
   "outputs": [],
   "source": []
  },
  {
   "cell_type": "code",
   "execution_count": null,
   "id": "ec34ee62-8e87-456a-85a7-69664451ace6",
   "metadata": {},
   "outputs": [],
   "source": []
  },
  {
   "cell_type": "code",
   "execution_count": null,
   "id": "8fae6927-3fb5-4454-b585-26851a9814b5",
   "metadata": {},
   "outputs": [],
   "source": []
  },
  {
   "cell_type": "code",
   "execution_count": null,
   "id": "f4f379b6-d806-4fd1-b25d-1a61ad0f5edb",
   "metadata": {},
   "outputs": [],
   "source": []
  },
  {
   "cell_type": "code",
   "execution_count": null,
   "id": "8c1479f8-50cb-4fb4-af3e-9331253cf0c9",
   "metadata": {},
   "outputs": [],
   "source": []
  },
  {
   "cell_type": "code",
   "execution_count": null,
   "id": "b993e563-e48d-47ba-a9b3-d4fc665e1ab3",
   "metadata": {},
   "outputs": [],
   "source": []
  },
  {
   "cell_type": "code",
   "execution_count": null,
   "id": "bc48e596-40b0-4aec-88d7-d89b7d6fdf40",
   "metadata": {},
   "outputs": [],
   "source": []
  },
  {
   "cell_type": "code",
   "execution_count": null,
   "id": "c549469d-3cc9-4127-b869-75e8ce89a34c",
   "metadata": {},
   "outputs": [],
   "source": []
  },
  {
   "cell_type": "code",
   "execution_count": null,
   "id": "329fc71c-e9ee-4c3a-9ef3-35652829beeb",
   "metadata": {},
   "outputs": [],
   "source": []
  },
  {
   "cell_type": "code",
   "execution_count": null,
   "id": "d4409acb-0b95-47ea-9f2d-74dbcefc4283",
   "metadata": {},
   "outputs": [],
   "source": []
  },
  {
   "cell_type": "code",
   "execution_count": null,
   "id": "aab2e404-b5ac-4be9-aa0d-327c4390ded0",
   "metadata": {},
   "outputs": [],
   "source": []
  },
  {
   "cell_type": "code",
   "execution_count": null,
   "id": "8b1119da-07cb-442e-acca-af385fe942be",
   "metadata": {},
   "outputs": [],
   "source": []
  },
  {
   "cell_type": "code",
   "execution_count": null,
   "id": "c3387ba9-82ab-4544-b23d-fb3b76053c38",
   "metadata": {},
   "outputs": [],
   "source": []
  },
  {
   "cell_type": "code",
   "execution_count": null,
   "id": "d8ae5d36-b296-4b12-95b3-3be697bd1f42",
   "metadata": {},
   "outputs": [],
   "source": []
  },
  {
   "cell_type": "code",
   "execution_count": null,
   "id": "35a7440b-e02a-4c42-a8c9-3ee9677aca3c",
   "metadata": {},
   "outputs": [],
   "source": []
  },
  {
   "cell_type": "code",
   "execution_count": null,
   "id": "adcfc348-9ab4-4a3a-8401-1e7a0abb28fd",
   "metadata": {},
   "outputs": [],
   "source": []
  },
  {
   "cell_type": "code",
   "execution_count": null,
   "id": "463d40c3-f167-4933-9cce-635fa298d6eb",
   "metadata": {},
   "outputs": [],
   "source": []
  },
  {
   "cell_type": "code",
   "execution_count": null,
   "id": "f81c660c-df89-4332-99d9-9ff7a5f53517",
   "metadata": {},
   "outputs": [],
   "source": []
  },
  {
   "cell_type": "code",
   "execution_count": null,
   "id": "0b024611-b0e6-4481-9680-63150327ad97",
   "metadata": {},
   "outputs": [],
   "source": []
  },
  {
   "cell_type": "code",
   "execution_count": null,
   "id": "bf5a82c2-117f-4e64-8b01-32dc9c6a74c5",
   "metadata": {},
   "outputs": [],
   "source": []
  },
  {
   "cell_type": "code",
   "execution_count": null,
   "id": "a2583897-4981-401f-86af-bff94f741c3a",
   "metadata": {},
   "outputs": [],
   "source": []
  },
  {
   "cell_type": "code",
   "execution_count": null,
   "id": "4b3e5034-58fc-4c97-a740-8b73a9f88239",
   "metadata": {},
   "outputs": [],
   "source": []
  },
  {
   "cell_type": "code",
   "execution_count": null,
   "id": "0cd6f006-ddd6-44d2-9058-cbf0c770081f",
   "metadata": {},
   "outputs": [],
   "source": []
  },
  {
   "cell_type": "code",
   "execution_count": null,
   "id": "28133301-0628-49a2-8ac8-99d3bd627a7c",
   "metadata": {},
   "outputs": [],
   "source": []
  },
  {
   "cell_type": "code",
   "execution_count": null,
   "id": "4d9ba20d-780a-4d41-8713-2a6945783ce3",
   "metadata": {},
   "outputs": [],
   "source": []
  },
  {
   "cell_type": "code",
   "execution_count": null,
   "id": "b98064d8-be4e-48de-89a7-f0088d8c678e",
   "metadata": {},
   "outputs": [],
   "source": []
  },
  {
   "cell_type": "code",
   "execution_count": null,
   "id": "c3d683b4-ce4e-498a-8c3f-952f08ba4172",
   "metadata": {},
   "outputs": [],
   "source": []
  },
  {
   "cell_type": "code",
   "execution_count": null,
   "id": "268a208c-2cb7-4fd8-9f61-d6c3e9d6b5df",
   "metadata": {},
   "outputs": [],
   "source": []
  },
  {
   "cell_type": "code",
   "execution_count": null,
   "id": "ab4c4849-97de-4974-9682-b3ebed4aea41",
   "metadata": {},
   "outputs": [],
   "source": []
  },
  {
   "cell_type": "code",
   "execution_count": null,
   "id": "f980ae38-af3c-451b-bc4c-3beb8c3989a6",
   "metadata": {},
   "outputs": [],
   "source": []
  },
  {
   "cell_type": "code",
   "execution_count": null,
   "id": "ee9a424a-03ac-4923-8559-ad96a5460ff6",
   "metadata": {},
   "outputs": [],
   "source": []
  },
  {
   "cell_type": "code",
   "execution_count": null,
   "id": "46a2be6d-c66d-4c05-9b15-a5f10a6bcf77",
   "metadata": {},
   "outputs": [],
   "source": []
  },
  {
   "cell_type": "code",
   "execution_count": null,
   "id": "173af4a1-ed50-4a4b-b121-cb16b32a56e9",
   "metadata": {},
   "outputs": [],
   "source": []
  },
  {
   "cell_type": "code",
   "execution_count": null,
   "id": "6290c693-a20a-4946-a222-420a9eb7a148",
   "metadata": {},
   "outputs": [],
   "source": []
  },
  {
   "cell_type": "code",
   "execution_count": null,
   "id": "409c5056-4707-43fc-8cb8-f6466861d057",
   "metadata": {},
   "outputs": [],
   "source": []
  },
  {
   "cell_type": "code",
   "execution_count": null,
   "id": "b43fba21-4f4c-4b11-96c1-b9de317fda4c",
   "metadata": {},
   "outputs": [],
   "source": []
  },
  {
   "cell_type": "code",
   "execution_count": null,
   "id": "20479022-f8df-41a8-8dca-dae3c5478b08",
   "metadata": {},
   "outputs": [],
   "source": []
  },
  {
   "cell_type": "code",
   "execution_count": null,
   "id": "f831b8c7-5447-49a6-9abb-6f907a63582c",
   "metadata": {},
   "outputs": [],
   "source": []
  },
  {
   "cell_type": "code",
   "execution_count": null,
   "id": "50692fdf-939e-4951-93cb-4517ad2a0541",
   "metadata": {},
   "outputs": [],
   "source": []
  },
  {
   "cell_type": "code",
   "execution_count": null,
   "id": "7197b972-f1e6-487a-a32c-e3262bfee3fa",
   "metadata": {},
   "outputs": [],
   "source": [
    "n=4\n",
    "def pos(n):\n",
    "    i=n-1\n",
    "    while i>=0:\n",
    "        print(i)\n",
    "        i-=1\n",
    "pos(n)"
   ]
  },
  {
   "cell_type": "code",
   "execution_count": null,
   "id": "824d6d7f-7218-4bcb-b384-5dc8c746dfab",
   "metadata": {},
   "outputs": [],
   "source": [
    "def neg(n):\n",
    "    i=n\n",
    "    while i<=0:\n",
    "        print(i)\n",
    "        i+=1\n",
    "def pos(n):\n",
    "    i=n-1\n",
    "    while i>=0:\n",
    "        print(i)\n",
    "        i-=1\n",
    "def checkit(n):\n",
    "    if n>=0:\n",
    "        pos(n)\n",
    "    else:\n",
    "        neg(n)\n",
    "checkit(-3)"
   ]
  },
  {
   "cell_type": "code",
   "execution_count": null,
   "id": "7626224f-d842-4c29-b933-05e097ca902f",
   "metadata": {},
   "outputs": [],
   "source": []
  },
  {
   "cell_type": "code",
   "execution_count": null,
   "id": "99937629-5fb2-4d14-ac51-32fd9873bdd8",
   "metadata": {},
   "outputs": [],
   "source": []
  },
  {
   "cell_type": "code",
   "execution_count": null,
   "id": "1f1bfb7b-0328-4332-baab-293c26e9224a",
   "metadata": {},
   "outputs": [],
   "source": []
  },
  {
   "cell_type": "code",
   "execution_count": null,
   "id": "c127e7c6-e942-4619-80c5-c3664cd33c46",
   "metadata": {},
   "outputs": [],
   "source": []
  },
  {
   "cell_type": "code",
   "execution_count": null,
   "id": "ed4d0e68-3937-4f9e-9680-e0a5468177d3",
   "metadata": {},
   "outputs": [],
   "source": []
  },
  {
   "cell_type": "code",
   "execution_count": null,
   "id": "62b43835-f515-40aa-bbf7-7e0ff107b1bf",
   "metadata": {},
   "outputs": [],
   "source": []
  },
  {
   "cell_type": "code",
   "execution_count": null,
   "id": "370fc252-6609-4615-bef7-422062c1917b",
   "metadata": {},
   "outputs": [],
   "source": []
  },
  {
   "cell_type": "code",
   "execution_count": null,
   "id": "ba017266-e7bd-495a-98f5-9d8ffca26fce",
   "metadata": {},
   "outputs": [],
   "source": []
  },
  {
   "cell_type": "code",
   "execution_count": null,
   "id": "5945fa32-1e09-4875-95e6-fd70eac26bbe",
   "metadata": {},
   "outputs": [],
   "source": []
  },
  {
   "cell_type": "code",
   "execution_count": null,
   "id": "33494ea1-77bc-4afa-a223-b574fd695388",
   "metadata": {},
   "outputs": [],
   "source": []
  },
  {
   "cell_type": "code",
   "execution_count": null,
   "id": "213115e7-5221-4c43-858f-ebe23e94f287",
   "metadata": {},
   "outputs": [],
   "source": []
  },
  {
   "cell_type": "code",
   "execution_count": null,
   "id": "0cda3022-b0a8-4452-9084-f0a5eda6846b",
   "metadata": {},
   "outputs": [],
   "source": []
  },
  {
   "cell_type": "code",
   "execution_count": null,
   "id": "236a6afc-47c5-4799-aed1-94bf05b549dd",
   "metadata": {},
   "outputs": [],
   "source": []
  },
  {
   "cell_type": "code",
   "execution_count": null,
   "id": "649c3f4c-75a0-44d7-b392-8628bc789c39",
   "metadata": {},
   "outputs": [],
   "source": []
  },
  {
   "cell_type": "code",
   "execution_count": null,
   "id": "b7abafba-b490-4449-88d0-7d3a9d687ede",
   "metadata": {},
   "outputs": [],
   "source": []
  },
  {
   "cell_type": "code",
   "execution_count": null,
   "id": "ed853a33-35c9-4de7-9497-f5c3ae7f326c",
   "metadata": {},
   "outputs": [],
   "source": []
  },
  {
   "cell_type": "code",
   "execution_count": null,
   "id": "c83dcc3b-391c-4955-b78c-9701fcdd792a",
   "metadata": {},
   "outputs": [],
   "source": []
  },
  {
   "cell_type": "code",
   "execution_count": null,
   "id": "53ca29b3-380c-4d2d-8abf-0976464acba5",
   "metadata": {},
   "outputs": [],
   "source": []
  },
  {
   "cell_type": "code",
   "execution_count": null,
   "id": "fbd6ef9d-e6f6-449a-af03-255b274ab66f",
   "metadata": {},
   "outputs": [],
   "source": []
  },
  {
   "cell_type": "code",
   "execution_count": null,
   "id": "1c0ba62a-9648-4826-bfc1-e8895c3c185f",
   "metadata": {},
   "outputs": [],
   "source": []
  },
  {
   "cell_type": "code",
   "execution_count": null,
   "id": "eb2e7265-3843-46f2-a9df-80d77027affd",
   "metadata": {},
   "outputs": [],
   "source": []
  }
 ],
 "metadata": {
  "kernelspec": {
   "display_name": "Python 3 (ipykernel)",
   "language": "python",
   "name": "python3"
  },
  "language_info": {
   "codemirror_mode": {
    "name": "ipython",
    "version": 3
   },
   "file_extension": ".py",
   "mimetype": "text/x-python",
   "name": "python",
   "nbconvert_exporter": "python",
   "pygments_lexer": "ipython3",
   "version": "3.12.7"
  }
 },
 "nbformat": 4,
 "nbformat_minor": 5
}
