{
 "cells": [
  {
   "cell_type": "code",
   "execution_count": 1,
   "id": "6022050b-1d5a-48d8-b614-39f043e50ca4",
   "metadata": {},
   "outputs": [
    {
     "name": "stdout",
     "output_type": "stream",
     "text": [
      "10\n",
      "2\n"
     ]
    }
   ],
   "source": [
    "#list of length:\n",
    "list1=[2,3,4,5,6,7,2,2,4,5]\n",
    "list=(len(list1))\n",
    "print(list)\n",
    "# this started value is identified and \"0\" to the start counting in the list\n",
    "print(list1[0])"
   ]
  },
  {
   "cell_type": "code",
   "execution_count": 2,
   "id": "e255ad72-87a6-43fc-a101-14909f541f61",
   "metadata": {},
   "outputs": [],
   "source": [
    "list=[2,3,4,5,6,7,2,2,4,5]"
   ]
  },
  {
   "cell_type": "code",
   "execution_count": 3,
   "id": "3aa1aa1b-516a-4aec-a64d-0482f3b6cc23",
   "metadata": {},
   "outputs": [
    {
     "data": {
      "text/plain": [
       "3"
      ]
     },
     "execution_count": 3,
     "metadata": {},
     "output_type": "execute_result"
    }
   ],
   "source": [
    "# how many same number in the list to identified:\n",
    "list.count(2)"
   ]
  },
  {
   "cell_type": "code",
   "execution_count": 4,
   "id": "5086e56c-9f4b-4a7b-9dc3-0342c9a06acc",
   "metadata": {},
   "outputs": [
    {
     "data": {
      "text/plain": [
       "1"
      ]
     },
     "execution_count": 4,
     "metadata": {},
     "output_type": "execute_result"
    }
   ],
   "source": [
    "list.count(3)"
   ]
  },
  {
   "cell_type": "code",
   "execution_count": 5,
   "id": "c1ee19ca-40b8-4ea8-8fe6-8ddbacd6fb7d",
   "metadata": {},
   "outputs": [
    {
     "data": {
      "text/plain": [
       "2"
      ]
     },
     "execution_count": 5,
     "metadata": {},
     "output_type": "execute_result"
    }
   ],
   "source": [
    "list.count(4)"
   ]
  },
  {
   "cell_type": "code",
   "execution_count": 7,
   "id": "86b92ef2-a0d7-4120-a384-7ecafa504457",
   "metadata": {},
   "outputs": [
    {
     "name": "stdout",
     "output_type": "stream",
     "text": [
      "3\n"
     ]
    }
   ],
   "source": [
    "def my_count(number,list):\n",
    "    count=0\n",
    "    for i in list:\n",
    "        if i==number:\n",
    "            count+=1\n",
    "    return count\n",
    "list=[2,3,4,5,6,7,2,2,4,5]\n",
    "print(my_count(2,list))\n",
    "    "
   ]
  },
  {
   "cell_type": "code",
   "execution_count": 9,
   "id": "587963e2-ae84-4162-8b02-e35ed6dc8ee8",
   "metadata": {},
   "outputs": [
    {
     "name": "stdin",
     "output_type": "stream",
     "text": [
      "enter eny number 2\n"
     ]
    },
    {
     "name": "stdout",
     "output_type": "stream",
     "text": [
      "4\n"
     ]
    }
   ],
   "source": [
    "#my own type:\n",
    "def my_count(list,n):\n",
    "    count=0\n",
    "    for i in list:\n",
    "        if i==n:\n",
    "            count+=1\n",
    "    return count\n",
    "n=int(input(\"enter eny number\"))\n",
    "list=[2,3,4,57,67,2,2,2,5]\n",
    "print(my_count(list,n))\n",
    "            "
   ]
  },
  {
   "cell_type": "code",
   "execution_count": 10,
   "id": "9cc3084e-96f0-4f7d-9ead-d35f13d89c5f",
   "metadata": {},
   "outputs": [],
   "source": [
    "#slicing:this means return the elements in the specific range from list\n",
    "#ex:syntax\n",
    "list=[2,3,4,5,6,7,2,2,4,5]"
   ]
  },
  {
   "cell_type": "code",
   "execution_count": 12,
   "id": "8bf0aa7b-fb1c-45c6-8e05-29f880584157",
   "metadata": {},
   "outputs": [
    {
     "data": {
      "text/plain": [
       "[3, 4, 5, 6]"
      ]
     },
     "execution_count": 12,
     "metadata": {},
     "output_type": "execute_result"
    }
   ],
   "source": [
    "list[1:5:1]"
   ]
  },
  {
   "cell_type": "code",
   "execution_count": 13,
   "id": "909edf10-d188-41b5-ad4c-2eff095554cf",
   "metadata": {},
   "outputs": [
    {
     "data": {
      "text/plain": [
       "[3, 4, 5, 6, 7, 2, 2, 4, 5]"
      ]
     },
     "execution_count": 13,
     "metadata": {},
     "output_type": "execute_result"
    }
   ],
   "source": [
    "list[1::]"
   ]
  },
  {
   "cell_type": "code",
   "execution_count": 14,
   "id": "0d8d281f-a976-4aea-a27d-172536a7120e",
   "metadata": {},
   "outputs": [
    {
     "data": {
      "text/plain": [
       "[4, 5, 6, 7, 2, 2, 4, 5]"
      ]
     },
     "execution_count": 14,
     "metadata": {},
     "output_type": "execute_result"
    }
   ],
   "source": [
    "list[2::]"
   ]
  },
  {
   "cell_type": "code",
   "execution_count": 15,
   "id": "91f8d98f-e73a-4b9d-9c84-d7689be52b45",
   "metadata": {},
   "outputs": [
    {
     "data": {
      "text/plain": [
       "[2, 3, 4, 5, 6, 7, 2, 2, 4, 5]"
      ]
     },
     "execution_count": 15,
     "metadata": {},
     "output_type": "execute_result"
    }
   ],
   "source": [
    "list[0::]"
   ]
  },
  {
   "cell_type": "code",
   "execution_count": 21,
   "id": "0120d84c-7ac3-4589-a5de-a7d63ac0eba5",
   "metadata": {},
   "outputs": [
    {
     "data": {
      "text/plain": [
       "[6, 2, 4, 4, 5, 3, 9, 10]"
      ]
     },
     "execution_count": 21,
     "metadata": {},
     "output_type": "execute_result"
    }
   ],
   "source": [
    "list[::]"
   ]
  },
  {
   "cell_type": "code",
   "execution_count": 23,
   "id": "819923d5-26af-45af-b04c-b9ed5901a509",
   "metadata": {},
   "outputs": [],
   "source": [
    "list=[2,3,4,5,6,7,2,2,4,5]"
   ]
  },
  {
   "cell_type": "code",
   "execution_count": 24,
   "id": "b2a63b5a-94ad-4438-9259-2dee26a8f598",
   "metadata": {},
   "outputs": [
    {
     "data": {
      "text/plain": [
       "5"
      ]
     },
     "execution_count": 24,
     "metadata": {},
     "output_type": "execute_result"
    }
   ],
   "source": [
    "list[-1]"
   ]
  },
  {
   "cell_type": "code",
   "execution_count": 28,
   "id": "695651fb-ddf2-4450-9936-36a55a072be2",
   "metadata": {},
   "outputs": [
    {
     "data": {
      "text/plain": [
       "[3, 4, 5, 6, 7, 2, 2, 4, 5]"
      ]
     },
     "execution_count": 28,
     "metadata": {},
     "output_type": "execute_result"
    }
   ],
   "source": [
    "list[1:]\n"
   ]
  },
  {
   "cell_type": "code",
   "execution_count": null,
   "id": "1857ffc2-6944-452e-87e7-ccc4371588a7",
   "metadata": {},
   "outputs": [],
   "source": [
    "list[2::-1]"
   ]
  },
  {
   "cell_type": "code",
   "execution_count": 30,
   "id": "91a9b4f5-bf65-416c-809e-15e4edf00355",
   "metadata": {},
   "outputs": [
    {
     "data": {
      "text/plain": [
       "[5, 4, 2, 2, 7, 6, 5, 4, 3, 2]"
      ]
     },
     "execution_count": 30,
     "metadata": {},
     "output_type": "execute_result"
    }
   ],
   "source": [
    "list[::-1]"
   ]
  },
  {
   "cell_type": "code",
   "execution_count": 26,
   "id": "dc8be9a1-8d49-4ab8-acbd-e19e433114be",
   "metadata": {},
   "outputs": [
    {
     "data": {
      "text/plain": [
       "[]"
      ]
     },
     "execution_count": 26,
     "metadata": {},
     "output_type": "execute_result"
    }
   ],
   "source": [
    "list[1:1:-1]"
   ]
  },
  {
   "cell_type": "code",
   "execution_count": 27,
   "id": "bee0b14d-f92f-470c-9cba-bec5dbf6652b",
   "metadata": {},
   "outputs": [
    {
     "data": {
      "text/plain": [
       "[]"
      ]
     },
     "execution_count": 27,
     "metadata": {},
     "output_type": "execute_result"
    }
   ],
   "source": [
    "list[1:1:1]"
   ]
  },
  {
   "cell_type": "code",
   "execution_count": 32,
   "id": "aeade931-6fe5-4291-bd7d-0638a8caa8d4",
   "metadata": {},
   "outputs": [],
   "source": [
    "list=[2,3,4,5,6,7,2,2,4,5]"
   ]
  },
  {
   "cell_type": "code",
   "execution_count": 33,
   "id": "b3d787aa-90e6-4494-a441-4ffd066c9e8a",
   "metadata": {},
   "outputs": [
    {
     "data": {
      "text/plain": [
       "[]"
      ]
     },
     "execution_count": 33,
     "metadata": {},
     "output_type": "execute_result"
    }
   ],
   "source": [
    "list[1:6:-1]"
   ]
  },
  {
   "cell_type": "code",
   "execution_count": 35,
   "id": "38ed910f-3d62-4a76-8ba3-48f8fb7a65c2",
   "metadata": {},
   "outputs": [
    {
     "data": {
      "text/plain": [
       "[4, 3, 2]"
      ]
     },
     "execution_count": 35,
     "metadata": {},
     "output_type": "execute_result"
    }
   ],
   "source": [
    "list[2::-1]"
   ]
  },
  {
   "cell_type": "code",
   "execution_count": 36,
   "id": "b5cf1003-0e4e-4ca7-a101-b3f73232a966",
   "metadata": {},
   "outputs": [
    {
     "data": {
      "text/plain": [
       "[2, 7, 6, 5, 4, 3, 2]"
      ]
     },
     "execution_count": 36,
     "metadata": {},
     "output_type": "execute_result"
    }
   ],
   "source": [
    "list[6::-1]"
   ]
  },
  {
   "cell_type": "code",
   "execution_count": 37,
   "id": "c28fd62a-7667-4ce0-914b-77db8860d54c",
   "metadata": {},
   "outputs": [
    {
     "data": {
      "text/plain": [
       "[4, 3, 2]"
      ]
     },
     "execution_count": 37,
     "metadata": {},
     "output_type": "execute_result"
    }
   ],
   "source": [
    "list[2::-1]"
   ]
  },
  {
   "cell_type": "code",
   "execution_count": 38,
   "id": "f1f78e4f-281e-4360-a152-a328e96755df",
   "metadata": {},
   "outputs": [
    {
     "data": {
      "text/plain": [
       "[]"
      ]
     },
     "execution_count": 38,
     "metadata": {},
     "output_type": "execute_result"
    }
   ],
   "source": [
    "list[1:7:-2]"
   ]
  },
  {
   "cell_type": "code",
   "execution_count": 42,
   "id": "221c9dae-6a75-4812-a5df-e01d96b3931e",
   "metadata": {},
   "outputs": [
    {
     "data": {
      "text/plain": [
       "[3, 4, 5, 6]"
      ]
     },
     "execution_count": 42,
     "metadata": {},
     "output_type": "execute_result"
    }
   ],
   "source": [
    "list[1:5:1]"
   ]
  },
  {
   "cell_type": "code",
   "execution_count": 44,
   "id": "e83baf61-212b-41f2-96dd-1292070955d6",
   "metadata": {},
   "outputs": [
    {
     "data": {
      "text/plain": [
       "[2, 3, 4, 5, 6, 7, 2, 2, 4, 5]"
      ]
     },
     "execution_count": 44,
     "metadata": {},
     "output_type": "execute_result"
    }
   ],
   "source": [
    "list[::]"
   ]
  },
  {
   "cell_type": "code",
   "execution_count": 45,
   "id": "7a440e7e-2bd7-4456-b43d-21dc0c5ea58f",
   "metadata": {},
   "outputs": [
    {
     "data": {
      "text/plain": [
       "[5, 4, 2, 2, 7, 6, 5, 4, 3, 2]"
      ]
     },
     "execution_count": 45,
     "metadata": {},
     "output_type": "execute_result"
    }
   ],
   "source": [
    "list[-1::-1]"
   ]
  },
  {
   "cell_type": "code",
   "execution_count": 46,
   "id": "ca885656-aa97-4981-a84c-c2c1b93103ab",
   "metadata": {},
   "outputs": [
    {
     "data": {
      "text/plain": [
       "[]"
      ]
     },
     "execution_count": 46,
     "metadata": {},
     "output_type": "execute_result"
    }
   ],
   "source": [
    "list[0:5:-1]"
   ]
  },
  {
   "cell_type": "code",
   "execution_count": 47,
   "id": "e44c4363-b180-4c00-8e68-3ed8fef94d20",
   "metadata": {},
   "outputs": [
    {
     "data": {
      "text/plain": [
       "[6, 2]"
      ]
     },
     "execution_count": 47,
     "metadata": {},
     "output_type": "execute_result"
    }
   ],
   "source": [
    "list[4:7:2]"
   ]
  },
  {
   "cell_type": "code",
   "execution_count": 55,
   "id": "90375080-74cb-4e6b-b73b-d9f74a2720ee",
   "metadata": {},
   "outputs": [
    {
     "data": {
      "text/plain": [
       "[6]"
      ]
     },
     "execution_count": 55,
     "metadata": {},
     "output_type": "execute_result"
    }
   ],
   "source": [
    "list[4:5:1]"
   ]
  },
  {
   "cell_type": "code",
   "execution_count": 56,
   "id": "4ef2ac88-96c4-4460-867d-afd74d15b2a5",
   "metadata": {},
   "outputs": [],
   "source": [
    "list=[2,3,4,5,6,7,2,2,4,5]"
   ]
  },
  {
   "cell_type": "code",
   "execution_count": 57,
   "id": "a749caa0-10a6-4f21-b5af-527a37e6cb21",
   "metadata": {},
   "outputs": [
    {
     "data": {
      "text/plain": [
       "[5, 4, 3, 2]"
      ]
     },
     "execution_count": 57,
     "metadata": {},
     "output_type": "execute_result"
    }
   ],
   "source": [
    "list[3::-1]\n",
    "\n"
   ]
  },
  {
   "cell_type": "code",
   "execution_count": 58,
   "id": "71847189-e33a-4811-b62c-6cd2acdcd957",
   "metadata": {},
   "outputs": [
    {
     "data": {
      "text/plain": [
       "[]"
      ]
     },
     "execution_count": 58,
     "metadata": {},
     "output_type": "execute_result"
    }
   ],
   "source": [
    "list[3:5:-1]"
   ]
  },
  {
   "cell_type": "code",
   "execution_count": 59,
   "id": "3c6240d5-8871-4bbb-bd9d-548ed3d9aa30",
   "metadata": {},
   "outputs": [
    {
     "data": {
      "text/plain": [
       "[2, 7, 6, 5, 4, 3, 2]"
      ]
     },
     "execution_count": 59,
     "metadata": {},
     "output_type": "execute_result"
    }
   ],
   "source": [
    "list[6::-1]"
   ]
  },
  {
   "cell_type": "code",
   "execution_count": 60,
   "id": "4014be16-b668-4aac-9a11-762fb1c5398f",
   "metadata": {},
   "outputs": [
    {
     "data": {
      "text/plain": [
       "[5]"
      ]
     },
     "execution_count": 60,
     "metadata": {},
     "output_type": "execute_result"
    }
   ],
   "source": [
    "list[:7:-2]"
   ]
  },
  {
   "cell_type": "code",
   "execution_count": 63,
   "id": "02e1c298-09e2-4ddb-b23e-b11c3ba6ac7d",
   "metadata": {},
   "outputs": [
    {
     "data": {
      "text/plain": [
       "[5, 2]"
      ]
     },
     "execution_count": 63,
     "metadata": {},
     "output_type": "execute_result"
    }
   ],
   "source": [
    "list[:6:-2]"
   ]
  },
  {
   "cell_type": "code",
   "execution_count": 64,
   "id": "69502a91-7c89-42ab-8e7a-b923cd1517b3",
   "metadata": {},
   "outputs": [
    {
     "data": {
      "text/plain": [
       "[5, 4]"
      ]
     },
     "execution_count": 64,
     "metadata": {},
     "output_type": "execute_result"
    }
   ],
   "source": [
    "list[:7:-1]"
   ]
  },
  {
   "cell_type": "code",
   "execution_count": 66,
   "id": "7128a836-05fd-47c1-ba9b-bf4d012e3022",
   "metadata": {},
   "outputs": [
    {
     "data": {
      "text/plain": [
       "[5, 2, 5, 2]"
      ]
     },
     "execution_count": 66,
     "metadata": {},
     "output_type": "execute_result"
    }
   ],
   "source": [
    "list[::-3]"
   ]
  },
  {
   "cell_type": "code",
   "execution_count": 1,
   "id": "c0440a52-e7e5-49d0-8193-254eb7166d9c",
   "metadata": {},
   "outputs": [],
   "source": [
    "list=[2,3,4,5,6,7,2,2,4,5]"
   ]
  },
  {
   "cell_type": "code",
   "execution_count": 2,
   "id": "d494affa-9adc-4a34-aa8c-e4aa2d774490",
   "metadata": {},
   "outputs": [
    {
     "data": {
      "text/plain": [
       "[4]"
      ]
     },
     "execution_count": 2,
     "metadata": {},
     "output_type": "execute_result"
    }
   ],
   "source": [
    "list[-2:5:-3]"
   ]
  },
  {
   "cell_type": "code",
   "execution_count": 1,
   "id": "b8a3f400-5722-43f8-9d7d-411aa993fd05",
   "metadata": {},
   "outputs": [],
   "source": [
    "list=[10,20,30,40,50,60,70]\n",
    "list2=sorted(list)"
   ]
  },
  {
   "cell_type": "code",
   "execution_count": 3,
   "id": "9c9228c8-ccec-455e-b9a3-f96e78595241",
   "metadata": {},
   "outputs": [
    {
     "ename": "TypeError",
     "evalue": "'revers' is an invalid keyword argument for sort()",
     "output_type": "error",
     "traceback": [
      "\u001b[1;31m---------------------------------------------------------------------------\u001b[0m",
      "\u001b[1;31mTypeError\u001b[0m                                 Traceback (most recent call last)",
      "Cell \u001b[1;32mIn[3], line 2\u001b[0m\n\u001b[0;32m      1\u001b[0m \u001b[38;5;28mlist\u001b[39m\u001b[38;5;241m=\u001b[39m[\u001b[38;5;241m10\u001b[39m,\u001b[38;5;241m20\u001b[39m,\u001b[38;5;241m30\u001b[39m,\u001b[38;5;241m40\u001b[39m,\u001b[38;5;241m50\u001b[39m,\u001b[38;5;241m60\u001b[39m,\u001b[38;5;241m70\u001b[39m]\n\u001b[1;32m----> 2\u001b[0m list2\u001b[38;5;241m=\u001b[39m\u001b[38;5;28msorted\u001b[39m(\u001b[38;5;28mlist\u001b[39m,revers\u001b[38;5;241m=\u001b[39m\u001b[38;5;28;01mTrue\u001b[39;00m)\n\u001b[0;32m      3\u001b[0m list2\n",
      "\u001b[1;31mTypeError\u001b[0m: 'revers' is an invalid keyword argument for sort()"
     ]
    }
   ],
   "source": [
    "list=[10,20,30,40,50,60,70]\n",
    "list2=sorted(list,revers=True)\n",
    "list2"
   ]
  },
  {
   "cell_type": "code",
   "execution_count": null,
   "id": "6ec6974d-735f-4fc8-816c-ede1f24d6687",
   "metadata": {},
   "outputs": [],
   "source": []
  },
  {
   "cell_type": "code",
   "execution_count": null,
   "id": "5c7c81d7-1cee-4b75-b8ef-9fecde3ba0ce",
   "metadata": {},
   "outputs": [],
   "source": []
  },
  {
   "cell_type": "code",
   "execution_count": null,
   "id": "224af4e8-1769-4208-9d9a-50335d97f3d0",
   "metadata": {},
   "outputs": [],
   "source": []
  },
  {
   "cell_type": "code",
   "execution_count": null,
   "id": "d88efcee-0b1b-4ecd-83df-5904f182b08e",
   "metadata": {},
   "outputs": [],
   "source": []
  },
  {
   "cell_type": "code",
   "execution_count": null,
   "id": "154daaef-d7a0-409c-a9f2-2b722ed25496",
   "metadata": {},
   "outputs": [],
   "source": []
  },
  {
   "cell_type": "code",
   "execution_count": null,
   "id": "53487d12-a175-410a-a9c5-d04652112ff1",
   "metadata": {},
   "outputs": [],
   "source": []
  },
  {
   "cell_type": "code",
   "execution_count": null,
   "id": "47c26a8f-a3ed-41e0-a5ed-c3b21b5b501d",
   "metadata": {},
   "outputs": [],
   "source": []
  },
  {
   "cell_type": "code",
   "execution_count": null,
   "id": "98d802bc-0c11-4fa6-9b32-b0f8f03ea0a4",
   "metadata": {},
   "outputs": [],
   "source": []
  },
  {
   "cell_type": "code",
   "execution_count": null,
   "id": "bc1984e4-a8da-4577-850d-732b31304e7f",
   "metadata": {},
   "outputs": [],
   "source": []
  },
  {
   "cell_type": "code",
   "execution_count": null,
   "id": "71158385-ec64-4a7d-acfe-af1f17a24000",
   "metadata": {},
   "outputs": [],
   "source": []
  },
  {
   "cell_type": "code",
   "execution_count": null,
   "id": "3b963177-f7ba-48c2-abe1-1b1e23f10ab0",
   "metadata": {},
   "outputs": [],
   "source": []
  },
  {
   "cell_type": "code",
   "execution_count": null,
   "id": "e83e8d83-936d-4c8f-8975-628e2b1cc274",
   "metadata": {},
   "outputs": [],
   "source": []
  },
  {
   "cell_type": "code",
   "execution_count": null,
   "id": "1ec07f26-b8b3-4827-87c3-633c21898f74",
   "metadata": {},
   "outputs": [],
   "source": []
  },
  {
   "cell_type": "code",
   "execution_count": null,
   "id": "b58c21df-ca43-4962-8298-eb96be625c57",
   "metadata": {},
   "outputs": [],
   "source": []
  },
  {
   "cell_type": "code",
   "execution_count": null,
   "id": "2a1d3370-c57c-412f-b42e-6d7a7ade95e9",
   "metadata": {},
   "outputs": [],
   "source": []
  },
  {
   "cell_type": "code",
   "execution_count": null,
   "id": "04b90843-a24e-486e-9434-2c011b66e741",
   "metadata": {},
   "outputs": [],
   "source": []
  },
  {
   "cell_type": "code",
   "execution_count": null,
   "id": "a7e47f69-3d6b-41cd-8277-62a5eaae21d6",
   "metadata": {},
   "outputs": [],
   "source": []
  },
  {
   "cell_type": "code",
   "execution_count": null,
   "id": "51addaf9-865a-48e4-a95c-aedb948a3065",
   "metadata": {},
   "outputs": [],
   "source": []
  },
  {
   "cell_type": "code",
   "execution_count": null,
   "id": "815aa484-9752-4da0-b8cb-ebcd306afbc5",
   "metadata": {},
   "outputs": [],
   "source": []
  },
  {
   "cell_type": "code",
   "execution_count": null,
   "id": "368e55ca-2a6d-49d7-8925-43ad67d324fa",
   "metadata": {},
   "outputs": [],
   "source": []
  },
  {
   "cell_type": "code",
   "execution_count": null,
   "id": "0a709b0c-c007-4a0a-b3b5-7b16d5654cc2",
   "metadata": {},
   "outputs": [],
   "source": []
  },
  {
   "cell_type": "code",
   "execution_count": null,
   "id": "a472a6d4-392f-4f57-85c3-2e294ef81fb3",
   "metadata": {},
   "outputs": [],
   "source": []
  }
 ],
 "metadata": {
  "kernelspec": {
   "display_name": "Python 3 (ipykernel)",
   "language": "python",
   "name": "python3"
  },
  "language_info": {
   "codemirror_mode": {
    "name": "ipython",
    "version": 3
   },
   "file_extension": ".py",
   "mimetype": "text/x-python",
   "name": "python",
   "nbconvert_exporter": "python",
   "pygments_lexer": "ipython3",
   "version": "3.12.7"
  }
 },
 "nbformat": 4,
 "nbformat_minor": 5
}
