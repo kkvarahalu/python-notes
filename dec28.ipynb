{
 "cells": [
  {
   "cell_type": "code",
   "execution_count": 2,
   "id": "5663d583-40ea-4686-8e47-6a59b0fa3e40",
   "metadata": {},
   "outputs": [],
   "source": [
    "#.1 dictionary:\n",
    "dict1={}"
   ]
  },
  {
   "cell_type": "code",
   "execution_count": 3,
   "id": "3c3d91fe-a2cf-4d32-b8aa-9501ff12a5b5",
   "metadata": {},
   "outputs": [],
   "source": [
    "dict1={}"
   ]
  },
  {
   "cell_type": "code",
   "execution_count": 3,
   "id": "58c18770-c7e2-4db8-b061-9e327c3b9b16",
   "metadata": {},
   "outputs": [
    {
     "data": {
      "text/plain": [
       "dict"
      ]
     },
     "execution_count": 3,
     "metadata": {},
     "output_type": "execute_result"
    }
   ],
   "source": [
    "type(dict1)"
   ]
  },
  {
   "cell_type": "code",
   "execution_count": 7,
   "id": "4bc47715-6b02-4ac8-9d1c-17a31ea2562b",
   "metadata": {},
   "outputs": [],
   "source": [
    "#.2\n",
    "dict1={\n",
    "    1:\"value1\",\n",
    "    2:\"value2\",\n",
    "    3:\"value3\",\n",
    "}"
   ]
  },
  {
   "cell_type": "code",
   "execution_count": 8,
   "id": "d3b2e4f3-3bf0-4f33-b693-10f06ce182a3",
   "metadata": {},
   "outputs": [
    {
     "data": {
      "text/plain": [
       "{1: 'value1', 2: 'value2', 3: 'value3'}"
      ]
     },
     "execution_count": 8,
     "metadata": {},
     "output_type": "execute_result"
    }
   ],
   "source": [
    "dict1\n"
   ]
  },
  {
   "cell_type": "code",
   "execution_count": 6,
   "id": "264ee632-fe70-415a-9f33-6fcf4da114e5",
   "metadata": {},
   "outputs": [],
   "source": [
    "dict2={\n",
    "    \"kkv\":12,\n",
    "    \"hello\":23,\n",
    "    \"bye\":56\n",
    "}"
   ]
  },
  {
   "cell_type": "code",
   "execution_count": 7,
   "id": "a8366b9b-9501-4933-a009-4e7cd08a30c8",
   "metadata": {},
   "outputs": [
    {
     "data": {
      "text/plain": [
       "{'kkv': 12, 'hello': 23, 'bye': 56}"
      ]
     },
     "execution_count": 7,
     "metadata": {},
     "output_type": "execute_result"
    }
   ],
   "source": [
    "dict2\n"
   ]
  },
  {
   "cell_type": "code",
   "execution_count": 8,
   "id": "e59c2553-7764-4e37-b76e-25097ad5aedb",
   "metadata": {},
   "outputs": [],
   "source": [
    "dict3={\n",
    "    (1,2,3):\"hello\",\n",
    "    (5,6,7):\"bye\",\n",
    "    (9,10,11):\"hi\"\n",
    "}"
   ]
  },
  {
   "cell_type": "code",
   "execution_count": 9,
   "id": "92f51f98-be28-4d2f-ac43-99e3d0855afe",
   "metadata": {},
   "outputs": [
    {
     "data": {
      "text/plain": [
       "{(1, 2, 3): 'hello', (5, 6, 7): 'bye', (9, 10, 11): 'hi'}"
      ]
     },
     "execution_count": 9,
     "metadata": {},
     "output_type": "execute_result"
    }
   ],
   "source": [
    "dict3"
   ]
  },
  {
   "cell_type": "code",
   "execution_count": 2,
   "id": "b0c53315-5964-46b8-b576-3eabebf2ece6",
   "metadata": {},
   "outputs": [],
   "source": [
    "dict3={\n",
    "    (1,2,3):\"hello\",\n",
    "    (5,6,7):\"bye\",\n",
    "    (1,2,3):\"hi\"\n",
    "}"
   ]
  },
  {
   "cell_type": "code",
   "execution_count": 3,
   "id": "fa1b27a7-d278-4c9e-ba98-b7da919d5b64",
   "metadata": {},
   "outputs": [
    {
     "data": {
      "text/plain": [
       "{(1, 2, 3): 'hi', (5, 6, 7): 'bye'}"
      ]
     },
     "execution_count": 3,
     "metadata": {},
     "output_type": "execute_result"
    }
   ],
   "source": [
    "dict3"
   ]
  },
  {
   "cell_type": "code",
   "execution_count": 4,
   "id": "1a1b8d6e-2b26-4472-abb7-e6a7e91c9e51",
   "metadata": {},
   "outputs": [
    {
     "ename": "TypeError",
     "evalue": "unhashable type: 'list'",
     "output_type": "error",
     "traceback": [
      "\u001b[1;31m---------------------------------------------------------------------------\u001b[0m",
      "\u001b[1;31mTypeError\u001b[0m                                 Traceback (most recent call last)",
      "Cell \u001b[1;32mIn[4], line 1\u001b[0m\n\u001b[1;32m----> 1\u001b[0m dict4\u001b[38;5;241m=\u001b[39m{\n\u001b[0;32m      2\u001b[0m     [\u001b[38;5;241m1\u001b[39m,\u001b[38;5;241m2\u001b[39m,\u001b[38;5;241m3\u001b[39m]:\u001b[38;5;124m\"\u001b[39m\u001b[38;5;124mkkv\u001b[39m\u001b[38;5;124m\"\u001b[39m,\n\u001b[0;32m      3\u001b[0m     [\u001b[38;5;241m4\u001b[39m,\u001b[38;5;241m5\u001b[39m,\u001b[38;5;241m6\u001b[39m]:\u001b[38;5;124m\"\u001b[39m\u001b[38;5;124mhi\u001b[39m\u001b[38;5;124m\"\u001b[39m,\n\u001b[0;32m      4\u001b[0m     [\u001b[38;5;241m9\u001b[39m,\u001b[38;5;241m10\u001b[39m,\u001b[38;5;241m11\u001b[39m]:\u001b[38;5;124m\"\u001b[39m\u001b[38;5;124mhello\u001b[39m\u001b[38;5;124m\"\u001b[39m\n\u001b[0;32m      5\u001b[0m }\n\u001b[0;32m      6\u001b[0m \u001b[38;5;28mprint\u001b[39m(dict4)\n",
      "\u001b[1;31mTypeError\u001b[0m: unhashable type: 'list'"
     ]
    }
   ],
   "source": [
    "dict4={\n",
    "    [1,2,3]:\"kkv\",\n",
    "    [4,5,6]:\"hi\",\n",
    "    [9,10,11]:\"hello\"\n",
    "}\n",
    "print(dict4)"
   ]
  },
  {
   "cell_type": "code",
   "execution_count": 14,
   "id": "3fb82618-487b-45b7-8eee-c7fd51c18dfe",
   "metadata": {},
   "outputs": [
    {
     "ename": "TypeError",
     "evalue": "unhashable type: 'set'",
     "output_type": "error",
     "traceback": [
      "\u001b[1;31m---------------------------------------------------------------------------\u001b[0m",
      "\u001b[1;31mTypeError\u001b[0m                                 Traceback (most recent call last)",
      "Cell \u001b[1;32mIn[14], line 1\u001b[0m\n\u001b[1;32m----> 1\u001b[0m dict4\u001b[38;5;241m=\u001b[39m{\n\u001b[0;32m      2\u001b[0m     {\u001b[38;5;241m1\u001b[39m,\u001b[38;5;241m2\u001b[39m,\u001b[38;5;241m3\u001b[39m}:\u001b[38;5;124m\"\u001b[39m\u001b[38;5;124mkkv\u001b[39m\u001b[38;5;124m\"\u001b[39m,\n\u001b[0;32m      3\u001b[0m     {\u001b[38;5;241m4\u001b[39m,\u001b[38;5;241m5\u001b[39m,\u001b[38;5;241m6\u001b[39m}:\u001b[38;5;124m\"\u001b[39m\u001b[38;5;124mhi\u001b[39m\u001b[38;5;124m\"\u001b[39m,\n\u001b[0;32m      4\u001b[0m     {\u001b[38;5;241m9\u001b[39m,\u001b[38;5;241m10\u001b[39m,\u001b[38;5;241m11\u001b[39m}:\u001b[38;5;124m\"\u001b[39m\u001b[38;5;124mhello\u001b[39m\u001b[38;5;124m\"\u001b[39m\n\u001b[0;32m      5\u001b[0m }\n",
      "\u001b[1;31mTypeError\u001b[0m: unhashable type: 'set'"
     ]
    }
   ],
   "source": [
    "dict4={\n",
    "    {1,2,3}:\"kkv\",\n",
    "    {4,5,6}:\"hi\",\n",
    "    {9,10,11}:\"hello\"\n",
    "}\n",
    "    "
   ]
  },
  {
   "cell_type": "code",
   "execution_count": 15,
   "id": "74f9180d-78c8-4573-b66a-ad30854e1bb0",
   "metadata": {},
   "outputs": [
    {
     "ename": "NameError",
     "evalue": "name 'dict4' is not defined",
     "output_type": "error",
     "traceback": [
      "\u001b[1;31m---------------------------------------------------------------------------\u001b[0m",
      "\u001b[1;31mNameError\u001b[0m                                 Traceback (most recent call last)",
      "Cell \u001b[1;32mIn[15], line 1\u001b[0m\n\u001b[1;32m----> 1\u001b[0m dict4\n",
      "\u001b[1;31mNameError\u001b[0m: name 'dict4' is not defined"
     ]
    }
   ],
   "source": [
    "dict4"
   ]
  },
  {
   "cell_type": "code",
   "execution_count": 17,
   "id": "483d426b-12c2-4889-85f4-c078f7483d16",
   "metadata": {},
   "outputs": [],
   "source": [
    "dict4={\n",
    "    1:678,\n",
    "    \"mayur\":990,\n",
    "    \"45.67\":1000\n",
    "}"
   ]
  },
  {
   "cell_type": "code",
   "execution_count": 18,
   "id": "a9660269-ecf4-4392-81e0-481369f624bf",
   "metadata": {},
   "outputs": [
    {
     "data": {
      "text/plain": [
       "{1: 678, 'mayur': 990, '45.67': 1000}"
      ]
     },
     "execution_count": 18,
     "metadata": {},
     "output_type": "execute_result"
    }
   ],
   "source": [
    "dict4"
   ]
  },
  {
   "cell_type": "code",
   "execution_count": 19,
   "id": "0872a26d-8904-41e5-a5d6-9dafb0c89a67",
   "metadata": {},
   "outputs": [],
   "source": [
    "dict5={\n",
    "    1:45,\n",
    "    2:45,\n",
    "    3:45\n",
    "}"
   ]
  },
  {
   "cell_type": "code",
   "execution_count": 20,
   "id": "b243d7ee-d67c-4682-96d1-02c4a12dbaed",
   "metadata": {},
   "outputs": [
    {
     "data": {
      "text/plain": [
       "{1: 45, 2: 45, 3: 45}"
      ]
     },
     "execution_count": 20,
     "metadata": {},
     "output_type": "execute_result"
    }
   ],
   "source": [
    "dict5"
   ]
  },
  {
   "cell_type": "code",
   "execution_count": 22,
   "id": "141de37e-3029-44dc-b08f-57a1acf9bb24",
   "metadata": {},
   "outputs": [
    {
     "ename": "SyntaxError",
     "evalue": "invalid syntax (367665090.py, line 1)",
     "output_type": "error",
     "traceback": [
      "\u001b[1;36m  Cell \u001b[1;32mIn[22], line 1\u001b[1;36m\u001b[0m\n\u001b[1;33m    print.dict5()1\u001b[0m\n\u001b[1;37m                 ^\u001b[0m\n\u001b[1;31mSyntaxError\u001b[0m\u001b[1;31m:\u001b[0m invalid syntax\n"
     ]
    }
   ],
   "source": [
    "print.dict5()1"
   ]
  },
  {
   "cell_type": "code",
   "execution_count": null,
   "id": "5d4e3419-8b16-459a-9a8e-2bd37bd3a624",
   "metadata": {},
   "outputs": [],
   "source": []
  },
  {
   "cell_type": "code",
   "execution_count": null,
   "id": "153b7626-18fa-4d96-bce1-fdebd06f41cf",
   "metadata": {},
   "outputs": [],
   "source": []
  },
  {
   "cell_type": "code",
   "execution_count": null,
   "id": "cd8149a8-834b-408f-9cf8-71ca1da37ec8",
   "metadata": {},
   "outputs": [],
   "source": []
  },
  {
   "cell_type": "code",
   "execution_count": null,
   "id": "fc423af4-d114-4cdc-9dc3-59c10f5d7663",
   "metadata": {},
   "outputs": [],
   "source": []
  }
 ],
 "metadata": {
  "kernelspec": {
   "display_name": "Python 3 (ipykernel)",
   "language": "python",
   "name": "python3"
  },
  "language_info": {
   "codemirror_mode": {
    "name": "ipython",
    "version": 3
   },
   "file_extension": ".py",
   "mimetype": "text/x-python",
   "name": "python",
   "nbconvert_exporter": "python",
   "pygments_lexer": "ipython3",
   "version": "3.12.7"
  }
 },
 "nbformat": 4,
 "nbformat_minor": 5
}
